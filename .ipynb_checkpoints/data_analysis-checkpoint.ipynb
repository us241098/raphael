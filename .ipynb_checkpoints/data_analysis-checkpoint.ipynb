{
 "cells": [
  {
   "cell_type": "code",
   "execution_count": 98,
   "metadata": {},
   "outputs": [],
   "source": [
    "import json\n",
    "import os\n",
    "import sys\n",
    "import pandas as pd\n",
    "sys.version\n",
    "from sklearn.manifold import TSNE\n",
    "with open('data/spotify_song_data_features.json') as f:\n",
    "    data = json.load(f)\n",
    "from sklearn import preprocessing\n",
    "from sklearn.preprocessing import StandardScaler"
   ]
  },
  {
   "cell_type": "code",
   "execution_count": 99,
   "metadata": {},
   "outputs": [],
   "source": [
    "\n",
    "df_spotify = pd.DataFrame.from_records(data)\n",
    "cols_to_norm = ['danceability',\n",
    "       'energy', 'key', 'loudness', 'mode', 'speechiness', 'acousticness',\n",
    "       'instrumentalness', 'liveness', 'valence', 'tempo']\n",
    "df_spotify[cols_to_norm] = StandardScaler().fit_transform(df_spotify[cols_to_norm])"
   ]
  },
  {
   "cell_type": "code",
   "execution_count": 100,
   "metadata": {},
   "outputs": [
    {
     "data": {
      "text/plain": [
       "Index(['spotify_link', 'song_name', 'artist_name', 'album_name', 'track_id',\n",
       "       'preview_url', 'song_href', 'track_uri', 'track_image', 'danceability',\n",
       "       'energy', 'key', 'loudness', 'mode', 'speechiness', 'acousticness',\n",
       "       'instrumentalness', 'liveness', 'valence', 'tempo', 'type', 'id', 'uri',\n",
       "       'track_href', 'analysis_url', 'duration_ms', 'time_signature'],\n",
       "      dtype='object')"
      ]
     },
     "execution_count": 100,
     "metadata": {},
     "output_type": "execute_result"
    }
   ],
   "source": [
    "df_spotify.columns"
   ]
  },
  {
   "cell_type": "code",
   "execution_count": 101,
   "metadata": {},
   "outputs": [],
   "source": [
    "s_array = df_spotify[['danceability',\n",
    "        'energy', 'key', 'loudness', 'mode', 'speechiness', 'acousticness',\n",
    "        'instrumentalness', 'liveness', 'valence', 'tempo']].to_numpy()\n"
   ]
  },
  {
   "cell_type": "code",
   "execution_count": 102,
   "metadata": {},
   "outputs": [
    {
     "data": {
      "text/plain": [
       "array([[ 1.3865768 ,  1.33599096, -0.07700389, ...,  0.7703173 ,\n",
       "         1.53687326, -0.28462862],\n",
       "       [-1.54811314,  0.99222189, -0.35691305, ...,  0.40066708,\n",
       "         0.75098954,  1.51730939],\n",
       "       [-0.30888483, -1.13611312,  0.76272357, ...,  0.47107664,\n",
       "         0.71736884, -0.76710458],\n",
       "       ...,\n",
       "       [-0.68496904,  1.19443899,  1.60245103, ..., -0.58858734,\n",
       "        -0.92163999,  0.62177684],\n",
       "       [ 0.59741648,  1.37643438, -0.07700389, ...,  1.4216058 ,\n",
       "         0.83083869, -0.40442074],\n",
       "       [ 1.24477455,  0.22379689,  0.48281441, ..., -0.74290164,\n",
       "         0.58288607, -0.41175805]])"
      ]
     },
     "execution_count": 102,
     "metadata": {},
     "output_type": "execute_result"
    }
   ],
   "source": [
    "s_array"
   ]
  },
  {
   "cell_type": "code",
   "execution_count": 103,
   "metadata": {},
   "outputs": [],
   "source": [
    "X_embedded = TSNE(n_components=2, learning_rate='auto',init='random').fit_transform(s_array)"
   ]
  },
  {
   "cell_type": "code",
   "execution_count": 104,
   "metadata": {},
   "outputs": [
    {
     "name": "stdout",
     "output_type": "stream",
     "text": [
      "[[ 24.960333  -14.855486 ]\n",
      " [  6.0184813  -8.084525 ]\n",
      " [ 27.65243    15.414522 ]\n",
      " ...\n",
      " [  3.847742   19.809338 ]\n",
      " [ 24.636845    4.6724467]\n",
      " [ -3.0538716 -25.365808 ]]\n"
     ]
    }
   ],
   "source": [
    "print(X_embedded)"
   ]
  },
  {
   "cell_type": "code",
   "execution_count": 105,
   "metadata": {},
   "outputs": [],
   "source": [
    "import matplotlib.pyplot as plt\n",
    "xs = [x[0] for x in X_embedded]\n",
    "ys = [x[1] for x in X_embedded]\n"
   ]
  },
  {
   "cell_type": "code",
   "execution_count": null,
   "metadata": {},
   "outputs": [],
   "source": []
  },
  {
   "cell_type": "code",
   "execution_count": 106,
   "metadata": {},
   "outputs": [],
   "source": [
    "df_spotify = df_spotify.join(pd.DataFrame(X_embedded))"
   ]
  },
  {
   "cell_type": "code",
   "execution_count": 107,
   "metadata": {},
   "outputs": [
    {
     "data": {
      "application/vnd.plotly.v1+json": {
       "config": {
        "plotlyServerURL": "https://plot.ly"
       },
       "data": [
        {
         "customdata": [
          [
           "Losing My Edge",
           "LCD Soundsystem"
          ],
          [
           "Daft Punk Is Playing at My House",
           "LCD Soundsystem"
          ],
          [
           "All My Friends",
           "LCD Soundsystem"
          ],
          [
           "Dance Yrself Clean",
           "LCD Soundsystem"
          ],
          [
           "I Can Change",
           "LCD Soundsystem"
          ],
          [
           "i used to",
           "LCD Soundsystem"
          ],
          [
           "Daft Punk Is Playing at My House",
           "LCD Soundsystem"
          ]
         ],
         "hovertemplate": "artist_name=%{customdata[1]}<br>0=%{x}<br>1=%{y}<br>song_name=%{customdata[0]}<extra></extra>",
         "legendgroup": "LCD Soundsystem",
         "marker": {
          "color": "#636efa",
          "symbol": "circle"
         },
         "mode": "markers",
         "name": "LCD Soundsystem",
         "orientation": "v",
         "showlegend": true,
         "type": "scatter",
         "x": [
          24.9603328704834,
          -10.276284217834473,
          -1.8925814628601074,
          -2.7763147354125977,
          -13.700925827026367,
          27.876264572143555,
          -10.614805221557617
         ],
         "xaxis": "x",
         "y": [
          -14.855485916137695,
          9.139531135559082,
          -28.086292266845703,
          -24.117034912109375,
          -5.9842610359191895,
          10.69812297821045,
          9.156240463256836
         ],
         "yaxis": "y"
        },
        {
         "customdata": [
          [
           "One After 909 - Take 3",
           "The Beatles"
          ],
          [
           "I'm Only Sleeping - Remastered 2009",
           "The Beatles"
          ],
          [
           "Octopus's Garden - Remastered 2009",
           "The Beatles"
          ],
          [
           "While My Guitar Gently Weeps - Remastered 2009",
           "The Beatles"
          ],
          [
           "Let It Be - Remastered 2009",
           "The Beatles"
          ],
          [
           "Here Comes The Sun - Remastered 2009",
           "The Beatles"
          ],
          [
           "Morning Camera / Two Of Us - Take 4",
           "The Beatles"
          ],
          [
           "Ob-La-Di, Ob-La-Da - Remastered 2009",
           "The Beatles"
          ],
          [
           "Rocky Raccoon - Remastered 2009",
           "The Beatles"
          ]
         ],
         "hovertemplate": "artist_name=%{customdata[1]}<br>0=%{x}<br>1=%{y}<br>song_name=%{customdata[0]}<extra></extra>",
         "legendgroup": "The Beatles",
         "marker": {
          "color": "#EF553B",
          "symbol": "circle"
         },
         "mode": "markers",
         "name": "The Beatles",
         "orientation": "v",
         "showlegend": true,
         "type": "scatter",
         "x": [
          6.018481254577637,
          27.652429580688477,
          34.146583557128906,
          29.5128231048584,
          -32.12628936767578,
          -23.21177864074707,
          -19.29620933532715,
          -15.288625717163086,
          -26.683223724365234
         ],
         "xaxis": "x",
         "y": [
          -8.084525108337402,
          15.414522171020508,
          18.009145736694336,
          14.665802001953125,
          -3.307281494140625,
          -1.9233900308609009,
          3.8447394371032715,
          5.595704078674316,
          4.2183756828308105
         ],
         "yaxis": "y"
        },
        {
         "customdata": [
          [
           "Teen Age Riot (Album Version)",
           "Sonic Youth"
          ],
          [
           "Shadow of a Doubt",
           "Sonic Youth"
          ],
          [
           "Kool Thing",
           "Sonic Youth"
          ]
         ],
         "hovertemplate": "artist_name=%{customdata[1]}<br>0=%{x}<br>1=%{y}<br>song_name=%{customdata[0]}<extra></extra>",
         "legendgroup": "Sonic Youth",
         "marker": {
          "color": "#00cc96",
          "symbol": "circle"
         },
         "mode": "markers",
         "name": "Sonic Youth",
         "orientation": "v",
         "showlegend": true,
         "type": "scatter",
         "x": [
          -1.6357569694519043,
          20.854570388793945,
          -0.7584378123283386
         ],
         "xaxis": "x",
         "y": [
          -7.652655601501465,
          25.929216384887695,
          -9.938344955444336
         ],
         "yaxis": "y"
        },
        {
         "customdata": [
          [
           "Killing Me Softly With Her Song",
           "Perry Como"
          ]
         ],
         "hovertemplate": "artist_name=%{customdata[1]}<br>0=%{x}<br>1=%{y}<br>song_name=%{customdata[0]}<extra></extra>",
         "legendgroup": "Perry Como",
         "marker": {
          "color": "#ab63fa",
          "symbol": "circle"
         },
         "mode": "markers",
         "name": "Perry Como",
         "orientation": "v",
         "showlegend": true,
         "type": "scatter",
         "x": [
          -37.65848922729492
         ],
         "xaxis": "x",
         "y": [
          3.150594711303711
         ],
         "yaxis": "y"
        },
        {
         "customdata": [
          [
           "Mean",
           "Taylor Swift"
          ],
          [
           "I Knew You Were Trouble (Taylor's Version)",
           "Taylor Swift"
          ],
          [
           "Bad Blood",
           "Taylor Swift"
          ],
          [
           "Shake It Off",
           "Taylor Swift"
          ]
         ],
         "hovertemplate": "artist_name=%{customdata[1]}<br>0=%{x}<br>1=%{y}<br>song_name=%{customdata[0]}<extra></extra>",
         "legendgroup": "Taylor Swift",
         "marker": {
          "color": "#FFA15A",
          "symbol": "circle"
         },
         "mode": "markers",
         "name": "Taylor Swift",
         "orientation": "v",
         "showlegend": true,
         "type": "scatter",
         "x": [
          -7.71414041519165,
          -8.801799774169922,
          36.537113189697266,
          -4.782638072967529
         ],
         "xaxis": "x",
         "y": [
          -3.9844820499420166,
          -1.6420010328292847,
          -2.8852365016937256,
          -3.6338002681732178
         ],
         "yaxis": "y"
        },
        {
         "customdata": [
          [
           "Breathe (In the Air)",
           "Pink Floyd"
          ],
          [
           "Comfortably Numb",
           "Pink Floyd"
          ],
          [
           "Eclipse",
           "Pink Floyd"
          ],
          [
           "High Hopes",
           "Pink Floyd"
          ],
          [
           "Wish You Were Here",
           "Pink Floyd"
          ],
          [
           "Have a Cigar",
           "Pink Floyd"
          ],
          [
           "Sheep",
           "Pink Floyd"
          ],
          [
           "Interstellar Overdrive",
           "Pink Floyd"
          ],
          [
           "Brain Damage",
           "Pink Floyd"
          ],
          [
           "Marooned",
           "Pink Floyd"
          ],
          [
           "Coming Back to Life",
           "Pink Floyd"
          ],
          [
           "Us and Them",
           "Pink Floyd"
          ],
          [
           "Money",
           "Pink Floyd"
          ],
          [
           "The Great Gig in the Sky",
           "Pink Floyd"
          ],
          [
           "Time",
           "Pink Floyd"
          ]
         ],
         "hovertemplate": "artist_name=%{customdata[1]}<br>0=%{x}<br>1=%{y}<br>song_name=%{customdata[0]}<extra></extra>",
         "legendgroup": "Pink Floyd",
         "marker": {
          "color": "#19d3f3",
          "symbol": "circle"
         },
         "mode": "markers",
         "name": "Pink Floyd",
         "orientation": "v",
         "showlegend": true,
         "type": "scatter",
         "x": [
          19.983415603637695,
          20.57103729248047,
          -34.26515197753906,
          32.96690368652344,
          -29.747896194458008,
          18.390657424926758,
          20.48615837097168,
          -37.937931060791016,
          -26.589649200439453,
          -36.43560791015625,
          -24.39628791809082,
          -37.78559875488281,
          23.88966178894043,
          -38.19408416748047,
          -27.33396339416504
         ],
         "xaxis": "x",
         "y": [
          21.237503051757812,
          20.674760818481445,
          -16.679174423217773,
          21.8427734375,
          8.8610200881958,
          6.856709003448486,
          -1.9736276865005493,
          -11.239898681640625,
          -13.328509330749512,
          -9.963902473449707,
          -16.163528442382812,
          -2.6009111404418945,
          12.587329864501953,
          -8.648258209228516,
          2.1677515506744385
         ],
         "yaxis": "y"
        },
        {
         "customdata": [
          [
           "Atomic - Remastered",
           "Blondie"
          ],
          [
           "Call Me",
           "Blondie"
          ],
          [
           "Heart Of Glass - Special Mix",
           "Blondie"
          ],
          [
           "Dreaming - Live",
           "Blondie"
          ],
          [
           "Hanging on the Telephone - Live",
           "Blondie"
          ]
         ],
         "hovertemplate": "artist_name=%{customdata[1]}<br>0=%{x}<br>1=%{y}<br>song_name=%{customdata[0]}<extra></extra>",
         "legendgroup": "Blondie",
         "marker": {
          "color": "#FF6692",
          "symbol": "circle"
         },
         "mode": "markers",
         "name": "Blondie",
         "orientation": "v",
         "showlegend": true,
         "type": "scatter",
         "x": [
          33.09012985229492,
          31.924480438232422,
          -18.511133193969727,
          11.404424667358398,
          -0.042206719517707825
         ],
         "xaxis": "x",
         "y": [
          6.7756805419921875,
          6.102822303771973,
          -0.03766709566116333,
          0.6249650716781616,
          -7.867893695831299
         ],
         "yaxis": "y"
        },
        {
         "customdata": [
          [
           "Walk On the Wild Side",
           "Lou Reed"
          ],
          [
           "Ride Into the Sun",
           "Lou Reed"
          ],
          [
           "Perfect Day",
           "Lou Reed"
          ],
          [
           "Vicious",
           "Lou Reed"
          ]
         ],
         "hovertemplate": "artist_name=%{customdata[1]}<br>0=%{x}<br>1=%{y}<br>song_name=%{customdata[0]}<extra></extra>",
         "legendgroup": "Lou Reed",
         "marker": {
          "color": "#B6E880",
          "symbol": "circle"
         },
         "mode": "markers",
         "name": "Lou Reed",
         "orientation": "v",
         "showlegend": true,
         "type": "scatter",
         "x": [
          -35.750579833984375,
          -4.75047492980957,
          -34.4052619934082,
          -1.5447957515716553
         ],
         "xaxis": "x",
         "y": [
          0.8913117051124573,
          -7.830345630645752,
          -3.4859392642974854,
          -28.839204788208008
         ],
         "yaxis": "y"
        },
        {
         "customdata": [
          [
           "I'm Waiting For The Man - Live",
           "The Velvet Underground"
          ],
          [
           "What Goes On",
           "The Velvet Underground"
          ],
          [
           "Run Run Run",
           "The Velvet Underground"
          ],
          [
           "Ride Into The Sun - Live At The Matrix, San Francisco 11-24-69",
           "The Velvet Underground"
          ],
          [
           "After Hours",
           "The Velvet Underground"
          ],
          [
           "Beginning To See The Light",
           "The Velvet Underground"
          ],
          [
           "European Son",
           "The Velvet Underground"
          ],
          [
           "I'm Gonna Move Right In",
           "The Velvet Underground"
          ],
          [
           "The Gift",
           "The Velvet Underground"
          ],
          [
           "Louise",
           "The Velvet Underground"
          ],
          [
           "Ride Into The Sun - \"1969\" / 2014 Mix",
           "The Velvet Underground"
          ],
          [
           "I'm Waiting For The Man",
           "The Velvet Underground"
          ],
          [
           "Oh! Sweet Nuthin' - 2015 Remaster",
           "The Velvet Underground"
          ],
          [
           "Venus In Furs",
           "The Velvet Underground"
          ],
          [
           "Oh! Sweet Nuthin' - 2015 Remaster",
           "The Velvet Underground"
          ],
          [
           "Heroin - Live At The Matrix, San Francisco 11-23-69",
           "The Velvet Underground"
          ],
          [
           "Pale Blue Eyes",
           "The Velvet Underground"
          ],
          [
           "I'll Be Your Mirror",
           "The Velvet Underground"
          ],
          [
           "There She Goes Again",
           "The Velvet Underground"
          ],
          [
           "Heroin",
           "The Velvet Underground"
          ],
          [
           "Sunday Morning",
           "The Velvet Underground"
          ]
         ],
         "hovertemplate": "artist_name=%{customdata[1]}<br>0=%{x}<br>1=%{y}<br>song_name=%{customdata[0]}<extra></extra>",
         "legendgroup": "The Velvet Underground",
         "marker": {
          "color": "#FF97FF",
          "symbol": "circle"
         },
         "mode": "markers",
         "name": "The Velvet Underground",
         "orientation": "v",
         "showlegend": true,
         "type": "scatter",
         "x": [
          -27.941055297851562,
          -31.001617431640625,
          -23.698570251464844,
          -37.077510833740234,
          -37.688079833984375,
          22.225332260131836,
          9.471993446350098,
          -41.23060989379883,
          -8.01416015625,
          -29.263647079467773,
          -7.961233139038086,
          -2.3081743717193604,
          -27.293718338012695,
          15.754326820373535,
          -27.29355239868164,
          -32.93484878540039,
          -36.5184440612793,
          -25.204608917236328,
          -0.26119235157966614,
          -32.50153350830078,
          28.213624954223633
         ],
         "xaxis": "x",
         "y": [
          9.763787269592285,
          -15.265565872192383,
          7.76353120803833,
          -9.275107383728027,
          3.878896951675415,
          -13.750106811523438,
          -22.66593360900879,
          -6.6532063484191895,
          -24.13687515258789,
          2.5585997104644775,
          -25.097997665405273,
          -25.746912002563477,
          0.06481798738241196,
          -19.176151275634766,
          0.0647469013929367,
          -12.360060691833496,
          2.2584338188171387,
          -1.0909862518310547,
          -25.7324275970459,
          -12.862710952758789,
          17.13848876953125
         ],
         "yaxis": "y"
        },
        {
         "customdata": [
          [
           "A-Punk",
           "Vampire Weekend"
          ],
          [
           "Oxford Comma",
           "Vampire Weekend"
          ],
          [
           "Step",
           "Vampire Weekend"
          ],
          [
           "Worship You",
           "Vampire Weekend"
          ]
         ],
         "hovertemplate": "artist_name=%{customdata[1]}<br>0=%{x}<br>1=%{y}<br>song_name=%{customdata[0]}<extra></extra>",
         "legendgroup": "Vampire Weekend",
         "marker": {
          "color": "#FECB52",
          "symbol": "circle"
         },
         "mode": "markers",
         "name": "Vampire Weekend",
         "orientation": "v",
         "showlegend": true,
         "type": "scatter",
         "x": [
          -6.581562042236328,
          -11.254595756530762,
          -17.90178108215332,
          1.879513144493103
         ],
         "xaxis": "x",
         "y": [
          -7.3221259117126465,
          -7.803452014923096,
          10.989139556884766,
          -1.9498261213302612
         ],
         "yaxis": "y"
        },
        {
         "customdata": [
          [
           "I Bet You Look Good On The Dancefloor",
           "Arctic Monkeys"
          ],
          [
           "Do I Wanna Know?",
           "Arctic Monkeys"
          ],
          [
           "Fluorescent Adolescent",
           "Arctic Monkeys"
          ],
          [
           "When The Sun Goes Down",
           "Arctic Monkeys"
          ],
          [
           "From The Ritz To The Rubble",
           "Arctic Monkeys"
          ],
          [
           "Brianstorm",
           "Arctic Monkeys"
          ],
          [
           "Crying Lightning",
           "Arctic Monkeys"
          ],
          [
           "Arabella",
           "Arctic Monkeys"
          ]
         ],
         "hovertemplate": "artist_name=%{customdata[1]}<br>0=%{x}<br>1=%{y}<br>song_name=%{customdata[0]}<extra></extra>",
         "legendgroup": "Arctic Monkeys",
         "marker": {
          "color": "#636efa",
          "symbol": "circle"
         },
         "mode": "markers",
         "name": "Arctic Monkeys",
         "orientation": "v",
         "showlegend": true,
         "type": "scatter",
         "x": [
          25.36995506286621,
          -23.738985061645508,
          33.46738052368164,
          33.82971954345703,
          34.55146789550781,
          7.328111171722412,
          28.16116714477539,
          -17.7083740234375
         ],
         "xaxis": "x",
         "y": [
          4.99185037612915,
          -5.607110500335693,
          9.078471183776855,
          -3.1022591590881348,
          0.08185165375471115,
          -8.362586975097656,
          5.655927658081055,
          -11.144769668579102
         ],
         "yaxis": "y"
        },
        {
         "customdata": [
          [
           "Club Foot",
           "Kasabian"
          ],
          [
           "Ill Ray (The King)",
           "Kasabian"
          ],
          [
           "Where Did All the Love Go?",
           "Kasabian"
          ],
          [
           "L.S.F.",
           "Kasabian"
          ],
          [
           "Re-Wired",
           "Kasabian"
          ],
          [
           "Days Are Forgotten",
           "Kasabian"
          ],
          [
           "Underdog",
           "Kasabian"
          ],
          [
           "Fire",
           "Kasabian"
          ]
         ],
         "hovertemplate": "artist_name=%{customdata[1]}<br>0=%{x}<br>1=%{y}<br>song_name=%{customdata[0]}<extra></extra>",
         "legendgroup": "Kasabian",
         "marker": {
          "color": "#EF553B",
          "symbol": "circle"
         },
         "mode": "markers",
         "name": "Kasabian",
         "orientation": "v",
         "showlegend": true,
         "type": "scatter",
         "x": [
          -4.125359058380127,
          27.225671768188477,
          3.7284436225891113,
          -1.894176721572876,
          21.818744659423828,
          -2.6673202514648438,
          19.59947395324707,
          -2.594435691833496
         ],
         "xaxis": "x",
         "y": [
          -15.52447509765625,
          4.649187088012695,
          6.138022422790527,
          1.9889695644378662,
          7.7573041915893555,
          3.1775152683258057,
          4.73832368850708,
          -0.023044856265187263
         ],
         "yaxis": "y"
        },
        {
         "customdata": [
          [
           "Take Me Out",
           "Franz Ferdinand"
          ],
          [
           "Auf Achse",
           "Franz Ferdinand"
          ],
          [
           "Love Illumination",
           "Franz Ferdinand"
          ],
          [
           "This Fire",
           "Franz Ferdinand"
          ],
          [
           "The Dark Of The Matinée",
           "Franz Ferdinand"
          ],
          [
           "Stand On the Horizon",
           "Franz Ferdinand"
          ]
         ],
         "hovertemplate": "artist_name=%{customdata[1]}<br>0=%{x}<br>1=%{y}<br>song_name=%{customdata[0]}<extra></extra>",
         "legendgroup": "Franz Ferdinand",
         "marker": {
          "color": "#00cc96",
          "symbol": "circle"
         },
         "mode": "markers",
         "name": "Franz Ferdinand",
         "orientation": "v",
         "showlegend": true,
         "type": "scatter",
         "x": [
          -27.681255340576172,
          30.88067054748535,
          31.7331600189209,
          -7.296788692474365,
          29.102693557739258,
          32.1480827331543
         ],
         "xaxis": "x",
         "y": [
          -5.5846662521362305,
          18.352787017822266,
          3.7959201335906982,
          0.25475507974624634,
          14.260868072509766,
          8.677531242370605
         ],
         "yaxis": "y"
        },
        {
         "customdata": [
          [
           "Can't Stand Me Now",
           "The Libertines"
          ],
          [
           "Time for Heroes",
           "The Libertines"
          ],
          [
           "Don't Look Back into the Sun",
           "The Libertines"
          ]
         ],
         "hovertemplate": "artist_name=%{customdata[1]}<br>0=%{x}<br>1=%{y}<br>song_name=%{customdata[0]}<extra></extra>",
         "legendgroup": "The Libertines",
         "marker": {
          "color": "#ab63fa",
          "symbol": "circle"
         },
         "mode": "markers",
         "name": "The Libertines",
         "orientation": "v",
         "showlegend": true,
         "type": "scatter",
         "x": [
          -3.628919839859009,
          -4.6426310539245605,
          3.7596447467803955
         ],
         "xaxis": "x",
         "y": [
          -9.847756385803223,
          -9.936820030212402,
          -8.178747177124023
         ],
         "yaxis": "y"
        },
        {
         "customdata": [
          [
           "Pumped Up Kicks",
           "Foster The People"
          ],
          [
           "Sit Next to Me",
           "Foster The People"
          ],
          [
           "Call It What You Want",
           "Foster The People"
          ],
          [
           "Call It What You Want",
           "Foster The People"
          ]
         ],
         "hovertemplate": "artist_name=%{customdata[1]}<br>0=%{x}<br>1=%{y}<br>song_name=%{customdata[0]}<extra></extra>",
         "legendgroup": "Foster The People",
         "marker": {
          "color": "#FFA15A",
          "symbol": "circle"
         },
         "mode": "markers",
         "name": "Foster The People",
         "orientation": "v",
         "showlegend": true,
         "type": "scatter",
         "x": [
          35.66967010498047,
          18.775964736938477,
          24.636844635009766,
          24.636844635009766
         ],
         "xaxis": "x",
         "y": [
          9.570405960083008,
          5.002935886383057,
          4.6724467277526855,
          4.6724467277526855
         ],
         "yaxis": "y"
        },
        {
         "customdata": [
          [
           "I Can Talk",
           "Two Door Cinema Club"
          ],
          [
           "Cigarettes in the Theatre",
           "Two Door Cinema Club"
          ],
          [
           "Something Good Can Work",
           "Two Door Cinema Club"
          ],
          [
           "I Can Talk",
           "Two Door Cinema Club"
          ],
          [
           "What You Know",
           "Two Door Cinema Club"
          ]
         ],
         "hovertemplate": "artist_name=%{customdata[1]}<br>0=%{x}<br>1=%{y}<br>song_name=%{customdata[0]}<extra></extra>",
         "legendgroup": "Two Door Cinema Club",
         "marker": {
          "color": "#19d3f3",
          "symbol": "circle"
         },
         "mode": "markers",
         "name": "Two Door Cinema Club",
         "orientation": "v",
         "showlegend": true,
         "type": "scatter",
         "x": [
          34.485652923583984,
          7.481342792510986,
          -12.477964401245117,
          34.4046516418457,
          32.9571647644043
         ],
         "xaxis": "x",
         "y": [
          -3.9916279315948486,
          -7.974076747894287,
          -9.841310501098633,
          -4.149305820465088,
          4.615281105041504
         ],
         "yaxis": "y"
        },
        {
         "customdata": [
          [
           "Bitter Sweet Symphony",
           "The Verve"
          ],
          [
           "History - Remastered 2016",
           "The Verve"
          ],
          [
           "Bitter Sweet Symphony",
           "The Verve"
          ],
          [
           "Lucky Man",
           "The Verve"
          ]
         ],
         "hovertemplate": "artist_name=%{customdata[1]}<br>0=%{x}<br>1=%{y}<br>song_name=%{customdata[0]}<extra></extra>",
         "legendgroup": "The Verve",
         "marker": {
          "color": "#FF6692",
          "symbol": "circle"
         },
         "mode": "markers",
         "name": "The Verve",
         "orientation": "v",
         "showlegend": true,
         "type": "scatter",
         "x": [
          6.7113494873046875,
          -20.834373474121094,
          6.833099842071533,
          -26.363256454467773
         ],
         "xaxis": "x",
         "y": [
          -3.189042329788208,
          -15.956900596618652,
          -3.0737321376800537,
          -8.379218101501465
         ],
         "yaxis": "y"
        },
        {
         "customdata": [
          [
           "Hallelujah - Ewan Pearson Remix; Edit",
           "Happy Mondays"
          ],
          [
           "Twenty Four Hour Party People",
           "Happy Mondays"
          ]
         ],
         "hovertemplate": "artist_name=%{customdata[1]}<br>0=%{x}<br>1=%{y}<br>song_name=%{customdata[0]}<extra></extra>",
         "legendgroup": "Happy Mondays",
         "marker": {
          "color": "#B6E880",
          "symbol": "circle"
         },
         "mode": "markers",
         "name": "Happy Mondays",
         "orientation": "v",
         "showlegend": true,
         "type": "scatter",
         "x": [
          6.852048397064209,
          -17.769567489624023
         ],
         "xaxis": "x",
         "y": [
          -4.677920818328857,
          -0.3425585925579071
         ],
         "yaxis": "y"
        },
        {
         "customdata": [
          [
           "Humility (feat. George Benson)",
           "Gorillaz"
          ],
          [
           "Tranz",
           "Gorillaz"
          ],
          [
           "Sleeping Powder",
           "Gorillaz"
          ],
          [
           "El Mañana",
           "Gorillaz"
          ],
          [
           "Kids with Guns",
           "Gorillaz"
          ],
          [
           "On Melancholy Hill",
           "Gorillaz"
          ],
          [
           "Pirate Jet",
           "Gorillaz"
          ],
          [
           "Aries (feat. Peter Hook and Georgia)",
           "Gorillaz"
          ]
         ],
         "hovertemplate": "artist_name=%{customdata[1]}<br>0=%{x}<br>1=%{y}<br>song_name=%{customdata[0]}<extra></extra>",
         "legendgroup": "Gorillaz",
         "marker": {
          "color": "#FF97FF",
          "symbol": "circle"
         },
         "mode": "markers",
         "name": "Gorillaz",
         "orientation": "v",
         "showlegend": true,
         "type": "scatter",
         "x": [
          -9.710504531860352,
          -9.448020935058594,
          32.63782501220703,
          21.843334197998047,
          22.31645965576172,
          -4.881006717681885,
          21.088062286376953,
          -13.899866104125977
         ],
         "xaxis": "x",
         "y": [
          -5.795112609863281,
          6.327923774719238,
          14.979692459106445,
          6.47189474105835,
          -12.339903831481934,
          -27.031070709228516,
          8.718551635742188,
          -5.243050575256348
         ],
         "yaxis": "y"
        },
        {
         "customdata": [
          [
           "Ribs",
           "Lorde"
          ],
          [
           "Solar Power",
           "Lorde"
          ],
          [
           "Mood Ring",
           "Lorde"
          ],
          [
           "Dominoes",
           "Lorde"
          ]
         ],
         "hovertemplate": "artist_name=%{customdata[1]}<br>0=%{x}<br>1=%{y}<br>song_name=%{customdata[0]}<extra></extra>",
         "legendgroup": "Lorde",
         "marker": {
          "color": "#FECB52",
          "symbol": "circle"
         },
         "mode": "markers",
         "name": "Lorde",
         "orientation": "v",
         "showlegend": true,
         "type": "scatter",
         "x": [
          -34.943763732910156,
          -25.49254608154297,
          -28.42840003967285,
          -37.69728088378906
         ],
         "xaxis": "x",
         "y": [
          -11.721328735351562,
          5.757044315338135,
          3.9672818183898926,
          5.404961109161377
         ],
         "yaxis": "y"
        },
        {
         "customdata": [
          [
           "Transatlanticism",
           "Death Cab for Cutie"
          ]
         ],
         "hovertemplate": "artist_name=%{customdata[1]}<br>0=%{x}<br>1=%{y}<br>song_name=%{customdata[0]}<extra></extra>",
         "legendgroup": "Death Cab for Cutie",
         "marker": {
          "color": "#636efa",
          "symbol": "circle"
         },
         "mode": "markers",
         "name": "Death Cab for Cutie",
         "orientation": "v",
         "showlegend": true,
         "type": "scatter",
         "x": [
          -35.47504425048828
         ],
         "xaxis": "x",
         "y": [
          -12.059136390686035
         ],
         "yaxis": "y"
        },
        {
         "customdata": [
          [
           "My Body Is a Cage",
           "Arcade Fire"
          ],
          [
           "Reflektor",
           "Arcade Fire"
          ],
          [
           "Wake Up",
           "Arcade Fire"
          ],
          [
           "Rebellion (Lies)",
           "Arcade Fire"
          ],
          [
           "Ready to Start",
           "Arcade Fire"
          ],
          [
           "Everything Now",
           "Arcade Fire"
          ],
          [
           "The Suburbs",
           "Arcade Fire"
          ]
         ],
         "hovertemplate": "artist_name=%{customdata[1]}<br>0=%{x}<br>1=%{y}<br>song_name=%{customdata[0]}<extra></extra>",
         "legendgroup": "Arcade Fire",
         "marker": {
          "color": "#EF553B",
          "symbol": "circle"
         },
         "mode": "markers",
         "name": "Arcade Fire",
         "orientation": "v",
         "showlegend": true,
         "type": "scatter",
         "x": [
          31.938156127929688,
          22.756336212158203,
          -3.8750219345092773,
          2.6567163467407227,
          2.0159385204315186,
          6.250250339508057,
          26.28181266784668
         ],
         "xaxis": "x",
         "y": [
          22.626123428344727,
          7.568537712097168,
          -13.976323127746582,
          -24.691192626953125,
          -9.03271198272705,
          6.27601432800293,
          6.476340293884277
         ],
         "yaxis": "y"
        },
        {
         "customdata": [
          [
           "Dsco",
           "Sweet Trip"
          ]
         ],
         "hovertemplate": "artist_name=%{customdata[1]}<br>0=%{x}<br>1=%{y}<br>song_name=%{customdata[0]}<extra></extra>",
         "legendgroup": "Sweet Trip",
         "marker": {
          "color": "#00cc96",
          "symbol": "circle"
         },
         "mode": "markers",
         "name": "Sweet Trip",
         "orientation": "v",
         "showlegend": true,
         "type": "scatter",
         "x": [
          28.241561889648438
         ],
         "xaxis": "x",
         "y": [
          3.818772554397583
         ],
         "yaxis": "y"
        },
        {
         "customdata": [
          [
           "Rebel Rebel - 2016 Remaster",
           "David Bowie"
          ],
          [
           "Space Oddity",
           "David Bowie"
          ],
          [
           "Heroes - 2017 Remaster",
           "David Bowie"
          ]
         ],
         "hovertemplate": "artist_name=%{customdata[1]}<br>0=%{x}<br>1=%{y}<br>song_name=%{customdata[0]}<extra></extra>",
         "legendgroup": "David Bowie",
         "marker": {
          "color": "#ab63fa",
          "symbol": "circle"
         },
         "mode": "markers",
         "name": "David Bowie",
         "orientation": "v",
         "showlegend": true,
         "type": "scatter",
         "x": [
          -22.3675479888916,
          -36.32124328613281,
          2.136814594268799
         ],
         "xaxis": "x",
         "y": [
          2.528848886489868,
          0.3325863480567932,
          -22.31360626220703
         ],
         "yaxis": "y"
        },
        {
         "customdata": [
          [
           "Shampoo Bottles",
           "Peach Pit"
          ]
         ],
         "hovertemplate": "artist_name=%{customdata[1]}<br>0=%{x}<br>1=%{y}<br>song_name=%{customdata[0]}<extra></extra>",
         "legendgroup": "Peach Pit",
         "marker": {
          "color": "#FFA15A",
          "symbol": "circle"
         },
         "mode": "markers",
         "name": "Peach Pit",
         "orientation": "v",
         "showlegend": true,
         "type": "scatter",
         "x": [
          -23.31591796875
         ],
         "xaxis": "x",
         "y": [
          -2.2936997413635254
         ],
         "yaxis": "y"
        },
        {
         "customdata": [
          [
           "DON'T SHOOT UP THE PARTY",
           "BROCKHAMPTON"
          ],
          [
           "HONEY",
           "BROCKHAMPTON"
          ],
          [
           "SWEET",
           "BROCKHAMPTON"
          ]
         ],
         "hovertemplate": "artist_name=%{customdata[1]}<br>0=%{x}<br>1=%{y}<br>song_name=%{customdata[0]}<extra></extra>",
         "legendgroup": "BROCKHAMPTON",
         "marker": {
          "color": "#19d3f3",
          "symbol": "circle"
         },
         "mode": "markers",
         "name": "BROCKHAMPTON",
         "orientation": "v",
         "showlegend": true,
         "type": "scatter",
         "x": [
          33.055965423583984,
          -13.05674934387207,
          5.241954326629639
         ],
         "xaxis": "x",
         "y": [
          14.362707138061523,
          -13.223650932312012,
          25.06471061706543
         ],
         "yaxis": "y"
        },
        {
         "customdata": [
          [
           "The Great Curve - 2005 Remaster",
           "Talking Heads"
          ],
          [
           "Psycho Killer - 2005 Remaster",
           "Talking Heads"
          ],
          [
           "Crosseyed and Painless - 2005 Remaster",
           "Talking Heads"
          ],
          [
           "Burning Down the House",
           "Talking Heads"
          ],
          [
           "Fela's Riff - Unfinished Outtake",
           "Talking Heads"
          ],
          [
           "Once in a Lifetime - 2005 Remaster",
           "Talking Heads"
          ],
          [
           "This Must Be the Place (Naive Melody) - 2005 Remaster",
           "Talking Heads"
          ],
          [
           "Born Under Punches (The Heat Goes On) - 2005 Remaster",
           "Talking Heads"
          ],
          [
           "Uh-Oh, Love Comes to Town - 2005 Remaster",
           "Talking Heads"
          ]
         ],
         "hovertemplate": "artist_name=%{customdata[1]}<br>0=%{x}<br>1=%{y}<br>song_name=%{customdata[0]}<extra></extra>",
         "legendgroup": "Talking Heads",
         "marker": {
          "color": "#FF6692",
          "symbol": "circle"
         },
         "mode": "markers",
         "name": "Talking Heads",
         "orientation": "v",
         "showlegend": true,
         "type": "scatter",
         "x": [
          -13.74994945526123,
          -15.737133979797363,
          -1.1103107929229736,
          37.25832748413086,
          -3.0075886249542236,
          9.185139656066895,
          -15.847997665405273,
          36.32872772216797,
          -16.420808792114258
         ],
         "xaxis": "x",
         "y": [
          8.63279914855957,
          -2.604987859725952,
          -26.586624145507812,
          20.23170280456543,
          -27.82404899597168,
          6.2388014793396,
          4.084168434143066,
          7.998245716094971,
          9.176880836486816
         ],
         "yaxis": "y"
        },
        {
         "customdata": [
          [
           "Midnight City - Eric Prydz Private Remix",
           "M83"
          ],
          [
           "Wait",
           "M83"
          ],
          [
           "Holograms",
           "M83"
          ],
          [
           "Steve Mcqueen",
           "M83"
          ],
          [
           "Oblivion (feat. Susanne Sundfør)",
           "M83"
          ],
          [
           "Midnight City",
           "M83"
          ]
         ],
         "hovertemplate": "artist_name=%{customdata[1]}<br>0=%{x}<br>1=%{y}<br>song_name=%{customdata[0]}<extra></extra>",
         "legendgroup": "M83",
         "marker": {
          "color": "#B6E880",
          "symbol": "circle"
         },
         "mode": "markers",
         "name": "M83",
         "orientation": "v",
         "showlegend": true,
         "type": "scatter",
         "x": [
          17.90505599975586,
          -25.022354125976562,
          -38.09326934814453,
          21.9130916595459,
          30.11733627319336,
          27.055402755737305
         ],
         "xaxis": "x",
         "y": [
          -15.282693862915039,
          -14.140669822692871,
          -9.406665802001953,
          -0.04543449729681015,
          19.57421875,
          9.371691703796387
         ],
         "yaxis": "y"
        },
        {
         "customdata": [
          [
           "If You Really Love Nothing",
           "Interpol"
          ],
          [
           "The Rover",
           "Interpol"
          ],
          [
           "Evil",
           "Interpol"
          ],
          [
           "Obstacle 1",
           "Interpol"
          ]
         ],
         "hovertemplate": "artist_name=%{customdata[1]}<br>0=%{x}<br>1=%{y}<br>song_name=%{customdata[0]}<extra></extra>",
         "legendgroup": "Interpol",
         "marker": {
          "color": "#FF97FF",
          "symbol": "circle"
         },
         "mode": "markers",
         "name": "Interpol",
         "orientation": "v",
         "showlegend": true,
         "type": "scatter",
         "x": [
          2.994593858718872,
          3.661637783050537,
          1.7864344120025635,
          3.6662967205047607
         ],
         "xaxis": "x",
         "y": [
          -23.801372528076172,
          -11.435134887695312,
          -23.745798110961914,
          -22.905378341674805
         ],
         "yaxis": "y"
        },
        {
         "customdata": [
          [
           "Out of Time",
           "Blur"
          ],
          [
           "Young and Lovely - 2012 Remaster",
           "Blur"
          ],
          [
           "Country Sad Ballad Man - 2012 Remaster",
           "Blur"
          ],
          [
           "Parklife",
           "Blur"
          ],
          [
           "Coffee & TV",
           "Blur"
          ],
          [
           "Beetlebum",
           "Blur"
          ],
          [
           "Country House",
           "Blur"
          ],
          [
           "Girls & Boys",
           "Blur"
          ],
          [
           "Song 2 - 2012 Remaster",
           "Blur"
          ]
         ],
         "hovertemplate": "artist_name=%{customdata[1]}<br>0=%{x}<br>1=%{y}<br>song_name=%{customdata[0]}<extra></extra>",
         "legendgroup": "Blur",
         "marker": {
          "color": "#FECB52",
          "symbol": "circle"
         },
         "mode": "markers",
         "name": "Blur",
         "orientation": "v",
         "showlegend": true,
         "type": "scatter",
         "x": [
          -21.82509422302246,
          34.74227523803711,
          -8.290778160095215,
          2.558690309524536,
          -15.47518253326416,
          -12.777494430541992,
          1.406406283378601,
          34.81586456298828,
          -10.605338096618652
         ],
         "xaxis": "x",
         "y": [
          -12.577339172363281,
          1.281885027885437,
          -24.041868209838867,
          6.5905680656433105,
          -4.652535438537598,
          -4.187317371368408,
          -8.094353675842285,
          8.051436424255371,
          6.191871166229248
         ],
         "yaxis": "y"
        },
        {
         "customdata": [
          [
           "Althea - 2013 Remaster",
           "Grateful Dead"
          ],
          [
           "Shakedown Street - 2013 Remaster",
           "Grateful Dead"
          ],
          [
           "Friend of the Devil",
           "Grateful Dead"
          ]
         ],
         "hovertemplate": "artist_name=%{customdata[1]}<br>0=%{x}<br>1=%{y}<br>song_name=%{customdata[0]}<extra></extra>",
         "legendgroup": "Grateful Dead",
         "marker": {
          "color": "#636efa",
          "symbol": "circle"
         },
         "mode": "markers",
         "name": "Grateful Dead",
         "orientation": "v",
         "showlegend": true,
         "type": "scatter",
         "x": [
          -30.66946792602539,
          -17.339920043945312,
          -27.750621795654297
         ],
         "xaxis": "x",
         "y": [
          3.7453598976135254,
          -2.4789063930511475,
          9.961528778076172
         ],
         "yaxis": "y"
        },
        {
         "customdata": [
          [
           "Magic",
           "Coldplay"
          ],
          [
           "The Hardest Part",
           "Coldplay"
          ],
          [
           "A Rush of Blood to the Head",
           "Coldplay"
          ]
         ],
         "hovertemplate": "artist_name=%{customdata[1]}<br>0=%{x}<br>1=%{y}<br>song_name=%{customdata[0]}<extra></extra>",
         "legendgroup": "Coldplay",
         "marker": {
          "color": "#EF553B",
          "symbol": "circle"
         },
         "mode": "markers",
         "name": "Coldplay",
         "orientation": "v",
         "showlegend": true,
         "type": "scatter",
         "x": [
          20.425804138183594,
          1.4711159467697144,
          -23.0324649810791
         ],
         "xaxis": "x",
         "y": [
          -12.62146282196045,
          1.8566542863845825,
          -12.014877319335938
         ],
         "yaxis": "y"
        },
        {
         "customdata": [
          [
           "Lisztomania",
           "Phoenix"
          ],
          [
           "If I Ever Feel Better",
           "Phoenix"
          ]
         ],
         "hovertemplate": "artist_name=%{customdata[1]}<br>0=%{x}<br>1=%{y}<br>song_name=%{customdata[0]}<extra></extra>",
         "legendgroup": "Phoenix",
         "marker": {
          "color": "#00cc96",
          "symbol": "circle"
         },
         "mode": "markers",
         "name": "Phoenix",
         "orientation": "v",
         "showlegend": true,
         "type": "scatter",
         "x": [
          6.714250564575195,
          34.61011505126953
         ],
         "xaxis": "x",
         "y": [
          7.406245708465576,
          12.359577178955078
         ],
         "yaxis": "y"
        },
        {
         "customdata": [
          [
           "Deleter",
           "Grouplove"
          ],
          [
           "Tongue Tied",
           "Grouplove"
          ]
         ],
         "hovertemplate": "artist_name=%{customdata[1]}<br>0=%{x}<br>1=%{y}<br>song_name=%{customdata[0]}<extra></extra>",
         "legendgroup": "Grouplove",
         "marker": {
          "color": "#ab63fa",
          "symbol": "circle"
         },
         "mode": "markers",
         "name": "Grouplove",
         "orientation": "v",
         "showlegend": true,
         "type": "scatter",
         "x": [
          3.045084238052368,
          -10.626314163208008
         ],
         "xaxis": "x",
         "y": [
          -5.707353115081787,
          -14.285305976867676
         ],
         "yaxis": "y"
        },
        {
         "customdata": [
          [
           "4EVER",
           "Clairo"
          ],
          [
           "Hello?",
           "Clairo"
          ]
         ],
         "hovertemplate": "artist_name=%{customdata[1]}<br>0=%{x}<br>1=%{y}<br>song_name=%{customdata[0]}<extra></extra>",
         "legendgroup": "Clairo",
         "marker": {
          "color": "#FFA15A",
          "symbol": "circle"
         },
         "mode": "markers",
         "name": "Clairo",
         "orientation": "v",
         "showlegend": true,
         "type": "scatter",
         "x": [
          29.913835525512695,
          23.492612838745117
         ],
         "xaxis": "x",
         "y": [
          11.598498344421387,
          22.667621612548828
         ],
         "yaxis": "y"
        },
        {
         "customdata": [
          [
           "No Side to Fall In",
           "The Raincoats"
          ],
          [
           "Lola",
           "The Raincoats"
          ]
         ],
         "hovertemplate": "artist_name=%{customdata[1]}<br>0=%{x}<br>1=%{y}<br>song_name=%{customdata[0]}<extra></extra>",
         "legendgroup": "The Raincoats",
         "marker": {
          "color": "#19d3f3",
          "symbol": "circle"
         },
         "mode": "markers",
         "name": "The Raincoats",
         "orientation": "v",
         "showlegend": true,
         "type": "scatter",
         "x": [
          -24.74158477783203,
          -22.48215103149414
         ],
         "xaxis": "x",
         "y": [
          10.704930305480957,
          11.514625549316406
         ],
         "yaxis": "y"
        },
        {
         "customdata": [
          [
           "Fanfare for naran ratan",
           "naran ratan"
          ]
         ],
         "hovertemplate": "artist_name=%{customdata[1]}<br>0=%{x}<br>1=%{y}<br>song_name=%{customdata[0]}<extra></extra>",
         "legendgroup": "naran ratan",
         "marker": {
          "color": "#FF6692",
          "symbol": "circle"
         },
         "mode": "markers",
         "name": "naran ratan",
         "orientation": "v",
         "showlegend": true,
         "type": "scatter",
         "x": [
          -38.40302658081055
         ],
         "xaxis": "x",
         "y": [
          -7.137479782104492
         ],
         "yaxis": "y"
        },
        {
         "customdata": [
          [
           "Begin Again",
           "Andy Shauf"
          ]
         ],
         "hovertemplate": "artist_name=%{customdata[1]}<br>0=%{x}<br>1=%{y}<br>song_name=%{customdata[0]}<extra></extra>",
         "legendgroup": "Andy Shauf",
         "marker": {
          "color": "#B6E880",
          "symbol": "circle"
         },
         "mode": "markers",
         "name": "Andy Shauf",
         "orientation": "v",
         "showlegend": true,
         "type": "scatter",
         "x": [
          -28.706348419189453
         ],
         "xaxis": "x",
         "y": [
          2.2952229976654053
         ],
         "yaxis": "y"
        },
        {
         "customdata": [
          [
           "Mind Your Own Business",
           "Delta 5"
          ]
         ],
         "hovertemplate": "artist_name=%{customdata[1]}<br>0=%{x}<br>1=%{y}<br>song_name=%{customdata[0]}<extra></extra>",
         "legendgroup": "Delta 5",
         "marker": {
          "color": "#FF97FF",
          "symbol": "circle"
         },
         "mode": "markers",
         "name": "Delta 5",
         "orientation": "v",
         "showlegend": true,
         "type": "scatter",
         "x": [
          -0.9677315950393677
         ],
         "xaxis": "x",
         "y": [
          21.68627166748047
         ],
         "yaxis": "y"
        },
        {
         "customdata": [
          [
           "Chandelier (feat. Curren$y)",
           "Shoreline Mafia"
          ]
         ],
         "hovertemplate": "artist_name=%{customdata[1]}<br>0=%{x}<br>1=%{y}<br>song_name=%{customdata[0]}<extra></extra>",
         "legendgroup": "Shoreline Mafia",
         "marker": {
          "color": "#FECB52",
          "symbol": "circle"
         },
         "mode": "markers",
         "name": "Shoreline Mafia",
         "orientation": "v",
         "showlegend": true,
         "type": "scatter",
         "x": [
          3.997875928878784
         ],
         "xaxis": "x",
         "y": [
          23.430103302001953
         ],
         "yaxis": "y"
        },
        {
         "customdata": [
          [
           "FANTAZIA",
           "Roy Blair"
          ]
         ],
         "hovertemplate": "artist_name=%{customdata[1]}<br>0=%{x}<br>1=%{y}<br>song_name=%{customdata[0]}<extra></extra>",
         "legendgroup": "Roy Blair",
         "marker": {
          "color": "#636efa",
          "symbol": "circle"
         },
         "mode": "markers",
         "name": "Roy Blair",
         "orientation": "v",
         "showlegend": true,
         "type": "scatter",
         "x": [
          4.110610485076904
         ],
         "xaxis": "x",
         "y": [
          24.917322158813477
         ],
         "yaxis": "y"
        },
        {
         "customdata": [
          [
           "She",
           "Tyler, The Creator"
          ],
          [
           "SMUCKERS (feat. Lil Wayne & Kanye West)",
           "Tyler, The Creator"
          ],
          [
           "See You Again (feat. Kali Uchis)",
           "Tyler, The Creator"
          ]
         ],
         "hovertemplate": "artist_name=%{customdata[1]}<br>0=%{x}<br>1=%{y}<br>song_name=%{customdata[0]}<extra></extra>",
         "legendgroup": "Tyler, The Creator",
         "marker": {
          "color": "#EF553B",
          "symbol": "circle"
         },
         "mode": "markers",
         "name": "Tyler, The Creator",
         "orientation": "v",
         "showlegend": true,
         "type": "scatter",
         "x": [
          10.405253410339355,
          3.2076573371887207,
          -24.835487365722656
         ],
         "xaxis": "x",
         "y": [
          16.814401626586914,
          18.95500373840332,
          4.595398426055908
         ],
         "yaxis": "y"
        },
        {
         "customdata": [
          [
           "The Modern Age",
           "The Strokes"
          ],
          [
           "Oblivius",
           "The Strokes"
          ],
          [
           "Bad Decisions",
           "The Strokes"
          ],
          [
           "Eternal Summer",
           "The Strokes"
          ],
          [
           "Trying Your Luck",
           "The Strokes"
          ],
          [
           "Alone, Together",
           "The Strokes"
          ],
          [
           "Barely Legal",
           "The Strokes"
          ],
          [
           "Ode To The Mets",
           "The Strokes"
          ],
          [
           "The Adults Are Talking",
           "The Strokes"
          ],
          [
           "Brooklyn Bridge To Chorus",
           "The Strokes"
          ],
          [
           "Why Are Sundays So Depressing",
           "The Strokes"
          ],
          [
           "Bad Decisions",
           "The Strokes"
          ],
          [
           "Under Cover of Darkness",
           "The Strokes"
          ],
          [
           "Machu Picchu",
           "The Strokes"
          ],
          [
           "OBLIVIUS",
           "The Strokes"
          ],
          [
           "You Only Live Once",
           "The Strokes"
          ],
          [
           "Last Nite",
           "The Strokes"
          ],
          [
           "Reptilia",
           "The Strokes"
          ]
         ],
         "hovertemplate": "artist_name=%{customdata[1]}<br>0=%{x}<br>1=%{y}<br>song_name=%{customdata[0]}<extra></extra>",
         "legendgroup": "The Strokes",
         "marker": {
          "color": "#00cc96",
          "symbol": "circle"
         },
         "mode": "markers",
         "name": "The Strokes",
         "orientation": "v",
         "showlegend": true,
         "type": "scatter",
         "x": [
          -0.46915560960769653,
          2.930870771408081,
          -0.558340311050415,
          27.556884765625,
          28.026281356811523,
          0.42667075991630554,
          -5.670506000518799,
          30.792789459228516,
          -6.8781538009643555,
          -14.62668514251709,
          -13.265975952148438,
          -0.558021068572998,
          2.8813974857330322,
          -10.571049690246582,
          3.086254119873047,
          -0.29922065138816833,
          -11.023248672485352,
          1.4170911312103271
         ],
         "xaxis": "x",
         "y": [
          -28.38927459716797,
          -22.219158172607422,
          -14.110604286193848,
          8.592019081115723,
          13.763938903808594,
          -26.866573333740234,
          -9.011811256408691,
          21.877729415893555,
          -2.1964588165283203,
          -13.3645601272583,
          -14.331588745117188,
          -14.110956192016602,
          -10.213583946228027,
          -8.693928718566895,
          -22.18905258178711,
          -24.379926681518555,
          -9.560583114624023,
          -26.089902877807617
         ],
         "yaxis": "y"
        },
        {
         "customdata": [
          [
           "Fiji Jim",
           "The Rolling Stones"
          ],
          [
           "19th Nervous Breakdown - Mono Version",
           "The Rolling Stones"
          ],
          [
           "Ruby Tuesday",
           "The Rolling Stones"
          ],
          [
           "Happy",
           "The Rolling Stones"
          ],
          [
           "Doo Doo Doo Doo Doo (Heartbreaker)",
           "The Rolling Stones"
          ],
          [
           "She's So Cold - Remastered",
           "The Rolling Stones"
          ],
          [
           "Living In A Ghost Town",
           "The Rolling Stones"
          ],
          [
           "Emotional Rescue - Remastered 2009",
           "The Rolling Stones"
          ],
          [
           "Hate To See You Go",
           "The Rolling Stones"
          ],
          [
           "Wild Horses - 2009 Mix",
           "The Rolling Stones"
          ],
          [
           "She's A Rainbow",
           "The Rolling Stones"
          ],
          [
           "Heaven - Remastered",
           "The Rolling Stones"
          ],
          [
           "Start Me Up - Remastered 2009",
           "The Rolling Stones"
          ],
          [
           "Miss You - Remastered",
           "The Rolling Stones"
          ],
          [
           "Paint It, Black",
           "The Rolling Stones"
          ],
          [
           "Jumpin' Jack Flash - Mono Version",
           "The Rolling Stones"
          ],
          [
           "Gimme Shelter",
           "The Rolling Stones"
          ]
         ],
         "hovertemplate": "artist_name=%{customdata[1]}<br>0=%{x}<br>1=%{y}<br>song_name=%{customdata[0]}<extra></extra>",
         "legendgroup": "The Rolling Stones",
         "marker": {
          "color": "#ab63fa",
          "symbol": "circle"
         },
         "mode": "markers",
         "name": "The Rolling Stones",
         "orientation": "v",
         "showlegend": true,
         "type": "scatter",
         "x": [
          4.343348979949951,
          -0.3620181381702423,
          -31.73224639892578,
          -0.5663026571273804,
          -10.691831588745117,
          -11.963570594787598,
          34.01755142211914,
          -12.093165397644043,
          5.877255916595459,
          -33.199893951416016,
          -20.2581729888916,
          32.64333724975586,
          -8.753235816955566,
          39.09872817993164,
          7.727775573730469,
          -6.1204328536987305,
          29.631868362426758
         ],
         "xaxis": "x",
         "y": [
          -6.475468635559082,
          8.497739791870117,
          -0.79548579454422,
          -30.909372329711914,
          -17.046613693237305,
          -6.872892379760742,
          10.740802764892578,
          2.930500030517578,
          -26.768579483032227,
          -4.151523113250732,
          10.387740135192871,
          20.415504455566406,
          5.537390232086182,
          7.6204447746276855,
          1.6151756048202515,
          -18.134014129638672,
          23.822484970092773
         ],
         "yaxis": "y"
        },
        {
         "customdata": [
          [
           "Mama's Gun",
           "Glass Animals"
          ],
          [
           "Your Love (Déjà Vu)",
           "Glass Animals"
          ],
          [
           "Helium",
           "Glass Animals"
          ],
          [
           "Youth",
           "Glass Animals"
          ],
          [
           "Gooey",
           "Glass Animals"
          ],
          [
           "Pork Soda",
           "Glass Animals"
          ],
          [
           "I Don't Wanna Talk (I Just Wanna Dance)",
           "Glass Animals"
          ],
          [
           "The Other Side Of Paradise",
           "Glass Animals"
          ],
          [
           "Tokyo Drifting",
           "Glass Animals"
          ],
          [
           "Heat Waves",
           "Glass Animals"
          ],
          [
           "Tokyo Drifting (with Denzel Curry)",
           "Glass Animals"
          ]
         ],
         "hovertemplate": "artist_name=%{customdata[1]}<br>0=%{x}<br>1=%{y}<br>song_name=%{customdata[0]}<extra></extra>",
         "legendgroup": "Glass Animals",
         "marker": {
          "color": "#FFA15A",
          "symbol": "circle"
         },
         "mode": "markers",
         "name": "Glass Animals",
         "orientation": "v",
         "showlegend": true,
         "type": "scatter",
         "x": [
          26.68921661376953,
          -14.129878997802734,
          -36.98331069946289,
          30.34175682067871,
          23.875194549560547,
          -18.592947006225586,
          -9.384700775146484,
          23.49285316467285,
          23.524221420288086,
          -17.923229217529297,
          23.837005615234375
         ],
         "xaxis": "x",
         "y": [
          26.12129783630371,
          2.052879571914673,
          -2.016967296600342,
          10.893621444702148,
          25.568714141845703,
          4.39093542098999,
          1.6526368856430054,
          19.776775360107422,
          18.448732376098633,
          11.495314598083496,
          18.074594497680664
         ],
         "yaxis": "y"
        },
        {
         "customdata": [
          [
           "Let It Rock",
           "Kevin Rudolf"
          ]
         ],
         "hovertemplate": "artist_name=%{customdata[1]}<br>0=%{x}<br>1=%{y}<br>song_name=%{customdata[0]}<extra></extra>",
         "legendgroup": "Kevin Rudolf",
         "marker": {
          "color": "#19d3f3",
          "symbol": "circle"
         },
         "mode": "markers",
         "name": "Kevin Rudolf",
         "orientation": "v",
         "showlegend": true,
         "type": "scatter",
         "x": [
          -4.555344581604004
         ],
         "xaxis": "x",
         "y": [
          3.365244150161743
         ],
         "yaxis": "y"
        },
        {
         "customdata": [
          [
           "Barbra Streisand (Original Mix)",
           "Duck Sauce"
          ]
         ],
         "hovertemplate": "artist_name=%{customdata[1]}<br>0=%{x}<br>1=%{y}<br>song_name=%{customdata[0]}<extra></extra>",
         "legendgroup": "Duck Sauce",
         "marker": {
          "color": "#FF6692",
          "symbol": "circle"
         },
         "mode": "markers",
         "name": "Duck Sauce",
         "orientation": "v",
         "showlegend": true,
         "type": "scatter",
         "x": [
          -11.3162841796875
         ],
         "xaxis": "x",
         "y": [
          -21.05170249938965
         ],
         "yaxis": "y"
        },
        {
         "customdata": [
          [
           "Pretty Girls Make Graves - 2011 Remaster",
           "The Smiths"
          ],
          [
           "Bigmouth Strikes Again - 2011 Remaster",
           "The Smiths"
          ],
          [
           "Heaven Knows I'm Miserable Now - 2011 Remaster",
           "The Smiths"
          ]
         ],
         "hovertemplate": "artist_name=%{customdata[1]}<br>0=%{x}<br>1=%{y}<br>song_name=%{customdata[0]}<extra></extra>",
         "legendgroup": "The Smiths",
         "marker": {
          "color": "#B6E880",
          "symbol": "circle"
         },
         "mode": "markers",
         "name": "The Smiths",
         "orientation": "v",
         "showlegend": true,
         "type": "scatter",
         "x": [
          30.175804138183594,
          26.702455520629883,
          -8.9378023147583
         ],
         "xaxis": "x",
         "y": [
          13.268411636352539,
          3.2010910511016846,
          3.5869030952453613
         ],
         "yaxis": "y"
        },
        {
         "customdata": [
          [
           "Backseat Freestyle",
           "Kendrick Lamar"
          ],
          [
           "King Kunta",
           "Kendrick Lamar"
          ],
          [
           "All The Stars (with SZA)",
           "Kendrick Lamar"
          ]
         ],
         "hovertemplate": "artist_name=%{customdata[1]}<br>0=%{x}<br>1=%{y}<br>song_name=%{customdata[0]}<extra></extra>",
         "legendgroup": "Kendrick Lamar",
         "marker": {
          "color": "#FF97FF",
          "symbol": "circle"
         },
         "mode": "markers",
         "name": "Kendrick Lamar",
         "orientation": "v",
         "showlegend": true,
         "type": "scatter",
         "x": [
          1.6850379705429077,
          32.35992431640625,
          -10.969843864440918
         ],
         "xaxis": "x",
         "y": [
          17.804662704467773,
          13.317448616027832,
          3.2841837406158447
         ],
         "yaxis": "y"
        },
        {
         "customdata": [
          [
           "Novacane",
           "Frank Ocean"
          ],
          [
           "In My Room",
           "Frank Ocean"
          ],
          [
           "Lost",
           "Frank Ocean"
          ],
          [
           "Biking",
           "Frank Ocean"
          ],
          [
           "Nights",
           "Frank Ocean"
          ],
          [
           "Pink + White",
           "Frank Ocean"
          ],
          [
           "Swim Good",
           "Frank Ocean"
          ]
         ],
         "hovertemplate": "artist_name=%{customdata[1]}<br>0=%{x}<br>1=%{y}<br>song_name=%{customdata[0]}<extra></extra>",
         "legendgroup": "Frank Ocean",
         "marker": {
          "color": "#FECB52",
          "symbol": "circle"
         },
         "mode": "markers",
         "name": "Frank Ocean",
         "orientation": "v",
         "showlegend": true,
         "type": "scatter",
         "x": [
          -20.51546287536621,
          2.201235771179199,
          -0.15461227297782898,
          -11.186074256896973,
          28.664342880249023,
          -24.46125602722168,
          -10.837738990783691
         ],
         "xaxis": "x",
         "y": [
          -3.21097469329834,
          -29.80002212524414,
          21.9158935546875,
          18.21346664428711,
          22.305776596069336,
          11.710026741027832,
          -5.512116432189941
         ],
         "yaxis": "y"
        },
        {
         "customdata": [
          [
           "Yeah - bonus",
           "Mac Miller"
          ],
          [
           "Self Care",
           "Mac Miller"
          ],
          [
           "Kool Aid and Frozen Pizza",
           "Mac Miller"
          ],
          [
           "Nikes on My Feet",
           "Mac Miller"
          ],
          [
           "Woods",
           "Mac Miller"
          ]
         ],
         "hovertemplate": "artist_name=%{customdata[1]}<br>0=%{x}<br>1=%{y}<br>song_name=%{customdata[0]}<extra></extra>",
         "legendgroup": "Mac Miller",
         "marker": {
          "color": "#636efa",
          "symbol": "circle"
         },
         "mode": "markers",
         "name": "Mac Miller",
         "orientation": "v",
         "showlegend": true,
         "type": "scatter",
         "x": [
          0.42209264636039734,
          -11.1492919921875,
          2.233220338821411,
          4.799289226531982,
          -20.209644317626953
         ],
         "xaxis": "x",
         "y": [
          -2.6854655742645264,
          18.219112396240234,
          23.416391372680664,
          24.663402557373047,
          -2.653803586959839
         ],
         "yaxis": "y"
        },
        {
         "customdata": [
          [
           "Johnny B. Goode",
           "Chuck Berry"
          ]
         ],
         "hovertemplate": "artist_name=%{customdata[1]}<br>0=%{x}<br>1=%{y}<br>song_name=%{customdata[0]}<extra></extra>",
         "legendgroup": "Chuck Berry",
         "marker": {
          "color": "#EF553B",
          "symbol": "circle"
         },
         "mode": "markers",
         "name": "Chuck Berry",
         "orientation": "v",
         "showlegend": true,
         "type": "scatter",
         "x": [
          -22.8701229095459
         ],
         "xaxis": "x",
         "y": [
          11.822203636169434
         ],
         "yaxis": "y"
        },
        {
         "customdata": [
          [
           "(Song For My) Sugar Spun Sister",
           "The Stone Roses"
          ],
          [
           "Bye Bye Bad Man",
           "The Stone Roses"
          ],
          [
           "Made of Stone - Remastered",
           "The Stone Roses"
          ],
          [
           "All For One",
           "The Stone Roses"
          ],
          [
           "I Wanna Be Adored - Remastered",
           "The Stone Roses"
          ],
          [
           "Waterfall - Remastered",
           "The Stone Roses"
          ],
          [
           "Waterfall",
           "The Stone Roses"
          ],
          [
           "Love Spreads",
           "The Stone Roses"
          ],
          [
           "Sally Cinnamon - Single Mix",
           "The Stone Roses"
          ],
          [
           "This Is the One - Remastered",
           "The Stone Roses"
          ],
          [
           "Elephant Stone - Remastered",
           "The Stone Roses"
          ],
          [
           "Fools Gold",
           "The Stone Roses"
          ]
         ],
         "hovertemplate": "artist_name=%{customdata[1]}<br>0=%{x}<br>1=%{y}<br>song_name=%{customdata[0]}<extra></extra>",
         "legendgroup": "The Stone Roses",
         "marker": {
          "color": "#00cc96",
          "symbol": "circle"
         },
         "mode": "markers",
         "name": "The Stone Roses",
         "orientation": "v",
         "showlegend": true,
         "type": "scatter",
         "x": [
          -23.83124542236328,
          -19.36803436279297,
          4.767192840576172,
          -3.9275174140930176,
          29.28309440612793,
          0.37934184074401855,
          -23.693565368652344,
          5.076645374298096,
          -25.525766372680664,
          3.7034621238708496,
          3.303626537322998,
          -3.0538716316223145
         ],
         "xaxis": "x",
         "y": [
          1.641915202140808,
          0.6760751008987427,
          -1.5476784706115723,
          -13.360840797424316,
          7.003650188446045,
          1.6561919450759888,
          1.0186007022857666,
          8.418371200561523,
          -4.449533462524414,
          0.3868299126625061,
          -3.014854907989502,
          -25.365808486938477
         ],
         "yaxis": "y"
        },
        {
         "customdata": [
          [
           "Guillotine",
           "Mansionair"
          ]
         ],
         "hovertemplate": "artist_name=%{customdata[1]}<br>0=%{x}<br>1=%{y}<br>song_name=%{customdata[0]}<extra></extra>",
         "legendgroup": "Mansionair",
         "marker": {
          "color": "#ab63fa",
          "symbol": "circle"
         },
         "mode": "markers",
         "name": "Mansionair",
         "orientation": "v",
         "showlegend": true,
         "type": "scatter",
         "x": [
          -13.249641418457031
         ],
         "xaxis": "x",
         "y": [
          5.0797014236450195
         ],
         "yaxis": "y"
        },
        {
         "customdata": [
          [
           "Make of It",
           "half•alive"
          ]
         ],
         "hovertemplate": "artist_name=%{customdata[1]}<br>0=%{x}<br>1=%{y}<br>song_name=%{customdata[0]}<extra></extra>",
         "legendgroup": "half•alive",
         "marker": {
          "color": "#FFA15A",
          "symbol": "circle"
         },
         "mode": "markers",
         "name": "half•alive",
         "orientation": "v",
         "showlegend": true,
         "type": "scatter",
         "x": [
          -1.2057299613952637
         ],
         "xaxis": "x",
         "y": [
          21.648605346679688
         ],
         "yaxis": "y"
        },
        {
         "customdata": [
          [
           "Stuck In The Middle With You",
           "Stealers Wheel"
          ]
         ],
         "hovertemplate": "artist_name=%{customdata[1]}<br>0=%{x}<br>1=%{y}<br>song_name=%{customdata[0]}<extra></extra>",
         "legendgroup": "Stealers Wheel",
         "marker": {
          "color": "#19d3f3",
          "symbol": "circle"
         },
         "mode": "markers",
         "name": "Stealers Wheel",
         "orientation": "v",
         "showlegend": true,
         "type": "scatter",
         "x": [
          -15.039881706237793
         ],
         "xaxis": "x",
         "y": [
          4.331576347351074
         ],
         "yaxis": "y"
        },
        {
         "customdata": [
          [
           "Since I've Been Loving You - Remaster",
           "Led Zeppelin"
          ],
          [
           "Tangerine - Remaster",
           "Led Zeppelin"
          ]
         ],
         "hovertemplate": "artist_name=%{customdata[1]}<br>0=%{x}<br>1=%{y}<br>song_name=%{customdata[0]}<extra></extra>",
         "legendgroup": "Led Zeppelin",
         "marker": {
          "color": "#FF6692",
          "symbol": "circle"
         },
         "mode": "markers",
         "name": "Led Zeppelin",
         "orientation": "v",
         "showlegend": true,
         "type": "scatter",
         "x": [
          28.431787490844727,
          -27.36294174194336
         ],
         "xaxis": "x",
         "y": [
          17.97948455810547,
          -2.7956414222717285
         ],
         "yaxis": "y"
        },
        {
         "customdata": [
          [
           "Kylian Mbappé",
           "FYRE"
          ]
         ],
         "hovertemplate": "artist_name=%{customdata[1]}<br>0=%{x}<br>1=%{y}<br>song_name=%{customdata[0]}<extra></extra>",
         "legendgroup": "FYRE",
         "marker": {
          "color": "#B6E880",
          "symbol": "circle"
         },
         "mode": "markers",
         "name": "FYRE",
         "orientation": "v",
         "showlegend": true,
         "type": "scatter",
         "x": [
          0.33614397048950195
         ],
         "xaxis": "x",
         "y": [
          21.743946075439453
         ],
         "yaxis": "y"
        },
        {
         "customdata": [
          [
           "Heaven's Only Wishful",
           "MorMor"
          ]
         ],
         "hovertemplate": "artist_name=%{customdata[1]}<br>0=%{x}<br>1=%{y}<br>song_name=%{customdata[0]}<extra></extra>",
         "legendgroup": "MorMor",
         "marker": {
          "color": "#FF97FF",
          "symbol": "circle"
         },
         "mode": "markers",
         "name": "MorMor",
         "orientation": "v",
         "showlegend": true,
         "type": "scatter",
         "x": [
          22.351001739501953
         ],
         "xaxis": "x",
         "y": [
          -12.240815162658691
         ],
         "yaxis": "y"
        },
        {
         "customdata": [
          [
           "Blizzard",
           "Kavinsky"
          ]
         ],
         "hovertemplate": "artist_name=%{customdata[1]}<br>0=%{x}<br>1=%{y}<br>song_name=%{customdata[0]}<extra></extra>",
         "legendgroup": "Kavinsky",
         "marker": {
          "color": "#FECB52",
          "symbol": "circle"
         },
         "mode": "markers",
         "name": "Kavinsky",
         "orientation": "v",
         "showlegend": true,
         "type": "scatter",
         "x": [
          4.021535396575928
         ],
         "xaxis": "x",
         "y": [
          -20.658687591552734
         ],
         "yaxis": "y"
        },
        {
         "customdata": [
          [
           "1539 N. Calvert",
           "JPEGMAFIA"
          ],
          [
           "drake era",
           "JPEGMAFIA"
          ],
          [
           "ALL CAPS NO SPACES",
           "JPEGMAFIA"
          ],
          [
           "Baby I'm Bleeding",
           "JPEGMAFIA"
          ],
          [
           "Drake Era",
           "JPEGMAFIA"
          ]
         ],
         "hovertemplate": "artist_name=%{customdata[1]}<br>0=%{x}<br>1=%{y}<br>song_name=%{customdata[0]}<extra></extra>",
         "legendgroup": "JPEGMAFIA",
         "marker": {
          "color": "#636efa",
          "symbol": "circle"
         },
         "mode": "markers",
         "name": "JPEGMAFIA",
         "orientation": "v",
         "showlegend": true,
         "type": "scatter",
         "x": [
          38.61709976196289,
          1.8846696615219116,
          2.9538233280181885,
          5.0507001876831055,
          1.6612215042114258
         ],
         "xaxis": "x",
         "y": [
          -0.025004107505083084,
          20.710477828979492,
          21.59530258178711,
          3.179072380065918,
          20.827404022216797
         ],
         "yaxis": "y"
        },
        {
         "customdata": [
          [
           "Slide Away - Remastered",
           "Oasis"
          ],
          [
           "Champagne Supernova (Live at Knebworth, 11 August '96)",
           "Oasis"
          ],
          [
           "Supersonic - Remastered",
           "Oasis"
          ],
          [
           "Half the World Away - Remastered",
           "Oasis"
          ],
          [
           "Champagne Supernova - Live at Wembley Stadium, 2000",
           "Oasis"
          ],
          [
           "Rock 'n' Roll Star - Remastered",
           "Oasis"
          ],
          [
           "Fuckin' In the Bushes",
           "Oasis"
          ],
          [
           "Columbia - Remastered",
           "Oasis"
          ],
          [
           "Live Forever",
           "Oasis"
          ],
          [
           "The Swamp Song",
           "Oasis"
          ],
          [
           "Rock ‘n’ Roll Star - Remastered",
           "Oasis"
          ],
          [
           "The Masterplan - Remastered",
           "Oasis"
          ],
          [
           "Talk Tonight - Remastered",
           "Oasis"
          ],
          [
           "Acquiesce - Remastered",
           "Oasis"
          ],
          [
           "Some Might Say - Remastered",
           "Oasis"
          ],
          [
           "Morning Glory - Remastered",
           "Oasis"
          ],
          [
           "Bring It on Down - Remastered",
           "Oasis"
          ],
          [
           "Champagne Supernova - Remastered",
           "Oasis"
          ]
         ],
         "hovertemplate": "artist_name=%{customdata[1]}<br>0=%{x}<br>1=%{y}<br>song_name=%{customdata[0]}<extra></extra>",
         "legendgroup": "Oasis",
         "marker": {
          "color": "#EF553B",
          "symbol": "circle"
         },
         "mode": "markers",
         "name": "Oasis",
         "orientation": "v",
         "showlegend": true,
         "type": "scatter",
         "x": [
          26.341062545776367,
          12.135912895202637,
          -4.36461877822876,
          -23.903867721557617,
          12.2117338180542,
          5.989046096801758,
          16.241455078125,
          5.822017669677734,
          25.633480072021484,
          9.29160213470459,
          5.841273784637451,
          -20.06574821472168,
          31.60049819946289,
          4.529603481292725,
          26.644662857055664,
          1.683798909187317,
          7.172516345977783,
          0.4302307069301605
         ],
         "xaxis": "x",
         "y": [
          -1.6482048034667969,
          1.510335922241211,
          7.025010585784912,
          -15.917301177978516,
          2.053739309310913,
          -0.42552104592323303,
          3.5009446144104004,
          -19.106765747070312,
          0.2931724786758423,
          -18.616079330444336,
          -0.6342551112174988,
          -17.859655380249023,
          23.42795181274414,
          -2.185450315475464,
          -2.524106025695801,
          -14.673036575317383,
          -18.3253173828125,
          -15.655797004699707
         ],
         "yaxis": "y"
        },
        {
         "customdata": [
          [
           "Shut Up",
           "Stormzy"
          ]
         ],
         "hovertemplate": "artist_name=%{customdata[1]}<br>0=%{x}<br>1=%{y}<br>song_name=%{customdata[0]}<extra></extra>",
         "legendgroup": "Stormzy",
         "marker": {
          "color": "#00cc96",
          "symbol": "circle"
         },
         "mode": "markers",
         "name": "Stormzy",
         "orientation": "v",
         "showlegend": true,
         "type": "scatter",
         "x": [
          4.5151166915893555
         ],
         "xaxis": "x",
         "y": [
          17.648033142089844
         ],
         "yaxis": "y"
        },
        {
         "customdata": [
          [
           "Waterloo Sunset - Mono Version",
           "The Kinks"
          ],
          [
           "All Day and All of the Night",
           "The Kinks"
          ],
          [
           "A Well Respected Man",
           "The Kinks"
          ]
         ],
         "hovertemplate": "artist_name=%{customdata[1]}<br>0=%{x}<br>1=%{y}<br>song_name=%{customdata[0]}<extra></extra>",
         "legendgroup": "The Kinks",
         "marker": {
          "color": "#ab63fa",
          "symbol": "circle"
         },
         "mode": "markers",
         "name": "The Kinks",
         "orientation": "v",
         "showlegend": true,
         "type": "scatter",
         "x": [
          33.29414749145508,
          -13.351831436157227,
          34.53611755371094
         ],
         "xaxis": "x",
         "y": [
          18.949350357055664,
          7.97868537902832,
          -2.591089963912964
         ],
         "yaxis": "y"
        },
        {
         "customdata": [
          [
           "Bohemian Like You",
           "The Dandy Warhols"
          ]
         ],
         "hovertemplate": "artist_name=%{customdata[1]}<br>0=%{x}<br>1=%{y}<br>song_name=%{customdata[0]}<extra></extra>",
         "legendgroup": "The Dandy Warhols",
         "marker": {
          "color": "#FFA15A",
          "symbol": "circle"
         },
         "mode": "markers",
         "name": "The Dandy Warhols",
         "orientation": "v",
         "showlegend": true,
         "type": "scatter",
         "x": [
          0.9246453642845154
         ],
         "xaxis": "x",
         "y": [
          -24.77635383605957
         ],
         "yaxis": "y"
        },
        {
         "customdata": [
          [
           "Teardrops",
           "Bring Me The Horizon"
          ]
         ],
         "hovertemplate": "artist_name=%{customdata[1]}<br>0=%{x}<br>1=%{y}<br>song_name=%{customdata[0]}<extra></extra>",
         "legendgroup": "Bring Me The Horizon",
         "marker": {
          "color": "#19d3f3",
          "symbol": "circle"
         },
         "mode": "markers",
         "name": "Bring Me The Horizon",
         "orientation": "v",
         "showlegend": true,
         "type": "scatter",
         "x": [
          0.08623694628477097
         ],
         "xaxis": "x",
         "y": [
          4.043443202972412
         ],
         "yaxis": "y"
        },
        {
         "customdata": [
          [
           "The Model - 2009 Remaster",
           "Kraftwerk"
          ],
          [
           "Tour de France - 2009 Remaster",
           "Kraftwerk"
          ]
         ],
         "hovertemplate": "artist_name=%{customdata[1]}<br>0=%{x}<br>1=%{y}<br>song_name=%{customdata[0]}<extra></extra>",
         "legendgroup": "Kraftwerk",
         "marker": {
          "color": "#FF6692",
          "symbol": "circle"
         },
         "mode": "markers",
         "name": "Kraftwerk",
         "orientation": "v",
         "showlegend": true,
         "type": "scatter",
         "x": [
          21.271520614624023,
          23.565202713012695
         ],
         "xaxis": "x",
         "y": [
          -14.31943416595459,
          -15.626263618469238
         ],
         "yaxis": "y"
        },
        {
         "customdata": [
          [
           "Harness Your Hopes - B-side",
           "Pavement"
          ],
          [
           "Harness Your Hopes - (B-side)",
           "Pavement"
          ]
         ],
         "hovertemplate": "artist_name=%{customdata[1]}<br>0=%{x}<br>1=%{y}<br>song_name=%{customdata[0]}<extra></extra>",
         "legendgroup": "Pavement",
         "marker": {
          "color": "#B6E880",
          "symbol": "circle"
         },
         "mode": "markers",
         "name": "Pavement",
         "orientation": "v",
         "showlegend": true,
         "type": "scatter",
         "x": [
          -20.707908630371094,
          -20.696565628051758
         ],
         "xaxis": "x",
         "y": [
          -6.0175557136535645,
          -6.005733013153076
         ],
         "yaxis": "y"
        },
        {
         "customdata": [
          [
           "Edge of Seventeen",
           "Stevie Nicks"
          ]
         ],
         "hovertemplate": "artist_name=%{customdata[1]}<br>0=%{x}<br>1=%{y}<br>song_name=%{customdata[0]}<extra></extra>",
         "legendgroup": "Stevie Nicks",
         "marker": {
          "color": "#FF97FF",
          "symbol": "circle"
         },
         "mode": "markers",
         "name": "Stevie Nicks",
         "orientation": "v",
         "showlegend": true,
         "type": "scatter",
         "x": [
          -13.844870567321777
         ],
         "xaxis": "x",
         "y": [
          -9.165899276733398
         ],
         "yaxis": "y"
        },
        {
         "customdata": [
          [
           "Rhiannon",
           "Fleetwood Mac"
          ],
          [
           "The Chain - Live 1977",
           "Fleetwood Mac"
          ],
          [
           "Dreams - 2004 Remaster",
           "Fleetwood Mac"
          ],
          [
           "The Chain - 2004 Remaster",
           "Fleetwood Mac"
          ]
         ],
         "hovertemplate": "artist_name=%{customdata[1]}<br>0=%{x}<br>1=%{y}<br>song_name=%{customdata[0]}<extra></extra>",
         "legendgroup": "Fleetwood Mac",
         "marker": {
          "color": "#FECB52",
          "symbol": "circle"
         },
         "mode": "markers",
         "name": "Fleetwood Mac",
         "orientation": "v",
         "showlegend": true,
         "type": "scatter",
         "x": [
          23.47553825378418,
          13.793561935424805,
          -16.966419219970703,
          -4.589517593383789
         ],
         "xaxis": "x",
         "y": [
          15.44780158996582,
          1.4376946687698364,
          -3.080899238586426,
          -1.4354416131973267
         ],
         "yaxis": "y"
        },
        {
         "customdata": [
          [
           "Stargazing",
           "The Neighbourhood"
          ]
         ],
         "hovertemplate": "artist_name=%{customdata[1]}<br>0=%{x}<br>1=%{y}<br>song_name=%{customdata[0]}<extra></extra>",
         "legendgroup": "The Neighbourhood",
         "marker": {
          "color": "#636efa",
          "symbol": "circle"
         },
         "mode": "markers",
         "name": "The Neighbourhood",
         "orientation": "v",
         "showlegend": true,
         "type": "scatter",
         "x": [
          -20.63509178161621
         ],
         "xaxis": "x",
         "y": [
          -12.897710800170898
         ],
         "yaxis": "y"
        },
        {
         "customdata": [
          [
           "Dreams Tonite",
           "Alvvays"
          ],
          [
           "Adult Diversion",
           "Alvvays"
          ]
         ],
         "hovertemplate": "artist_name=%{customdata[1]}<br>0=%{x}<br>1=%{y}<br>song_name=%{customdata[0]}<extra></extra>",
         "legendgroup": "Alvvays",
         "marker": {
          "color": "#EF553B",
          "symbol": "circle"
         },
         "mode": "markers",
         "name": "Alvvays",
         "orientation": "v",
         "showlegend": true,
         "type": "scatter",
         "x": [
          -13.71136474609375,
          3.696453809738159
         ],
         "xaxis": "x",
         "y": [
          -15.302292823791504,
          -11.66074275970459
         ],
         "yaxis": "y"
        },
        {
         "customdata": [
          [
           "L’Ultima Volta",
           "Ennio Morricone"
          ]
         ],
         "hovertemplate": "artist_name=%{customdata[1]}<br>0=%{x}<br>1=%{y}<br>song_name=%{customdata[0]}<extra></extra>",
         "legendgroup": "Ennio Morricone",
         "marker": {
          "color": "#00cc96",
          "symbol": "circle"
         },
         "mode": "markers",
         "name": "Ennio Morricone",
         "orientation": "v",
         "showlegend": true,
         "type": "scatter",
         "x": [
          -5.849053382873535
         ],
         "xaxis": "x",
         "y": [
          -23.14521598815918
         ],
         "yaxis": "y"
        },
        {
         "customdata": [
          [
           "Jail",
           "Kanye West"
          ],
          [
           "POWER",
           "Kanye West"
          ],
          [
           "Black Skinhead",
           "Kanye West"
          ],
          [
           "Mercy",
           "Kanye West"
          ],
          [
           "Stronger",
           "Kanye West"
          ]
         ],
         "hovertemplate": "artist_name=%{customdata[1]}<br>0=%{x}<br>1=%{y}<br>song_name=%{customdata[0]}<extra></extra>",
         "legendgroup": "Kanye West",
         "marker": {
          "color": "#ab63fa",
          "symbol": "circle"
         },
         "mode": "markers",
         "name": "Kanye West",
         "orientation": "v",
         "showlegend": true,
         "type": "scatter",
         "x": [
          -23.445159912109375,
          13.520519256591797,
          1.1425809860229492,
          5.700575351715088,
          22.361143112182617
         ],
         "xaxis": "x",
         "y": [
          5.944958209991455,
          5.354428291320801,
          18.883529663085938,
          21.091236114501953,
          9.725544929504395
         ],
         "yaxis": "y"
        },
        {
         "customdata": [
          [
           "California Dreamin'",
           "The Mamas & The Papas"
          ]
         ],
         "hovertemplate": "artist_name=%{customdata[1]}<br>0=%{x}<br>1=%{y}<br>song_name=%{customdata[0]}<extra></extra>",
         "legendgroup": "The Mamas & The Papas",
         "marker": {
          "color": "#FFA15A",
          "symbol": "circle"
         },
         "mode": "markers",
         "name": "The Mamas & The Papas",
         "orientation": "v",
         "showlegend": true,
         "type": "scatter",
         "x": [
          29.068477630615234
         ],
         "xaxis": "x",
         "y": [
          24.231861114501953
         ],
         "yaxis": "y"
        },
        {
         "customdata": [
          [
           "Negro Spiritual",
           "Danny Brown"
          ],
          [
           "Ain't it Funny",
           "Danny Brown"
          ]
         ],
         "hovertemplate": "artist_name=%{customdata[1]}<br>0=%{x}<br>1=%{y}<br>song_name=%{customdata[0]}<extra></extra>",
         "legendgroup": "Danny Brown",
         "marker": {
          "color": "#19d3f3",
          "symbol": "circle"
         },
         "mode": "markers",
         "name": "Danny Brown",
         "orientation": "v",
         "showlegend": true,
         "type": "scatter",
         "x": [
          1.6623733043670654,
          25.007946014404297
         ],
         "xaxis": "x",
         "y": [
          18.97706413269043,
          -1.8924362659454346
         ],
         "yaxis": "y"
        },
        {
         "customdata": [
          [
           "GTFU (Feat. JPEGMAFIA & Cakes da Killa)",
           "Injury Reserve"
          ],
          [
           "Jailbreak the Tesla (Feat. Aminé)",
           "Injury Reserve"
          ]
         ],
         "hovertemplate": "artist_name=%{customdata[1]}<br>0=%{x}<br>1=%{y}<br>song_name=%{customdata[0]}<extra></extra>",
         "legendgroup": "Injury Reserve",
         "marker": {
          "color": "#FF6692",
          "symbol": "circle"
         },
         "mode": "markers",
         "name": "Injury Reserve",
         "orientation": "v",
         "showlegend": true,
         "type": "scatter",
         "x": [
          4.8230881690979,
          5.241007328033447
         ],
         "xaxis": "x",
         "y": [
          21.67382049560547,
          22.39637565612793
         ],
         "yaxis": "y"
        },
        {
         "customdata": [
          [
           "Save Me - Acoustic",
           "Shinedown"
          ]
         ],
         "hovertemplate": "artist_name=%{customdata[1]}<br>0=%{x}<br>1=%{y}<br>song_name=%{customdata[0]}<extra></extra>",
         "legendgroup": "Shinedown",
         "marker": {
          "color": "#B6E880",
          "symbol": "circle"
         },
         "mode": "markers",
         "name": "Shinedown",
         "orientation": "v",
         "showlegend": true,
         "type": "scatter",
         "x": [
          24.49076271057129
         ],
         "xaxis": "x",
         "y": [
          22.364238739013672
         ],
         "yaxis": "y"
        },
        {
         "customdata": [
          [
           "Deceptacon",
           "Le Tigre"
          ]
         ],
         "hovertemplate": "artist_name=%{customdata[1]}<br>0=%{x}<br>1=%{y}<br>song_name=%{customdata[0]}<extra></extra>",
         "legendgroup": "Le Tigre",
         "marker": {
          "color": "#FF97FF",
          "symbol": "circle"
         },
         "mode": "markers",
         "name": "Le Tigre",
         "orientation": "v",
         "showlegend": true,
         "type": "scatter",
         "x": [
          33.5008544921875
         ],
         "xaxis": "x",
         "y": [
          2.08274245262146
         ],
         "yaxis": "y"
        },
        {
         "customdata": [
          [
           "Drunk Drivers/Killer Whales",
           "Car Seat Headrest"
          ],
          [
           "Fill in the Blank",
           "Car Seat Headrest"
          ],
          [
           "Vincent",
           "Car Seat Headrest"
          ],
          [
           "(Joe Gets Kicked Out of School for Using) Drugs With Friends (But Says This Isn't a Problem)",
           "Car Seat Headrest"
          ],
          [
           "Fill in the Blank",
           "Car Seat Headrest"
          ],
          [
           "Drunk Drivers/Killer Whales",
           "Car Seat Headrest"
          ]
         ],
         "hovertemplate": "artist_name=%{customdata[1]}<br>0=%{x}<br>1=%{y}<br>song_name=%{customdata[0]}<extra></extra>",
         "legendgroup": "Car Seat Headrest",
         "marker": {
          "color": "#FECB52",
          "symbol": "circle"
         },
         "mode": "markers",
         "name": "Car Seat Headrest",
         "orientation": "v",
         "showlegend": true,
         "type": "scatter",
         "x": [
          -22.32666015625,
          0.4707871377468109,
          -20.264467239379883,
          -23.48255157470703,
          0.49843692779541016,
          -22.364343643188477
         ],
         "xaxis": "x",
         "y": [
          -7.740931034088135,
          -7.345494270324707,
          -18.71013832092285,
          -7.970546245574951,
          -7.431901454925537,
          -7.77493143081665
         ],
         "yaxis": "y"
        },
        {
         "customdata": [
          [
           "Doorman",
           "slowthai"
          ]
         ],
         "hovertemplate": "artist_name=%{customdata[1]}<br>0=%{x}<br>1=%{y}<br>song_name=%{customdata[0]}<extra></extra>",
         "legendgroup": "slowthai",
         "marker": {
          "color": "#636efa",
          "symbol": "circle"
         },
         "mode": "markers",
         "name": "slowthai",
         "orientation": "v",
         "showlegend": true,
         "type": "scatter",
         "x": [
          6.378284454345703
         ],
         "xaxis": "x",
         "y": [
          23.052915573120117
         ],
         "yaxis": "y"
        },
        {
         "customdata": [
          [
           "Those Who Can't, Cheat",
           "Clarence Clarity"
          ]
         ],
         "hovertemplate": "artist_name=%{customdata[1]}<br>0=%{x}<br>1=%{y}<br>song_name=%{customdata[0]}<extra></extra>",
         "legendgroup": "Clarence Clarity",
         "marker": {
          "color": "#EF553B",
          "symbol": "circle"
         },
         "mode": "markers",
         "name": "Clarence Clarity",
         "orientation": "v",
         "showlegend": true,
         "type": "scatter",
         "x": [
          25.146373748779297
         ],
         "xaxis": "x",
         "y": [
          7.398747444152832
         ],
         "yaxis": "y"
        },
        {
         "customdata": [
          [
           "Wriggle",
           "clipping."
          ],
          [
           "Story 2",
           "clipping."
          ],
          [
           "Say the Name",
           "clipping."
          ],
          [
           "Nothing is Safe",
           "clipping."
          ]
         ],
         "hovertemplate": "artist_name=%{customdata[1]}<br>0=%{x}<br>1=%{y}<br>song_name=%{customdata[0]}<extra></extra>",
         "legendgroup": "clipping.",
         "marker": {
          "color": "#00cc96",
          "symbol": "circle"
         },
         "mode": "markers",
         "name": "clipping.",
         "orientation": "v",
         "showlegend": true,
         "type": "scatter",
         "x": [
          1.9742398262023926,
          6.926544666290283,
          -26.67647933959961,
          20.675893783569336
         ],
         "xaxis": "x",
         "y": [
          16.93843650817871,
          20.367116928100586,
          -9.839179992675781,
          16.678150177001953
         ],
         "yaxis": "y"
        },
        {
         "customdata": [
          [
           "The Thrill",
           "Wiz Khalifa"
          ]
         ],
         "hovertemplate": "artist_name=%{customdata[1]}<br>0=%{x}<br>1=%{y}<br>song_name=%{customdata[0]}<extra></extra>",
         "legendgroup": "Wiz Khalifa",
         "marker": {
          "color": "#ab63fa",
          "symbol": "circle"
         },
         "mode": "markers",
         "name": "Wiz Khalifa",
         "orientation": "v",
         "showlegend": true,
         "type": "scatter",
         "x": [
          37.67894744873047
         ],
         "xaxis": "x",
         "y": [
          7.720264434814453
         ],
         "yaxis": "y"
        },
        {
         "customdata": [
          [
           "Banquet",
           "Bloc Party"
          ],
          [
           "Banquet",
           "Bloc Party"
          ],
          [
           "Helicopter",
           "Bloc Party"
          ]
         ],
         "hovertemplate": "artist_name=%{customdata[1]}<br>0=%{x}<br>1=%{y}<br>song_name=%{customdata[0]}<extra></extra>",
         "legendgroup": "Bloc Party",
         "marker": {
          "color": "#FFA15A",
          "symbol": "circle"
         },
         "mode": "markers",
         "name": "Bloc Party",
         "orientation": "v",
         "showlegend": true,
         "type": "scatter",
         "x": [
          34.5591926574707,
          34.594200134277344,
          32.56142807006836
         ],
         "xaxis": "x",
         "y": [
          3.459843397140503,
          3.5292375087738037,
          -3.8621883392333984
         ],
         "yaxis": "y"
        },
        {
         "customdata": [
          [
           "Dog Days Are Over",
           "Florence + The Machine"
          ],
          [
           "What The Water Gave Me",
           "Florence + The Machine"
          ],
          [
           "Queen Of Peace",
           "Florence + The Machine"
          ]
         ],
         "hovertemplate": "artist_name=%{customdata[1]}<br>0=%{x}<br>1=%{y}<br>song_name=%{customdata[0]}<extra></extra>",
         "legendgroup": "Florence + The Machine",
         "marker": {
          "color": "#19d3f3",
          "symbol": "circle"
         },
         "mode": "markers",
         "name": "Florence + The Machine",
         "orientation": "v",
         "showlegend": true,
         "type": "scatter",
         "x": [
          0.7131302952766418,
          31.294898986816406,
          28.991430282592773
         ],
         "xaxis": "x",
         "y": [
          -3.3402140140533447,
          19.196128845214844,
          0.34947434067726135
         ],
         "yaxis": "y"
        },
        {
         "customdata": [
          [
           "Kozmic Blues",
           "Janis Joplin"
          ]
         ],
         "hovertemplate": "artist_name=%{customdata[1]}<br>0=%{x}<br>1=%{y}<br>song_name=%{customdata[0]}<extra></extra>",
         "legendgroup": "Janis Joplin",
         "marker": {
          "color": "#FF6692",
          "symbol": "circle"
         },
         "mode": "markers",
         "name": "Janis Joplin",
         "orientation": "v",
         "showlegend": true,
         "type": "scatter",
         "x": [
          -25.14336395263672
         ],
         "xaxis": "x",
         "y": [
          12.266060829162598
         ],
         "yaxis": "y"
        },
        {
         "customdata": [
          [
           "Ladies and gentlemen we are floating in space",
           "Spiritualized"
          ]
         ],
         "hovertemplate": "artist_name=%{customdata[1]}<br>0=%{x}<br>1=%{y}<br>song_name=%{customdata[0]}<extra></extra>",
         "legendgroup": "Spiritualized",
         "marker": {
          "color": "#B6E880",
          "symbol": "circle"
         },
         "mode": "markers",
         "name": "Spiritualized",
         "orientation": "v",
         "showlegend": true,
         "type": "scatter",
         "x": [
          -35.83208465576172
         ],
         "xaxis": "x",
         "y": [
          -1.3927258253097534
         ],
         "yaxis": "y"
        },
        {
         "customdata": [
          [
           "Catgroove",
           "Parov Stelar"
          ]
         ],
         "hovertemplate": "artist_name=%{customdata[1]}<br>0=%{x}<br>1=%{y}<br>song_name=%{customdata[0]}<extra></extra>",
         "legendgroup": "Parov Stelar",
         "marker": {
          "color": "#FF97FF",
          "symbol": "circle"
         },
         "mode": "markers",
         "name": "Parov Stelar",
         "orientation": "v",
         "showlegend": true,
         "type": "scatter",
         "x": [
          -4.212155342102051
         ],
         "xaxis": "x",
         "y": [
          -28.105335235595703
         ],
         "yaxis": "y"
        },
        {
         "customdata": [
          [
           "A Whiter Shade of Pale - Original Single Version",
           "Procol Harum"
          ]
         ],
         "hovertemplate": "artist_name=%{customdata[1]}<br>0=%{x}<br>1=%{y}<br>song_name=%{customdata[0]}<extra></extra>",
         "legendgroup": "Procol Harum",
         "marker": {
          "color": "#FECB52",
          "symbol": "circle"
         },
         "mode": "markers",
         "name": "Procol Harum",
         "orientation": "v",
         "showlegend": true,
         "type": "scatter",
         "x": [
          -23.639968872070312
         ],
         "xaxis": "x",
         "y": [
          -17.510650634765625
         ],
         "yaxis": "y"
        },
        {
         "customdata": [
          [
           "Slide (feat. Frank Ocean & Migos)",
           "Calvin Harris"
          ]
         ],
         "hovertemplate": "artist_name=%{customdata[1]}<br>0=%{x}<br>1=%{y}<br>song_name=%{customdata[0]}<extra></extra>",
         "legendgroup": "Calvin Harris",
         "marker": {
          "color": "#636efa",
          "symbol": "circle"
         },
         "mode": "markers",
         "name": "Calvin Harris",
         "orientation": "v",
         "showlegend": true,
         "type": "scatter",
         "x": [
          37.058189392089844
         ],
         "xaxis": "x",
         "y": [
          16.52240562438965
         ],
         "yaxis": "y"
        },
        {
         "customdata": [
          [
           "Alright",
           "Supergrass"
          ]
         ],
         "hovertemplate": "artist_name=%{customdata[1]}<br>0=%{x}<br>1=%{y}<br>song_name=%{customdata[0]}<extra></extra>",
         "legendgroup": "Supergrass",
         "marker": {
          "color": "#EF553B",
          "symbol": "circle"
         },
         "mode": "markers",
         "name": "Supergrass",
         "orientation": "v",
         "showlegend": true,
         "type": "scatter",
         "x": [
          28.840713500976562
         ],
         "xaxis": "x",
         "y": [
          3.258237838745117
         ],
         "yaxis": "y"
        },
        {
         "customdata": [
          [
           "You Stole the Sun from My Heart",
           "Manic Street Preachers"
          ]
         ],
         "hovertemplate": "artist_name=%{customdata[1]}<br>0=%{x}<br>1=%{y}<br>song_name=%{customdata[0]}<extra></extra>",
         "legendgroup": "Manic Street Preachers",
         "marker": {
          "color": "#00cc96",
          "symbol": "circle"
         },
         "mode": "markers",
         "name": "Manic Street Preachers",
         "orientation": "v",
         "showlegend": true,
         "type": "scatter",
         "x": [
          -2.740079402923584
         ],
         "xaxis": "x",
         "y": [
          1.6067153215408325
         ],
         "yaxis": "y"
        },
        {
         "customdata": [
          [
           "Killamangiro",
           "Babyshambles"
          ]
         ],
         "hovertemplate": "artist_name=%{customdata[1]}<br>0=%{x}<br>1=%{y}<br>song_name=%{customdata[0]}<extra></extra>",
         "legendgroup": "Babyshambles",
         "marker": {
          "color": "#ab63fa",
          "symbol": "circle"
         },
         "mode": "markers",
         "name": "Babyshambles",
         "orientation": "v",
         "showlegend": true,
         "type": "scatter",
         "x": [
          -4.92093563079834
         ],
         "xaxis": "x",
         "y": [
          4.198923110961914
         ],
         "yaxis": "y"
        },
        {
         "customdata": [
          [
           "Funky Friday",
           "Dave"
          ],
          [
           "Location (feat. Burna Boy)",
           "Dave"
          ]
         ],
         "hovertemplate": "artist_name=%{customdata[1]}<br>0=%{x}<br>1=%{y}<br>song_name=%{customdata[0]}<extra></extra>",
         "legendgroup": "Dave",
         "marker": {
          "color": "#FFA15A",
          "symbol": "circle"
         },
         "mode": "markers",
         "name": "Dave",
         "orientation": "v",
         "showlegend": true,
         "type": "scatter",
         "x": [
          -1.651843786239624,
          4.250450134277344
         ],
         "xaxis": "x",
         "y": [
          20.55645179748535,
          24.064773559570312
         ],
         "yaxis": "y"
        },
        {
         "customdata": [
          [
           "NUN WITH A MOTHERF*&*ING GUN",
           "Trent Reznor and Atticus Ross"
          ],
          [
           "In Motion",
           "Trent Reznor and Atticus Ross"
          ],
          [
           "Pieces Form the Whole",
           "Trent Reznor and Atticus Ross"
          ]
         ],
         "hovertemplate": "artist_name=%{customdata[1]}<br>0=%{x}<br>1=%{y}<br>song_name=%{customdata[0]}<extra></extra>",
         "legendgroup": "Trent Reznor and Atticus Ross",
         "marker": {
          "color": "#19d3f3",
          "symbol": "circle"
         },
         "mode": "markers",
         "name": "Trent Reznor and Atticus Ross",
         "orientation": "v",
         "showlegend": true,
         "type": "scatter",
         "x": [
          -4.430260181427002,
          -36.71792221069336,
          -34.104461669921875
         ],
         "xaxis": "x",
         "y": [
          -29.0786190032959,
          -12.050028800964355,
          -11.680525779724121
         ],
         "yaxis": "y"
        },
        {
         "customdata": [
          [
           "House of the Rising Sun",
           "Ramin Djawadi"
          ]
         ],
         "hovertemplate": "artist_name=%{customdata[1]}<br>0=%{x}<br>1=%{y}<br>song_name=%{customdata[0]}<extra></extra>",
         "legendgroup": "Ramin Djawadi",
         "marker": {
          "color": "#FF6692",
          "symbol": "circle"
         },
         "mode": "markers",
         "name": "Ramin Djawadi",
         "orientation": "v",
         "showlegend": true,
         "type": "scatter",
         "x": [
          20.045217514038086
         ],
         "xaxis": "x",
         "y": [
          26.693254470825195
         ],
         "yaxis": "y"
        },
        {
         "customdata": [
          [
           "More Of The Same",
           "Caroline Rose"
          ]
         ],
         "hovertemplate": "artist_name=%{customdata[1]}<br>0=%{x}<br>1=%{y}<br>song_name=%{customdata[0]}<extra></extra>",
         "legendgroup": "Caroline Rose",
         "marker": {
          "color": "#B6E880",
          "symbol": "circle"
         },
         "mode": "markers",
         "name": "Caroline Rose",
         "orientation": "v",
         "showlegend": true,
         "type": "scatter",
         "x": [
          -10.612850189208984
         ],
         "xaxis": "x",
         "y": [
          3.673785448074341
         ],
         "yaxis": "y"
        },
        {
         "customdata": [
          [
           "Some",
           "Steve Lacy"
          ]
         ],
         "hovertemplate": "artist_name=%{customdata[1]}<br>0=%{x}<br>1=%{y}<br>song_name=%{customdata[0]}<extra></extra>",
         "legendgroup": "Steve Lacy",
         "marker": {
          "color": "#FF97FF",
          "symbol": "circle"
         },
         "mode": "markers",
         "name": "Steve Lacy",
         "orientation": "v",
         "showlegend": true,
         "type": "scatter",
         "x": [
          -13.663514137268066
         ],
         "xaxis": "x",
         "y": [
          2.2169346809387207
         ],
         "yaxis": "y"
        },
        {
         "customdata": [
          [
           "Nightclubbing",
           "Iggy Pop"
          ],
          [
           "The Passenger",
           "Iggy Pop"
          ],
          [
           "The Passenger",
           "Iggy Pop"
          ],
          [
           "Lust For Life",
           "Iggy Pop"
          ]
         ],
         "hovertemplate": "artist_name=%{customdata[1]}<br>0=%{x}<br>1=%{y}<br>song_name=%{customdata[0]}<extra></extra>",
         "legendgroup": "Iggy Pop",
         "marker": {
          "color": "#FECB52",
          "symbol": "circle"
         },
         "mode": "markers",
         "name": "Iggy Pop",
         "orientation": "v",
         "showlegend": true,
         "type": "scatter",
         "x": [
          -17.972610473632812,
          9.700644493103027,
          7.829164028167725,
          -4.626277446746826
         ],
         "xaxis": "x",
         "y": [
          -15.280598640441895,
          4.8888726234436035,
          5.018474578857422,
          7.633665084838867
         ],
         "yaxis": "y"
        },
        {
         "customdata": [
          [
           "Sale of the Century",
           "Sleeper"
          ],
          [
           "Atomic",
           "Sleeper"
          ]
         ],
         "hovertemplate": "artist_name=%{customdata[1]}<br>0=%{x}<br>1=%{y}<br>song_name=%{customdata[0]}<extra></extra>",
         "legendgroup": "Sleeper",
         "marker": {
          "color": "#636efa",
          "symbol": "circle"
         },
         "mode": "markers",
         "name": "Sleeper",
         "orientation": "v",
         "showlegend": true,
         "type": "scatter",
         "x": [
          -5.612369537353516,
          31.883380889892578
         ],
         "xaxis": "x",
         "y": [
          -0.9227560758590698,
          6.569896221160889
         ],
         "yaxis": "y"
        },
        {
         "customdata": [
          [
           "Subterranean Homesick Alien",
           "Radiohead"
          ],
          [
           "Karma Police",
           "Radiohead"
          ],
          [
           "Paranoid Android",
           "Radiohead"
          ],
          [
           "Weird Fishes/ Arpeggi",
           "Radiohead"
          ],
          [
           "15 Step",
           "Radiohead"
          ],
          [
           "Optimistic",
           "Radiohead"
          ],
          [
           "Reckoner",
           "Radiohead"
          ],
          [
           "Airbag - Remastered",
           "Radiohead"
          ],
          [
           "Subterranean Homesick Alien",
           "Radiohead"
          ],
          [
           "Videotape",
           "Radiohead"
          ],
          [
           "Daydreaming",
           "Radiohead"
          ],
          [
           "Karma Police",
           "Radiohead"
          ],
          [
           "Everything In Its Right Place",
           "Radiohead"
          ]
         ],
         "hovertemplate": "artist_name=%{customdata[1]}<br>0=%{x}<br>1=%{y}<br>song_name=%{customdata[0]}<extra></extra>",
         "legendgroup": "Radiohead",
         "marker": {
          "color": "#EF553B",
          "symbol": "circle"
         },
         "mode": "markers",
         "name": "Radiohead",
         "orientation": "v",
         "showlegend": true,
         "type": "scatter",
         "x": [
          -22.02983856201172,
          -27.482242584228516,
          -1.1278502941131592,
          20.82533073425293,
          -9.561712265014648,
          15.803421020507812,
          30.00165557861328,
          2.985244035720825,
          -22.062782287597656,
          -36.80927276611328,
          -40.01079177856445,
          -27.48348045349121,
          25.768909454345703
         ],
         "xaxis": "x",
         "y": [
          -15.556243896484375,
          -4.075418949127197,
          -11.227914810180664,
          24.241188049316406,
          -9.417744636535645,
          -19.084129333496094,
          22.22921371459961,
          -27.317947387695312,
          -15.40615463256836,
          -10.762869834899902,
          -8.771361351013184,
          -4.085952281951904,
          25.701568603515625
         ],
         "yaxis": "y"
        },
        {
         "customdata": [
          [
           "Jocelyn Flores",
           "XXXTENTACION"
          ]
         ],
         "hovertemplate": "artist_name=%{customdata[1]}<br>0=%{x}<br>1=%{y}<br>song_name=%{customdata[0]}<extra></extra>",
         "legendgroup": "XXXTENTACION",
         "marker": {
          "color": "#00cc96",
          "symbol": "circle"
         },
         "mode": "markers",
         "name": "XXXTENTACION",
         "orientation": "v",
         "showlegend": true,
         "type": "scatter",
         "x": [
          1.7608418464660645
         ],
         "xaxis": "x",
         "y": [
          25.307722091674805
         ],
         "yaxis": "y"
        },
        {
         "customdata": [
          [
           "Why Can't I Be You?",
           "The Cure"
          ],
          [
           "Play For Today",
           "The Cure"
          ]
         ],
         "hovertemplate": "artist_name=%{customdata[1]}<br>0=%{x}<br>1=%{y}<br>song_name=%{customdata[0]}<extra></extra>",
         "legendgroup": "The Cure",
         "marker": {
          "color": "#ab63fa",
          "symbol": "circle"
         },
         "mode": "markers",
         "name": "The Cure",
         "orientation": "v",
         "showlegend": true,
         "type": "scatter",
         "x": [
          38.27497100830078,
          24.806365966796875
         ],
         "xaxis": "x",
         "y": [
          14.674450874328613,
          13.164660453796387
         ],
         "yaxis": "y"
        },
        {
         "customdata": [
          [
           "Can I Kick It?",
           "A Tribe Called Quest"
          ]
         ],
         "hovertemplate": "artist_name=%{customdata[1]}<br>0=%{x}<br>1=%{y}<br>song_name=%{customdata[0]}<extra></extra>",
         "legendgroup": "A Tribe Called Quest",
         "marker": {
          "color": "#FFA15A",
          "symbol": "circle"
         },
         "mode": "markers",
         "name": "A Tribe Called Quest",
         "orientation": "v",
         "showlegend": true,
         "type": "scatter",
         "x": [
          -0.7922526597976685
         ],
         "xaxis": "x",
         "y": [
          19.84814453125
         ],
         "yaxis": "y"
        },
        {
         "customdata": [
          [
           "A.M. 180",
           "Grandaddy"
          ]
         ],
         "hovertemplate": "artist_name=%{customdata[1]}<br>0=%{x}<br>1=%{y}<br>song_name=%{customdata[0]}<extra></extra>",
         "legendgroup": "Grandaddy",
         "marker": {
          "color": "#19d3f3",
          "symbol": "circle"
         },
         "mode": "markers",
         "name": "Grandaddy",
         "orientation": "v",
         "showlegend": true,
         "type": "scatter",
         "x": [
          -33.14977264404297
         ],
         "xaxis": "x",
         "y": [
          -16.36758041381836
         ],
         "yaxis": "y"
        },
        {
         "customdata": [
          [
           "Grew Up At Midnight",
           "The Maccabees"
          ],
          [
           "Toothpaste Kisses - Bonus Track",
           "The Maccabees"
          ],
          [
           "Pelican",
           "The Maccabees"
          ]
         ],
         "hovertemplate": "artist_name=%{customdata[1]}<br>0=%{x}<br>1=%{y}<br>song_name=%{customdata[0]}<extra></extra>",
         "legendgroup": "The Maccabees",
         "marker": {
          "color": "#FF6692",
          "symbol": "circle"
         },
         "mode": "markers",
         "name": "The Maccabees",
         "orientation": "v",
         "showlegend": true,
         "type": "scatter",
         "x": [
          -23.021459579467773,
          -28.44233512878418,
          9.078177452087402
         ],
         "xaxis": "x",
         "y": [
          -15.05463981628418,
          5.686306476593018,
          0.6250529289245605
         ],
         "yaxis": "y"
        },
        {
         "customdata": [
          [
           "laser",
           "Kensuke Ushio"
          ]
         ],
         "hovertemplate": "artist_name=%{customdata[1]}<br>0=%{x}<br>1=%{y}<br>song_name=%{customdata[0]}<extra></extra>",
         "legendgroup": "Kensuke Ushio",
         "marker": {
          "color": "#B6E880",
          "symbol": "circle"
         },
         "mode": "markers",
         "name": "Kensuke Ushio",
         "orientation": "v",
         "showlegend": true,
         "type": "scatter",
         "x": [
          25.1617374420166
         ],
         "xaxis": "x",
         "y": [
          -14.694280624389648
         ],
         "yaxis": "y"
        },
        {
         "customdata": [
          [
           "Red Right Hand - 2011 Remaster",
           "Nick Cave & The Bad Seeds"
          ]
         ],
         "hovertemplate": "artist_name=%{customdata[1]}<br>0=%{x}<br>1=%{y}<br>song_name=%{customdata[0]}<extra></extra>",
         "legendgroup": "Nick Cave & The Bad Seeds",
         "marker": {
          "color": "#FF97FF",
          "symbol": "circle"
         },
         "mode": "markers",
         "name": "Nick Cave & The Bad Seeds",
         "orientation": "v",
         "showlegend": true,
         "type": "scatter",
         "x": [
          20.678606033325195
         ],
         "xaxis": "x",
         "y": [
          -12.014814376831055
         ],
         "yaxis": "y"
        },
        {
         "customdata": [
          [
           "Jesus, Etc.",
           "Wilco"
          ]
         ],
         "hovertemplate": "artist_name=%{customdata[1]}<br>0=%{x}<br>1=%{y}<br>song_name=%{customdata[0]}<extra></extra>",
         "legendgroup": "Wilco",
         "marker": {
          "color": "#FECB52",
          "symbol": "circle"
         },
         "mode": "markers",
         "name": "Wilco",
         "orientation": "v",
         "showlegend": true,
         "type": "scatter",
         "x": [
          -31.036245346069336
         ],
         "xaxis": "x",
         "y": [
          5.663473129272461
         ],
         "yaxis": "y"
        },
        {
         "customdata": [
          [
           "Redbone",
           "Childish Gambino"
          ]
         ],
         "hovertemplate": "artist_name=%{customdata[1]}<br>0=%{x}<br>1=%{y}<br>song_name=%{customdata[0]}<extra></extra>",
         "legendgroup": "Childish Gambino",
         "marker": {
          "color": "#636efa",
          "symbol": "circle"
         },
         "mode": "markers",
         "name": "Childish Gambino",
         "orientation": "v",
         "showlegend": true,
         "type": "scatter",
         "x": [
          -18.099828720092773
         ],
         "xaxis": "x",
         "y": [
          -9.555317878723145
         ],
         "yaxis": "y"
        },
        {
         "customdata": [
          [
           "Tiny Foldable Cities",
           "Orbital"
          ]
         ],
         "hovertemplate": "artist_name=%{customdata[1]}<br>0=%{x}<br>1=%{y}<br>song_name=%{customdata[0]}<extra></extra>",
         "legendgroup": "Orbital",
         "marker": {
          "color": "#EF553B",
          "symbol": "circle"
         },
         "mode": "markers",
         "name": "Orbital",
         "orientation": "v",
         "showlegend": true,
         "type": "scatter",
         "x": [
          18.665576934814453
         ],
         "xaxis": "x",
         "y": [
          -14.890401840209961
         ],
         "yaxis": "y"
        },
        {
         "customdata": [
          [
           "We Are Not Alone",
           "Karla Devito"
          ]
         ],
         "hovertemplate": "artist_name=%{customdata[1]}<br>0=%{x}<br>1=%{y}<br>song_name=%{customdata[0]}<extra></extra>",
         "legendgroup": "Karla Devito",
         "marker": {
          "color": "#00cc96",
          "symbol": "circle"
         },
         "mode": "markers",
         "name": "Karla Devito",
         "orientation": "v",
         "showlegend": true,
         "type": "scatter",
         "x": [
          -19.868770599365234
         ],
         "xaxis": "x",
         "y": [
          4.127517223358154
         ],
         "yaxis": "y"
        },
        {
         "customdata": [
          [
           "Motion Sickness",
           "Phoebe Bridgers"
          ],
          [
           "Punisher",
           "Phoebe Bridgers"
          ],
          [
           "I Know The End",
           "Phoebe Bridgers"
          ],
          [
           "Kyoto",
           "Phoebe Bridgers"
          ]
         ],
         "hovertemplate": "artist_name=%{customdata[1]}<br>0=%{x}<br>1=%{y}<br>song_name=%{customdata[0]}<extra></extra>",
         "legendgroup": "Phoebe Bridgers",
         "marker": {
          "color": "#ab63fa",
          "symbol": "circle"
         },
         "mode": "markers",
         "name": "Phoebe Bridgers",
         "orientation": "v",
         "showlegend": true,
         "type": "scatter",
         "x": [
          -31.259437561035156,
          -34.868263244628906,
          -26.21531867980957,
          -4.451186656951904
         ],
         "xaxis": "x",
         "y": [
          -1.25196373462677,
          -0.5252695083618164,
          -11.728657722473145,
          0.491208553314209
         ],
         "yaxis": "y"
        },
        {
         "customdata": [
          [
           "So Says I",
           "The Shins"
          ]
         ],
         "hovertemplate": "artist_name=%{customdata[1]}<br>0=%{x}<br>1=%{y}<br>song_name=%{customdata[0]}<extra></extra>",
         "legendgroup": "The Shins",
         "marker": {
          "color": "#FFA15A",
          "symbol": "circle"
         },
         "mode": "markers",
         "name": "The Shins",
         "orientation": "v",
         "showlegend": true,
         "type": "scatter",
         "x": [
          -3.1678307056427
         ],
         "xaxis": "x",
         "y": [
          5.64196252822876
         ],
         "yaxis": "y"
        },
        {
         "customdata": [
          [
           "Dry the Rain",
           "The Beta Band"
          ]
         ],
         "hovertemplate": "artist_name=%{customdata[1]}<br>0=%{x}<br>1=%{y}<br>song_name=%{customdata[0]}<extra></extra>",
         "legendgroup": "The Beta Band",
         "marker": {
          "color": "#19d3f3",
          "symbol": "circle"
         },
         "mode": "markers",
         "name": "The Beta Band",
         "orientation": "v",
         "showlegend": true,
         "type": "scatter",
         "x": [
          -12.747278213500977
         ],
         "xaxis": "x",
         "y": [
          -2.0761895179748535
         ],
         "yaxis": "y"
        },
        {
         "customdata": [
          [
           "This Mess We're In",
           "PJ Harvey"
          ]
         ],
         "hovertemplate": "artist_name=%{customdata[1]}<br>0=%{x}<br>1=%{y}<br>song_name=%{customdata[0]}<extra></extra>",
         "legendgroup": "PJ Harvey",
         "marker": {
          "color": "#FF6692",
          "symbol": "circle"
         },
         "mode": "markers",
         "name": "PJ Harvey",
         "orientation": "v",
         "showlegend": true,
         "type": "scatter",
         "x": [
          -18.89263343811035
         ],
         "xaxis": "x",
         "y": [
          -13.373477935791016
         ],
         "yaxis": "y"
        },
        {
         "customdata": [
          [
           "Freaking Out the Neighborhood",
           "Mac DeMarco"
          ]
         ],
         "hovertemplate": "artist_name=%{customdata[1]}<br>0=%{x}<br>1=%{y}<br>song_name=%{customdata[0]}<extra></extra>",
         "legendgroup": "Mac DeMarco",
         "marker": {
          "color": "#B6E880",
          "symbol": "circle"
         },
         "mode": "markers",
         "name": "Mac DeMarco",
         "orientation": "v",
         "showlegend": true,
         "type": "scatter",
         "x": [
          22.881818771362305
         ],
         "xaxis": "x",
         "y": [
          3.8178374767303467
         ],
         "yaxis": "y"
        },
        {
         "customdata": [
          [
           "All Along the Watchtower",
           "Jimi Hendrix"
          ]
         ],
         "hovertemplate": "artist_name=%{customdata[1]}<br>0=%{x}<br>1=%{y}<br>song_name=%{customdata[0]}<extra></extra>",
         "legendgroup": "Jimi Hendrix",
         "marker": {
          "color": "#FF97FF",
          "symbol": "circle"
         },
         "mode": "markers",
         "name": "Jimi Hendrix",
         "orientation": "v",
         "showlegend": true,
         "type": "scatter",
         "x": [
          -4.764820098876953
         ],
         "xaxis": "x",
         "y": [
          5.132564544677734
         ],
         "yaxis": "y"
        },
        {
         "customdata": [
          [
           "The Breaks",
           "Kurtis Blow"
          ]
         ],
         "hovertemplate": "artist_name=%{customdata[1]}<br>0=%{x}<br>1=%{y}<br>song_name=%{customdata[0]}<extra></extra>",
         "legendgroup": "Kurtis Blow",
         "marker": {
          "color": "#FECB52",
          "symbol": "circle"
         },
         "mode": "markers",
         "name": "Kurtis Blow",
         "orientation": "v",
         "showlegend": true,
         "type": "scatter",
         "x": [
          23.166187286376953
         ],
         "xaxis": "x",
         "y": [
          14.793808937072754
         ],
         "yaxis": "y"
        },
        {
         "customdata": [
          [
           "Over And Over",
           "Hot Chip"
          ]
         ],
         "hovertemplate": "artist_name=%{customdata[1]}<br>0=%{x}<br>1=%{y}<br>song_name=%{customdata[0]}<extra></extra>",
         "legendgroup": "Hot Chip",
         "marker": {
          "color": "#636efa",
          "symbol": "circle"
         },
         "mode": "markers",
         "name": "Hot Chip",
         "orientation": "v",
         "showlegend": true,
         "type": "scatter",
         "x": [
          34.190704345703125
         ],
         "xaxis": "x",
         "y": [
          9.687698364257812
         ],
         "yaxis": "y"
        },
        {
         "customdata": [
          [
           "Genius of Love",
           "Tom Tom Club"
          ]
         ],
         "hovertemplate": "artist_name=%{customdata[1]}<br>0=%{x}<br>1=%{y}<br>song_name=%{customdata[0]}<extra></extra>",
         "legendgroup": "Tom Tom Club",
         "marker": {
          "color": "#EF553B",
          "symbol": "circle"
         },
         "mode": "markers",
         "name": "Tom Tom Club",
         "orientation": "v",
         "showlegend": true,
         "type": "scatter",
         "x": [
          -18.038373947143555
         ],
         "xaxis": "x",
         "y": [
          -2.177842617034912
         ],
         "yaxis": "y"
        },
        {
         "customdata": [
          [
           "Time is Running Out",
           "Muse"
          ],
          [
           "Supremacy",
           "Muse"
          ],
          [
           "Uprising",
           "Muse"
          ],
          [
           "Starlight",
           "Muse"
          ],
          [
           "Reapers",
           "Muse"
          ],
          [
           "Madness",
           "Muse"
          ]
         ],
         "hovertemplate": "artist_name=%{customdata[1]}<br>0=%{x}<br>1=%{y}<br>song_name=%{customdata[0]}<extra></extra>",
         "legendgroup": "Muse",
         "marker": {
          "color": "#00cc96",
          "symbol": "circle"
         },
         "mode": "markers",
         "name": "Muse",
         "orientation": "v",
         "showlegend": true,
         "type": "scatter",
         "x": [
          28.415828704833984,
          28.611064910888672,
          -10.07414436340332,
          -9.694396018981934,
          -2.8681464195251465,
          -19.279722213745117
         ],
         "xaxis": "x",
         "y": [
          9.016802787780762,
          -4.330608367919922,
          -13.304064750671387,
          -14.50684642791748,
          4.8096137046813965,
          -19.478416442871094
         ],
         "yaxis": "y"
        },
        {
         "customdata": [
          [
           "Sea of Dreams",
           "Oberhofer"
          ]
         ],
         "hovertemplate": "artist_name=%{customdata[1]}<br>0=%{x}<br>1=%{y}<br>song_name=%{customdata[0]}<extra></extra>",
         "legendgroup": "Oberhofer",
         "marker": {
          "color": "#ab63fa",
          "symbol": "circle"
         },
         "mode": "markers",
         "name": "Oberhofer",
         "orientation": "v",
         "showlegend": true,
         "type": "scatter",
         "x": [
          -33.22409439086914
         ],
         "xaxis": "x",
         "y": [
          -8.828361511230469
         ],
         "yaxis": "y"
        },
        {
         "customdata": [
          [
           "Bellbottoms",
           "The Jon Spencer Blues Explosion"
          ]
         ],
         "hovertemplate": "artist_name=%{customdata[1]}<br>0=%{x}<br>1=%{y}<br>song_name=%{customdata[0]}<extra></extra>",
         "legendgroup": "The Jon Spencer Blues Explosion",
         "marker": {
          "color": "#FFA15A",
          "symbol": "circle"
         },
         "mode": "markers",
         "name": "The Jon Spencer Blues Explosion",
         "orientation": "v",
         "showlegend": true,
         "type": "scatter",
         "x": [
          6.639223098754883
         ],
         "xaxis": "x",
         "y": [
          -8.131591796875
         ],
         "yaxis": "y"
        },
        {
         "customdata": [
          [
           "Dawn Chorus",
           "Thom Yorke"
          ],
          [
           "The Eraser",
           "Thom Yorke"
          ]
         ],
         "hovertemplate": "artist_name=%{customdata[1]}<br>0=%{x}<br>1=%{y}<br>song_name=%{customdata[0]}<extra></extra>",
         "legendgroup": "Thom Yorke",
         "marker": {
          "color": "#19d3f3",
          "symbol": "circle"
         },
         "mode": "markers",
         "name": "Thom Yorke",
         "orientation": "v",
         "showlegend": true,
         "type": "scatter",
         "x": [
          -38.92155456542969,
          21.467571258544922
         ],
         "xaxis": "x",
         "y": [
          -8.120949745178223,
          25.647724151611328
         ],
         "yaxis": "y"
        },
        {
         "customdata": [
          [
           "Girls & Boys",
           "Viagra Boys"
          ]
         ],
         "hovertemplate": "artist_name=%{customdata[1]}<br>0=%{x}<br>1=%{y}<br>song_name=%{customdata[0]}<extra></extra>",
         "legendgroup": "Viagra Boys",
         "marker": {
          "color": "#FF6692",
          "symbol": "circle"
         },
         "mode": "markers",
         "name": "Viagra Boys",
         "orientation": "v",
         "showlegend": true,
         "type": "scatter",
         "x": [
          -1.9369189739227295
         ],
         "xaxis": "x",
         "y": [
          0.7807739973068237
         ],
         "yaxis": "y"
        },
        {
         "customdata": [
          [
           "Social Cues",
           "Cage The Elephant"
          ],
          [
           "Broken Boy (feat. Iggy Pop)",
           "Cage The Elephant"
          ],
          [
           "Black Madonna",
           "Cage The Elephant"
          ],
          [
           "Cold Cold Cold",
           "Cage The Elephant"
          ],
          [
           "Trouble",
           "Cage The Elephant"
          ],
          [
           "Cigarette Daydreams",
           "Cage The Elephant"
          ],
          [
           "Come a Little Closer",
           "Cage The Elephant"
          ]
         ],
         "hovertemplate": "artist_name=%{customdata[1]}<br>0=%{x}<br>1=%{y}<br>song_name=%{customdata[0]}<extra></extra>",
         "legendgroup": "Cage The Elephant",
         "marker": {
          "color": "#B6E880",
          "symbol": "circle"
         },
         "mode": "markers",
         "name": "Cage The Elephant",
         "orientation": "v",
         "showlegend": true,
         "type": "scatter",
         "x": [
          -8.862370491027832,
          32.245758056640625,
          34.96153259277344,
          -8.131447792053223,
          -25.723033905029297,
          -13.786798477172852,
          29.79768943786621
         ],
         "xaxis": "x",
         "y": [
          7.255059242248535,
          -0.911988377571106,
          10.112010955810547,
          -0.26710960268974304,
          -8.150688171386719,
          -13.926101684570312,
          -2.4285757541656494
         ],
         "yaxis": "y"
        },
        {
         "customdata": [
          [
           "Centuries",
           "Fall Out Boy"
          ]
         ],
         "hovertemplate": "artist_name=%{customdata[1]}<br>0=%{x}<br>1=%{y}<br>song_name=%{customdata[0]}<extra></extra>",
         "legendgroup": "Fall Out Boy",
         "marker": {
          "color": "#FF97FF",
          "symbol": "circle"
         },
         "mode": "markers",
         "name": "Fall Out Boy",
         "orientation": "v",
         "showlegend": true,
         "type": "scatter",
         "x": [
          31.756473541259766
         ],
         "xaxis": "x",
         "y": [
          -1.000056505203247
         ],
         "yaxis": "y"
        },
        {
         "customdata": [
          [
           "Atmosphere",
           "Joy Division"
          ],
          [
           "New Dawn Fades - 2019 Digital Master",
           "Joy Division"
          ],
          [
           "Transmission",
           "Joy Division"
          ],
          [
           "Shadowplay - 2007 Remaster",
           "Joy Division"
          ],
          [
           "Day of the Lords - 2007 Remaster",
           "Joy Division"
          ],
          [
           "Ceremony - Live at Birmingham University; 2007 Remaster",
           "Joy Division"
          ],
          [
           "New Dawn Fades - 2007 Remaster",
           "Joy Division"
          ],
          [
           "They Walked In Line - Live",
           "Joy Division"
          ],
          [
           "Transmission",
           "Joy Division"
          ],
          [
           "Disorder",
           "Joy Division"
          ],
          [
           "Love Will Tear Us Apart - 2010 Remaster",
           "Joy Division"
          ]
         ],
         "hovertemplate": "artist_name=%{customdata[1]}<br>0=%{x}<br>1=%{y}<br>song_name=%{customdata[0]}<extra></extra>",
         "legendgroup": "Joy Division",
         "marker": {
          "color": "#FECB52",
          "symbol": "circle"
         },
         "mode": "markers",
         "name": "Joy Division",
         "orientation": "v",
         "showlegend": true,
         "type": "scatter",
         "x": [
          -23.808902740478516,
          -32.30246353149414,
          0.0625682920217514,
          5.775251388549805,
          -33.55988693237305,
          -5.288180828094482,
          -32.406070709228516,
          -28.608657836914062,
          1.908845067024231,
          10.445330619812012,
          -0.555529773235321
         ],
         "xaxis": "x",
         "y": [
          -3.282954216003418,
          -16.21985626220703,
          -6.177131652832031,
          -23.946971893310547,
          -17.751977920532227,
          -21.207448959350586,
          -16.504745483398438,
          -15.954244613647461,
          -25.61600112915039,
          -22.38910675048828,
          -28.546573638916016
         ],
         "yaxis": "y"
        },
        {
         "customdata": [
          [
           "Ceremony - 1st Mix; Ceremony Sessions; 2019 Remaster",
           "New Order"
          ],
          [
           "Ceremony",
           "New Order"
          ],
          [
           "Age of Consent - 2015 Remaster",
           "New Order"
          ],
          [
           "Temptation",
           "New Order"
          ],
          [
           "Ceremony - Version 1; 2016 Remaster",
           "New Order"
          ],
          [
           "Temptation",
           "New Order"
          ],
          [
           "Blue Monday - 2016 Remaster",
           "New Order"
          ],
          [
           "Blue Monday - 2011 Total Version",
           "New Order"
          ]
         ],
         "hovertemplate": "artist_name=%{customdata[1]}<br>0=%{x}<br>1=%{y}<br>song_name=%{customdata[0]}<extra></extra>",
         "legendgroup": "New Order",
         "marker": {
          "color": "#636efa",
          "symbol": "circle"
         },
         "mode": "markers",
         "name": "New Order",
         "orientation": "v",
         "showlegend": true,
         "type": "scatter",
         "x": [
          -18.28172492980957,
          -29.585399627685547,
          -4.984530448913574,
          -15.129840850830078,
          -21.688215255737305,
          -1.0846909284591675,
          -3.3969767093658447,
          -3.324924945831299
         ],
         "xaxis": "x",
         "y": [
          -13.430590629577637,
          -15.624326705932617,
          -9.220189094543457,
          -5.7441887855529785,
          -14.744887351989746,
          -29.951557159423828,
          -29.220762252807617,
          -29.151399612426758
         ],
         "yaxis": "y"
        },
        {
         "customdata": [
          [
           "Good Vibrations - Remastered 2001",
           "The Beach Boys"
          ]
         ],
         "hovertemplate": "artist_name=%{customdata[1]}<br>0=%{x}<br>1=%{y}<br>song_name=%{customdata[0]}<extra></extra>",
         "legendgroup": "The Beach Boys",
         "marker": {
          "color": "#EF553B",
          "symbol": "circle"
         },
         "mode": "markers",
         "name": "The Beach Boys",
         "orientation": "v",
         "showlegend": true,
         "type": "scatter",
         "x": [
          26.39595603942871
         ],
         "xaxis": "x",
         "y": [
          19.236570358276367
         ],
         "yaxis": "y"
        },
        {
         "customdata": [
          [
           "Town Called Malice",
           "The Jam"
          ]
         ],
         "hovertemplate": "artist_name=%{customdata[1]}<br>0=%{x}<br>1=%{y}<br>song_name=%{customdata[0]}<extra></extra>",
         "legendgroup": "The Jam",
         "marker": {
          "color": "#00cc96",
          "symbol": "circle"
         },
         "mode": "markers",
         "name": "The Jam",
         "orientation": "v",
         "showlegend": true,
         "type": "scatter",
         "x": [
          -12.097514152526855
         ],
         "xaxis": "x",
         "y": [
          6.767805576324463
         ],
         "yaxis": "y"
        },
        {
         "customdata": [
          [
           "Should I Stay or Should I Go - Remastered",
           "The Clash"
          ],
          [
           "London Calling - Remastered",
           "The Clash"
          ]
         ],
         "hovertemplate": "artist_name=%{customdata[1]}<br>0=%{x}<br>1=%{y}<br>song_name=%{customdata[0]}<extra></extra>",
         "legendgroup": "The Clash",
         "marker": {
          "color": "#ab63fa",
          "symbol": "circle"
         },
         "mode": "markers",
         "name": "The Clash",
         "orientation": "v",
         "showlegend": true,
         "type": "scatter",
         "x": [
          2.478004217147827,
          -12.851298332214355
         ],
         "xaxis": "x",
         "y": [
          9.54624080657959,
          -7.597021102905273
         ],
         "yaxis": "y"
        },
        {
         "customdata": [
          [
           "Genius (feat. Sia, Diplo, and Labrinth)",
           "Sia"
          ]
         ],
         "hovertemplate": "artist_name=%{customdata[1]}<br>0=%{x}<br>1=%{y}<br>song_name=%{customdata[0]}<extra></extra>",
         "legendgroup": "Sia",
         "marker": {
          "color": "#FFA15A",
          "symbol": "circle"
         },
         "mode": "markers",
         "name": "Sia",
         "orientation": "v",
         "showlegend": true,
         "type": "scatter",
         "x": [
          35.70922088623047
         ],
         "xaxis": "x",
         "y": [
          -2.936375141143799
         ],
         "yaxis": "y"
        },
        {
         "customdata": [
          [
           "Magic",
           "Olympic Ayres"
          ]
         ],
         "hovertemplate": "artist_name=%{customdata[1]}<br>0=%{x}<br>1=%{y}<br>song_name=%{customdata[0]}<extra></extra>",
         "legendgroup": "Olympic Ayres",
         "marker": {
          "color": "#19d3f3",
          "symbol": "circle"
         },
         "mode": "markers",
         "name": "Olympic Ayres",
         "orientation": "v",
         "showlegend": true,
         "type": "scatter",
         "x": [
          4.826194763183594
         ],
         "xaxis": "x",
         "y": [
          6.614232063293457
         ],
         "yaxis": "y"
        },
        {
         "customdata": [
          [
           "Anarchy In The UK",
           "Sex Pistols"
          ],
          [
           "Pretty Vacant - Remastered",
           "Sex Pistols"
          ],
          [
           "Anarchy in the U.K.",
           "Sex Pistols"
          ]
         ],
         "hovertemplate": "artist_name=%{customdata[1]}<br>0=%{x}<br>1=%{y}<br>song_name=%{customdata[0]}<extra></extra>",
         "legendgroup": "Sex Pistols",
         "marker": {
          "color": "#FF6692",
          "symbol": "circle"
         },
         "mode": "markers",
         "name": "Sex Pistols",
         "orientation": "v",
         "showlegend": true,
         "type": "scatter",
         "x": [
          -2.9083826541900635,
          -3.743911027908325,
          3.8420934677124023
         ],
         "xaxis": "x",
         "y": [
          -15.122201919555664,
          -12.467272758483887,
          -3.3611056804656982
         ],
         "yaxis": "y"
        },
        {
         "customdata": [
          [
           "Flick of The Finger",
           "Beady Eye"
          ]
         ],
         "hovertemplate": "artist_name=%{customdata[1]}<br>0=%{x}<br>1=%{y}<br>song_name=%{customdata[0]}<extra></extra>",
         "legendgroup": "Beady Eye",
         "marker": {
          "color": "#B6E880",
          "symbol": "circle"
         },
         "mode": "markers",
         "name": "Beady Eye",
         "orientation": "v",
         "showlegend": true,
         "type": "scatter",
         "x": [
          24.70075035095215
         ],
         "xaxis": "x",
         "y": [
          -0.057921186089515686
         ],
         "yaxis": "y"
        },
        {
         "customdata": [
          [
           "Mad World",
           "Tears For Fears"
          ],
          [
           "Pale Shelter - 2nd Single Version",
           "Tears For Fears"
          ],
          [
           "Everybody Wants To Rule The World",
           "Tears For Fears"
          ]
         ],
         "hovertemplate": "artist_name=%{customdata[1]}<br>0=%{x}<br>1=%{y}<br>song_name=%{customdata[0]}<extra></extra>",
         "legendgroup": "Tears For Fears",
         "marker": {
          "color": "#FF97FF",
          "symbol": "circle"
         },
         "mode": "markers",
         "name": "Tears For Fears",
         "orientation": "v",
         "showlegend": true,
         "type": "scatter",
         "x": [
          -9.159982681274414,
          6.432071208953857,
          -19.41362953186035
         ],
         "xaxis": "x",
         "y": [
          5.1595354080200195,
          6.242206573486328,
          6.873597145080566
         ],
         "yaxis": "y"
        },
        {
         "customdata": [
          [
           "Roxanne",
           "The Police"
          ],
          [
           "Every Breath You Take - Remastered 2003",
           "The Police"
          ]
         ],
         "hovertemplate": "artist_name=%{customdata[1]}<br>0=%{x}<br>1=%{y}<br>song_name=%{customdata[0]}<extra></extra>",
         "legendgroup": "The Police",
         "marker": {
          "color": "#FECB52",
          "symbol": "circle"
         },
         "mode": "markers",
         "name": "The Police",
         "orientation": "v",
         "showlegend": true,
         "type": "scatter",
         "x": [
          0.30447322130203247,
          -18.508007049560547
         ],
         "xaxis": "x",
         "y": [
          18.65018081665039,
          -4.9109673500061035
         ],
         "yaxis": "y"
        },
        {
         "customdata": [
          [
           "Not In Love - Radio Version",
           "Crystal Castles"
          ],
          [
           "Crimewave",
           "Crystal Castles"
          ],
          [
           "Not In Love",
           "Crystal Castles"
          ]
         ],
         "hovertemplate": "artist_name=%{customdata[1]}<br>0=%{x}<br>1=%{y}<br>song_name=%{customdata[0]}<extra></extra>",
         "legendgroup": "Crystal Castles",
         "marker": {
          "color": "#636efa",
          "symbol": "circle"
         },
         "mode": "markers",
         "name": "Crystal Castles",
         "orientation": "v",
         "showlegend": true,
         "type": "scatter",
         "x": [
          24.424640655517578,
          35.62144088745117,
          24.421754837036133
         ],
         "xaxis": "x",
         "y": [
          -2.2441136837005615,
          11.037135124206543,
          -2.2036094665527344
         ],
         "yaxis": "y"
        },
        {
         "customdata": [
          [
           "Lights - Single Version",
           "Ellie Goulding"
          ]
         ],
         "hovertemplate": "artist_name=%{customdata[1]}<br>0=%{x}<br>1=%{y}<br>song_name=%{customdata[0]}<extra></extra>",
         "legendgroup": "Ellie Goulding",
         "marker": {
          "color": "#EF553B",
          "symbol": "circle"
         },
         "mode": "markers",
         "name": "Ellie Goulding",
         "orientation": "v",
         "showlegend": true,
         "type": "scatter",
         "x": [
          33.873897552490234
         ],
         "xaxis": "x",
         "y": [
          8.402637481689453
         ],
         "yaxis": "y"
        },
        {
         "customdata": [
          [
           "1517",
           "The Whitest Boy Alive"
          ],
          [
           "Burning",
           "The Whitest Boy Alive"
          ]
         ],
         "hovertemplate": "artist_name=%{customdata[1]}<br>0=%{x}<br>1=%{y}<br>song_name=%{customdata[0]}<extra></extra>",
         "legendgroup": "The Whitest Boy Alive",
         "marker": {
          "color": "#00cc96",
          "symbol": "circle"
         },
         "mode": "markers",
         "name": "The Whitest Boy Alive",
         "orientation": "v",
         "showlegend": true,
         "type": "scatter",
         "x": [
          39.01537322998047,
          13.875075340270996
         ],
         "xaxis": "x",
         "y": [
          9.256686210632324,
          -16.257654190063477
         ],
         "yaxis": "y"
        },
        {
         "customdata": [
          [
           "Musique",
           "Daft Punk"
          ],
          [
           "Robot Rock",
           "Daft Punk"
          ],
          [
           "Give Life Back to Music",
           "Daft Punk"
          ],
          [
           "Doin' it Right (feat. Panda Bear)",
           "Daft Punk"
          ],
          [
           "Harder, Better, Faster, Stronger - Alive Extended 2007",
           "Daft Punk"
          ],
          [
           "Harder, Better, Faster, Stronger - Alive Radio Edit 2007",
           "Daft Punk"
          ],
          [
           "Giorgio by Moroder",
           "Daft Punk"
          ],
          [
           "Instant Crush (feat. Julian Casablancas)",
           "Daft Punk"
          ]
         ],
         "hovertemplate": "artist_name=%{customdata[1]}<br>0=%{x}<br>1=%{y}<br>song_name=%{customdata[0]}<extra></extra>",
         "legendgroup": "Daft Punk",
         "marker": {
          "color": "#ab63fa",
          "symbol": "circle"
         },
         "mode": "markers",
         "name": "Daft Punk",
         "orientation": "v",
         "showlegend": true,
         "type": "scatter",
         "x": [
          -1.6249114274978638,
          0.9367794394493103,
          19.3731689453125,
          -18.35401725769043,
          16.153732299804688,
          15.853435516357422,
          18.3538818359375,
          19.328636169433594
         ],
         "xaxis": "x",
         "y": [
          -24.46646499633789,
          -23.505048751831055,
          -13.008684158325195,
          -20.02760124206543,
          4.637200832366943,
          4.630668640136719,
          -12.597379684448242,
          -13.130903244018555
         ],
         "yaxis": "y"
        },
        {
         "customdata": [
          [
           "Northwest",
           "Scott & Brendo"
          ]
         ],
         "hovertemplate": "artist_name=%{customdata[1]}<br>0=%{x}<br>1=%{y}<br>song_name=%{customdata[0]}<extra></extra>",
         "legendgroup": "Scott & Brendo",
         "marker": {
          "color": "#FFA15A",
          "symbol": "circle"
         },
         "mode": "markers",
         "name": "Scott & Brendo",
         "orientation": "v",
         "showlegend": true,
         "type": "scatter",
         "x": [
          -15.285271644592285
         ],
         "xaxis": "x",
         "y": [
          -6.3598175048828125
         ],
         "yaxis": "y"
        },
        {
         "customdata": [
          [
           "D.A.N.C.E",
           "Justice"
          ],
          [
           "Genesis",
           "Justice"
          ],
          [
           "D.A.N.C.E.",
           "Justice"
          ],
          [
           "Civilization",
           "Justice"
          ]
         ],
         "hovertemplate": "artist_name=%{customdata[1]}<br>0=%{x}<br>1=%{y}<br>song_name=%{customdata[0]}<extra></extra>",
         "legendgroup": "Justice",
         "marker": {
          "color": "#19d3f3",
          "symbol": "circle"
         },
         "mode": "markers",
         "name": "Justice",
         "orientation": "v",
         "showlegend": true,
         "type": "scatter",
         "x": [
          8.654540061950684,
          3.2356441020965576,
          8.562314987182617,
          27.317289352416992
         ],
         "xaxis": "x",
         "y": [
          17.239158630371094,
          20.439220428466797,
          17.2988224029541,
          9.607527732849121
         ],
         "yaxis": "y"
        },
        {
         "customdata": [
          [
           "Young Folks",
           "Peter Bjorn and John"
          ]
         ],
         "hovertemplate": "artist_name=%{customdata[1]}<br>0=%{x}<br>1=%{y}<br>song_name=%{customdata[0]}<extra></extra>",
         "legendgroup": "Peter Bjorn and John",
         "marker": {
          "color": "#FF6692",
          "symbol": "circle"
         },
         "mode": "markers",
         "name": "Peter Bjorn and John",
         "orientation": "v",
         "showlegend": true,
         "type": "scatter",
         "x": [
          -12.718901634216309
         ],
         "xaxis": "x",
         "y": [
          -8.468478202819824
         ],
         "yaxis": "y"
        },
        {
         "customdata": [
          [
           "Stressed Out",
           "Twenty One Pilots"
          ]
         ],
         "hovertemplate": "artist_name=%{customdata[1]}<br>0=%{x}<br>1=%{y}<br>song_name=%{customdata[0]}<extra></extra>",
         "legendgroup": "Twenty One Pilots",
         "marker": {
          "color": "#B6E880",
          "symbol": "circle"
         },
         "mode": "markers",
         "name": "Twenty One Pilots",
         "orientation": "v",
         "showlegend": true,
         "type": "scatter",
         "x": [
          38.2666015625
         ],
         "xaxis": "x",
         "y": [
          -0.12378658354282379
         ],
         "yaxis": "y"
        },
        {
         "customdata": [
          [
           "Dreaming of You",
           "The Coral"
          ]
         ],
         "hovertemplate": "artist_name=%{customdata[1]}<br>0=%{x}<br>1=%{y}<br>song_name=%{customdata[0]}<extra></extra>",
         "legendgroup": "The Coral",
         "marker": {
          "color": "#FF97FF",
          "symbol": "circle"
         },
         "mode": "markers",
         "name": "The Coral",
         "orientation": "v",
         "showlegend": true,
         "type": "scatter",
         "x": [
          35.858856201171875
         ],
         "xaxis": "x",
         "y": [
          1.7879681587219238
         ],
         "yaxis": "y"
        },
        {
         "customdata": [
          [
           "American Pie",
           "Don McLean"
          ]
         ],
         "hovertemplate": "artist_name=%{customdata[1]}<br>0=%{x}<br>1=%{y}<br>song_name=%{customdata[0]}<extra></extra>",
         "legendgroup": "Don McLean",
         "marker": {
          "color": "#FECB52",
          "symbol": "circle"
         },
         "mode": "markers",
         "name": "Don McLean",
         "orientation": "v",
         "showlegend": true,
         "type": "scatter",
         "x": [
          27.225385665893555
         ],
         "xaxis": "x",
         "y": [
          24.118425369262695
         ],
         "yaxis": "y"
        },
        {
         "customdata": [
          [
           "Fado",
           "Milky Chance"
          ]
         ],
         "hovertemplate": "artist_name=%{customdata[1]}<br>0=%{x}<br>1=%{y}<br>song_name=%{customdata[0]}<extra></extra>",
         "legendgroup": "Milky Chance",
         "marker": {
          "color": "#636efa",
          "symbol": "circle"
         },
         "mode": "markers",
         "name": "Milky Chance",
         "orientation": "v",
         "showlegend": true,
         "type": "scatter",
         "x": [
          -19.50771713256836
         ],
         "xaxis": "x",
         "y": [
          -4.031290531158447
         ],
         "yaxis": "y"
        },
        {
         "customdata": [
          [
           "World Doesn't Care",
           "The Bullseyes"
          ]
         ],
         "hovertemplate": "artist_name=%{customdata[1]}<br>0=%{x}<br>1=%{y}<br>song_name=%{customdata[0]}<extra></extra>",
         "legendgroup": "The Bullseyes",
         "marker": {
          "color": "#EF553B",
          "symbol": "circle"
         },
         "mode": "markers",
         "name": "The Bullseyes",
         "orientation": "v",
         "showlegend": true,
         "type": "scatter",
         "x": [
          33.31633377075195
         ],
         "xaxis": "x",
         "y": [
          12.43571662902832
         ],
         "yaxis": "y"
        },
        {
         "customdata": [
          [
           "The Runner",
           "Foals"
          ],
          [
           "My Number",
           "Foals"
          ],
          [
           "Mountain at My Gates",
           "Foals"
          ]
         ],
         "hovertemplate": "artist_name=%{customdata[1]}<br>0=%{x}<br>1=%{y}<br>song_name=%{customdata[0]}<extra></extra>",
         "legendgroup": "Foals",
         "marker": {
          "color": "#00cc96",
          "symbol": "circle"
         },
         "mode": "markers",
         "name": "Foals",
         "orientation": "v",
         "showlegend": true,
         "type": "scatter",
         "x": [
          29.512115478515625,
          21.789283752441406,
          28.7042236328125
         ],
         "xaxis": "x",
         "y": [
          5.385738849639893,
          5.638338565826416,
          5.768194675445557
         ],
         "yaxis": "y"
        },
        {
         "customdata": [
          [
           "Stay Forever (feat. STRFKR)",
           "Whethan"
          ]
         ],
         "hovertemplate": "artist_name=%{customdata[1]}<br>0=%{x}<br>1=%{y}<br>song_name=%{customdata[0]}<extra></extra>",
         "legendgroup": "Whethan",
         "marker": {
          "color": "#ab63fa",
          "symbol": "circle"
         },
         "mode": "markers",
         "name": "Whethan",
         "orientation": "v",
         "showlegend": true,
         "type": "scatter",
         "x": [
          4.941001892089844
         ],
         "xaxis": "x",
         "y": [
          -21.712696075439453
         ],
         "yaxis": "y"
        },
        {
         "customdata": [
          [
           "Open Your Eyes",
           "STRFKR"
          ],
          [
           "Rawnald Gregory Erickson the Second",
           "STRFKR"
          ],
          [
           "Never Ever",
           "STRFKR"
          ],
          [
           "Tape Machine",
           "STRFKR"
          ]
         ],
         "hovertemplate": "artist_name=%{customdata[1]}<br>0=%{x}<br>1=%{y}<br>song_name=%{customdata[0]}<extra></extra>",
         "legendgroup": "STRFKR",
         "marker": {
          "color": "#FFA15A",
          "symbol": "circle"
         },
         "mode": "markers",
         "name": "STRFKR",
         "orientation": "v",
         "showlegend": true,
         "type": "scatter",
         "x": [
          22.06747817993164,
          -4.436607837677002,
          31.75786018371582,
          19.39596939086914
         ],
         "xaxis": "x",
         "y": [
          -16.111103057861328,
          -24.76875114440918,
          11.192992210388184,
          -16.057462692260742
         ],
         "yaxis": "y"
        },
        {
         "customdata": [
          [
           "The Bay",
           "Metronomy"
          ]
         ],
         "hovertemplate": "artist_name=%{customdata[1]}<br>0=%{x}<br>1=%{y}<br>song_name=%{customdata[0]}<extra></extra>",
         "legendgroup": "Metronomy",
         "marker": {
          "color": "#19d3f3",
          "symbol": "circle"
         },
         "mode": "markers",
         "name": "Metronomy",
         "orientation": "v",
         "showlegend": true,
         "type": "scatter",
         "x": [
          38.62481689453125
         ],
         "xaxis": "x",
         "y": [
          10.256708145141602
         ],
         "yaxis": "y"
        },
        {
         "customdata": [
          [
           "Two Weeks",
           "Grizzly Bear"
          ]
         ],
         "hovertemplate": "artist_name=%{customdata[1]}<br>0=%{x}<br>1=%{y}<br>song_name=%{customdata[0]}<extra></extra>",
         "legendgroup": "Grizzly Bear",
         "marker": {
          "color": "#FF6692",
          "symbol": "circle"
         },
         "mode": "markers",
         "name": "Grizzly Bear",
         "orientation": "v",
         "showlegend": true,
         "type": "scatter",
         "x": [
          -7.789068222045898
         ],
         "xaxis": "x",
         "y": [
          -3.314093589782715
         ],
         "yaxis": "y"
        },
        {
         "customdata": [
          [
           "Судно (Борис Рижий)",
           "Molchat Doma"
          ],
          [
           "Танцевать",
           "Molchat Doma"
          ]
         ],
         "hovertemplate": "artist_name=%{customdata[1]}<br>0=%{x}<br>1=%{y}<br>song_name=%{customdata[0]}<extra></extra>",
         "legendgroup": "Molchat Doma",
         "marker": {
          "color": "#B6E880",
          "symbol": "circle"
         },
         "mode": "markers",
         "name": "Molchat Doma",
         "orientation": "v",
         "showlegend": true,
         "type": "scatter",
         "x": [
          5.514604091644287,
          -0.23288866877555847
         ],
         "xaxis": "x",
         "y": [
          -28.048812866210938,
          -22.117578506469727
         ],
         "yaxis": "y"
        },
        {
         "customdata": [
          [
           "I Want You",
           "Bob Dylan"
          ],
          [
           "One of Us Must Know (Sooner or Later)",
           "Bob Dylan"
          ],
          [
           "It's All over Now, Baby Blue",
           "Bob Dylan"
          ],
          [
           "Tangled up in Blue",
           "Bob Dylan"
          ],
          [
           "A Hard Rain's A-Gonna Fall",
           "Bob Dylan"
          ],
          [
           "Like a Rolling Stone",
           "Bob Dylan"
          ],
          [
           "Knockin' On Heaven's Door",
           "Bob Dylan"
          ],
          [
           "Shelter from the Storm",
           "Bob Dylan"
          ],
          [
           "Mr. Tambourine Man",
           "Bob Dylan"
          ],
          [
           "Blowin' in the Wind",
           "Bob Dylan"
          ],
          [
           "Don't Think Twice, It's All Right",
           "Bob Dylan"
          ]
         ],
         "hovertemplate": "artist_name=%{customdata[1]}<br>0=%{x}<br>1=%{y}<br>song_name=%{customdata[0]}<extra></extra>",
         "legendgroup": "Bob Dylan",
         "marker": {
          "color": "#FF97FF",
          "symbol": "circle"
         },
         "mode": "markers",
         "name": "Bob Dylan",
         "orientation": "v",
         "showlegend": true,
         "type": "scatter",
         "x": [
          -21.22690773010254,
          -25.91730499267578,
          -34.168556213378906,
          -26.124723434448242,
          -36.20818328857422,
          -30.74323272705078,
          -24.87847900390625,
          -32.656639099121094,
          -34.058204650878906,
          -34.779541015625,
          -35.32925033569336
         ],
         "xaxis": "x",
         "y": [
          7.117353439331055,
          9.070382118225098,
          1.501621127128601,
          2.154796600341797,
          1.967511534690857,
          -0.6187680959701538,
          -2.8586843013763428,
          2.262977123260498,
          5.140783309936523,
          3.9360952377319336,
          2.307737112045288
         ],
         "yaxis": "y"
        },
        {
         "customdata": [
          [
           "No Role Modelz",
           "J. Cole"
          ]
         ],
         "hovertemplate": "artist_name=%{customdata[1]}<br>0=%{x}<br>1=%{y}<br>song_name=%{customdata[0]}<extra></extra>",
         "legendgroup": "J. Cole",
         "marker": {
          "color": "#FECB52",
          "symbol": "circle"
         },
         "mode": "markers",
         "name": "J. Cole",
         "orientation": "v",
         "showlegend": true,
         "type": "scatter",
         "x": [
          4.845856189727783
         ],
         "xaxis": "x",
         "y": [
          23.537883758544922
         ],
         "yaxis": "y"
        },
        {
         "customdata": [
          [
           "No Church In The Wild",
           "JAY-Z"
          ]
         ],
         "hovertemplate": "artist_name=%{customdata[1]}<br>0=%{x}<br>1=%{y}<br>song_name=%{customdata[0]}<extra></extra>",
         "legendgroup": "JAY-Z",
         "marker": {
          "color": "#636efa",
          "symbol": "circle"
         },
         "mode": "markers",
         "name": "JAY-Z",
         "orientation": "v",
         "showlegend": true,
         "type": "scatter",
         "x": [
          27.325515747070312
         ],
         "xaxis": "x",
         "y": [
          11.999176025390625
         ],
         "yaxis": "y"
        },
        {
         "customdata": [
          [
           "Alison",
           "Slowdive"
          ]
         ],
         "hovertemplate": "artist_name=%{customdata[1]}<br>0=%{x}<br>1=%{y}<br>song_name=%{customdata[0]}<extra></extra>",
         "legendgroup": "Slowdive",
         "marker": {
          "color": "#EF553B",
          "symbol": "circle"
         },
         "mode": "markers",
         "name": "Slowdive",
         "orientation": "v",
         "showlegend": true,
         "type": "scatter",
         "x": [
          -32.823814392089844
         ],
         "xaxis": "x",
         "y": [
          -15.65174674987793
         ],
         "yaxis": "y"
        },
        {
         "customdata": [
          [
           "Cocoon",
           "Catfish and the Bottlemen"
          ],
          [
           "Fallout",
           "Catfish and the Bottlemen"
          ],
          [
           "Kathleen",
           "Catfish and the Bottlemen"
          ],
          [
           "Pacifier",
           "Catfish and the Bottlemen"
          ],
          [
           "Longshot",
           "Catfish and the Bottlemen"
          ]
         ],
         "hovertemplate": "artist_name=%{customdata[1]}<br>0=%{x}<br>1=%{y}<br>song_name=%{customdata[0]}<extra></extra>",
         "legendgroup": "Catfish and the Bottlemen",
         "marker": {
          "color": "#00cc96",
          "symbol": "circle"
         },
         "mode": "markers",
         "name": "Catfish and the Bottlemen",
         "orientation": "v",
         "showlegend": true,
         "type": "scatter",
         "x": [
          29.426315307617188,
          3.925339460372925,
          22.298004150390625,
          0.4034183621406555,
          -3.882131338119507
         ],
         "xaxis": "x",
         "y": [
          -0.4629422426223755,
          -1.1127345561981201,
          1.9375039339065552,
          -4.14724588394165,
          4.567168712615967
         ],
         "yaxis": "y"
        },
        {
         "customdata": [
          [
           "Snow (Hey Oh)",
           "Red Hot Chili Peppers"
          ],
          [
           "Dani California",
           "Red Hot Chili Peppers"
          ]
         ],
         "hovertemplate": "artist_name=%{customdata[1]}<br>0=%{x}<br>1=%{y}<br>song_name=%{customdata[0]}<extra></extra>",
         "legendgroup": "Red Hot Chili Peppers",
         "marker": {
          "color": "#ab63fa",
          "symbol": "circle"
         },
         "mode": "markers",
         "name": "Red Hot Chili Peppers",
         "orientation": "v",
         "showlegend": true,
         "type": "scatter",
         "x": [
          -4.923086166381836,
          5.388275146484375
         ],
         "xaxis": "x",
         "y": [
          6.792541027069092,
          5.663969993591309
         ],
         "yaxis": "y"
        },
        {
         "customdata": [
          [
           "Domino",
           "Jessie J"
          ]
         ],
         "hovertemplate": "artist_name=%{customdata[1]}<br>0=%{x}<br>1=%{y}<br>song_name=%{customdata[0]}<extra></extra>",
         "legendgroup": "Jessie J",
         "marker": {
          "color": "#FFA15A",
          "symbol": "circle"
         },
         "mode": "markers",
         "name": "Jessie J",
         "orientation": "v",
         "showlegend": true,
         "type": "scatter",
         "x": [
          -11.965411186218262
         ],
         "xaxis": "x",
         "y": [
          2.040485382080078
         ],
         "yaxis": "y"
        },
        {
         "customdata": [
          [
           "California Gurls",
           "Katy Perry"
          ]
         ],
         "hovertemplate": "artist_name=%{customdata[1]}<br>0=%{x}<br>1=%{y}<br>song_name=%{customdata[0]}<extra></extra>",
         "legendgroup": "Katy Perry",
         "marker": {
          "color": "#19d3f3",
          "symbol": "circle"
         },
         "mode": "markers",
         "name": "Katy Perry",
         "orientation": "v",
         "showlegend": true,
         "type": "scatter",
         "x": [
          -13.471722602844238
         ],
         "xaxis": "x",
         "y": [
          -12.035527229309082
         ],
         "yaxis": "y"
        },
        {
         "customdata": [
          [
           "Bad Romance",
           "Lady Gaga"
          ]
         ],
         "hovertemplate": "artist_name=%{customdata[1]}<br>0=%{x}<br>1=%{y}<br>song_name=%{customdata[0]}<extra></extra>",
         "legendgroup": "Lady Gaga",
         "marker": {
          "color": "#FF6692",
          "symbol": "circle"
         },
         "mode": "markers",
         "name": "Lady Gaga",
         "orientation": "v",
         "showlegend": true,
         "type": "scatter",
         "x": [
          -11.56578254699707
         ],
         "xaxis": "x",
         "y": [
          -9.943846702575684
         ],
         "yaxis": "y"
        },
        {
         "customdata": [
          [
           "Call Me Maybe",
           "Carly Rae Jepsen"
          ]
         ],
         "hovertemplate": "artist_name=%{customdata[1]}<br>0=%{x}<br>1=%{y}<br>song_name=%{customdata[0]}<extra></extra>",
         "legendgroup": "Carly Rae Jepsen",
         "marker": {
          "color": "#B6E880",
          "symbol": "circle"
         },
         "mode": "markers",
         "name": "Carly Rae Jepsen",
         "orientation": "v",
         "showlegend": true,
         "type": "scatter",
         "x": [
          -12.653016090393066
         ],
         "xaxis": "x",
         "y": [
          2.130871534347534
         ],
         "yaxis": "y"
        },
        {
         "customdata": [
          [
           "Hey, Soul Sister",
           "Train"
          ]
         ],
         "hovertemplate": "artist_name=%{customdata[1]}<br>0=%{x}<br>1=%{y}<br>song_name=%{customdata[0]}<extra></extra>",
         "legendgroup": "Train",
         "marker": {
          "color": "#FF97FF",
          "symbol": "circle"
         },
         "mode": "markers",
         "name": "Train",
         "orientation": "v",
         "showlegend": true,
         "type": "scatter",
         "x": [
          37.39689254760742
         ],
         "xaxis": "x",
         "y": [
          13.803945541381836
         ],
         "yaxis": "y"
        },
        {
         "customdata": [
          [
           "Good Time",
           "Owl City"
          ]
         ],
         "hovertemplate": "artist_name=%{customdata[1]}<br>0=%{x}<br>1=%{y}<br>song_name=%{customdata[0]}<extra></extra>",
         "legendgroup": "Owl City",
         "marker": {
          "color": "#FECB52",
          "symbol": "circle"
         },
         "mode": "markers",
         "name": "Owl City",
         "orientation": "v",
         "showlegend": true,
         "type": "scatter",
         "x": [
          2.677018642425537
         ],
         "xaxis": "x",
         "y": [
          8.403934478759766
         ],
         "yaxis": "y"
        },
        {
         "customdata": [
          [
           "Everyday Robots",
           "Damon Albarn"
          ]
         ],
         "hovertemplate": "artist_name=%{customdata[1]}<br>0=%{x}<br>1=%{y}<br>song_name=%{customdata[0]}<extra></extra>",
         "legendgroup": "Damon Albarn",
         "marker": {
          "color": "#636efa",
          "symbol": "circle"
         },
         "mode": "markers",
         "name": "Damon Albarn",
         "orientation": "v",
         "showlegend": true,
         "type": "scatter",
         "x": [
          -33.50376510620117
         ],
         "xaxis": "x",
         "y": [
          0.03252175450325012
         ],
         "yaxis": "y"
        },
        {
         "customdata": [
          [
           "Stunnin' (feat. Harm Franklin)",
           "Curtis Waters"
          ]
         ],
         "hovertemplate": "artist_name=%{customdata[1]}<br>0=%{x}<br>1=%{y}<br>song_name=%{customdata[0]}<extra></extra>",
         "legendgroup": "Curtis Waters",
         "marker": {
          "color": "#EF553B",
          "symbol": "circle"
         },
         "mode": "markers",
         "name": "Curtis Waters",
         "orientation": "v",
         "showlegend": true,
         "type": "scatter",
         "x": [
          38.58782958984375
         ],
         "xaxis": "x",
         "y": [
          8.13753604888916
         ],
         "yaxis": "y"
        },
        {
         "customdata": [
          [
           "Doin' Time",
           "Lana Del Rey"
          ],
          [
           "The greatest",
           "Lana Del Rey"
          ],
          [
           "California",
           "Lana Del Rey"
          ],
          [
           "Fuck it I love you",
           "Lana Del Rey"
          ]
         ],
         "hovertemplate": "artist_name=%{customdata[1]}<br>0=%{x}<br>1=%{y}<br>song_name=%{customdata[0]}<extra></extra>",
         "legendgroup": "Lana Del Rey",
         "marker": {
          "color": "#00cc96",
          "symbol": "circle"
         },
         "mode": "markers",
         "name": "Lana Del Rey",
         "orientation": "v",
         "showlegend": true,
         "type": "scatter",
         "x": [
          24.777381896972656,
          26.854658126831055,
          25.249225616455078,
          24.770931243896484
         ],
         "xaxis": "x",
         "y": [
          19.94449234008789,
          27.25714874267578,
          24.72025489807129,
          24.882328033447266
         ],
         "yaxis": "y"
        },
        {
         "customdata": [
          [
           "Still Waiting",
           "Sum 41"
          ]
         ],
         "hovertemplate": "artist_name=%{customdata[1]}<br>0=%{x}<br>1=%{y}<br>song_name=%{customdata[0]}<extra></extra>",
         "legendgroup": "Sum 41",
         "marker": {
          "color": "#ab63fa",
          "symbol": "circle"
         },
         "mode": "markers",
         "name": "Sum 41",
         "orientation": "v",
         "showlegend": true,
         "type": "scatter",
         "x": [
          5.956539630889893
         ],
         "xaxis": "x",
         "y": [
          -6.831250190734863
         ],
         "yaxis": "y"
        },
        {
         "customdata": [
          [
           "An Honest Mistake - CD Album Version",
           "The Bravery"
          ]
         ],
         "hovertemplate": "artist_name=%{customdata[1]}<br>0=%{x}<br>1=%{y}<br>song_name=%{customdata[0]}<extra></extra>",
         "legendgroup": "The Bravery",
         "marker": {
          "color": "#FFA15A",
          "symbol": "circle"
         },
         "mode": "markers",
         "name": "The Bravery",
         "orientation": "v",
         "showlegend": true,
         "type": "scatter",
         "x": [
          22.260541915893555
         ],
         "xaxis": "x",
         "y": [
          -16.77173614501953
         ],
         "yaxis": "y"
        },
        {
         "customdata": [
          [
           "Jerk It Out",
           "Caesars"
          ]
         ],
         "hovertemplate": "artist_name=%{customdata[1]}<br>0=%{x}<br>1=%{y}<br>song_name=%{customdata[0]}<extra></extra>",
         "legendgroup": "Caesars",
         "marker": {
          "color": "#19d3f3",
          "symbol": "circle"
         },
         "mode": "markers",
         "name": "Caesars",
         "orientation": "v",
         "showlegend": true,
         "type": "scatter",
         "x": [
          23.70359992980957
         ],
         "xaxis": "x",
         "y": [
          4.040801048278809
         ],
         "yaxis": "y"
        },
        {
         "customdata": [
          [
           "Crystalised",
           "The xx"
          ]
         ],
         "hovertemplate": "artist_name=%{customdata[1]}<br>0=%{x}<br>1=%{y}<br>song_name=%{customdata[0]}<extra></extra>",
         "legendgroup": "The xx",
         "marker": {
          "color": "#FF6692",
          "symbol": "circle"
         },
         "mode": "markers",
         "name": "The xx",
         "orientation": "v",
         "showlegend": true,
         "type": "scatter",
         "x": [
          22.194589614868164
         ],
         "xaxis": "x",
         "y": [
          24.054370880126953
         ],
         "yaxis": "y"
        },
        {
         "customdata": [
          [
           "Movin' on Up",
           "Primal Scream"
          ],
          [
           "Loaded - Edit",
           "Primal Scream"
          ]
         ],
         "hovertemplate": "artist_name=%{customdata[1]}<br>0=%{x}<br>1=%{y}<br>song_name=%{customdata[0]}<extra></extra>",
         "legendgroup": "Primal Scream",
         "marker": {
          "color": "#B6E880",
          "symbol": "circle"
         },
         "mode": "markers",
         "name": "Primal Scream",
         "orientation": "v",
         "showlegend": true,
         "type": "scatter",
         "x": [
          35.97670364379883,
          -2.8340914249420166
         ],
         "xaxis": "x",
         "y": [
          20.76859474182129,
          -23.05421257019043
         ],
         "yaxis": "y"
        },
        {
         "customdata": [
          [
           "Mile End",
           "Pulp"
          ],
          [
           "Love Is Blind (Live)",
           "Pulp"
          ],
          [
           "Countdown (Live)",
           "Pulp"
          ],
          [
           "Death II (Live)",
           "Pulp"
          ],
          [
           "Babies",
           "Pulp"
          ],
          [
           "Disco 2000",
           "Pulp"
          ],
          [
           "Mis-Shapes",
           "Pulp"
          ],
          [
           "Common People",
           "Pulp"
          ],
          [
           "Common People",
           "Pulp"
          ]
         ],
         "hovertemplate": "artist_name=%{customdata[1]}<br>0=%{x}<br>1=%{y}<br>song_name=%{customdata[0]}<extra></extra>",
         "legendgroup": "Pulp",
         "marker": {
          "color": "#FF97FF",
          "symbol": "circle"
         },
         "mode": "markers",
         "name": "Pulp",
         "orientation": "v",
         "showlegend": true,
         "type": "scatter",
         "x": [
          -22.846561431884766,
          9.502524375915527,
          10.806270599365234,
          14.824917793273926,
          -4.158816814422607,
          29.68730926513672,
          7.36683988571167,
          -5.274840354919434,
          -4.974519729614258
         ],
         "xaxis": "x",
         "y": [
          -5.214292526245117,
          4.06375789642334,
          5.176614284515381,
          5.486317157745361,
          -10.95035171508789,
          8.467833518981934,
          0.9295781254768372,
          -12.006468772888184,
          -12.101628303527832
         ],
         "yaxis": "y"
        },
        {
         "customdata": [
          [
           "My Type",
           "Saint Motel"
          ],
          [
           "Move",
           "Saint Motel"
          ]
         ],
         "hovertemplate": "artist_name=%{customdata[1]}<br>0=%{x}<br>1=%{y}<br>song_name=%{customdata[0]}<extra></extra>",
         "legendgroup": "Saint Motel",
         "marker": {
          "color": "#FECB52",
          "symbol": "circle"
         },
         "mode": "markers",
         "name": "Saint Motel",
         "orientation": "v",
         "showlegend": true,
         "type": "scatter",
         "x": [
          -6.211833477020264,
          23.856685638427734
         ],
         "xaxis": "x",
         "y": [
          5.800808906555176,
          6.96508264541626
         ],
         "yaxis": "y"
        },
        {
         "customdata": [
          [
           "In the Aeroplane Over the Sea",
           "Neutral Milk Hotel"
          ]
         ],
         "hovertemplate": "artist_name=%{customdata[1]}<br>0=%{x}<br>1=%{y}<br>song_name=%{customdata[0]}<extra></extra>",
         "legendgroup": "Neutral Milk Hotel",
         "marker": {
          "color": "#636efa",
          "symbol": "circle"
         },
         "mode": "markers",
         "name": "Neutral Milk Hotel",
         "orientation": "v",
         "showlegend": true,
         "type": "scatter",
         "x": [
          -28.01508140563965
         ],
         "xaxis": "x",
         "y": [
          -7.380887508392334
         ],
         "yaxis": "y"
        },
        {
         "customdata": [
          [
           "Suspirium (Arr. Rimmer)",
           "Jess Gillam"
          ]
         ],
         "hovertemplate": "artist_name=%{customdata[1]}<br>0=%{x}<br>1=%{y}<br>song_name=%{customdata[0]}<extra></extra>",
         "legendgroup": "Jess Gillam",
         "marker": {
          "color": "#EF553B",
          "symbol": "circle"
         },
         "mode": "markers",
         "name": "Jess Gillam",
         "orientation": "v",
         "showlegend": true,
         "type": "scatter",
         "x": [
          -39.779029846191406
         ],
         "xaxis": "x",
         "y": [
          -6.632382869720459
         ],
         "yaxis": "y"
        },
        {
         "customdata": [
          [
           "Julus",
           "Shye Ben Tzur"
          ]
         ],
         "hovertemplate": "artist_name=%{customdata[1]}<br>0=%{x}<br>1=%{y}<br>song_name=%{customdata[0]}<extra></extra>",
         "legendgroup": "Shye Ben Tzur",
         "marker": {
          "color": "#00cc96",
          "symbol": "circle"
         },
         "mode": "markers",
         "name": "Shye Ben Tzur",
         "orientation": "v",
         "showlegend": true,
         "type": "scatter",
         "x": [
          1.6325137615203857
         ],
         "xaxis": "x",
         "y": [
          -28.86326026916504
         ],
         "yaxis": "y"
        },
        {
         "customdata": [
          [
           "Think About Things",
           "Daði Freyr"
          ]
         ],
         "hovertemplate": "artist_name=%{customdata[1]}<br>0=%{x}<br>1=%{y}<br>song_name=%{customdata[0]}<extra></extra>",
         "legendgroup": "Daði Freyr",
         "marker": {
          "color": "#ab63fa",
          "symbol": "circle"
         },
         "mode": "markers",
         "name": "Daði Freyr",
         "orientation": "v",
         "showlegend": true,
         "type": "scatter",
         "x": [
          20.932647705078125
         ],
         "xaxis": "x",
         "y": [
          16.649246215820312
         ],
         "yaxis": "y"
        },
        {
         "customdata": [
          [
           "Dancin - Krono Remix",
           "Aaron Smith"
          ]
         ],
         "hovertemplate": "artist_name=%{customdata[1]}<br>0=%{x}<br>1=%{y}<br>song_name=%{customdata[0]}<extra></extra>",
         "legendgroup": "Aaron Smith",
         "marker": {
          "color": "#FFA15A",
          "symbol": "circle"
         },
         "mode": "markers",
         "name": "Aaron Smith",
         "orientation": "v",
         "showlegend": true,
         "type": "scatter",
         "x": [
          25.939708709716797
         ],
         "xaxis": "x",
         "y": [
          11.249858856201172
         ],
         "yaxis": "y"
        },
        {
         "customdata": [
          [
           "Best Day Of My Life",
           "American Authors"
          ],
          [
           "Hit It",
           "American Authors"
          ]
         ],
         "hovertemplate": "artist_name=%{customdata[1]}<br>0=%{x}<br>1=%{y}<br>song_name=%{customdata[0]}<extra></extra>",
         "legendgroup": "American Authors",
         "marker": {
          "color": "#19d3f3",
          "symbol": "circle"
         },
         "mode": "markers",
         "name": "American Authors",
         "orientation": "v",
         "showlegend": true,
         "type": "scatter",
         "x": [
          -11.373645782470703,
          1.7683109045028687
         ],
         "xaxis": "x",
         "y": [
          -12.099949836730957,
          7.765339374542236
         ],
         "yaxis": "y"
        },
        {
         "customdata": [
          [
           "Sedona",
           "Houndmouth"
          ]
         ],
         "hovertemplate": "artist_name=%{customdata[1]}<br>0=%{x}<br>1=%{y}<br>song_name=%{customdata[0]}<extra></extra>",
         "legendgroup": "Houndmouth",
         "marker": {
          "color": "#FF6692",
          "symbol": "circle"
         },
         "mode": "markers",
         "name": "Houndmouth",
         "orientation": "v",
         "showlegend": true,
         "type": "scatter",
         "x": [
          -20.28831672668457
         ],
         "xaxis": "x",
         "y": [
          -15.576374053955078
         ],
         "yaxis": "y"
        },
        {
         "customdata": [
          [
           "Mrs. Robinson - Remastered",
           "The Lemonheads"
          ]
         ],
         "hovertemplate": "artist_name=%{customdata[1]}<br>0=%{x}<br>1=%{y}<br>song_name=%{customdata[0]}<extra></extra>",
         "legendgroup": "The Lemonheads",
         "marker": {
          "color": "#B6E880",
          "symbol": "circle"
         },
         "mode": "markers",
         "name": "The Lemonheads",
         "orientation": "v",
         "showlegend": true,
         "type": "scatter",
         "x": [
          24.00178337097168
         ],
         "xaxis": "x",
         "y": [
          7.8338470458984375
         ],
         "yaxis": "y"
        },
        {
         "customdata": [
          [
           "1996",
           "The Wombats"
          ],
          [
           "Turn",
           "The Wombats"
          ]
         ],
         "hovertemplate": "artist_name=%{customdata[1]}<br>0=%{x}<br>1=%{y}<br>song_name=%{customdata[0]}<extra></extra>",
         "legendgroup": "The Wombats",
         "marker": {
          "color": "#FF97FF",
          "symbol": "circle"
         },
         "mode": "markers",
         "name": "The Wombats",
         "orientation": "v",
         "showlegend": true,
         "type": "scatter",
         "x": [
          18.375638961791992,
          -11.679445266723633
         ],
         "xaxis": "x",
         "y": [
          4.3172407150268555,
          -14.528605461120605
         ],
         "yaxis": "y"
        },
        {
         "customdata": [
          [
           "Complainer",
           "Cold War Kids"
          ],
          [
           "First",
           "Cold War Kids"
          ]
         ],
         "hovertemplate": "artist_name=%{customdata[1]}<br>0=%{x}<br>1=%{y}<br>song_name=%{customdata[0]}<extra></extra>",
         "legendgroup": "Cold War Kids",
         "marker": {
          "color": "#FECB52",
          "symbol": "circle"
         },
         "mode": "markers",
         "name": "Cold War Kids",
         "orientation": "v",
         "showlegend": true,
         "type": "scatter",
         "x": [
          -21.48916244506836,
          6.430842876434326
         ],
         "xaxis": "x",
         "y": [
          -4.348570823669434,
          8.502415657043457
         ],
         "yaxis": "y"
        },
        {
         "customdata": [
          [
           "Say It Ain't So",
           "Weezer"
          ]
         ],
         "hovertemplate": "artist_name=%{customdata[1]}<br>0=%{x}<br>1=%{y}<br>song_name=%{customdata[0]}<extra></extra>",
         "legendgroup": "Weezer",
         "marker": {
          "color": "#636efa",
          "symbol": "circle"
         },
         "mode": "markers",
         "name": "Weezer",
         "orientation": "v",
         "showlegend": true,
         "type": "scatter",
         "x": [
          -19.34625244140625
         ],
         "xaxis": "x",
         "y": [
          -11.554727554321289
         ],
         "yaxis": "y"
        },
        {
         "customdata": [
          [
           "Rockstar",
           "YONAKA"
          ]
         ],
         "hovertemplate": "artist_name=%{customdata[1]}<br>0=%{x}<br>1=%{y}<br>song_name=%{customdata[0]}<extra></extra>",
         "legendgroup": "YONAKA",
         "marker": {
          "color": "#EF553B",
          "symbol": "circle"
         },
         "mode": "markers",
         "name": "YONAKA",
         "orientation": "v",
         "showlegend": true,
         "type": "scatter",
         "x": [
          28.88950538635254
         ],
         "xaxis": "x",
         "y": [
          -0.016972528770565987
         ],
         "yaxis": "y"
        },
        {
         "customdata": [
          [
           "Hypersonic Missiles",
           "Sam Fender"
          ]
         ],
         "hovertemplate": "artist_name=%{customdata[1]}<br>0=%{x}<br>1=%{y}<br>song_name=%{customdata[0]}<extra></extra>",
         "legendgroup": "Sam Fender",
         "marker": {
          "color": "#00cc96",
          "symbol": "circle"
         },
         "mode": "markers",
         "name": "Sam Fender",
         "orientation": "v",
         "showlegend": true,
         "type": "scatter",
         "x": [
          -9.102137565612793
         ],
         "xaxis": "x",
         "y": [
          -13.851682662963867
         ],
         "yaxis": "y"
        },
        {
         "customdata": [
          [
           "Wars",
           "Of Monsters and Men"
          ],
          [
           "Little Talks",
           "Of Monsters and Men"
          ]
         ],
         "hovertemplate": "artist_name=%{customdata[1]}<br>0=%{x}<br>1=%{y}<br>song_name=%{customdata[0]}<extra></extra>",
         "legendgroup": "Of Monsters and Men",
         "marker": {
          "color": "#ab63fa",
          "symbol": "circle"
         },
         "mode": "markers",
         "name": "Of Monsters and Men",
         "orientation": "v",
         "showlegend": true,
         "type": "scatter",
         "x": [
          26.0316104888916,
          -12.596616744995117
         ],
         "xaxis": "x",
         "y": [
          5.7109198570251465,
          -15.30797004699707
         ],
         "yaxis": "y"
        },
        {
         "customdata": [
          [
           "I Dare You",
           "The Regrettes"
          ]
         ],
         "hovertemplate": "artist_name=%{customdata[1]}<br>0=%{x}<br>1=%{y}<br>song_name=%{customdata[0]}<extra></extra>",
         "legendgroup": "The Regrettes",
         "marker": {
          "color": "#FFA15A",
          "symbol": "circle"
         },
         "mode": "markers",
         "name": "The Regrettes",
         "orientation": "v",
         "showlegend": true,
         "type": "scatter",
         "x": [
          -6.446816444396973
         ],
         "xaxis": "x",
         "y": [
          -7.659103870391846
         ],
         "yaxis": "y"
        },
        {
         "customdata": [
          [
           "Lazy Eye",
           "Silversun Pickups"
          ]
         ],
         "hovertemplate": "artist_name=%{customdata[1]}<br>0=%{x}<br>1=%{y}<br>song_name=%{customdata[0]}<extra></extra>",
         "legendgroup": "Silversun Pickups",
         "marker": {
          "color": "#19d3f3",
          "symbol": "circle"
         },
         "mode": "markers",
         "name": "Silversun Pickups",
         "orientation": "v",
         "showlegend": true,
         "type": "scatter",
         "x": [
          4.616846561431885
         ],
         "xaxis": "x",
         "y": [
          -21.775026321411133
         ],
         "yaxis": "y"
        },
        {
         "customdata": [
          [
           "Chelsea Dagger",
           "The Fratellis"
          ],
          [
           "She's Not Gone Yet but She's Leaving",
           "The Fratellis"
          ]
         ],
         "hovertemplate": "artist_name=%{customdata[1]}<br>0=%{x}<br>1=%{y}<br>song_name=%{customdata[0]}<extra></extra>",
         "legendgroup": "The Fratellis",
         "marker": {
          "color": "#FF6692",
          "symbol": "circle"
         },
         "mode": "markers",
         "name": "The Fratellis",
         "orientation": "v",
         "showlegend": true,
         "type": "scatter",
         "x": [
          2.446185350418091,
          23.262231826782227
         ],
         "xaxis": "x",
         "y": [
          -5.52503776550293,
          6.576298236846924
         ],
         "yaxis": "y"
        },
        {
         "customdata": [
          [
           "Where Are You Now?",
           "Royal Blood"
          ]
         ],
         "hovertemplate": "artist_name=%{customdata[1]}<br>0=%{x}<br>1=%{y}<br>song_name=%{customdata[0]}<extra></extra>",
         "legendgroup": "Royal Blood",
         "marker": {
          "color": "#B6E880",
          "symbol": "circle"
         },
         "mode": "markers",
         "name": "Royal Blood",
         "orientation": "v",
         "showlegend": true,
         "type": "scatter",
         "x": [
          21.641572952270508
         ],
         "xaxis": "x",
         "y": [
          0.5427895784378052
         ],
         "yaxis": "y"
        },
        {
         "customdata": [
          [
           "Come Closer",
           "Miles Kane"
          ]
         ],
         "hovertemplate": "artist_name=%{customdata[1]}<br>0=%{x}<br>1=%{y}<br>song_name=%{customdata[0]}<extra></extra>",
         "legendgroup": "Miles Kane",
         "marker": {
          "color": "#FF97FF",
          "symbol": "circle"
         },
         "mode": "markers",
         "name": "Miles Kane",
         "orientation": "v",
         "showlegend": true,
         "type": "scatter",
         "x": [
          32.97874450683594
         ],
         "xaxis": "x",
         "y": [
          3.600799560546875
         ],
         "yaxis": "y"
        },
        {
         "customdata": [
          [
           "Marquee Moon (Edit)",
           "Television"
          ]
         ],
         "hovertemplate": "artist_name=%{customdata[1]}<br>0=%{x}<br>1=%{y}<br>song_name=%{customdata[0]}<extra></extra>",
         "legendgroup": "Television",
         "marker": {
          "color": "#FECB52",
          "symbol": "circle"
         },
         "mode": "markers",
         "name": "Television",
         "orientation": "v",
         "showlegend": true,
         "type": "scatter",
         "x": [
          -12.605828285217285
         ],
         "xaxis": "x",
         "y": [
          4.045548915863037
         ],
         "yaxis": "y"
        },
        {
         "customdata": [
          [
           "Sure Shot",
           "Beastie Boys"
          ]
         ],
         "hovertemplate": "artist_name=%{customdata[1]}<br>0=%{x}<br>1=%{y}<br>song_name=%{customdata[0]}<extra></extra>",
         "legendgroup": "Beastie Boys",
         "marker": {
          "color": "#636efa",
          "symbol": "circle"
         },
         "mode": "markers",
         "name": "Beastie Boys",
         "orientation": "v",
         "showlegend": true,
         "type": "scatter",
         "x": [
          0.10103586316108704
         ],
         "xaxis": "x",
         "y": [
          14.738269805908203
         ],
         "yaxis": "y"
        },
        {
         "customdata": [
          [
           "U-Mass",
           "Pixies"
          ],
          [
           "Debaser",
           "Pixies"
          ],
          [
           "Hey",
           "Pixies"
          ],
          [
           "Where Is My Mind?",
           "Pixies"
          ]
         ],
         "hovertemplate": "artist_name=%{customdata[1]}<br>0=%{x}<br>1=%{y}<br>song_name=%{customdata[0]}<extra></extra>",
         "legendgroup": "Pixies",
         "marker": {
          "color": "#EF553B",
          "symbol": "circle"
         },
         "mode": "markers",
         "name": "Pixies",
         "orientation": "v",
         "showlegend": true,
         "type": "scatter",
         "x": [
          17.129680633544922,
          -5.848634719848633,
          -25.229753494262695,
          -26.3856143951416
         ],
         "xaxis": "x",
         "y": [
          5.119235515594482,
          -18.70811653137207,
          -0.8899044394493103,
          -1.6242220401763916
         ],
         "yaxis": "y"
        },
        {
         "customdata": [
          [
           "Wall of Glass",
           "Liam Gallagher"
          ]
         ],
         "hovertemplate": "artist_name=%{customdata[1]}<br>0=%{x}<br>1=%{y}<br>song_name=%{customdata[0]}<extra></extra>",
         "legendgroup": "Liam Gallagher",
         "marker": {
          "color": "#00cc96",
          "symbol": "circle"
         },
         "mode": "markers",
         "name": "Liam Gallagher",
         "orientation": "v",
         "showlegend": true,
         "type": "scatter",
         "x": [
          0.1331423968076706
         ],
         "xaxis": "x",
         "y": [
          -13.419258117675781
         ],
         "yaxis": "y"
        },
        {
         "customdata": [
          [
           "Run Right Back",
           "The Black Keys"
          ],
          [
           "Weight of Love",
           "The Black Keys"
          ],
          [
           "Mind Eraser",
           "The Black Keys"
          ],
          [
           "Little Black Submarines",
           "The Black Keys"
          ],
          [
           "Gold on the Ceiling",
           "The Black Keys"
          ]
         ],
         "hovertemplate": "artist_name=%{customdata[1]}<br>0=%{x}<br>1=%{y}<br>song_name=%{customdata[0]}<extra></extra>",
         "legendgroup": "The Black Keys",
         "marker": {
          "color": "#ab63fa",
          "symbol": "circle"
         },
         "mode": "markers",
         "name": "The Black Keys",
         "orientation": "v",
         "showlegend": true,
         "type": "scatter",
         "x": [
          34.336551666259766,
          -32.160762786865234,
          28.618019104003906,
          -24.026086807250977,
          -9.44301986694336
         ],
         "xaxis": "x",
         "y": [
          15.572510719299316,
          -13.839311599731445,
          10.784120559692383,
          -7.782491683959961,
          -11.962278366088867
         ],
         "yaxis": "y"
        },
        {
         "customdata": [
          [
           "Séquences",
           "L'Impératrice"
          ]
         ],
         "hovertemplate": "artist_name=%{customdata[1]}<br>0=%{x}<br>1=%{y}<br>song_name=%{customdata[0]}<extra></extra>",
         "legendgroup": "L'Impératrice",
         "marker": {
          "color": "#FFA15A",
          "symbol": "circle"
         },
         "mode": "markers",
         "name": "L'Impératrice",
         "orientation": "v",
         "showlegend": true,
         "type": "scatter",
         "x": [
          23.644189834594727
         ],
         "xaxis": "x",
         "y": [
          21.90190315246582
         ],
         "yaxis": "y"
        },
        {
         "customdata": [
          [
           "Between the Buttons",
           "French 79"
          ]
         ],
         "hovertemplate": "artist_name=%{customdata[1]}<br>0=%{x}<br>1=%{y}<br>song_name=%{customdata[0]}<extra></extra>",
         "legendgroup": "French 79",
         "marker": {
          "color": "#19d3f3",
          "symbol": "circle"
         },
         "mode": "markers",
         "name": "French 79",
         "orientation": "v",
         "showlegend": true,
         "type": "scatter",
         "x": [
          -34.915958404541016
         ],
         "xaxis": "x",
         "y": [
          -15.24445629119873
         ],
         "yaxis": "y"
        },
        {
         "customdata": [
          [
           "Come Back to Me",
           "Hollysiz"
          ]
         ],
         "hovertemplate": "artist_name=%{customdata[1]}<br>0=%{x}<br>1=%{y}<br>song_name=%{customdata[0]}<extra></extra>",
         "legendgroup": "Hollysiz",
         "marker": {
          "color": "#FF6692",
          "symbol": "circle"
         },
         "mode": "markers",
         "name": "Hollysiz",
         "orientation": "v",
         "showlegend": true,
         "type": "scatter",
         "x": [
          -14.478537559509277
         ],
         "xaxis": "x",
         "y": [
          7.9519476890563965
         ],
         "yaxis": "y"
        },
        {
         "customdata": [
          [
           "Louxor j'adore",
           "Philippe Katerine"
          ]
         ],
         "hovertemplate": "artist_name=%{customdata[1]}<br>0=%{x}<br>1=%{y}<br>song_name=%{customdata[0]}<extra></extra>",
         "legendgroup": "Philippe Katerine",
         "marker": {
          "color": "#B6E880",
          "symbol": "circle"
         },
         "mode": "markers",
         "name": "Philippe Katerine",
         "orientation": "v",
         "showlegend": true,
         "type": "scatter",
         "x": [
          35.189022064208984
         ],
         "xaxis": "x",
         "y": [
          5.276030540466309
         ],
         "yaxis": "y"
        },
        {
         "customdata": [
          [
           "La baie",
           "Clara Luciani"
          ]
         ],
         "hovertemplate": "artist_name=%{customdata[1]}<br>0=%{x}<br>1=%{y}<br>song_name=%{customdata[0]}<extra></extra>",
         "legendgroup": "Clara Luciani",
         "marker": {
          "color": "#FF97FF",
          "symbol": "circle"
         },
         "mode": "markers",
         "name": "Clara Luciani",
         "orientation": "v",
         "showlegend": true,
         "type": "scatter",
         "x": [
          33.443180084228516
         ],
         "xaxis": "x",
         "y": [
          10.04909610748291
         ],
         "yaxis": "y"
        },
        {
         "customdata": [
          [
           "Candide Crush",
           "Therapie TAXI"
          ]
         ],
         "hovertemplate": "artist_name=%{customdata[1]}<br>0=%{x}<br>1=%{y}<br>song_name=%{customdata[0]}<extra></extra>",
         "legendgroup": "Therapie TAXI",
         "marker": {
          "color": "#FECB52",
          "symbol": "circle"
         },
         "mode": "markers",
         "name": "Therapie TAXI",
         "orientation": "v",
         "showlegend": true,
         "type": "scatter",
         "x": [
          9.182106018066406
         ],
         "xaxis": "x",
         "y": [
          3.4335265159606934
         ],
         "yaxis": "y"
        },
        {
         "customdata": [
          [
           "Où va le monde",
           "La Femme"
          ]
         ],
         "hovertemplate": "artist_name=%{customdata[1]}<br>0=%{x}<br>1=%{y}<br>song_name=%{customdata[0]}<extra></extra>",
         "legendgroup": "La Femme",
         "marker": {
          "color": "#636efa",
          "symbol": "circle"
         },
         "mode": "markers",
         "name": "La Femme",
         "orientation": "v",
         "showlegend": true,
         "type": "scatter",
         "x": [
          19.87866973876953
         ],
         "xaxis": "x",
         "y": [
          0.6923535466194153
         ],
         "yaxis": "y"
        },
        {
         "customdata": [
          [
           "How Much (You Want Her) 2017",
           "Isaac Delusion"
          ]
         ],
         "hovertemplate": "artist_name=%{customdata[1]}<br>0=%{x}<br>1=%{y}<br>song_name=%{customdata[0]}<extra></extra>",
         "legendgroup": "Isaac Delusion",
         "marker": {
          "color": "#EF553B",
          "symbol": "circle"
         },
         "mode": "markers",
         "name": "Isaac Delusion",
         "orientation": "v",
         "showlegend": true,
         "type": "scatter",
         "x": [
          -12.759352684020996
         ],
         "xaxis": "x",
         "y": [
          3.844606876373291
         ],
         "yaxis": "y"
        },
        {
         "customdata": [
          [
           "Pa'lante",
           "Lao Ra"
          ]
         ],
         "hovertemplate": "artist_name=%{customdata[1]}<br>0=%{x}<br>1=%{y}<br>song_name=%{customdata[0]}<extra></extra>",
         "legendgroup": "Lao Ra",
         "marker": {
          "color": "#00cc96",
          "symbol": "circle"
         },
         "mode": "markers",
         "name": "Lao Ra",
         "orientation": "v",
         "showlegend": true,
         "type": "scatter",
         "x": [
          -12.246330261230469
         ],
         "xaxis": "x",
         "y": [
          -14.04205322265625
         ],
         "yaxis": "y"
        },
        {
         "customdata": [
          [
           "Spark",
           "Fitz and The Tantrums"
          ]
         ],
         "hovertemplate": "artist_name=%{customdata[1]}<br>0=%{x}<br>1=%{y}<br>song_name=%{customdata[0]}<extra></extra>",
         "legendgroup": "Fitz and The Tantrums",
         "marker": {
          "color": "#ab63fa",
          "symbol": "circle"
         },
         "mode": "markers",
         "name": "Fitz and The Tantrums",
         "orientation": "v",
         "showlegend": true,
         "type": "scatter",
         "x": [
          -10.384607315063477
         ],
         "xaxis": "x",
         "y": [
          -7.627264499664307
         ],
         "yaxis": "y"
        },
        {
         "customdata": [
          [
           "Fast Cars",
           "Buzzcocks"
          ],
          [
           "Nothing Left - 1996 Remastered Version",
           "Buzzcocks"
          ],
          [
           "Sixteen Again - 1996 Remastered Version",
           "Buzzcocks"
          ],
          [
           "Ever Fallen in Love (With Someone You Shouldn't've?) - 1996 Remastered Version",
           "Buzzcocks"
          ]
         ],
         "hovertemplate": "artist_name=%{customdata[1]}<br>0=%{x}<br>1=%{y}<br>song_name=%{customdata[0]}<extra></extra>",
         "legendgroup": "Buzzcocks",
         "marker": {
          "color": "#FFA15A",
          "symbol": "circle"
         },
         "mode": "markers",
         "name": "Buzzcocks",
         "orientation": "v",
         "showlegend": true,
         "type": "scatter",
         "x": [
          26.03876304626465,
          -2.460639476776123,
          -1.8938778638839722,
          -2.929081916809082
         ],
         "xaxis": "x",
         "y": [
          14.797747611999512,
          -6.187416076660156,
          -9.949882507324219,
          -7.902058124542236
         ],
         "yaxis": "y"
        },
        {
         "customdata": [
          [
           "Punching In A Dream",
           "The Naked And Famous"
          ]
         ],
         "hovertemplate": "artist_name=%{customdata[1]}<br>0=%{x}<br>1=%{y}<br>song_name=%{customdata[0]}<extra></extra>",
         "legendgroup": "The Naked And Famous",
         "marker": {
          "color": "#19d3f3",
          "symbol": "circle"
         },
         "mode": "markers",
         "name": "The Naked And Famous",
         "orientation": "v",
         "showlegend": true,
         "type": "scatter",
         "x": [
          -1.0497902631759644
         ],
         "xaxis": "x",
         "y": [
          -0.9885620474815369
         ],
         "yaxis": "y"
        },
        {
         "customdata": [
          [
           "Sweet Sipping Soda",
           "Reptar"
          ]
         ],
         "hovertemplate": "artist_name=%{customdata[1]}<br>0=%{x}<br>1=%{y}<br>song_name=%{customdata[0]}<extra></extra>",
         "legendgroup": "Reptar",
         "marker": {
          "color": "#FF6692",
          "symbol": "circle"
         },
         "mode": "markers",
         "name": "Reptar",
         "orientation": "v",
         "showlegend": true,
         "type": "scatter",
         "x": [
          7.103470802307129
         ],
         "xaxis": "x",
         "y": [
          1.025027871131897
         ],
         "yaxis": "y"
        },
        {
         "customdata": [
          [
           "Movin' up",
           "X-Wife"
          ]
         ],
         "hovertemplate": "artist_name=%{customdata[1]}<br>0=%{x}<br>1=%{y}<br>song_name=%{customdata[0]}<extra></extra>",
         "legendgroup": "X-Wife",
         "marker": {
          "color": "#B6E880",
          "symbol": "circle"
         },
         "mode": "markers",
         "name": "X-Wife",
         "orientation": "v",
         "showlegend": true,
         "type": "scatter",
         "x": [
          33.86665344238281
         ],
         "xaxis": "x",
         "y": [
          11.592849731445312
         ],
         "yaxis": "y"
        },
        {
         "customdata": [
          [
           "Heaven Only Knows",
           "Bob Moses"
          ]
         ],
         "hovertemplate": "artist_name=%{customdata[1]}<br>0=%{x}<br>1=%{y}<br>song_name=%{customdata[0]}<extra></extra>",
         "legendgroup": "Bob Moses",
         "marker": {
          "color": "#FF97FF",
          "symbol": "circle"
         },
         "mode": "markers",
         "name": "Bob Moses",
         "orientation": "v",
         "showlegend": true,
         "type": "scatter",
         "x": [
          -23.431406021118164
         ],
         "xaxis": "x",
         "y": [
          -11.519970893859863
         ],
         "yaxis": "y"
        },
        {
         "customdata": [
          [
           "Вера и Надежда (WIN)",
           "ST"
          ]
         ],
         "hovertemplate": "artist_name=%{customdata[1]}<br>0=%{x}<br>1=%{y}<br>song_name=%{customdata[0]}<extra></extra>",
         "legendgroup": "ST",
         "marker": {
          "color": "#FECB52",
          "symbol": "circle"
         },
         "mode": "markers",
         "name": "ST",
         "orientation": "v",
         "showlegend": true,
         "type": "scatter",
         "x": [
          -8.942721366882324
         ],
         "xaxis": "x",
         "y": [
          -12.370556831359863
         ],
         "yaxis": "y"
        },
        {
         "customdata": [
          [
           "We Come Running",
           "Youngblood Hawke"
          ]
         ],
         "hovertemplate": "artist_name=%{customdata[1]}<br>0=%{x}<br>1=%{y}<br>song_name=%{customdata[0]}<extra></extra>",
         "legendgroup": "Youngblood Hawke",
         "marker": {
          "color": "#636efa",
          "symbol": "circle"
         },
         "mode": "markers",
         "name": "Youngblood Hawke",
         "orientation": "v",
         "showlegend": true,
         "type": "scatter",
         "x": [
          -3.047818660736084
         ],
         "xaxis": "x",
         "y": [
          0.6111592650413513
         ],
         "yaxis": "y"
        },
        {
         "customdata": [
          [
           "The More You Ignore Me, the Closer I Get - 2014 Remaster",
           "Morrissey"
          ],
          [
           "Everyday Is Like Sunday - 2011 Remaster",
           "Morrissey"
          ]
         ],
         "hovertemplate": "artist_name=%{customdata[1]}<br>0=%{x}<br>1=%{y}<br>song_name=%{customdata[0]}<extra></extra>",
         "legendgroup": "Morrissey",
         "marker": {
          "color": "#EF553B",
          "symbol": "circle"
         },
         "mode": "markers",
         "name": "Morrissey",
         "orientation": "v",
         "showlegend": true,
         "type": "scatter",
         "x": [
          -3.353628158569336,
          -9.458891868591309
         ],
         "xaxis": "x",
         "y": [
          -6.22488260269165,
          -19.07075309753418
         ],
         "yaxis": "y"
        },
        {
         "customdata": [
          [
           "Blitzkrieg Bop - 2001 Remastered Version",
           "Ramones"
          ]
         ],
         "hovertemplate": "artist_name=%{customdata[1]}<br>0=%{x}<br>1=%{y}<br>song_name=%{customdata[0]}<extra></extra>",
         "legendgroup": "Ramones",
         "marker": {
          "color": "#00cc96",
          "symbol": "circle"
         },
         "mode": "markers",
         "name": "Ramones",
         "orientation": "v",
         "showlegend": true,
         "type": "scatter",
         "x": [
          -4.012105464935303
         ],
         "xaxis": "x",
         "y": [
          -4.990505695343018
         ],
         "yaxis": "y"
        },
        {
         "customdata": [
          [
           "Damaged Goods",
           "Gang Of Four"
          ]
         ],
         "hovertemplate": "artist_name=%{customdata[1]}<br>0=%{x}<br>1=%{y}<br>song_name=%{customdata[0]}<extra></extra>",
         "legendgroup": "Gang Of Four",
         "marker": {
          "color": "#ab63fa",
          "symbol": "circle"
         },
         "mode": "markers",
         "name": "Gang Of Four",
         "orientation": "v",
         "showlegend": true,
         "type": "scatter",
         "x": [
          -10.35249137878418
         ],
         "xaxis": "x",
         "y": [
          -5.358245849609375
         ],
         "yaxis": "y"
        },
        {
         "customdata": [
          [
           "Aqualung - Steven Wilson Stereo Remix",
           "Jethro Tull"
          ]
         ],
         "hovertemplate": "artist_name=%{customdata[1]}<br>0=%{x}<br>1=%{y}<br>song_name=%{customdata[0]}<extra></extra>",
         "legendgroup": "Jethro Tull",
         "marker": {
          "color": "#FFA15A",
          "symbol": "circle"
         },
         "mode": "markers",
         "name": "Jethro Tull",
         "orientation": "v",
         "showlegend": true,
         "type": "scatter",
         "x": [
          28.045745849609375
         ],
         "xaxis": "x",
         "y": [
          14.93353271484375
         ],
         "yaxis": "y"
        },
        {
         "customdata": [
          [
           "Naive",
           "The Kooks"
          ]
         ],
         "hovertemplate": "artist_name=%{customdata[1]}<br>0=%{x}<br>1=%{y}<br>song_name=%{customdata[0]}<extra></extra>",
         "legendgroup": "The Kooks",
         "marker": {
          "color": "#19d3f3",
          "symbol": "circle"
         },
         "mode": "markers",
         "name": "The Kooks",
         "orientation": "v",
         "showlegend": true,
         "type": "scatter",
         "x": [
          25.01972198486328
         ],
         "xaxis": "x",
         "y": [
          9.205788612365723
         ],
         "yaxis": "y"
        },
        {
         "customdata": [
          [
           "Teenage Kicks",
           "The Undertones"
          ]
         ],
         "hovertemplate": "artist_name=%{customdata[1]}<br>0=%{x}<br>1=%{y}<br>song_name=%{customdata[0]}<extra></extra>",
         "legendgroup": "The Undertones",
         "marker": {
          "color": "#FF6692",
          "symbol": "circle"
         },
         "mode": "markers",
         "name": "The Undertones",
         "orientation": "v",
         "showlegend": true,
         "type": "scatter",
         "x": [
          -6.327314376831055
         ],
         "xaxis": "x",
         "y": [
          -12.12444019317627
         ],
         "yaxis": "y"
        },
        {
         "customdata": [
          [
           "Pogo",
           "Digitalism"
          ],
          [
           "Circles",
           "Digitalism"
          ]
         ],
         "hovertemplate": "artist_name=%{customdata[1]}<br>0=%{x}<br>1=%{y}<br>song_name=%{customdata[0]}<extra></extra>",
         "legendgroup": "Digitalism",
         "marker": {
          "color": "#B6E880",
          "symbol": "circle"
         },
         "mode": "markers",
         "name": "Digitalism",
         "orientation": "v",
         "showlegend": true,
         "type": "scatter",
         "x": [
          7.646049499511719,
          3.8477420806884766
         ],
         "xaxis": "x",
         "y": [
          3.383275032043457,
          19.809337615966797
         ],
         "yaxis": "y"
        },
        {
         "customdata": [
          [
           "Bergschrund (feat. Nils Frahm)",
           "DJ Shadow"
          ]
         ],
         "hovertemplate": "artist_name=%{customdata[1]}<br>0=%{x}<br>1=%{y}<br>song_name=%{customdata[0]}<extra></extra>",
         "legendgroup": "DJ Shadow",
         "marker": {
          "color": "#FF97FF",
          "symbol": "circle"
         },
         "mode": "markers",
         "name": "DJ Shadow",
         "orientation": "v",
         "showlegend": true,
         "type": "scatter",
         "x": [
          5.624260425567627
         ],
         "xaxis": "x",
         "y": [
          -25.624624252319336
         ],
         "yaxis": "y"
        },
        {
         "customdata": [
          [
           "Happy Days",
           "Closure in Moscow"
          ]
         ],
         "hovertemplate": "artist_name=%{customdata[1]}<br>0=%{x}<br>1=%{y}<br>song_name=%{customdata[0]}<extra></extra>",
         "legendgroup": "Closure in Moscow",
         "marker": {
          "color": "#FECB52",
          "symbol": "circle"
         },
         "mode": "markers",
         "name": "Closure in Moscow",
         "orientation": "v",
         "showlegend": true,
         "type": "scatter",
         "x": [
          24.16934585571289
         ],
         "xaxis": "x",
         "y": [
          1.2137806415557861
         ],
         "yaxis": "y"
        },
        {
         "customdata": [
          [
           "The Passenger",
           "Siouxsie and the Banshees"
          ]
         ],
         "hovertemplate": "artist_name=%{customdata[1]}<br>0=%{x}<br>1=%{y}<br>song_name=%{customdata[0]}<extra></extra>",
         "legendgroup": "Siouxsie and the Banshees",
         "marker": {
          "color": "#636efa",
          "symbol": "circle"
         },
         "mode": "markers",
         "name": "Siouxsie and the Banshees",
         "orientation": "v",
         "showlegend": true,
         "type": "scatter",
         "x": [
          29.627626419067383
         ],
         "xaxis": "x",
         "y": [
          -1.9657865762710571
         ],
         "yaxis": "y"
        },
        {
         "customdata": [
          [
           "Golden Skans",
           "Klaxons"
          ]
         ],
         "hovertemplate": "artist_name=%{customdata[1]}<br>0=%{x}<br>1=%{y}<br>song_name=%{customdata[0]}<extra></extra>",
         "legendgroup": "Klaxons",
         "marker": {
          "color": "#EF553B",
          "symbol": "circle"
         },
         "mode": "markers",
         "name": "Klaxons",
         "orientation": "v",
         "showlegend": true,
         "type": "scatter",
         "x": [
          29.891006469726562
         ],
         "xaxis": "x",
         "y": [
          3.589833974838257
         ],
         "yaxis": "y"
        },
        {
         "customdata": [
          [
           "Hate To Say I Told You So",
           "The Hives"
          ]
         ],
         "hovertemplate": "artist_name=%{customdata[1]}<br>0=%{x}<br>1=%{y}<br>song_name=%{customdata[0]}<extra></extra>",
         "legendgroup": "The Hives",
         "marker": {
          "color": "#00cc96",
          "symbol": "circle"
         },
         "mode": "markers",
         "name": "The Hives",
         "orientation": "v",
         "showlegend": true,
         "type": "scatter",
         "x": [
          5.406124591827393
         ],
         "xaxis": "x",
         "y": [
          0.7802747488021851
         ],
         "yaxis": "y"
        },
        {
         "customdata": [
          [
           "Last Stop: This Town",
           "Eels"
          ]
         ],
         "hovertemplate": "artist_name=%{customdata[1]}<br>0=%{x}<br>1=%{y}<br>song_name=%{customdata[0]}<extra></extra>",
         "legendgroup": "Eels",
         "marker": {
          "color": "#ab63fa",
          "symbol": "circle"
         },
         "mode": "markers",
         "name": "Eels",
         "orientation": "v",
         "showlegend": true,
         "type": "scatter",
         "x": [
          -6.118900775909424
         ],
         "xaxis": "x",
         "y": [
          -24.393470764160156
         ],
         "yaxis": "y"
        },
        {
         "customdata": [
          [
           "Shooting Stars",
           "Bag Raiders"
          ]
         ],
         "hovertemplate": "artist_name=%{customdata[1]}<br>0=%{x}<br>1=%{y}<br>song_name=%{customdata[0]}<extra></extra>",
         "legendgroup": "Bag Raiders",
         "marker": {
          "color": "#FFA15A",
          "symbol": "circle"
         },
         "mode": "markers",
         "name": "Bag Raiders",
         "orientation": "v",
         "showlegend": true,
         "type": "scatter",
         "x": [
          -4.1057000160217285
         ],
         "xaxis": "x",
         "y": [
          1.0878329277038574
         ],
         "yaxis": "y"
        },
        {
         "customdata": [
          [
           "My Decision - Edit",
           "Moss"
          ]
         ],
         "hovertemplate": "artist_name=%{customdata[1]}<br>0=%{x}<br>1=%{y}<br>song_name=%{customdata[0]}<extra></extra>",
         "legendgroup": "Moss",
         "marker": {
          "color": "#19d3f3",
          "symbol": "circle"
         },
         "mode": "markers",
         "name": "Moss",
         "orientation": "v",
         "showlegend": true,
         "type": "scatter",
         "x": [
          -7.576981067657471
         ],
         "xaxis": "x",
         "y": [
          -1.0305051803588867
         ],
         "yaxis": "y"
        },
        {
         "customdata": [
          [
           "Maps",
           "Yeah Yeah Yeahs"
          ]
         ],
         "hovertemplate": "artist_name=%{customdata[1]}<br>0=%{x}<br>1=%{y}<br>song_name=%{customdata[0]}<extra></extra>",
         "legendgroup": "Yeah Yeah Yeahs",
         "marker": {
          "color": "#FF6692",
          "symbol": "circle"
         },
         "mode": "markers",
         "name": "Yeah Yeah Yeahs",
         "orientation": "v",
         "showlegend": true,
         "type": "scatter",
         "x": [
          3.174254894256592
         ],
         "xaxis": "x",
         "y": [
          1.7230182886123657
         ],
         "yaxis": "y"
        },
        {
         "customdata": [
          [
           "You",
           "Kyson"
          ]
         ],
         "hovertemplate": "artist_name=%{customdata[1]}<br>0=%{x}<br>1=%{y}<br>song_name=%{customdata[0]}<extra></extra>",
         "legendgroup": "Kyson",
         "marker": {
          "color": "#B6E880",
          "symbol": "circle"
         },
         "mode": "markers",
         "name": "Kyson",
         "orientation": "v",
         "showlegend": true,
         "type": "scatter",
         "x": [
          27.810523986816406
         ],
         "xaxis": "x",
         "y": [
          28.10384178161621
         ],
         "yaxis": "y"
        },
        {
         "customdata": [
          [
           "Bright Eyes",
           "Anoushka Shankar"
          ]
         ],
         "hovertemplate": "artist_name=%{customdata[1]}<br>0=%{x}<br>1=%{y}<br>song_name=%{customdata[0]}<extra></extra>",
         "legendgroup": "Anoushka Shankar",
         "marker": {
          "color": "#FF97FF",
          "symbol": "circle"
         },
         "mode": "markers",
         "name": "Anoushka Shankar",
         "orientation": "v",
         "showlegend": true,
         "type": "scatter",
         "x": [
          27.211708068847656
         ],
         "xaxis": "x",
         "y": [
          27.059097290039062
         ],
         "yaxis": "y"
        },
        {
         "customdata": [
          [
           "Happy Pills",
           "Norah Jones"
          ]
         ],
         "hovertemplate": "artist_name=%{customdata[1]}<br>0=%{x}<br>1=%{y}<br>song_name=%{customdata[0]}<extra></extra>",
         "legendgroup": "Norah Jones",
         "marker": {
          "color": "#FECB52",
          "symbol": "circle"
         },
         "mode": "markers",
         "name": "Norah Jones",
         "orientation": "v",
         "showlegend": true,
         "type": "scatter",
         "x": [
          -10.647951126098633
         ],
         "xaxis": "x",
         "y": [
          -4.025228500366211
         ],
         "yaxis": "y"
        },
        {
         "customdata": [
          [
           "Ahimsa",
           "U2"
          ],
          [
           "Pride (In The Name Of Love) - Remastered 2009",
           "U2"
          ],
          [
           "Where The Streets Have No Name - Remastered",
           "U2"
          ],
          [
           "Sunday Bloody Sunday - Remastered 2008",
           "U2"
          ],
          [
           "Ordinary Love",
           "U2"
          ],
          [
           "Sunday Bloody Sunday - Remastered 2008",
           "U2"
          ]
         ],
         "hovertemplate": "artist_name=%{customdata[1]}<br>0=%{x}<br>1=%{y}<br>song_name=%{customdata[0]}<extra></extra>",
         "legendgroup": "U2",
         "marker": {
          "color": "#636efa",
          "symbol": "circle"
         },
         "mode": "markers",
         "name": "U2",
         "orientation": "v",
         "showlegend": true,
         "type": "scatter",
         "x": [
          -25.705482482910156,
          10.456318855285645,
          -19.788236618041992,
          -18.63558578491211,
          24.09236717224121,
          -18.635534286499023
         ],
         "xaxis": "x",
         "y": [
          -9.563756942749023,
          6.27997350692749,
          -14.674765586853027,
          8.176448822021484,
          18.583192825317383,
          8.176434516906738
         ],
         "yaxis": "y"
        },
        {
         "customdata": [
          [
           "Where Angels Fear To Tread",
           "Disclosure"
          ]
         ],
         "hovertemplate": "artist_name=%{customdata[1]}<br>0=%{x}<br>1=%{y}<br>song_name=%{customdata[0]}<extra></extra>",
         "legendgroup": "Disclosure",
         "marker": {
          "color": "#EF553B",
          "symbol": "circle"
         },
         "mode": "markers",
         "name": "Disclosure",
         "orientation": "v",
         "showlegend": true,
         "type": "scatter",
         "x": [
          22.134248733520508
         ],
         "xaxis": "x",
         "y": [
          -14.925092697143555
         ],
         "yaxis": "y"
        },
        {
         "customdata": [
          [
           "Plantas Falsas",
           "Bruxas"
          ]
         ],
         "hovertemplate": "artist_name=%{customdata[1]}<br>0=%{x}<br>1=%{y}<br>song_name=%{customdata[0]}<extra></extra>",
         "legendgroup": "Bruxas",
         "marker": {
          "color": "#00cc96",
          "symbol": "circle"
         },
         "mode": "markers",
         "name": "Bruxas",
         "orientation": "v",
         "showlegend": true,
         "type": "scatter",
         "x": [
          -16.810346603393555
         ],
         "xaxis": "x",
         "y": [
          -2.0866892337799072
         ],
         "yaxis": "y"
        },
        {
         "customdata": [
          [
           "Holographic Landscape",
           "S U R V I V E"
          ]
         ],
         "hovertemplate": "artist_name=%{customdata[1]}<br>0=%{x}<br>1=%{y}<br>song_name=%{customdata[0]}<extra></extra>",
         "legendgroup": "S U R V I V E",
         "marker": {
          "color": "#ab63fa",
          "symbol": "circle"
         },
         "mode": "markers",
         "name": "S U R V I V E",
         "orientation": "v",
         "showlegend": true,
         "type": "scatter",
         "x": [
          19.185298919677734
         ],
         "xaxis": "x",
         "y": [
          -15.351409912109375
         ],
         "yaxis": "y"
        },
        {
         "customdata": [
          [
           "Snowcone",
           "deadmau5"
          ],
          [
           "Professional Griefers",
           "deadmau5"
          ]
         ],
         "hovertemplate": "artist_name=%{customdata[1]}<br>0=%{x}<br>1=%{y}<br>song_name=%{customdata[0]}<extra></extra>",
         "legendgroup": "deadmau5",
         "marker": {
          "color": "#FFA15A",
          "symbol": "circle"
         },
         "mode": "markers",
         "name": "deadmau5",
         "orientation": "v",
         "showlegend": true,
         "type": "scatter",
         "x": [
          16.828861236572266,
          -16.52782440185547
         ],
         "xaxis": "x",
         "y": [
          -13.224995613098145,
          -7.052766799926758
         ],
         "yaxis": "y"
        },
        {
         "customdata": [
          [
           "Finale (feat. Nicholas Petricca)",
           "Madeon"
          ]
         ],
         "hovertemplate": "artist_name=%{customdata[1]}<br>0=%{x}<br>1=%{y}<br>song_name=%{customdata[0]}<extra></extra>",
         "legendgroup": "Madeon",
         "marker": {
          "color": "#19d3f3",
          "symbol": "circle"
         },
         "mode": "markers",
         "name": "Madeon",
         "orientation": "v",
         "showlegend": true,
         "type": "scatter",
         "x": [
          26.870670318603516
         ],
         "xaxis": "x",
         "y": [
          -0.17879582941532135
         ],
         "yaxis": "y"
        },
        {
         "customdata": [
          [
           "Munich",
           "Editors"
          ]
         ],
         "hovertemplate": "artist_name=%{customdata[1]}<br>0=%{x}<br>1=%{y}<br>song_name=%{customdata[0]}<extra></extra>",
         "legendgroup": "Editors",
         "marker": {
          "color": "#FF6692",
          "symbol": "circle"
         },
         "mode": "markers",
         "name": "Editors",
         "orientation": "v",
         "showlegend": true,
         "type": "scatter",
         "x": [
          27.77315330505371
         ],
         "xaxis": "x",
         "y": [
          -4.39489221572876
         ],
         "yaxis": "y"
        },
        {
         "customdata": [
          [
           "Dance Stamina",
           "Pluto"
          ],
          [
           "Long White Cross",
           "Pluto"
          ]
         ],
         "hovertemplate": "artist_name=%{customdata[1]}<br>0=%{x}<br>1=%{y}<br>song_name=%{customdata[0]}<extra></extra>",
         "legendgroup": "Pluto",
         "marker": {
          "color": "#B6E880",
          "symbol": "circle"
         },
         "mode": "markers",
         "name": "Pluto",
         "orientation": "v",
         "showlegend": true,
         "type": "scatter",
         "x": [
          -6.166131496429443,
          33.473838806152344
         ],
         "xaxis": "x",
         "y": [
          -0.3210364878177643,
          16.564855575561523
         ],
         "yaxis": "y"
        },
        {
         "customdata": [
          [
           "Lemon Tree",
           "Fools Garden"
          ]
         ],
         "hovertemplate": "artist_name=%{customdata[1]}<br>0=%{x}<br>1=%{y}<br>song_name=%{customdata[0]}<extra></extra>",
         "legendgroup": "Fools Garden",
         "marker": {
          "color": "#FF97FF",
          "symbol": "circle"
         },
         "mode": "markers",
         "name": "Fools Garden",
         "orientation": "v",
         "showlegend": true,
         "type": "scatter",
         "x": [
          -31.02798843383789
         ],
         "xaxis": "x",
         "y": [
          -2.4235587120056152
         ],
         "yaxis": "y"
        },
        {
         "customdata": [
          [
           "Hold On, I'm Comin'",
           "Sam & Dave"
          ]
         ],
         "hovertemplate": "artist_name=%{customdata[1]}<br>0=%{x}<br>1=%{y}<br>song_name=%{customdata[0]}<extra></extra>",
         "legendgroup": "Sam & Dave",
         "marker": {
          "color": "#FECB52",
          "symbol": "circle"
         },
         "mode": "markers",
         "name": "Sam & Dave",
         "orientation": "v",
         "showlegend": true,
         "type": "scatter",
         "x": [
          -20.08082389831543
         ],
         "xaxis": "x",
         "y": [
          0.29507339000701904
         ],
         "yaxis": "y"
        },
        {
         "customdata": [
          [
           "Lush Life",
           "Zara Larsson"
          ]
         ],
         "hovertemplate": "artist_name=%{customdata[1]}<br>0=%{x}<br>1=%{y}<br>song_name=%{customdata[0]}<extra></extra>",
         "legendgroup": "Zara Larsson",
         "marker": {
          "color": "#636efa",
          "symbol": "circle"
         },
         "mode": "markers",
         "name": "Zara Larsson",
         "orientation": "v",
         "showlegend": true,
         "type": "scatter",
         "x": [
          32.539859771728516
         ],
         "xaxis": "x",
         "y": [
          10.196537971496582
         ],
         "yaxis": "y"
        },
        {
         "customdata": [
          [
           "Funeral Singers",
           "Sylvan Esso"
          ]
         ],
         "hovertemplate": "artist_name=%{customdata[1]}<br>0=%{x}<br>1=%{y}<br>song_name=%{customdata[0]}<extra></extra>",
         "legendgroup": "Sylvan Esso",
         "marker": {
          "color": "#EF553B",
          "symbol": "circle"
         },
         "mode": "markers",
         "name": "Sylvan Esso",
         "orientation": "v",
         "showlegend": true,
         "type": "scatter",
         "x": [
          -29.594310760498047
         ],
         "xaxis": "x",
         "y": [
          3.539102077484131
         ],
         "yaxis": "y"
        },
        {
         "customdata": [
          [
           "Walking On A Dream",
           "Empire of the Sun"
          ]
         ],
         "hovertemplate": "artist_name=%{customdata[1]}<br>0=%{x}<br>1=%{y}<br>song_name=%{customdata[0]}<extra></extra>",
         "legendgroup": "Empire of the Sun",
         "marker": {
          "color": "#00cc96",
          "symbol": "circle"
         },
         "mode": "markers",
         "name": "Empire of the Sun",
         "orientation": "v",
         "showlegend": true,
         "type": "scatter",
         "x": [
          36.66472244262695
         ],
         "xaxis": "x",
         "y": [
          10.347119331359863
         ],
         "yaxis": "y"
        },
        {
         "customdata": [
          [
           "You Shook Me All Night Long",
           "AC/DC"
          ]
         ],
         "hovertemplate": "artist_name=%{customdata[1]}<br>0=%{x}<br>1=%{y}<br>song_name=%{customdata[0]}<extra></extra>",
         "legendgroup": "AC/DC",
         "marker": {
          "color": "#ab63fa",
          "symbol": "circle"
         },
         "mode": "markers",
         "name": "AC/DC",
         "orientation": "v",
         "showlegend": true,
         "type": "scatter",
         "x": [
          1.1211740970611572
         ],
         "xaxis": "x",
         "y": [
          6.81907844543457
         ],
         "yaxis": "y"
        },
        {
         "customdata": [
          [
           "Feel It Still",
           "Portugal. The Man"
          ]
         ],
         "hovertemplate": "artist_name=%{customdata[1]}<br>0=%{x}<br>1=%{y}<br>song_name=%{customdata[0]}<extra></extra>",
         "legendgroup": "Portugal. The Man",
         "marker": {
          "color": "#FFA15A",
          "symbol": "circle"
         },
         "mode": "markers",
         "name": "Portugal. The Man",
         "orientation": "v",
         "showlegend": true,
         "type": "scatter",
         "x": [
          36.72959899902344
         ],
         "xaxis": "x",
         "y": [
          13.255677223205566
         ],
         "yaxis": "y"
        },
        {
         "customdata": [
          [
           "Shadowplay",
           "The Killers"
          ],
          [
           "Mr. Brightside",
           "The Killers"
          ]
         ],
         "hovertemplate": "artist_name=%{customdata[1]}<br>0=%{x}<br>1=%{y}<br>song_name=%{customdata[0]}<extra></extra>",
         "legendgroup": "The Killers",
         "marker": {
          "color": "#19d3f3",
          "symbol": "circle"
         },
         "mode": "markers",
         "name": "The Killers",
         "orientation": "v",
         "showlegend": true,
         "type": "scatter",
         "x": [
          -9.041647911071777,
          -2.1511025428771973
         ],
         "xaxis": "x",
         "y": [
          -19.606849670410156,
          -13.338366508483887
         ],
         "yaxis": "y"
        },
        {
         "customdata": [
          [
           "Lazarus",
           "Porcupine Tree"
          ],
          [
           "Arriving Somewhere But Not Here",
           "Porcupine Tree"
          ]
         ],
         "hovertemplate": "artist_name=%{customdata[1]}<br>0=%{x}<br>1=%{y}<br>song_name=%{customdata[0]}<extra></extra>",
         "legendgroup": "Porcupine Tree",
         "marker": {
          "color": "#FF6692",
          "symbol": "circle"
         },
         "mode": "markers",
         "name": "Porcupine Tree",
         "orientation": "v",
         "showlegend": true,
         "type": "scatter",
         "x": [
          6.10299825668335,
          9.981663703918457
         ],
         "xaxis": "x",
         "y": [
          -25.383800506591797,
          -18.446414947509766
         ],
         "yaxis": "y"
        },
        {
         "customdata": [
          [
           "Love Will Tear Us Apart",
           "Peter Hook and The Light"
          ]
         ],
         "hovertemplate": "artist_name=%{customdata[1]}<br>0=%{x}<br>1=%{y}<br>song_name=%{customdata[0]}<extra></extra>",
         "legendgroup": "Peter Hook and The Light",
         "marker": {
          "color": "#B6E880",
          "symbol": "circle"
         },
         "mode": "markers",
         "name": "Peter Hook and The Light",
         "orientation": "v",
         "showlegend": true,
         "type": "scatter",
         "x": [
          12.332890510559082
         ],
         "xaxis": "x",
         "y": [
          0.5734595656394958
         ],
         "yaxis": "y"
        },
        {
         "customdata": [
          [
           "Apply Some Pressure",
           "Maximo Park"
          ]
         ],
         "hovertemplate": "artist_name=%{customdata[1]}<br>0=%{x}<br>1=%{y}<br>song_name=%{customdata[0]}<extra></extra>",
         "legendgroup": "Maximo Park",
         "marker": {
          "color": "#FF97FF",
          "symbol": "circle"
         },
         "mode": "markers",
         "name": "Maximo Park",
         "orientation": "v",
         "showlegend": true,
         "type": "scatter",
         "x": [
          3.2257297039031982
         ],
         "xaxis": "x",
         "y": [
          -6.235599994659424
         ],
         "yaxis": "y"
        },
        {
         "customdata": [
          [
           "White Room",
           "Cream"
          ],
          [
           "Sunshine Of Your Love",
           "Cream"
          ]
         ],
         "hovertemplate": "artist_name=%{customdata[1]}<br>0=%{x}<br>1=%{y}<br>song_name=%{customdata[0]}<extra></extra>",
         "legendgroup": "Cream",
         "marker": {
          "color": "#FECB52",
          "symbol": "circle"
         },
         "mode": "markers",
         "name": "Cream",
         "orientation": "v",
         "showlegend": true,
         "type": "scatter",
         "x": [
          -20.551156997680664,
          -19.485897064208984
         ],
         "xaxis": "x",
         "y": [
          -8.926332473754883,
          -5.513271808624268
         ],
         "yaxis": "y"
        },
        {
         "customdata": [
          [
           "White Leather",
           "Wolf Alice"
          ]
         ],
         "hovertemplate": "artist_name=%{customdata[1]}<br>0=%{x}<br>1=%{y}<br>song_name=%{customdata[0]}<extra></extra>",
         "legendgroup": "Wolf Alice",
         "marker": {
          "color": "#636efa",
          "symbol": "circle"
         },
         "mode": "markers",
         "name": "Wolf Alice",
         "orientation": "v",
         "showlegend": true,
         "type": "scatter",
         "x": [
          -34.74692916870117
         ],
         "xaxis": "x",
         "y": [
          1.6652233600616455
         ],
         "yaxis": "y"
        },
        {
         "customdata": [
          [
           "Always Like This",
           "Bombay Bicycle Club"
          ]
         ],
         "hovertemplate": "artist_name=%{customdata[1]}<br>0=%{x}<br>1=%{y}<br>song_name=%{customdata[0]}<extra></extra>",
         "legendgroup": "Bombay Bicycle Club",
         "marker": {
          "color": "#EF553B",
          "symbol": "circle"
         },
         "mode": "markers",
         "name": "Bombay Bicycle Club",
         "orientation": "v",
         "showlegend": true,
         "type": "scatter",
         "x": [
          -19.2281436920166
         ],
         "xaxis": "x",
         "y": [
          -6.038569927215576
         ],
         "yaxis": "y"
        },
        {
         "customdata": [
          [
           "Alive",
           "Pearl Jam"
          ]
         ],
         "hovertemplate": "artist_name=%{customdata[1]}<br>0=%{x}<br>1=%{y}<br>song_name=%{customdata[0]}<extra></extra>",
         "legendgroup": "Pearl Jam",
         "marker": {
          "color": "#00cc96",
          "symbol": "circle"
         },
         "mode": "markers",
         "name": "Pearl Jam",
         "orientation": "v",
         "showlegend": true,
         "type": "scatter",
         "x": [
          24.99437713623047
         ],
         "xaxis": "x",
         "y": [
          1.6758216619491577
         ],
         "yaxis": "y"
        },
        {
         "customdata": [
          [
           "Habibi",
           "Ghali"
          ]
         ],
         "hovertemplate": "artist_name=%{customdata[1]}<br>0=%{x}<br>1=%{y}<br>song_name=%{customdata[0]}<extra></extra>",
         "legendgroup": "Ghali",
         "marker": {
          "color": "#ab63fa",
          "symbol": "circle"
         },
         "mode": "markers",
         "name": "Ghali",
         "orientation": "v",
         "showlegend": true,
         "type": "scatter",
         "x": [
          27.37144660949707
         ],
         "xaxis": "x",
         "y": [
          11.487812042236328
         ],
         "yaxis": "y"
        },
        {
         "customdata": [
          [
           "Safe And Sound",
           "Capital Cities"
          ]
         ],
         "hovertemplate": "artist_name=%{customdata[1]}<br>0=%{x}<br>1=%{y}<br>song_name=%{customdata[0]}<extra></extra>",
         "legendgroup": "Capital Cities",
         "marker": {
          "color": "#FFA15A",
          "symbol": "circle"
         },
         "mode": "markers",
         "name": "Capital Cities",
         "orientation": "v",
         "showlegend": true,
         "type": "scatter",
         "x": [
          -11.758306503295898
         ],
         "xaxis": "x",
         "y": [
          -9.052461624145508
         ],
         "yaxis": "y"
        },
        {
         "customdata": [
          [
           "Celebrate",
           "MIKA"
          ]
         ],
         "hovertemplate": "artist_name=%{customdata[1]}<br>0=%{x}<br>1=%{y}<br>song_name=%{customdata[0]}<extra></extra>",
         "legendgroup": "MIKA",
         "marker": {
          "color": "#19d3f3",
          "symbol": "circle"
         },
         "mode": "markers",
         "name": "MIKA",
         "orientation": "v",
         "showlegend": true,
         "type": "scatter",
         "x": [
          10.612970352172852
         ],
         "xaxis": "x",
         "y": [
          6.743243217468262
         ],
         "yaxis": "y"
        },
        {
         "customdata": [
          [
           "Steady, As She Goes",
           "The Raconteurs"
          ]
         ],
         "hovertemplate": "artist_name=%{customdata[1]}<br>0=%{x}<br>1=%{y}<br>song_name=%{customdata[0]}<extra></extra>",
         "legendgroup": "The Raconteurs",
         "marker": {
          "color": "#FF6692",
          "symbol": "circle"
         },
         "mode": "markers",
         "name": "The Raconteurs",
         "orientation": "v",
         "showlegend": true,
         "type": "scatter",
         "x": [
          -6.061877727508545
         ],
         "xaxis": "x",
         "y": [
          2.854046583175659
         ],
         "yaxis": "y"
        },
        {
         "customdata": [
          [
           "Make It Wit Chu",
           "Queens of the Stone Age"
          ]
         ],
         "hovertemplate": "artist_name=%{customdata[1]}<br>0=%{x}<br>1=%{y}<br>song_name=%{customdata[0]}<extra></extra>",
         "legendgroup": "Queens of the Stone Age",
         "marker": {
          "color": "#B6E880",
          "symbol": "circle"
         },
         "mode": "markers",
         "name": "Queens of the Stone Age",
         "orientation": "v",
         "showlegend": true,
         "type": "scatter",
         "x": [
          -16.52033042907715
         ],
         "xaxis": "x",
         "y": [
          10.376595497131348
         ],
         "yaxis": "y"
        },
        {
         "customdata": [
          [
           "Golden Touch - Full Length",
           "Razorlight"
          ]
         ],
         "hovertemplate": "artist_name=%{customdata[1]}<br>0=%{x}<br>1=%{y}<br>song_name=%{customdata[0]}<extra></extra>",
         "legendgroup": "Razorlight",
         "marker": {
          "color": "#FF97FF",
          "symbol": "circle"
         },
         "mode": "markers",
         "name": "Razorlight",
         "orientation": "v",
         "showlegend": true,
         "type": "scatter",
         "x": [
          34.4522705078125
         ],
         "xaxis": "x",
         "y": [
          16.710681915283203
         ],
         "yaxis": "y"
        },
        {
         "customdata": [
          [
           "On Top Of The World",
           "Imagine Dragons"
          ]
         ],
         "hovertemplate": "artist_name=%{customdata[1]}<br>0=%{x}<br>1=%{y}<br>song_name=%{customdata[0]}<extra></extra>",
         "legendgroup": "Imagine Dragons",
         "marker": {
          "color": "#FECB52",
          "symbol": "circle"
         },
         "mode": "markers",
         "name": "Imagine Dragons",
         "orientation": "v",
         "showlegend": true,
         "type": "scatter",
         "x": [
          -0.003997224848717451
         ],
         "xaxis": "x",
         "y": [
          12.722528457641602
         ],
         "yaxis": "y"
        },
        {
         "customdata": [
          [
           "Goldrushed",
           "The Royal Concept"
          ]
         ],
         "hovertemplate": "artist_name=%{customdata[1]}<br>0=%{x}<br>1=%{y}<br>song_name=%{customdata[0]}<extra></extra>",
         "legendgroup": "The Royal Concept",
         "marker": {
          "color": "#636efa",
          "symbol": "circle"
         },
         "mode": "markers",
         "name": "The Royal Concept",
         "orientation": "v",
         "showlegend": true,
         "type": "scatter",
         "x": [
          -3.5781166553497314
         ],
         "xaxis": "x",
         "y": [
          3.3221006393432617
         ],
         "yaxis": "y"
        },
        {
         "customdata": [
          [
           "Dreaming",
           "Smallpools"
          ]
         ],
         "hovertemplate": "artist_name=%{customdata[1]}<br>0=%{x}<br>1=%{y}<br>song_name=%{customdata[0]}<extra></extra>",
         "legendgroup": "Smallpools",
         "marker": {
          "color": "#EF553B",
          "symbol": "circle"
         },
         "mode": "markers",
         "name": "Smallpools",
         "orientation": "v",
         "showlegend": true,
         "type": "scatter",
         "x": [
          -8.48764705657959
         ],
         "xaxis": "x",
         "y": [
          6.731966018676758
         ],
         "yaxis": "y"
        },
        {
         "customdata": [
          [
           "Fell in Love with a Girl",
           "The White Stripes"
          ],
          [
           "The Hardest Button to Button",
           "The White Stripes"
          ],
          [
           "Ball and Biscuit",
           "The White Stripes"
          ]
         ],
         "hovertemplate": "artist_name=%{customdata[1]}<br>0=%{x}<br>1=%{y}<br>song_name=%{customdata[0]}<extra></extra>",
         "legendgroup": "The White Stripes",
         "marker": {
          "color": "#00cc96",
          "symbol": "circle"
         },
         "mode": "markers",
         "name": "The White Stripes",
         "orientation": "v",
         "showlegend": true,
         "type": "scatter",
         "x": [
          11.399785041809082,
          -13.481030464172363,
          -5.1031928062438965
         ],
         "xaxis": "x",
         "y": [
          3.198366641998291,
          0.9990731477737427,
          12.677469253540039
         ],
         "yaxis": "y"
        },
        {
         "customdata": [
          [
           "House Of The Rising Sun",
           "The Animals"
          ]
         ],
         "hovertemplate": "artist_name=%{customdata[1]}<br>0=%{x}<br>1=%{y}<br>song_name=%{customdata[0]}<extra></extra>",
         "legendgroup": "The Animals",
         "marker": {
          "color": "#ab63fa",
          "symbol": "circle"
         },
         "mode": "markers",
         "name": "The Animals",
         "orientation": "v",
         "showlegend": true,
         "type": "scatter",
         "x": [
          27.691675186157227
         ],
         "xaxis": "x",
         "y": [
          18.706317901611328
         ],
         "yaxis": "y"
        },
        {
         "customdata": [
          [
           "Shiny Happy People",
           "R.E.M."
          ],
          [
           "Losing My Religion",
           "R.E.M."
          ]
         ],
         "hovertemplate": "artist_name=%{customdata[1]}<br>0=%{x}<br>1=%{y}<br>song_name=%{customdata[0]}<extra></extra>",
         "legendgroup": "R.E.M.",
         "marker": {
          "color": "#FFA15A",
          "symbol": "circle"
         },
         "mode": "markers",
         "name": "R.E.M.",
         "orientation": "v",
         "showlegend": true,
         "type": "scatter",
         "x": [
          -5.652818202972412,
          34.31483459472656
         ],
         "xaxis": "x",
         "y": [
          7.890659332275391,
          7.557399749755859
         ],
         "yaxis": "y"
        },
        {
         "customdata": [
          [
           "Miss Alissa",
           "Eagles Of Death Metal"
          ]
         ],
         "hovertemplate": "artist_name=%{customdata[1]}<br>0=%{x}<br>1=%{y}<br>song_name=%{customdata[0]}<extra></extra>",
         "legendgroup": "Eagles Of Death Metal",
         "marker": {
          "color": "#19d3f3",
          "symbol": "circle"
         },
         "mode": "markers",
         "name": "Eagles Of Death Metal",
         "orientation": "v",
         "showlegend": true,
         "type": "scatter",
         "x": [
          -7.573801040649414
         ],
         "xaxis": "x",
         "y": [
          -5.0602593421936035
         ],
         "yaxis": "y"
        },
        {
         "customdata": [
          [
           "Marblehead Johnson",
           "The Bluetones"
          ]
         ],
         "hovertemplate": "artist_name=%{customdata[1]}<br>0=%{x}<br>1=%{y}<br>song_name=%{customdata[0]}<extra></extra>",
         "legendgroup": "The Bluetones",
         "marker": {
          "color": "#FF6692",
          "symbol": "circle"
         },
         "mode": "markers",
         "name": "The Bluetones",
         "orientation": "v",
         "showlegend": true,
         "type": "scatter",
         "x": [
          -2.6423184871673584
         ],
         "xaxis": "x",
         "y": [
          -14.287897109985352
         ],
         "yaxis": "y"
        },
        {
         "customdata": [
          [
           "One To Another",
           "The Charlatans"
          ]
         ],
         "hovertemplate": "artist_name=%{customdata[1]}<br>0=%{x}<br>1=%{y}<br>song_name=%{customdata[0]}<extra></extra>",
         "legendgroup": "The Charlatans",
         "marker": {
          "color": "#B6E880",
          "symbol": "circle"
         },
         "mode": "markers",
         "name": "The Charlatans",
         "orientation": "v",
         "showlegend": true,
         "type": "scatter",
         "x": [
          1.438707947731018
         ],
         "xaxis": "x",
         "y": [
          2.3562464714050293
         ],
         "yaxis": "y"
        },
        {
         "customdata": [
          [
           "(Don't Fear) The Reaper",
           "Blue Öyster Cult"
          ],
          [
           "Then Came the Last Days of May",
           "Blue Öyster Cult"
          ]
         ],
         "hovertemplate": "artist_name=%{customdata[1]}<br>0=%{x}<br>1=%{y}<br>song_name=%{customdata[0]}<extra></extra>",
         "legendgroup": "Blue Öyster Cult",
         "marker": {
          "color": "#FF97FF",
          "symbol": "circle"
         },
         "mode": "markers",
         "name": "Blue Öyster Cult",
         "orientation": "v",
         "showlegend": true,
         "type": "scatter",
         "x": [
          22.290239334106445,
          26.21559715270996
         ],
         "xaxis": "x",
         "y": [
          -1.0801072120666504,
          18.572582244873047
         ],
         "yaxis": "y"
        },
        {
         "customdata": [
          [
           "Fortunate Son",
           "Creedence Clearwater Revival"
          ]
         ],
         "hovertemplate": "artist_name=%{customdata[1]}<br>0=%{x}<br>1=%{y}<br>song_name=%{customdata[0]}<extra></extra>",
         "legendgroup": "Creedence Clearwater Revival",
         "marker": {
          "color": "#FECB52",
          "symbol": "circle"
         },
         "mode": "markers",
         "name": "Creedence Clearwater Revival",
         "orientation": "v",
         "showlegend": true,
         "type": "scatter",
         "x": [
          -14.422588348388672
         ],
         "xaxis": "x",
         "y": [
          -7.341048240661621
         ],
         "yaxis": "y"
        },
        {
         "customdata": [
          [
           "Shine On",
           "The House of Love"
          ]
         ],
         "hovertemplate": "artist_name=%{customdata[1]}<br>0=%{x}<br>1=%{y}<br>song_name=%{customdata[0]}<extra></extra>",
         "legendgroup": "The House of Love",
         "marker": {
          "color": "#636efa",
          "symbol": "circle"
         },
         "mode": "markers",
         "name": "The House of Love",
         "orientation": "v",
         "showlegend": true,
         "type": "scatter",
         "x": [
          21.41301918029785
         ],
         "xaxis": "x",
         "y": [
          -0.6972501873970032
         ],
         "yaxis": "y"
        },
        {
         "customdata": [
          [
           "Dreams",
           "The Cranberries"
          ],
          [
           "Tomorrow",
           "The Cranberries"
          ]
         ],
         "hovertemplate": "artist_name=%{customdata[1]}<br>0=%{x}<br>1=%{y}<br>song_name=%{customdata[0]}<extra></extra>",
         "legendgroup": "The Cranberries",
         "marker": {
          "color": "#EF553B",
          "symbol": "circle"
         },
         "mode": "markers",
         "name": "The Cranberries",
         "orientation": "v",
         "showlegend": true,
         "type": "scatter",
         "x": [
          -21.51095962524414,
          -1.4389419555664062
         ],
         "xaxis": "x",
         "y": [
          3.6567511558532715,
          4.3510541915893555
         ],
         "yaxis": "y"
        },
        {
         "customdata": [
          [
           "It's Oh so Quiet",
           "Björk"
          ]
         ],
         "hovertemplate": "artist_name=%{customdata[1]}<br>0=%{x}<br>1=%{y}<br>song_name=%{customdata[0]}<extra></extra>",
         "legendgroup": "Björk",
         "marker": {
          "color": "#00cc96",
          "symbol": "circle"
         },
         "mode": "markers",
         "name": "Björk",
         "orientation": "v",
         "showlegend": true,
         "type": "scatter",
         "x": [
          -34.75101089477539
         ],
         "xaxis": "x",
         "y": [
          0.32205042243003845
         ],
         "yaxis": "y"
        },
        {
         "customdata": [
          [
           "Young Bride",
           "Midlake"
          ]
         ],
         "hovertemplate": "artist_name=%{customdata[1]}<br>0=%{x}<br>1=%{y}<br>song_name=%{customdata[0]}<extra></extra>",
         "legendgroup": "Midlake",
         "marker": {
          "color": "#ab63fa",
          "symbol": "circle"
         },
         "mode": "markers",
         "name": "Midlake",
         "orientation": "v",
         "showlegend": true,
         "type": "scatter",
         "x": [
          28.15236473083496
         ],
         "xaxis": "x",
         "y": [
          23.947484970092773
         ],
         "yaxis": "y"
        },
        {
         "customdata": [
          [
           "Africa",
           "TOTO"
          ]
         ],
         "hovertemplate": "artist_name=%{customdata[1]}<br>0=%{x}<br>1=%{y}<br>song_name=%{customdata[0]}<extra></extra>",
         "legendgroup": "TOTO",
         "marker": {
          "color": "#FFA15A",
          "symbol": "circle"
         },
         "mode": "markers",
         "name": "TOTO",
         "orientation": "v",
         "showlegend": true,
         "type": "scatter",
         "x": [
          -22.385723114013672
         ],
         "xaxis": "x",
         "y": [
          0.5048938989639282
         ],
         "yaxis": "y"
        },
        {
         "customdata": [
          [
           "Short Change Hero",
           "The Heavy"
          ]
         ],
         "hovertemplate": "artist_name=%{customdata[1]}<br>0=%{x}<br>1=%{y}<br>song_name=%{customdata[0]}<extra></extra>",
         "legendgroup": "The Heavy",
         "marker": {
          "color": "#19d3f3",
          "symbol": "circle"
         },
         "mode": "markers",
         "name": "The Heavy",
         "orientation": "v",
         "showlegend": true,
         "type": "scatter",
         "x": [
          36.255775451660156
         ],
         "xaxis": "x",
         "y": [
          15.21233081817627
         ],
         "yaxis": "y"
        },
        {
         "customdata": [
          [
           "Enjoy the Silence",
           "Depeche Mode"
          ],
          [
           "Personal Jesus",
           "Depeche Mode"
          ],
          [
           "Enjoy the Silence - Single Mix",
           "Depeche Mode"
          ]
         ],
         "hovertemplate": "artist_name=%{customdata[1]}<br>0=%{x}<br>1=%{y}<br>song_name=%{customdata[0]}<extra></extra>",
         "legendgroup": "Depeche Mode",
         "marker": {
          "color": "#FF6692",
          "symbol": "circle"
         },
         "mode": "markers",
         "name": "Depeche Mode",
         "orientation": "v",
         "showlegend": true,
         "type": "scatter",
         "x": [
          37.375267028808594,
          -9.96788501739502,
          37.57473373413086
         ],
         "xaxis": "x",
         "y": [
          14.575446128845215,
          7.274260997772217,
          14.50020694732666
         ],
         "yaxis": "y"
        },
        {
         "customdata": [
          [
           "The Less I Know The Better",
           "Tame Impala"
          ]
         ],
         "hovertemplate": "artist_name=%{customdata[1]}<br>0=%{x}<br>1=%{y}<br>song_name=%{customdata[0]}<extra></extra>",
         "legendgroup": "Tame Impala",
         "marker": {
          "color": "#B6E880",
          "symbol": "circle"
         },
         "mode": "markers",
         "name": "Tame Impala",
         "orientation": "v",
         "showlegend": true,
         "type": "scatter",
         "x": [
          -9.022050857543945
         ],
         "xaxis": "x",
         "y": [
          3.358982563018799
         ],
         "yaxis": "y"
        },
        {
         "customdata": [
          [
           "Sex on Fire",
           "Kings of Leon"
          ]
         ],
         "hovertemplate": "artist_name=%{customdata[1]}<br>0=%{x}<br>1=%{y}<br>song_name=%{customdata[0]}<extra></extra>",
         "legendgroup": "Kings of Leon",
         "marker": {
          "color": "#FF97FF",
          "symbol": "circle"
         },
         "mode": "markers",
         "name": "Kings of Leon",
         "orientation": "v",
         "showlegend": true,
         "type": "scatter",
         "x": [
          0.029149461537599564
         ],
         "xaxis": "x",
         "y": [
          -3.9117517471313477
         ],
         "yaxis": "y"
        },
        {
         "customdata": [
          [
           "Kickstarts",
           "Example"
          ]
         ],
         "hovertemplate": "artist_name=%{customdata[1]}<br>0=%{x}<br>1=%{y}<br>song_name=%{customdata[0]}<extra></extra>",
         "legendgroup": "Example",
         "marker": {
          "color": "#FECB52",
          "symbol": "circle"
         },
         "mode": "markers",
         "name": "Example",
         "orientation": "v",
         "showlegend": true,
         "type": "scatter",
         "x": [
          1.8702857494354248
         ],
         "xaxis": "x",
         "y": [
          6.9975080490112305
         ],
         "yaxis": "y"
        },
        {
         "customdata": [
          [
           "Pompeii",
           "Bastille"
          ]
         ],
         "hovertemplate": "artist_name=%{customdata[1]}<br>0=%{x}<br>1=%{y}<br>song_name=%{customdata[0]}<extra></extra>",
         "legendgroup": "Bastille",
         "marker": {
          "color": "#636efa",
          "symbol": "circle"
         },
         "mode": "markers",
         "name": "Bastille",
         "orientation": "v",
         "showlegend": true,
         "type": "scatter",
         "x": [
          -7.666675567626953
         ],
         "xaxis": "x",
         "y": [
          1.9754773378372192
         ],
         "yaxis": "y"
        },
        {
         "customdata": [
          [
           "The Cave",
           "Mumford & Sons"
          ]
         ],
         "hovertemplate": "artist_name=%{customdata[1]}<br>0=%{x}<br>1=%{y}<br>song_name=%{customdata[0]}<extra></extra>",
         "legendgroup": "Mumford & Sons",
         "marker": {
          "color": "#EF553B",
          "symbol": "circle"
         },
         "mode": "markers",
         "name": "Mumford & Sons",
         "orientation": "v",
         "showlegend": true,
         "type": "scatter",
         "x": [
          -19.783382415771484
         ],
         "xaxis": "x",
         "y": [
          -11.352486610412598
         ],
         "yaxis": "y"
        },
        {
         "customdata": [
          [
           "A Girl In Port",
           "Okkervil River"
          ]
         ],
         "hovertemplate": "artist_name=%{customdata[1]}<br>0=%{x}<br>1=%{y}<br>song_name=%{customdata[0]}<extra></extra>",
         "legendgroup": "Okkervil River",
         "marker": {
          "color": "#00cc96",
          "symbol": "circle"
         },
         "mode": "markers",
         "name": "Okkervil River",
         "orientation": "v",
         "showlegend": true,
         "type": "scatter",
         "x": [
          -32.679542541503906
         ],
         "xaxis": "x",
         "y": [
          -3.828972578048706
         ],
         "yaxis": "y"
        },
        {
         "customdata": [
          [
           "Cocaine",
           "Eric Clapton"
          ]
         ],
         "hovertemplate": "artist_name=%{customdata[1]}<br>0=%{x}<br>1=%{y}<br>song_name=%{customdata[0]}<extra></extra>",
         "legendgroup": "Eric Clapton",
         "marker": {
          "color": "#ab63fa",
          "symbol": "circle"
         },
         "mode": "markers",
         "name": "Eric Clapton",
         "orientation": "v",
         "showlegend": true,
         "type": "scatter",
         "x": [
          -20.112747192382812
         ],
         "xaxis": "x",
         "y": [
          3.02716326713562
         ],
         "yaxis": "y"
        },
        {
         "customdata": [
          [
           "Champagne Supernova",
           "OneRepublic"
          ]
         ],
         "hovertemplate": "artist_name=%{customdata[1]}<br>0=%{x}<br>1=%{y}<br>song_name=%{customdata[0]}<extra></extra>",
         "legendgroup": "OneRepublic",
         "marker": {
          "color": "#FFA15A",
          "symbol": "circle"
         },
         "mode": "markers",
         "name": "OneRepublic",
         "orientation": "v",
         "showlegend": true,
         "type": "scatter",
         "x": [
          -25.94419288635254
         ],
         "xaxis": "x",
         "y": [
          -8.981743812561035
         ],
         "yaxis": "y"
        },
        {
         "customdata": [
          [
           "Golden Brown",
           "The Stranglers"
          ]
         ],
         "hovertemplate": "artist_name=%{customdata[1]}<br>0=%{x}<br>1=%{y}<br>song_name=%{customdata[0]}<extra></extra>",
         "legendgroup": "The Stranglers",
         "marker": {
          "color": "#19d3f3",
          "symbol": "circle"
         },
         "mode": "markers",
         "name": "The Stranglers",
         "orientation": "v",
         "showlegend": true,
         "type": "scatter",
         "x": [
          -24.80181312561035
         ],
         "xaxis": "x",
         "y": [
          0.2980133295059204
         ],
         "yaxis": "y"
        },
        {
         "customdata": [
          [
           "Shotgun Mouthwash",
           "High Contrast"
          ]
         ],
         "hovertemplate": "artist_name=%{customdata[1]}<br>0=%{x}<br>1=%{y}<br>song_name=%{customdata[0]}<extra></extra>",
         "legendgroup": "High Contrast",
         "marker": {
          "color": "#FF6692",
          "symbol": "circle"
         },
         "mode": "markers",
         "name": "High Contrast",
         "orientation": "v",
         "showlegend": true,
         "type": "scatter",
         "x": [
          31.756790161132812
         ],
         "xaxis": "x",
         "y": [
          0.26410767436027527
         ],
         "yaxis": "y"
        },
        {
         "customdata": [
          [
           "California Uber Alles",
           "Dead Kennedys"
          ]
         ],
         "hovertemplate": "artist_name=%{customdata[1]}<br>0=%{x}<br>1=%{y}<br>song_name=%{customdata[0]}<extra></extra>",
         "legendgroup": "Dead Kennedys",
         "marker": {
          "color": "#B6E880",
          "symbol": "circle"
         },
         "mode": "markers",
         "name": "Dead Kennedys",
         "orientation": "v",
         "showlegend": true,
         "type": "scatter",
         "x": [
          -3.8502590656280518
         ],
         "xaxis": "x",
         "y": [
          8.88025951385498
         ],
         "yaxis": "y"
        },
        {
         "customdata": [
          [
           "Take a Walk",
           "Passion Pit"
          ]
         ],
         "hovertemplate": "artist_name=%{customdata[1]}<br>0=%{x}<br>1=%{y}<br>song_name=%{customdata[0]}<extra></extra>",
         "legendgroup": "Passion Pit",
         "marker": {
          "color": "#FF97FF",
          "symbol": "circle"
         },
         "mode": "markers",
         "name": "Passion Pit",
         "orientation": "v",
         "showlegend": true,
         "type": "scatter",
         "x": [
          -0.7690421342849731
         ],
         "xaxis": "x",
         "y": [
          2.135014533996582
         ],
         "yaxis": "y"
        },
        {
         "customdata": [
          [
           "When The Night Feels My Song",
           "Bedouin Soundclash"
          ]
         ],
         "hovertemplate": "artist_name=%{customdata[1]}<br>0=%{x}<br>1=%{y}<br>song_name=%{customdata[0]}<extra></extra>",
         "legendgroup": "Bedouin Soundclash",
         "marker": {
          "color": "#FECB52",
          "symbol": "circle"
         },
         "mode": "markers",
         "name": "Bedouin Soundclash",
         "orientation": "v",
         "showlegend": true,
         "type": "scatter",
         "x": [
          -15.65944766998291
         ],
         "xaxis": "x",
         "y": [
          3.3065378665924072
         ],
         "yaxis": "y"
        },
        {
         "customdata": [
          [
           "Where Is My Mind",
           "Maxence Cyrin"
          ]
         ],
         "hovertemplate": "artist_name=%{customdata[1]}<br>0=%{x}<br>1=%{y}<br>song_name=%{customdata[0]}<extra></extra>",
         "legendgroup": "Maxence Cyrin",
         "marker": {
          "color": "#636efa",
          "symbol": "circle"
         },
         "mode": "markers",
         "name": "Maxence Cyrin",
         "orientation": "v",
         "showlegend": true,
         "type": "scatter",
         "x": [
          -39.43424987792969
         ],
         "xaxis": "x",
         "y": [
          -7.826029300689697
         ],
         "yaxis": "y"
        },
        {
         "customdata": [
          [
           "Maybe I’m Amazed - Remastered 2011",
           "Paul McCartney"
          ]
         ],
         "hovertemplate": "artist_name=%{customdata[1]}<br>0=%{x}<br>1=%{y}<br>song_name=%{customdata[0]}<extra></extra>",
         "legendgroup": "Paul McCartney",
         "marker": {
          "color": "#EF553B",
          "symbol": "circle"
         },
         "mode": "markers",
         "name": "Paul McCartney",
         "orientation": "v",
         "showlegend": true,
         "type": "scatter",
         "x": [
          -28.213581085205078
         ],
         "xaxis": "x",
         "y": [
          8.3265962600708
         ],
         "yaxis": "y"
        },
        {
         "customdata": [
          [
           "Postcards From Italy",
           "Beirut"
          ]
         ],
         "hovertemplate": "artist_name=%{customdata[1]}<br>0=%{x}<br>1=%{y}<br>song_name=%{customdata[0]}<extra></extra>",
         "legendgroup": "Beirut",
         "marker": {
          "color": "#00cc96",
          "symbol": "circle"
         },
         "mode": "markers",
         "name": "Beirut",
         "orientation": "v",
         "showlegend": true,
         "type": "scatter",
         "x": [
          28.469635009765625
         ],
         "xaxis": "x",
         "y": [
          25.12483024597168
         ],
         "yaxis": "y"
        },
        {
         "customdata": [
          [
           "To Be Alone With You",
           "Sufjan Stevens"
          ]
         ],
         "hovertemplate": "artist_name=%{customdata[1]}<br>0=%{x}<br>1=%{y}<br>song_name=%{customdata[0]}<extra></extra>",
         "legendgroup": "Sufjan Stevens",
         "marker": {
          "color": "#ab63fa",
          "symbol": "circle"
         },
         "mode": "markers",
         "name": "Sufjan Stevens",
         "orientation": "v",
         "showlegend": true,
         "type": "scatter",
         "x": [
          -38.90547180175781
         ],
         "xaxis": "x",
         "y": [
          -5.853019714355469
         ],
         "yaxis": "y"
        },
        {
         "customdata": [
          [
           "Not Nineteen Forever",
           "Courteeners"
          ]
         ],
         "hovertemplate": "artist_name=%{customdata[1]}<br>0=%{x}<br>1=%{y}<br>song_name=%{customdata[0]}<extra></extra>",
         "legendgroup": "Courteeners",
         "marker": {
          "color": "#FFA15A",
          "symbol": "circle"
         },
         "mode": "markers",
         "name": "Courteeners",
         "orientation": "v",
         "showlegend": true,
         "type": "scatter",
         "x": [
          -2.394564390182495
         ],
         "xaxis": "x",
         "y": [
          -13.250158309936523
         ],
         "yaxis": "y"
        },
        {
         "customdata": [
          [
           "Behind Blue Eyes",
           "The Who"
          ]
         ],
         "hovertemplate": "artist_name=%{customdata[1]}<br>0=%{x}<br>1=%{y}<br>song_name=%{customdata[0]}<extra></extra>",
         "legendgroup": "The Who",
         "marker": {
          "color": "#19d3f3",
          "symbol": "circle"
         },
         "mode": "markers",
         "name": "The Who",
         "orientation": "v",
         "showlegend": true,
         "type": "scatter",
         "x": [
          29.90413475036621
         ],
         "xaxis": "x",
         "y": [
          18.791057586669922
         ],
         "yaxis": "y"
        },
        {
         "customdata": [
          [
           "Waiting For The End Of The World",
           "Elvis Costello"
          ]
         ],
         "hovertemplate": "artist_name=%{customdata[1]}<br>0=%{x}<br>1=%{y}<br>song_name=%{customdata[0]}<extra></extra>",
         "legendgroup": "Elvis Costello",
         "marker": {
          "color": "#FF6692",
          "symbol": "circle"
         },
         "mode": "markers",
         "name": "Elvis Costello",
         "orientation": "v",
         "showlegend": true,
         "type": "scatter",
         "x": [
          -15.755615234375
         ],
         "xaxis": "x",
         "y": [
          -3.4219768047332764
         ],
         "yaxis": "y"
        },
        {
         "customdata": [
          [
           "The Joker",
           "Steve Miller Band"
          ]
         ],
         "hovertemplate": "artist_name=%{customdata[1]}<br>0=%{x}<br>1=%{y}<br>song_name=%{customdata[0]}<extra></extra>",
         "legendgroup": "Steve Miller Band",
         "marker": {
          "color": "#B6E880",
          "symbol": "circle"
         },
         "mode": "markers",
         "name": "Steve Miller Band",
         "orientation": "v",
         "showlegend": true,
         "type": "scatter",
         "x": [
          -25.888874053955078
         ],
         "xaxis": "x",
         "y": [
          4.894182205200195
         ],
         "yaxis": "y"
        },
        {
         "customdata": [
          [
           "Face The Face",
           "Pete Townshend"
          ]
         ],
         "hovertemplate": "artist_name=%{customdata[1]}<br>0=%{x}<br>1=%{y}<br>song_name=%{customdata[0]}<extra></extra>",
         "legendgroup": "Pete Townshend",
         "marker": {
          "color": "#FF97FF",
          "symbol": "circle"
         },
         "mode": "markers",
         "name": "Pete Townshend",
         "orientation": "v",
         "showlegend": true,
         "type": "scatter",
         "x": [
          36.790287017822266
         ],
         "xaxis": "x",
         "y": [
          20.423206329345703
         ],
         "yaxis": "y"
        },
        {
         "customdata": [
          [
           "More Than a Feeling",
           "Boston"
          ]
         ],
         "hovertemplate": "artist_name=%{customdata[1]}<br>0=%{x}<br>1=%{y}<br>song_name=%{customdata[0]}<extra></extra>",
         "legendgroup": "Boston",
         "marker": {
          "color": "#FECB52",
          "symbol": "circle"
         },
         "mode": "markers",
         "name": "Boston",
         "orientation": "v",
         "showlegend": true,
         "type": "scatter",
         "x": [
          -27.492862701416016
         ],
         "xaxis": "x",
         "y": [
          -6.014575481414795
         ],
         "yaxis": "y"
        },
        {
         "customdata": [
          [
           "St. Justice",
           "Albert Hammond Jr"
          ]
         ],
         "hovertemplate": "artist_name=%{customdata[1]}<br>0=%{x}<br>1=%{y}<br>song_name=%{customdata[0]}<extra></extra>",
         "legendgroup": "Albert Hammond Jr",
         "marker": {
          "color": "#636efa",
          "symbol": "circle"
         },
         "mode": "markers",
         "name": "Albert Hammond Jr",
         "orientation": "v",
         "showlegend": true,
         "type": "scatter",
         "x": [
          -16.45792007446289
         ],
         "xaxis": "x",
         "y": [
          10.578779220581055
         ],
         "yaxis": "y"
        },
        {
         "customdata": [
          [
           "Video Killed The Radio Star",
           "The Buggles"
          ]
         ],
         "hovertemplate": "artist_name=%{customdata[1]}<br>0=%{x}<br>1=%{y}<br>song_name=%{customdata[0]}<extra></extra>",
         "legendgroup": "The Buggles",
         "marker": {
          "color": "#EF553B",
          "symbol": "circle"
         },
         "mode": "markers",
         "name": "The Buggles",
         "orientation": "v",
         "showlegend": true,
         "type": "scatter",
         "x": [
          -19.828100204467773
         ],
         "xaxis": "x",
         "y": [
          -9.425835609436035
         ],
         "yaxis": "y"
        },
        {
         "customdata": [
          [
           "Love My Way",
           "The Psychedelic Furs"
          ]
         ],
         "hovertemplate": "artist_name=%{customdata[1]}<br>0=%{x}<br>1=%{y}<br>song_name=%{customdata[0]}<extra></extra>",
         "legendgroup": "The Psychedelic Furs",
         "marker": {
          "color": "#00cc96",
          "symbol": "circle"
         },
         "mode": "markers",
         "name": "The Psychedelic Furs",
         "orientation": "v",
         "showlegend": true,
         "type": "scatter",
         "x": [
          -12.057788848876953
         ],
         "xaxis": "x",
         "y": [
          -11.202513694763184
         ],
         "yaxis": "y"
        },
        {
         "customdata": [
          [
           "The Element Of Surprise",
           "The Last Shadow Puppets"
          ]
         ],
         "hovertemplate": "artist_name=%{customdata[1]}<br>0=%{x}<br>1=%{y}<br>song_name=%{customdata[0]}<extra></extra>",
         "legendgroup": "The Last Shadow Puppets",
         "marker": {
          "color": "#ab63fa",
          "symbol": "circle"
         },
         "mode": "markers",
         "name": "The Last Shadow Puppets",
         "orientation": "v",
         "showlegend": true,
         "type": "scatter",
         "x": [
          0.24309159815311432
         ],
         "xaxis": "x",
         "y": [
          7.0331292152404785
         ],
         "yaxis": "y"
        },
        {
         "customdata": [
          [
           "The Dying of the Light",
           "Noel Gallagher's High Flying Birds"
          ],
          [
           "In the Heat of the Moment",
           "Noel Gallagher's High Flying Birds"
          ],
          [
           "If I Had A Gun...",
           "Noel Gallagher's High Flying Birds"
          ]
         ],
         "hovertemplate": "artist_name=%{customdata[1]}<br>0=%{x}<br>1=%{y}<br>song_name=%{customdata[0]}<extra></extra>",
         "legendgroup": "Noel Gallagher's High Flying Birds",
         "marker": {
          "color": "#FFA15A",
          "symbol": "circle"
         },
         "mode": "markers",
         "name": "Noel Gallagher's High Flying Birds",
         "orientation": "v",
         "showlegend": true,
         "type": "scatter",
         "x": [
          26.639028549194336,
          0.9948728084564209,
          28.7406063079834
         ],
         "xaxis": "x",
         "y": [
          -0.004411077592521906,
          4.236181735992432,
          -3.920241117477417
         ],
         "yaxis": "y"
        },
        {
         "customdata": [
          [
           "Somebody to Love",
           "Jefferson Airplane"
          ]
         ],
         "hovertemplate": "artist_name=%{customdata[1]}<br>0=%{x}<br>1=%{y}<br>song_name=%{customdata[0]}<extra></extra>",
         "legendgroup": "Jefferson Airplane",
         "marker": {
          "color": "#19d3f3",
          "symbol": "circle"
         },
         "mode": "markers",
         "name": "Jefferson Airplane",
         "orientation": "v",
         "showlegend": true,
         "type": "scatter",
         "x": [
          -25.04530906677246
         ],
         "xaxis": "x",
         "y": [
          10.039790153503418
         ],
         "yaxis": "y"
        },
        {
         "customdata": [
          [
           "Break on Through (To the Other Side)",
           "The Doors"
          ],
          [
           "Riders on the Storm",
           "The Doors"
          ]
         ],
         "hovertemplate": "artist_name=%{customdata[1]}<br>0=%{x}<br>1=%{y}<br>song_name=%{customdata[0]}<extra></extra>",
         "legendgroup": "The Doors",
         "marker": {
          "color": "#FF6692",
          "symbol": "circle"
         },
         "mode": "markers",
         "name": "The Doors",
         "orientation": "v",
         "showlegend": true,
         "type": "scatter",
         "x": [
          -20.854034423828125,
          26.07257652282715
         ],
         "xaxis": "x",
         "y": [
          8.062153816223145,
          13.864068984985352
         ],
         "yaxis": "y"
        },
        {
         "customdata": [
          [
           "While My Guitar Gently Weeps",
           "Regina Spektor"
          ]
         ],
         "hovertemplate": "artist_name=%{customdata[1]}<br>0=%{x}<br>1=%{y}<br>song_name=%{customdata[0]}<extra></extra>",
         "legendgroup": "Regina Spektor",
         "marker": {
          "color": "#B6E880",
          "symbol": "circle"
         },
         "mode": "markers",
         "name": "Regina Spektor",
         "orientation": "v",
         "showlegend": true,
         "type": "scatter",
         "x": [
          21.37578582763672
         ],
         "xaxis": "x",
         "y": [
          19.924118041992188
         ],
         "yaxis": "y"
        }
       ],
       "layout": {
        "legend": {
         "title": {
          "text": "artist_name"
         },
         "tracegroupgap": 0
        },
        "margin": {
         "t": 60
        },
        "template": {
         "data": {
          "bar": [
           {
            "error_x": {
             "color": "#2a3f5f"
            },
            "error_y": {
             "color": "#2a3f5f"
            },
            "marker": {
             "line": {
              "color": "#E5ECF6",
              "width": 0.5
             },
             "pattern": {
              "fillmode": "overlay",
              "size": 10,
              "solidity": 0.2
             }
            },
            "type": "bar"
           }
          ],
          "barpolar": [
           {
            "marker": {
             "line": {
              "color": "#E5ECF6",
              "width": 0.5
             },
             "pattern": {
              "fillmode": "overlay",
              "size": 10,
              "solidity": 0.2
             }
            },
            "type": "barpolar"
           }
          ],
          "carpet": [
           {
            "aaxis": {
             "endlinecolor": "#2a3f5f",
             "gridcolor": "white",
             "linecolor": "white",
             "minorgridcolor": "white",
             "startlinecolor": "#2a3f5f"
            },
            "baxis": {
             "endlinecolor": "#2a3f5f",
             "gridcolor": "white",
             "linecolor": "white",
             "minorgridcolor": "white",
             "startlinecolor": "#2a3f5f"
            },
            "type": "carpet"
           }
          ],
          "choropleth": [
           {
            "colorbar": {
             "outlinewidth": 0,
             "ticks": ""
            },
            "type": "choropleth"
           }
          ],
          "contour": [
           {
            "colorbar": {
             "outlinewidth": 0,
             "ticks": ""
            },
            "colorscale": [
             [
              0,
              "#0d0887"
             ],
             [
              0.1111111111111111,
              "#46039f"
             ],
             [
              0.2222222222222222,
              "#7201a8"
             ],
             [
              0.3333333333333333,
              "#9c179e"
             ],
             [
              0.4444444444444444,
              "#bd3786"
             ],
             [
              0.5555555555555556,
              "#d8576b"
             ],
             [
              0.6666666666666666,
              "#ed7953"
             ],
             [
              0.7777777777777778,
              "#fb9f3a"
             ],
             [
              0.8888888888888888,
              "#fdca26"
             ],
             [
              1,
              "#f0f921"
             ]
            ],
            "type": "contour"
           }
          ],
          "contourcarpet": [
           {
            "colorbar": {
             "outlinewidth": 0,
             "ticks": ""
            },
            "type": "contourcarpet"
           }
          ],
          "heatmap": [
           {
            "colorbar": {
             "outlinewidth": 0,
             "ticks": ""
            },
            "colorscale": [
             [
              0,
              "#0d0887"
             ],
             [
              0.1111111111111111,
              "#46039f"
             ],
             [
              0.2222222222222222,
              "#7201a8"
             ],
             [
              0.3333333333333333,
              "#9c179e"
             ],
             [
              0.4444444444444444,
              "#bd3786"
             ],
             [
              0.5555555555555556,
              "#d8576b"
             ],
             [
              0.6666666666666666,
              "#ed7953"
             ],
             [
              0.7777777777777778,
              "#fb9f3a"
             ],
             [
              0.8888888888888888,
              "#fdca26"
             ],
             [
              1,
              "#f0f921"
             ]
            ],
            "type": "heatmap"
           }
          ],
          "heatmapgl": [
           {
            "colorbar": {
             "outlinewidth": 0,
             "ticks": ""
            },
            "colorscale": [
             [
              0,
              "#0d0887"
             ],
             [
              0.1111111111111111,
              "#46039f"
             ],
             [
              0.2222222222222222,
              "#7201a8"
             ],
             [
              0.3333333333333333,
              "#9c179e"
             ],
             [
              0.4444444444444444,
              "#bd3786"
             ],
             [
              0.5555555555555556,
              "#d8576b"
             ],
             [
              0.6666666666666666,
              "#ed7953"
             ],
             [
              0.7777777777777778,
              "#fb9f3a"
             ],
             [
              0.8888888888888888,
              "#fdca26"
             ],
             [
              1,
              "#f0f921"
             ]
            ],
            "type": "heatmapgl"
           }
          ],
          "histogram": [
           {
            "marker": {
             "pattern": {
              "fillmode": "overlay",
              "size": 10,
              "solidity": 0.2
             }
            },
            "type": "histogram"
           }
          ],
          "histogram2d": [
           {
            "colorbar": {
             "outlinewidth": 0,
             "ticks": ""
            },
            "colorscale": [
             [
              0,
              "#0d0887"
             ],
             [
              0.1111111111111111,
              "#46039f"
             ],
             [
              0.2222222222222222,
              "#7201a8"
             ],
             [
              0.3333333333333333,
              "#9c179e"
             ],
             [
              0.4444444444444444,
              "#bd3786"
             ],
             [
              0.5555555555555556,
              "#d8576b"
             ],
             [
              0.6666666666666666,
              "#ed7953"
             ],
             [
              0.7777777777777778,
              "#fb9f3a"
             ],
             [
              0.8888888888888888,
              "#fdca26"
             ],
             [
              1,
              "#f0f921"
             ]
            ],
            "type": "histogram2d"
           }
          ],
          "histogram2dcontour": [
           {
            "colorbar": {
             "outlinewidth": 0,
             "ticks": ""
            },
            "colorscale": [
             [
              0,
              "#0d0887"
             ],
             [
              0.1111111111111111,
              "#46039f"
             ],
             [
              0.2222222222222222,
              "#7201a8"
             ],
             [
              0.3333333333333333,
              "#9c179e"
             ],
             [
              0.4444444444444444,
              "#bd3786"
             ],
             [
              0.5555555555555556,
              "#d8576b"
             ],
             [
              0.6666666666666666,
              "#ed7953"
             ],
             [
              0.7777777777777778,
              "#fb9f3a"
             ],
             [
              0.8888888888888888,
              "#fdca26"
             ],
             [
              1,
              "#f0f921"
             ]
            ],
            "type": "histogram2dcontour"
           }
          ],
          "mesh3d": [
           {
            "colorbar": {
             "outlinewidth": 0,
             "ticks": ""
            },
            "type": "mesh3d"
           }
          ],
          "parcoords": [
           {
            "line": {
             "colorbar": {
              "outlinewidth": 0,
              "ticks": ""
             }
            },
            "type": "parcoords"
           }
          ],
          "pie": [
           {
            "automargin": true,
            "type": "pie"
           }
          ],
          "scatter": [
           {
            "marker": {
             "colorbar": {
              "outlinewidth": 0,
              "ticks": ""
             }
            },
            "type": "scatter"
           }
          ],
          "scatter3d": [
           {
            "line": {
             "colorbar": {
              "outlinewidth": 0,
              "ticks": ""
             }
            },
            "marker": {
             "colorbar": {
              "outlinewidth": 0,
              "ticks": ""
             }
            },
            "type": "scatter3d"
           }
          ],
          "scattercarpet": [
           {
            "marker": {
             "colorbar": {
              "outlinewidth": 0,
              "ticks": ""
             }
            },
            "type": "scattercarpet"
           }
          ],
          "scattergeo": [
           {
            "marker": {
             "colorbar": {
              "outlinewidth": 0,
              "ticks": ""
             }
            },
            "type": "scattergeo"
           }
          ],
          "scattergl": [
           {
            "marker": {
             "colorbar": {
              "outlinewidth": 0,
              "ticks": ""
             }
            },
            "type": "scattergl"
           }
          ],
          "scattermapbox": [
           {
            "marker": {
             "colorbar": {
              "outlinewidth": 0,
              "ticks": ""
             }
            },
            "type": "scattermapbox"
           }
          ],
          "scatterpolar": [
           {
            "marker": {
             "colorbar": {
              "outlinewidth": 0,
              "ticks": ""
             }
            },
            "type": "scatterpolar"
           }
          ],
          "scatterpolargl": [
           {
            "marker": {
             "colorbar": {
              "outlinewidth": 0,
              "ticks": ""
             }
            },
            "type": "scatterpolargl"
           }
          ],
          "scatterternary": [
           {
            "marker": {
             "colorbar": {
              "outlinewidth": 0,
              "ticks": ""
             }
            },
            "type": "scatterternary"
           }
          ],
          "surface": [
           {
            "colorbar": {
             "outlinewidth": 0,
             "ticks": ""
            },
            "colorscale": [
             [
              0,
              "#0d0887"
             ],
             [
              0.1111111111111111,
              "#46039f"
             ],
             [
              0.2222222222222222,
              "#7201a8"
             ],
             [
              0.3333333333333333,
              "#9c179e"
             ],
             [
              0.4444444444444444,
              "#bd3786"
             ],
             [
              0.5555555555555556,
              "#d8576b"
             ],
             [
              0.6666666666666666,
              "#ed7953"
             ],
             [
              0.7777777777777778,
              "#fb9f3a"
             ],
             [
              0.8888888888888888,
              "#fdca26"
             ],
             [
              1,
              "#f0f921"
             ]
            ],
            "type": "surface"
           }
          ],
          "table": [
           {
            "cells": {
             "fill": {
              "color": "#EBF0F8"
             },
             "line": {
              "color": "white"
             }
            },
            "header": {
             "fill": {
              "color": "#C8D4E3"
             },
             "line": {
              "color": "white"
             }
            },
            "type": "table"
           }
          ]
         },
         "layout": {
          "annotationdefaults": {
           "arrowcolor": "#2a3f5f",
           "arrowhead": 0,
           "arrowwidth": 1
          },
          "autotypenumbers": "strict",
          "coloraxis": {
           "colorbar": {
            "outlinewidth": 0,
            "ticks": ""
           }
          },
          "colorscale": {
           "diverging": [
            [
             0,
             "#8e0152"
            ],
            [
             0.1,
             "#c51b7d"
            ],
            [
             0.2,
             "#de77ae"
            ],
            [
             0.3,
             "#f1b6da"
            ],
            [
             0.4,
             "#fde0ef"
            ],
            [
             0.5,
             "#f7f7f7"
            ],
            [
             0.6,
             "#e6f5d0"
            ],
            [
             0.7,
             "#b8e186"
            ],
            [
             0.8,
             "#7fbc41"
            ],
            [
             0.9,
             "#4d9221"
            ],
            [
             1,
             "#276419"
            ]
           ],
           "sequential": [
            [
             0,
             "#0d0887"
            ],
            [
             0.1111111111111111,
             "#46039f"
            ],
            [
             0.2222222222222222,
             "#7201a8"
            ],
            [
             0.3333333333333333,
             "#9c179e"
            ],
            [
             0.4444444444444444,
             "#bd3786"
            ],
            [
             0.5555555555555556,
             "#d8576b"
            ],
            [
             0.6666666666666666,
             "#ed7953"
            ],
            [
             0.7777777777777778,
             "#fb9f3a"
            ],
            [
             0.8888888888888888,
             "#fdca26"
            ],
            [
             1,
             "#f0f921"
            ]
           ],
           "sequentialminus": [
            [
             0,
             "#0d0887"
            ],
            [
             0.1111111111111111,
             "#46039f"
            ],
            [
             0.2222222222222222,
             "#7201a8"
            ],
            [
             0.3333333333333333,
             "#9c179e"
            ],
            [
             0.4444444444444444,
             "#bd3786"
            ],
            [
             0.5555555555555556,
             "#d8576b"
            ],
            [
             0.6666666666666666,
             "#ed7953"
            ],
            [
             0.7777777777777778,
             "#fb9f3a"
            ],
            [
             0.8888888888888888,
             "#fdca26"
            ],
            [
             1,
             "#f0f921"
            ]
           ]
          },
          "colorway": [
           "#636efa",
           "#EF553B",
           "#00cc96",
           "#ab63fa",
           "#FFA15A",
           "#19d3f3",
           "#FF6692",
           "#B6E880",
           "#FF97FF",
           "#FECB52"
          ],
          "font": {
           "color": "#2a3f5f"
          },
          "geo": {
           "bgcolor": "white",
           "lakecolor": "white",
           "landcolor": "#E5ECF6",
           "showlakes": true,
           "showland": true,
           "subunitcolor": "white"
          },
          "hoverlabel": {
           "align": "left"
          },
          "hovermode": "closest",
          "mapbox": {
           "style": "light"
          },
          "paper_bgcolor": "white",
          "plot_bgcolor": "#E5ECF6",
          "polar": {
           "angularaxis": {
            "gridcolor": "white",
            "linecolor": "white",
            "ticks": ""
           },
           "bgcolor": "#E5ECF6",
           "radialaxis": {
            "gridcolor": "white",
            "linecolor": "white",
            "ticks": ""
           }
          },
          "scene": {
           "xaxis": {
            "backgroundcolor": "#E5ECF6",
            "gridcolor": "white",
            "gridwidth": 2,
            "linecolor": "white",
            "showbackground": true,
            "ticks": "",
            "zerolinecolor": "white"
           },
           "yaxis": {
            "backgroundcolor": "#E5ECF6",
            "gridcolor": "white",
            "gridwidth": 2,
            "linecolor": "white",
            "showbackground": true,
            "ticks": "",
            "zerolinecolor": "white"
           },
           "zaxis": {
            "backgroundcolor": "#E5ECF6",
            "gridcolor": "white",
            "gridwidth": 2,
            "linecolor": "white",
            "showbackground": true,
            "ticks": "",
            "zerolinecolor": "white"
           }
          },
          "shapedefaults": {
           "line": {
            "color": "#2a3f5f"
           }
          },
          "ternary": {
           "aaxis": {
            "gridcolor": "white",
            "linecolor": "white",
            "ticks": ""
           },
           "baxis": {
            "gridcolor": "white",
            "linecolor": "white",
            "ticks": ""
           },
           "bgcolor": "#E5ECF6",
           "caxis": {
            "gridcolor": "white",
            "linecolor": "white",
            "ticks": ""
           }
          },
          "title": {
           "x": 0.05
          },
          "xaxis": {
           "automargin": true,
           "gridcolor": "white",
           "linecolor": "white",
           "ticks": "",
           "title": {
            "standoff": 15
           },
           "zerolinecolor": "white",
           "zerolinewidth": 2
          },
          "yaxis": {
           "automargin": true,
           "gridcolor": "white",
           "linecolor": "white",
           "ticks": "",
           "title": {
            "standoff": 15
           },
           "zerolinecolor": "white",
           "zerolinewidth": 2
          }
         }
        },
        "xaxis": {
         "anchor": "y",
         "domain": [
          0,
          1
         ],
         "title": {
          "text": "0"
         }
        },
        "yaxis": {
         "anchor": "x",
         "domain": [
          0,
          1
         ],
         "title": {
          "text": "1"
         }
        }
       }
      },
      "text/html": [
       "<div>                            <div id=\"107896a6-671a-45ee-9cd5-0dfc4996a2a1\" class=\"plotly-graph-div\" style=\"height:525px; width:100%;\"></div>            <script type=\"text/javascript\">                require([\"plotly\"], function(Plotly) {                    window.PLOTLYENV=window.PLOTLYENV || {};                                    if (document.getElementById(\"107896a6-671a-45ee-9cd5-0dfc4996a2a1\")) {                    Plotly.newPlot(                        \"107896a6-671a-45ee-9cd5-0dfc4996a2a1\",                        [{\"customdata\":[[\"Losing My Edge\",\"LCD Soundsystem\"],[\"Daft Punk Is Playing at My House\",\"LCD Soundsystem\"],[\"All My Friends\",\"LCD Soundsystem\"],[\"Dance Yrself Clean\",\"LCD Soundsystem\"],[\"I Can Change\",\"LCD Soundsystem\"],[\"i used to\",\"LCD Soundsystem\"],[\"Daft Punk Is Playing at My House\",\"LCD Soundsystem\"]],\"hovertemplate\":\"artist_name=%{customdata[1]}<br>0=%{x}<br>1=%{y}<br>song_name=%{customdata[0]}<extra></extra>\",\"legendgroup\":\"LCD Soundsystem\",\"marker\":{\"color\":\"#636efa\",\"symbol\":\"circle\"},\"mode\":\"markers\",\"name\":\"LCD Soundsystem\",\"orientation\":\"v\",\"showlegend\":true,\"x\":[24.9603328704834,-10.276284217834473,-1.8925814628601074,-2.7763147354125977,-13.700925827026367,27.876264572143555,-10.614805221557617],\"xaxis\":\"x\",\"y\":[-14.855485916137695,9.139531135559082,-28.086292266845703,-24.117034912109375,-5.9842610359191895,10.69812297821045,9.156240463256836],\"yaxis\":\"y\",\"type\":\"scatter\"},{\"customdata\":[[\"One After 909 - Take 3\",\"The Beatles\"],[\"I'm Only Sleeping - Remastered 2009\",\"The Beatles\"],[\"Octopus's Garden - Remastered 2009\",\"The Beatles\"],[\"While My Guitar Gently Weeps - Remastered 2009\",\"The Beatles\"],[\"Let It Be - Remastered 2009\",\"The Beatles\"],[\"Here Comes The Sun - Remastered 2009\",\"The Beatles\"],[\"Morning Camera / Two Of Us - Take 4\",\"The Beatles\"],[\"Ob-La-Di, Ob-La-Da - Remastered 2009\",\"The Beatles\"],[\"Rocky Raccoon - Remastered 2009\",\"The Beatles\"]],\"hovertemplate\":\"artist_name=%{customdata[1]}<br>0=%{x}<br>1=%{y}<br>song_name=%{customdata[0]}<extra></extra>\",\"legendgroup\":\"The Beatles\",\"marker\":{\"color\":\"#EF553B\",\"symbol\":\"circle\"},\"mode\":\"markers\",\"name\":\"The Beatles\",\"orientation\":\"v\",\"showlegend\":true,\"x\":[6.018481254577637,27.652429580688477,34.146583557128906,29.5128231048584,-32.12628936767578,-23.21177864074707,-19.29620933532715,-15.288625717163086,-26.683223724365234],\"xaxis\":\"x\",\"y\":[-8.084525108337402,15.414522171020508,18.009145736694336,14.665802001953125,-3.307281494140625,-1.9233900308609009,3.8447394371032715,5.595704078674316,4.2183756828308105],\"yaxis\":\"y\",\"type\":\"scatter\"},{\"customdata\":[[\"Teen Age Riot (Album Version)\",\"Sonic Youth\"],[\"Shadow of a Doubt\",\"Sonic Youth\"],[\"Kool Thing\",\"Sonic Youth\"]],\"hovertemplate\":\"artist_name=%{customdata[1]}<br>0=%{x}<br>1=%{y}<br>song_name=%{customdata[0]}<extra></extra>\",\"legendgroup\":\"Sonic Youth\",\"marker\":{\"color\":\"#00cc96\",\"symbol\":\"circle\"},\"mode\":\"markers\",\"name\":\"Sonic Youth\",\"orientation\":\"v\",\"showlegend\":true,\"x\":[-1.6357569694519043,20.854570388793945,-0.7584378123283386],\"xaxis\":\"x\",\"y\":[-7.652655601501465,25.929216384887695,-9.938344955444336],\"yaxis\":\"y\",\"type\":\"scatter\"},{\"customdata\":[[\"Killing Me Softly With Her Song\",\"Perry Como\"]],\"hovertemplate\":\"artist_name=%{customdata[1]}<br>0=%{x}<br>1=%{y}<br>song_name=%{customdata[0]}<extra></extra>\",\"legendgroup\":\"Perry Como\",\"marker\":{\"color\":\"#ab63fa\",\"symbol\":\"circle\"},\"mode\":\"markers\",\"name\":\"Perry Como\",\"orientation\":\"v\",\"showlegend\":true,\"x\":[-37.65848922729492],\"xaxis\":\"x\",\"y\":[3.150594711303711],\"yaxis\":\"y\",\"type\":\"scatter\"},{\"customdata\":[[\"Mean\",\"Taylor Swift\"],[\"I Knew You Were Trouble (Taylor's Version)\",\"Taylor Swift\"],[\"Bad Blood\",\"Taylor Swift\"],[\"Shake It Off\",\"Taylor Swift\"]],\"hovertemplate\":\"artist_name=%{customdata[1]}<br>0=%{x}<br>1=%{y}<br>song_name=%{customdata[0]}<extra></extra>\",\"legendgroup\":\"Taylor Swift\",\"marker\":{\"color\":\"#FFA15A\",\"symbol\":\"circle\"},\"mode\":\"markers\",\"name\":\"Taylor Swift\",\"orientation\":\"v\",\"showlegend\":true,\"x\":[-7.71414041519165,-8.801799774169922,36.537113189697266,-4.782638072967529],\"xaxis\":\"x\",\"y\":[-3.9844820499420166,-1.6420010328292847,-2.8852365016937256,-3.6338002681732178],\"yaxis\":\"y\",\"type\":\"scatter\"},{\"customdata\":[[\"Breathe (In the Air)\",\"Pink Floyd\"],[\"Comfortably Numb\",\"Pink Floyd\"],[\"Eclipse\",\"Pink Floyd\"],[\"High Hopes\",\"Pink Floyd\"],[\"Wish You Were Here\",\"Pink Floyd\"],[\"Have a Cigar\",\"Pink Floyd\"],[\"Sheep\",\"Pink Floyd\"],[\"Interstellar Overdrive\",\"Pink Floyd\"],[\"Brain Damage\",\"Pink Floyd\"],[\"Marooned\",\"Pink Floyd\"],[\"Coming Back to Life\",\"Pink Floyd\"],[\"Us and Them\",\"Pink Floyd\"],[\"Money\",\"Pink Floyd\"],[\"The Great Gig in the Sky\",\"Pink Floyd\"],[\"Time\",\"Pink Floyd\"]],\"hovertemplate\":\"artist_name=%{customdata[1]}<br>0=%{x}<br>1=%{y}<br>song_name=%{customdata[0]}<extra></extra>\",\"legendgroup\":\"Pink Floyd\",\"marker\":{\"color\":\"#19d3f3\",\"symbol\":\"circle\"},\"mode\":\"markers\",\"name\":\"Pink Floyd\",\"orientation\":\"v\",\"showlegend\":true,\"x\":[19.983415603637695,20.57103729248047,-34.26515197753906,32.96690368652344,-29.747896194458008,18.390657424926758,20.48615837097168,-37.937931060791016,-26.589649200439453,-36.43560791015625,-24.39628791809082,-37.78559875488281,23.88966178894043,-38.19408416748047,-27.33396339416504],\"xaxis\":\"x\",\"y\":[21.237503051757812,20.674760818481445,-16.679174423217773,21.8427734375,8.8610200881958,6.856709003448486,-1.9736276865005493,-11.239898681640625,-13.328509330749512,-9.963902473449707,-16.163528442382812,-2.6009111404418945,12.587329864501953,-8.648258209228516,2.1677515506744385],\"yaxis\":\"y\",\"type\":\"scatter\"},{\"customdata\":[[\"Atomic - Remastered\",\"Blondie\"],[\"Call Me\",\"Blondie\"],[\"Heart Of Glass - Special Mix\",\"Blondie\"],[\"Dreaming - Live\",\"Blondie\"],[\"Hanging on the Telephone - Live\",\"Blondie\"]],\"hovertemplate\":\"artist_name=%{customdata[1]}<br>0=%{x}<br>1=%{y}<br>song_name=%{customdata[0]}<extra></extra>\",\"legendgroup\":\"Blondie\",\"marker\":{\"color\":\"#FF6692\",\"symbol\":\"circle\"},\"mode\":\"markers\",\"name\":\"Blondie\",\"orientation\":\"v\",\"showlegend\":true,\"x\":[33.09012985229492,31.924480438232422,-18.511133193969727,11.404424667358398,-0.042206719517707825],\"xaxis\":\"x\",\"y\":[6.7756805419921875,6.102822303771973,-0.03766709566116333,0.6249650716781616,-7.867893695831299],\"yaxis\":\"y\",\"type\":\"scatter\"},{\"customdata\":[[\"Walk On the Wild Side\",\"Lou Reed\"],[\"Ride Into the Sun\",\"Lou Reed\"],[\"Perfect Day\",\"Lou Reed\"],[\"Vicious\",\"Lou Reed\"]],\"hovertemplate\":\"artist_name=%{customdata[1]}<br>0=%{x}<br>1=%{y}<br>song_name=%{customdata[0]}<extra></extra>\",\"legendgroup\":\"Lou Reed\",\"marker\":{\"color\":\"#B6E880\",\"symbol\":\"circle\"},\"mode\":\"markers\",\"name\":\"Lou Reed\",\"orientation\":\"v\",\"showlegend\":true,\"x\":[-35.750579833984375,-4.75047492980957,-34.4052619934082,-1.5447957515716553],\"xaxis\":\"x\",\"y\":[0.8913117051124573,-7.830345630645752,-3.4859392642974854,-28.839204788208008],\"yaxis\":\"y\",\"type\":\"scatter\"},{\"customdata\":[[\"I'm Waiting For The Man - Live\",\"The Velvet Underground\"],[\"What Goes On\",\"The Velvet Underground\"],[\"Run Run Run\",\"The Velvet Underground\"],[\"Ride Into The Sun - Live At The Matrix, San Francisco 11-24-69\",\"The Velvet Underground\"],[\"After Hours\",\"The Velvet Underground\"],[\"Beginning To See The Light\",\"The Velvet Underground\"],[\"European Son\",\"The Velvet Underground\"],[\"I'm Gonna Move Right In\",\"The Velvet Underground\"],[\"The Gift\",\"The Velvet Underground\"],[\"Louise\",\"The Velvet Underground\"],[\"Ride Into The Sun - \\\"1969\\\" / 2014 Mix\",\"The Velvet Underground\"],[\"I'm Waiting For The Man\",\"The Velvet Underground\"],[\"Oh! Sweet Nuthin' - 2015 Remaster\",\"The Velvet Underground\"],[\"Venus In Furs\",\"The Velvet Underground\"],[\"Oh! Sweet Nuthin' - 2015 Remaster\",\"The Velvet Underground\"],[\"Heroin - Live At The Matrix, San Francisco 11-23-69\",\"The Velvet Underground\"],[\"Pale Blue Eyes\",\"The Velvet Underground\"],[\"I'll Be Your Mirror\",\"The Velvet Underground\"],[\"There She Goes Again\",\"The Velvet Underground\"],[\"Heroin\",\"The Velvet Underground\"],[\"Sunday Morning\",\"The Velvet Underground\"]],\"hovertemplate\":\"artist_name=%{customdata[1]}<br>0=%{x}<br>1=%{y}<br>song_name=%{customdata[0]}<extra></extra>\",\"legendgroup\":\"The Velvet Underground\",\"marker\":{\"color\":\"#FF97FF\",\"symbol\":\"circle\"},\"mode\":\"markers\",\"name\":\"The Velvet Underground\",\"orientation\":\"v\",\"showlegend\":true,\"x\":[-27.941055297851562,-31.001617431640625,-23.698570251464844,-37.077510833740234,-37.688079833984375,22.225332260131836,9.471993446350098,-41.23060989379883,-8.01416015625,-29.263647079467773,-7.961233139038086,-2.3081743717193604,-27.293718338012695,15.754326820373535,-27.29355239868164,-32.93484878540039,-36.5184440612793,-25.204608917236328,-0.26119235157966614,-32.50153350830078,28.213624954223633],\"xaxis\":\"x\",\"y\":[9.763787269592285,-15.265565872192383,7.76353120803833,-9.275107383728027,3.878896951675415,-13.750106811523438,-22.66593360900879,-6.6532063484191895,-24.13687515258789,2.5585997104644775,-25.097997665405273,-25.746912002563477,0.06481798738241196,-19.176151275634766,0.0647469013929367,-12.360060691833496,2.2584338188171387,-1.0909862518310547,-25.7324275970459,-12.862710952758789,17.13848876953125],\"yaxis\":\"y\",\"type\":\"scatter\"},{\"customdata\":[[\"A-Punk\",\"Vampire Weekend\"],[\"Oxford Comma\",\"Vampire Weekend\"],[\"Step\",\"Vampire Weekend\"],[\"Worship You\",\"Vampire Weekend\"]],\"hovertemplate\":\"artist_name=%{customdata[1]}<br>0=%{x}<br>1=%{y}<br>song_name=%{customdata[0]}<extra></extra>\",\"legendgroup\":\"Vampire Weekend\",\"marker\":{\"color\":\"#FECB52\",\"symbol\":\"circle\"},\"mode\":\"markers\",\"name\":\"Vampire Weekend\",\"orientation\":\"v\",\"showlegend\":true,\"x\":[-6.581562042236328,-11.254595756530762,-17.90178108215332,1.879513144493103],\"xaxis\":\"x\",\"y\":[-7.3221259117126465,-7.803452014923096,10.989139556884766,-1.9498261213302612],\"yaxis\":\"y\",\"type\":\"scatter\"},{\"customdata\":[[\"I Bet You Look Good On The Dancefloor\",\"Arctic Monkeys\"],[\"Do I Wanna Know?\",\"Arctic Monkeys\"],[\"Fluorescent Adolescent\",\"Arctic Monkeys\"],[\"When The Sun Goes Down\",\"Arctic Monkeys\"],[\"From The Ritz To The Rubble\",\"Arctic Monkeys\"],[\"Brianstorm\",\"Arctic Monkeys\"],[\"Crying Lightning\",\"Arctic Monkeys\"],[\"Arabella\",\"Arctic Monkeys\"]],\"hovertemplate\":\"artist_name=%{customdata[1]}<br>0=%{x}<br>1=%{y}<br>song_name=%{customdata[0]}<extra></extra>\",\"legendgroup\":\"Arctic Monkeys\",\"marker\":{\"color\":\"#636efa\",\"symbol\":\"circle\"},\"mode\":\"markers\",\"name\":\"Arctic Monkeys\",\"orientation\":\"v\",\"showlegend\":true,\"x\":[25.36995506286621,-23.738985061645508,33.46738052368164,33.82971954345703,34.55146789550781,7.328111171722412,28.16116714477539,-17.7083740234375],\"xaxis\":\"x\",\"y\":[4.99185037612915,-5.607110500335693,9.078471183776855,-3.1022591590881348,0.08185165375471115,-8.362586975097656,5.655927658081055,-11.144769668579102],\"yaxis\":\"y\",\"type\":\"scatter\"},{\"customdata\":[[\"Club Foot\",\"Kasabian\"],[\"Ill Ray (The King)\",\"Kasabian\"],[\"Where Did All the Love Go?\",\"Kasabian\"],[\"L.S.F.\",\"Kasabian\"],[\"Re-Wired\",\"Kasabian\"],[\"Days Are Forgotten\",\"Kasabian\"],[\"Underdog\",\"Kasabian\"],[\"Fire\",\"Kasabian\"]],\"hovertemplate\":\"artist_name=%{customdata[1]}<br>0=%{x}<br>1=%{y}<br>song_name=%{customdata[0]}<extra></extra>\",\"legendgroup\":\"Kasabian\",\"marker\":{\"color\":\"#EF553B\",\"symbol\":\"circle\"},\"mode\":\"markers\",\"name\":\"Kasabian\",\"orientation\":\"v\",\"showlegend\":true,\"x\":[-4.125359058380127,27.225671768188477,3.7284436225891113,-1.894176721572876,21.818744659423828,-2.6673202514648438,19.59947395324707,-2.594435691833496],\"xaxis\":\"x\",\"y\":[-15.52447509765625,4.649187088012695,6.138022422790527,1.9889695644378662,7.7573041915893555,3.1775152683258057,4.73832368850708,-0.023044856265187263],\"yaxis\":\"y\",\"type\":\"scatter\"},{\"customdata\":[[\"Take Me Out\",\"Franz Ferdinand\"],[\"Auf Achse\",\"Franz Ferdinand\"],[\"Love Illumination\",\"Franz Ferdinand\"],[\"This Fire\",\"Franz Ferdinand\"],[\"The Dark Of The Matin\\u00e9e\",\"Franz Ferdinand\"],[\"Stand On the Horizon\",\"Franz Ferdinand\"]],\"hovertemplate\":\"artist_name=%{customdata[1]}<br>0=%{x}<br>1=%{y}<br>song_name=%{customdata[0]}<extra></extra>\",\"legendgroup\":\"Franz Ferdinand\",\"marker\":{\"color\":\"#00cc96\",\"symbol\":\"circle\"},\"mode\":\"markers\",\"name\":\"Franz Ferdinand\",\"orientation\":\"v\",\"showlegend\":true,\"x\":[-27.681255340576172,30.88067054748535,31.7331600189209,-7.296788692474365,29.102693557739258,32.1480827331543],\"xaxis\":\"x\",\"y\":[-5.5846662521362305,18.352787017822266,3.7959201335906982,0.25475507974624634,14.260868072509766,8.677531242370605],\"yaxis\":\"y\",\"type\":\"scatter\"},{\"customdata\":[[\"Can't Stand Me Now\",\"The Libertines\"],[\"Time for Heroes\",\"The Libertines\"],[\"Don't Look Back into the Sun\",\"The Libertines\"]],\"hovertemplate\":\"artist_name=%{customdata[1]}<br>0=%{x}<br>1=%{y}<br>song_name=%{customdata[0]}<extra></extra>\",\"legendgroup\":\"The Libertines\",\"marker\":{\"color\":\"#ab63fa\",\"symbol\":\"circle\"},\"mode\":\"markers\",\"name\":\"The Libertines\",\"orientation\":\"v\",\"showlegend\":true,\"x\":[-3.628919839859009,-4.6426310539245605,3.7596447467803955],\"xaxis\":\"x\",\"y\":[-9.847756385803223,-9.936820030212402,-8.178747177124023],\"yaxis\":\"y\",\"type\":\"scatter\"},{\"customdata\":[[\"Pumped Up Kicks\",\"Foster The People\"],[\"Sit Next to Me\",\"Foster The People\"],[\"Call It What You Want\",\"Foster The People\"],[\"Call It What You Want\",\"Foster The People\"]],\"hovertemplate\":\"artist_name=%{customdata[1]}<br>0=%{x}<br>1=%{y}<br>song_name=%{customdata[0]}<extra></extra>\",\"legendgroup\":\"Foster The People\",\"marker\":{\"color\":\"#FFA15A\",\"symbol\":\"circle\"},\"mode\":\"markers\",\"name\":\"Foster The People\",\"orientation\":\"v\",\"showlegend\":true,\"x\":[35.66967010498047,18.775964736938477,24.636844635009766,24.636844635009766],\"xaxis\":\"x\",\"y\":[9.570405960083008,5.002935886383057,4.6724467277526855,4.6724467277526855],\"yaxis\":\"y\",\"type\":\"scatter\"},{\"customdata\":[[\"I Can Talk\",\"Two Door Cinema Club\"],[\"Cigarettes in the Theatre\",\"Two Door Cinema Club\"],[\"Something Good Can Work\",\"Two Door Cinema Club\"],[\"I Can Talk\",\"Two Door Cinema Club\"],[\"What You Know\",\"Two Door Cinema Club\"]],\"hovertemplate\":\"artist_name=%{customdata[1]}<br>0=%{x}<br>1=%{y}<br>song_name=%{customdata[0]}<extra></extra>\",\"legendgroup\":\"Two Door Cinema Club\",\"marker\":{\"color\":\"#19d3f3\",\"symbol\":\"circle\"},\"mode\":\"markers\",\"name\":\"Two Door Cinema Club\",\"orientation\":\"v\",\"showlegend\":true,\"x\":[34.485652923583984,7.481342792510986,-12.477964401245117,34.4046516418457,32.9571647644043],\"xaxis\":\"x\",\"y\":[-3.9916279315948486,-7.974076747894287,-9.841310501098633,-4.149305820465088,4.615281105041504],\"yaxis\":\"y\",\"type\":\"scatter\"},{\"customdata\":[[\"Bitter Sweet Symphony\",\"The Verve\"],[\"History - Remastered 2016\",\"The Verve\"],[\"Bitter Sweet Symphony\",\"The Verve\"],[\"Lucky Man\",\"The Verve\"]],\"hovertemplate\":\"artist_name=%{customdata[1]}<br>0=%{x}<br>1=%{y}<br>song_name=%{customdata[0]}<extra></extra>\",\"legendgroup\":\"The Verve\",\"marker\":{\"color\":\"#FF6692\",\"symbol\":\"circle\"},\"mode\":\"markers\",\"name\":\"The Verve\",\"orientation\":\"v\",\"showlegend\":true,\"x\":[6.7113494873046875,-20.834373474121094,6.833099842071533,-26.363256454467773],\"xaxis\":\"x\",\"y\":[-3.189042329788208,-15.956900596618652,-3.0737321376800537,-8.379218101501465],\"yaxis\":\"y\",\"type\":\"scatter\"},{\"customdata\":[[\"Hallelujah - Ewan Pearson Remix; Edit\",\"Happy Mondays\"],[\"Twenty Four Hour Party People\",\"Happy Mondays\"]],\"hovertemplate\":\"artist_name=%{customdata[1]}<br>0=%{x}<br>1=%{y}<br>song_name=%{customdata[0]}<extra></extra>\",\"legendgroup\":\"Happy Mondays\",\"marker\":{\"color\":\"#B6E880\",\"symbol\":\"circle\"},\"mode\":\"markers\",\"name\":\"Happy Mondays\",\"orientation\":\"v\",\"showlegend\":true,\"x\":[6.852048397064209,-17.769567489624023],\"xaxis\":\"x\",\"y\":[-4.677920818328857,-0.3425585925579071],\"yaxis\":\"y\",\"type\":\"scatter\"},{\"customdata\":[[\"Humility (feat. George Benson)\",\"Gorillaz\"],[\"Tranz\",\"Gorillaz\"],[\"Sleeping Powder\",\"Gorillaz\"],[\"El Ma\\u00f1ana\",\"Gorillaz\"],[\"Kids with Guns\",\"Gorillaz\"],[\"On Melancholy Hill\",\"Gorillaz\"],[\"Pirate Jet\",\"Gorillaz\"],[\"Aries (feat. Peter Hook and Georgia)\",\"Gorillaz\"]],\"hovertemplate\":\"artist_name=%{customdata[1]}<br>0=%{x}<br>1=%{y}<br>song_name=%{customdata[0]}<extra></extra>\",\"legendgroup\":\"Gorillaz\",\"marker\":{\"color\":\"#FF97FF\",\"symbol\":\"circle\"},\"mode\":\"markers\",\"name\":\"Gorillaz\",\"orientation\":\"v\",\"showlegend\":true,\"x\":[-9.710504531860352,-9.448020935058594,32.63782501220703,21.843334197998047,22.31645965576172,-4.881006717681885,21.088062286376953,-13.899866104125977],\"xaxis\":\"x\",\"y\":[-5.795112609863281,6.327923774719238,14.979692459106445,6.47189474105835,-12.339903831481934,-27.031070709228516,8.718551635742188,-5.243050575256348],\"yaxis\":\"y\",\"type\":\"scatter\"},{\"customdata\":[[\"Ribs\",\"Lorde\"],[\"Solar Power\",\"Lorde\"],[\"Mood Ring\",\"Lorde\"],[\"Dominoes\",\"Lorde\"]],\"hovertemplate\":\"artist_name=%{customdata[1]}<br>0=%{x}<br>1=%{y}<br>song_name=%{customdata[0]}<extra></extra>\",\"legendgroup\":\"Lorde\",\"marker\":{\"color\":\"#FECB52\",\"symbol\":\"circle\"},\"mode\":\"markers\",\"name\":\"Lorde\",\"orientation\":\"v\",\"showlegend\":true,\"x\":[-34.943763732910156,-25.49254608154297,-28.42840003967285,-37.69728088378906],\"xaxis\":\"x\",\"y\":[-11.721328735351562,5.757044315338135,3.9672818183898926,5.404961109161377],\"yaxis\":\"y\",\"type\":\"scatter\"},{\"customdata\":[[\"Transatlanticism\",\"Death Cab for Cutie\"]],\"hovertemplate\":\"artist_name=%{customdata[1]}<br>0=%{x}<br>1=%{y}<br>song_name=%{customdata[0]}<extra></extra>\",\"legendgroup\":\"Death Cab for Cutie\",\"marker\":{\"color\":\"#636efa\",\"symbol\":\"circle\"},\"mode\":\"markers\",\"name\":\"Death Cab for Cutie\",\"orientation\":\"v\",\"showlegend\":true,\"x\":[-35.47504425048828],\"xaxis\":\"x\",\"y\":[-12.059136390686035],\"yaxis\":\"y\",\"type\":\"scatter\"},{\"customdata\":[[\"My Body Is a Cage\",\"Arcade Fire\"],[\"Reflektor\",\"Arcade Fire\"],[\"Wake Up\",\"Arcade Fire\"],[\"Rebellion (Lies)\",\"Arcade Fire\"],[\"Ready to Start\",\"Arcade Fire\"],[\"Everything Now\",\"Arcade Fire\"],[\"The Suburbs\",\"Arcade Fire\"]],\"hovertemplate\":\"artist_name=%{customdata[1]}<br>0=%{x}<br>1=%{y}<br>song_name=%{customdata[0]}<extra></extra>\",\"legendgroup\":\"Arcade Fire\",\"marker\":{\"color\":\"#EF553B\",\"symbol\":\"circle\"},\"mode\":\"markers\",\"name\":\"Arcade Fire\",\"orientation\":\"v\",\"showlegend\":true,\"x\":[31.938156127929688,22.756336212158203,-3.8750219345092773,2.6567163467407227,2.0159385204315186,6.250250339508057,26.28181266784668],\"xaxis\":\"x\",\"y\":[22.626123428344727,7.568537712097168,-13.976323127746582,-24.691192626953125,-9.03271198272705,6.27601432800293,6.476340293884277],\"yaxis\":\"y\",\"type\":\"scatter\"},{\"customdata\":[[\"Dsco\",\"Sweet Trip\"]],\"hovertemplate\":\"artist_name=%{customdata[1]}<br>0=%{x}<br>1=%{y}<br>song_name=%{customdata[0]}<extra></extra>\",\"legendgroup\":\"Sweet Trip\",\"marker\":{\"color\":\"#00cc96\",\"symbol\":\"circle\"},\"mode\":\"markers\",\"name\":\"Sweet Trip\",\"orientation\":\"v\",\"showlegend\":true,\"x\":[28.241561889648438],\"xaxis\":\"x\",\"y\":[3.818772554397583],\"yaxis\":\"y\",\"type\":\"scatter\"},{\"customdata\":[[\"Rebel Rebel - 2016 Remaster\",\"David Bowie\"],[\"Space Oddity\",\"David Bowie\"],[\"Heroes - 2017 Remaster\",\"David Bowie\"]],\"hovertemplate\":\"artist_name=%{customdata[1]}<br>0=%{x}<br>1=%{y}<br>song_name=%{customdata[0]}<extra></extra>\",\"legendgroup\":\"David Bowie\",\"marker\":{\"color\":\"#ab63fa\",\"symbol\":\"circle\"},\"mode\":\"markers\",\"name\":\"David Bowie\",\"orientation\":\"v\",\"showlegend\":true,\"x\":[-22.3675479888916,-36.32124328613281,2.136814594268799],\"xaxis\":\"x\",\"y\":[2.528848886489868,0.3325863480567932,-22.31360626220703],\"yaxis\":\"y\",\"type\":\"scatter\"},{\"customdata\":[[\"Shampoo Bottles\",\"Peach Pit\"]],\"hovertemplate\":\"artist_name=%{customdata[1]}<br>0=%{x}<br>1=%{y}<br>song_name=%{customdata[0]}<extra></extra>\",\"legendgroup\":\"Peach Pit\",\"marker\":{\"color\":\"#FFA15A\",\"symbol\":\"circle\"},\"mode\":\"markers\",\"name\":\"Peach Pit\",\"orientation\":\"v\",\"showlegend\":true,\"x\":[-23.31591796875],\"xaxis\":\"x\",\"y\":[-2.2936997413635254],\"yaxis\":\"y\",\"type\":\"scatter\"},{\"customdata\":[[\"DON'T SHOOT UP THE PARTY\",\"BROCKHAMPTON\"],[\"HONEY\",\"BROCKHAMPTON\"],[\"SWEET\",\"BROCKHAMPTON\"]],\"hovertemplate\":\"artist_name=%{customdata[1]}<br>0=%{x}<br>1=%{y}<br>song_name=%{customdata[0]}<extra></extra>\",\"legendgroup\":\"BROCKHAMPTON\",\"marker\":{\"color\":\"#19d3f3\",\"symbol\":\"circle\"},\"mode\":\"markers\",\"name\":\"BROCKHAMPTON\",\"orientation\":\"v\",\"showlegend\":true,\"x\":[33.055965423583984,-13.05674934387207,5.241954326629639],\"xaxis\":\"x\",\"y\":[14.362707138061523,-13.223650932312012,25.06471061706543],\"yaxis\":\"y\",\"type\":\"scatter\"},{\"customdata\":[[\"The Great Curve - 2005 Remaster\",\"Talking Heads\"],[\"Psycho Killer - 2005 Remaster\",\"Talking Heads\"],[\"Crosseyed and Painless - 2005 Remaster\",\"Talking Heads\"],[\"Burning Down the House\",\"Talking Heads\"],[\"Fela's Riff - Unfinished Outtake\",\"Talking Heads\"],[\"Once in a Lifetime - 2005 Remaster\",\"Talking Heads\"],[\"This Must Be the Place (Naive Melody) - 2005 Remaster\",\"Talking Heads\"],[\"Born Under Punches (The Heat Goes On) - 2005 Remaster\",\"Talking Heads\"],[\"Uh-Oh, Love Comes to Town - 2005 Remaster\",\"Talking Heads\"]],\"hovertemplate\":\"artist_name=%{customdata[1]}<br>0=%{x}<br>1=%{y}<br>song_name=%{customdata[0]}<extra></extra>\",\"legendgroup\":\"Talking Heads\",\"marker\":{\"color\":\"#FF6692\",\"symbol\":\"circle\"},\"mode\":\"markers\",\"name\":\"Talking Heads\",\"orientation\":\"v\",\"showlegend\":true,\"x\":[-13.74994945526123,-15.737133979797363,-1.1103107929229736,37.25832748413086,-3.0075886249542236,9.185139656066895,-15.847997665405273,36.32872772216797,-16.420808792114258],\"xaxis\":\"x\",\"y\":[8.63279914855957,-2.604987859725952,-26.586624145507812,20.23170280456543,-27.82404899597168,6.2388014793396,4.084168434143066,7.998245716094971,9.176880836486816],\"yaxis\":\"y\",\"type\":\"scatter\"},{\"customdata\":[[\"Midnight City - Eric Prydz Private Remix\",\"M83\"],[\"Wait\",\"M83\"],[\"Holograms\",\"M83\"],[\"Steve Mcqueen\",\"M83\"],[\"Oblivion (feat. Susanne Sundf\\u00f8r)\",\"M83\"],[\"Midnight City\",\"M83\"]],\"hovertemplate\":\"artist_name=%{customdata[1]}<br>0=%{x}<br>1=%{y}<br>song_name=%{customdata[0]}<extra></extra>\",\"legendgroup\":\"M83\",\"marker\":{\"color\":\"#B6E880\",\"symbol\":\"circle\"},\"mode\":\"markers\",\"name\":\"M83\",\"orientation\":\"v\",\"showlegend\":true,\"x\":[17.90505599975586,-25.022354125976562,-38.09326934814453,21.9130916595459,30.11733627319336,27.055402755737305],\"xaxis\":\"x\",\"y\":[-15.282693862915039,-14.140669822692871,-9.406665802001953,-0.04543449729681015,19.57421875,9.371691703796387],\"yaxis\":\"y\",\"type\":\"scatter\"},{\"customdata\":[[\"If You Really Love Nothing\",\"Interpol\"],[\"The Rover\",\"Interpol\"],[\"Evil\",\"Interpol\"],[\"Obstacle 1\",\"Interpol\"]],\"hovertemplate\":\"artist_name=%{customdata[1]}<br>0=%{x}<br>1=%{y}<br>song_name=%{customdata[0]}<extra></extra>\",\"legendgroup\":\"Interpol\",\"marker\":{\"color\":\"#FF97FF\",\"symbol\":\"circle\"},\"mode\":\"markers\",\"name\":\"Interpol\",\"orientation\":\"v\",\"showlegend\":true,\"x\":[2.994593858718872,3.661637783050537,1.7864344120025635,3.6662967205047607],\"xaxis\":\"x\",\"y\":[-23.801372528076172,-11.435134887695312,-23.745798110961914,-22.905378341674805],\"yaxis\":\"y\",\"type\":\"scatter\"},{\"customdata\":[[\"Out of Time\",\"Blur\"],[\"Young and Lovely - 2012 Remaster\",\"Blur\"],[\"Country Sad Ballad Man - 2012 Remaster\",\"Blur\"],[\"Parklife\",\"Blur\"],[\"Coffee & TV\",\"Blur\"],[\"Beetlebum\",\"Blur\"],[\"Country House\",\"Blur\"],[\"Girls & Boys\",\"Blur\"],[\"Song 2 - 2012 Remaster\",\"Blur\"]],\"hovertemplate\":\"artist_name=%{customdata[1]}<br>0=%{x}<br>1=%{y}<br>song_name=%{customdata[0]}<extra></extra>\",\"legendgroup\":\"Blur\",\"marker\":{\"color\":\"#FECB52\",\"symbol\":\"circle\"},\"mode\":\"markers\",\"name\":\"Blur\",\"orientation\":\"v\",\"showlegend\":true,\"x\":[-21.82509422302246,34.74227523803711,-8.290778160095215,2.558690309524536,-15.47518253326416,-12.777494430541992,1.406406283378601,34.81586456298828,-10.605338096618652],\"xaxis\":\"x\",\"y\":[-12.577339172363281,1.281885027885437,-24.041868209838867,6.5905680656433105,-4.652535438537598,-4.187317371368408,-8.094353675842285,8.051436424255371,6.191871166229248],\"yaxis\":\"y\",\"type\":\"scatter\"},{\"customdata\":[[\"Althea - 2013 Remaster\",\"Grateful Dead\"],[\"Shakedown Street - 2013 Remaster\",\"Grateful Dead\"],[\"Friend of the Devil\",\"Grateful Dead\"]],\"hovertemplate\":\"artist_name=%{customdata[1]}<br>0=%{x}<br>1=%{y}<br>song_name=%{customdata[0]}<extra></extra>\",\"legendgroup\":\"Grateful Dead\",\"marker\":{\"color\":\"#636efa\",\"symbol\":\"circle\"},\"mode\":\"markers\",\"name\":\"Grateful Dead\",\"orientation\":\"v\",\"showlegend\":true,\"x\":[-30.66946792602539,-17.339920043945312,-27.750621795654297],\"xaxis\":\"x\",\"y\":[3.7453598976135254,-2.4789063930511475,9.961528778076172],\"yaxis\":\"y\",\"type\":\"scatter\"},{\"customdata\":[[\"Magic\",\"Coldplay\"],[\"The Hardest Part\",\"Coldplay\"],[\"A Rush of Blood to the Head\",\"Coldplay\"]],\"hovertemplate\":\"artist_name=%{customdata[1]}<br>0=%{x}<br>1=%{y}<br>song_name=%{customdata[0]}<extra></extra>\",\"legendgroup\":\"Coldplay\",\"marker\":{\"color\":\"#EF553B\",\"symbol\":\"circle\"},\"mode\":\"markers\",\"name\":\"Coldplay\",\"orientation\":\"v\",\"showlegend\":true,\"x\":[20.425804138183594,1.4711159467697144,-23.0324649810791],\"xaxis\":\"x\",\"y\":[-12.62146282196045,1.8566542863845825,-12.014877319335938],\"yaxis\":\"y\",\"type\":\"scatter\"},{\"customdata\":[[\"Lisztomania\",\"Phoenix\"],[\"If I Ever Feel Better\",\"Phoenix\"]],\"hovertemplate\":\"artist_name=%{customdata[1]}<br>0=%{x}<br>1=%{y}<br>song_name=%{customdata[0]}<extra></extra>\",\"legendgroup\":\"Phoenix\",\"marker\":{\"color\":\"#00cc96\",\"symbol\":\"circle\"},\"mode\":\"markers\",\"name\":\"Phoenix\",\"orientation\":\"v\",\"showlegend\":true,\"x\":[6.714250564575195,34.61011505126953],\"xaxis\":\"x\",\"y\":[7.406245708465576,12.359577178955078],\"yaxis\":\"y\",\"type\":\"scatter\"},{\"customdata\":[[\"Deleter\",\"Grouplove\"],[\"Tongue Tied\",\"Grouplove\"]],\"hovertemplate\":\"artist_name=%{customdata[1]}<br>0=%{x}<br>1=%{y}<br>song_name=%{customdata[0]}<extra></extra>\",\"legendgroup\":\"Grouplove\",\"marker\":{\"color\":\"#ab63fa\",\"symbol\":\"circle\"},\"mode\":\"markers\",\"name\":\"Grouplove\",\"orientation\":\"v\",\"showlegend\":true,\"x\":[3.045084238052368,-10.626314163208008],\"xaxis\":\"x\",\"y\":[-5.707353115081787,-14.285305976867676],\"yaxis\":\"y\",\"type\":\"scatter\"},{\"customdata\":[[\"4EVER\",\"Clairo\"],[\"Hello?\",\"Clairo\"]],\"hovertemplate\":\"artist_name=%{customdata[1]}<br>0=%{x}<br>1=%{y}<br>song_name=%{customdata[0]}<extra></extra>\",\"legendgroup\":\"Clairo\",\"marker\":{\"color\":\"#FFA15A\",\"symbol\":\"circle\"},\"mode\":\"markers\",\"name\":\"Clairo\",\"orientation\":\"v\",\"showlegend\":true,\"x\":[29.913835525512695,23.492612838745117],\"xaxis\":\"x\",\"y\":[11.598498344421387,22.667621612548828],\"yaxis\":\"y\",\"type\":\"scatter\"},{\"customdata\":[[\"No Side to Fall In\",\"The Raincoats\"],[\"Lola\",\"The Raincoats\"]],\"hovertemplate\":\"artist_name=%{customdata[1]}<br>0=%{x}<br>1=%{y}<br>song_name=%{customdata[0]}<extra></extra>\",\"legendgroup\":\"The Raincoats\",\"marker\":{\"color\":\"#19d3f3\",\"symbol\":\"circle\"},\"mode\":\"markers\",\"name\":\"The Raincoats\",\"orientation\":\"v\",\"showlegend\":true,\"x\":[-24.74158477783203,-22.48215103149414],\"xaxis\":\"x\",\"y\":[10.704930305480957,11.514625549316406],\"yaxis\":\"y\",\"type\":\"scatter\"},{\"customdata\":[[\"Fanfare for naran ratan\",\"naran ratan\"]],\"hovertemplate\":\"artist_name=%{customdata[1]}<br>0=%{x}<br>1=%{y}<br>song_name=%{customdata[0]}<extra></extra>\",\"legendgroup\":\"naran ratan\",\"marker\":{\"color\":\"#FF6692\",\"symbol\":\"circle\"},\"mode\":\"markers\",\"name\":\"naran ratan\",\"orientation\":\"v\",\"showlegend\":true,\"x\":[-38.40302658081055],\"xaxis\":\"x\",\"y\":[-7.137479782104492],\"yaxis\":\"y\",\"type\":\"scatter\"},{\"customdata\":[[\"Begin Again\",\"Andy Shauf\"]],\"hovertemplate\":\"artist_name=%{customdata[1]}<br>0=%{x}<br>1=%{y}<br>song_name=%{customdata[0]}<extra></extra>\",\"legendgroup\":\"Andy Shauf\",\"marker\":{\"color\":\"#B6E880\",\"symbol\":\"circle\"},\"mode\":\"markers\",\"name\":\"Andy Shauf\",\"orientation\":\"v\",\"showlegend\":true,\"x\":[-28.706348419189453],\"xaxis\":\"x\",\"y\":[2.2952229976654053],\"yaxis\":\"y\",\"type\":\"scatter\"},{\"customdata\":[[\"Mind Your Own Business\",\"Delta 5\"]],\"hovertemplate\":\"artist_name=%{customdata[1]}<br>0=%{x}<br>1=%{y}<br>song_name=%{customdata[0]}<extra></extra>\",\"legendgroup\":\"Delta 5\",\"marker\":{\"color\":\"#FF97FF\",\"symbol\":\"circle\"},\"mode\":\"markers\",\"name\":\"Delta 5\",\"orientation\":\"v\",\"showlegend\":true,\"x\":[-0.9677315950393677],\"xaxis\":\"x\",\"y\":[21.68627166748047],\"yaxis\":\"y\",\"type\":\"scatter\"},{\"customdata\":[[\"Chandelier (feat. Curren$y)\",\"Shoreline Mafia\"]],\"hovertemplate\":\"artist_name=%{customdata[1]}<br>0=%{x}<br>1=%{y}<br>song_name=%{customdata[0]}<extra></extra>\",\"legendgroup\":\"Shoreline Mafia\",\"marker\":{\"color\":\"#FECB52\",\"symbol\":\"circle\"},\"mode\":\"markers\",\"name\":\"Shoreline Mafia\",\"orientation\":\"v\",\"showlegend\":true,\"x\":[3.997875928878784],\"xaxis\":\"x\",\"y\":[23.430103302001953],\"yaxis\":\"y\",\"type\":\"scatter\"},{\"customdata\":[[\"FANTAZIA\",\"Roy Blair\"]],\"hovertemplate\":\"artist_name=%{customdata[1]}<br>0=%{x}<br>1=%{y}<br>song_name=%{customdata[0]}<extra></extra>\",\"legendgroup\":\"Roy Blair\",\"marker\":{\"color\":\"#636efa\",\"symbol\":\"circle\"},\"mode\":\"markers\",\"name\":\"Roy Blair\",\"orientation\":\"v\",\"showlegend\":true,\"x\":[4.110610485076904],\"xaxis\":\"x\",\"y\":[24.917322158813477],\"yaxis\":\"y\",\"type\":\"scatter\"},{\"customdata\":[[\"She\",\"Tyler, The Creator\"],[\"SMUCKERS (feat. Lil Wayne & Kanye West)\",\"Tyler, The Creator\"],[\"See You Again (feat. Kali Uchis)\",\"Tyler, The Creator\"]],\"hovertemplate\":\"artist_name=%{customdata[1]}<br>0=%{x}<br>1=%{y}<br>song_name=%{customdata[0]}<extra></extra>\",\"legendgroup\":\"Tyler, The Creator\",\"marker\":{\"color\":\"#EF553B\",\"symbol\":\"circle\"},\"mode\":\"markers\",\"name\":\"Tyler, The Creator\",\"orientation\":\"v\",\"showlegend\":true,\"x\":[10.405253410339355,3.2076573371887207,-24.835487365722656],\"xaxis\":\"x\",\"y\":[16.814401626586914,18.95500373840332,4.595398426055908],\"yaxis\":\"y\",\"type\":\"scatter\"},{\"customdata\":[[\"The Modern Age\",\"The Strokes\"],[\"Oblivius\",\"The Strokes\"],[\"Bad Decisions\",\"The Strokes\"],[\"Eternal Summer\",\"The Strokes\"],[\"Trying Your Luck\",\"The Strokes\"],[\"Alone, Together\",\"The Strokes\"],[\"Barely Legal\",\"The Strokes\"],[\"Ode To The Mets\",\"The Strokes\"],[\"The Adults Are Talking\",\"The Strokes\"],[\"Brooklyn Bridge To Chorus\",\"The Strokes\"],[\"Why Are Sundays So Depressing\",\"The Strokes\"],[\"Bad Decisions\",\"The Strokes\"],[\"Under Cover of Darkness\",\"The Strokes\"],[\"Machu Picchu\",\"The Strokes\"],[\"OBLIVIUS\",\"The Strokes\"],[\"You Only Live Once\",\"The Strokes\"],[\"Last Nite\",\"The Strokes\"],[\"Reptilia\",\"The Strokes\"]],\"hovertemplate\":\"artist_name=%{customdata[1]}<br>0=%{x}<br>1=%{y}<br>song_name=%{customdata[0]}<extra></extra>\",\"legendgroup\":\"The Strokes\",\"marker\":{\"color\":\"#00cc96\",\"symbol\":\"circle\"},\"mode\":\"markers\",\"name\":\"The Strokes\",\"orientation\":\"v\",\"showlegend\":true,\"x\":[-0.46915560960769653,2.930870771408081,-0.558340311050415,27.556884765625,28.026281356811523,0.42667075991630554,-5.670506000518799,30.792789459228516,-6.8781538009643555,-14.62668514251709,-13.265975952148438,-0.558021068572998,2.8813974857330322,-10.571049690246582,3.086254119873047,-0.29922065138816833,-11.023248672485352,1.4170911312103271],\"xaxis\":\"x\",\"y\":[-28.38927459716797,-22.219158172607422,-14.110604286193848,8.592019081115723,13.763938903808594,-26.866573333740234,-9.011811256408691,21.877729415893555,-2.1964588165283203,-13.3645601272583,-14.331588745117188,-14.110956192016602,-10.213583946228027,-8.693928718566895,-22.18905258178711,-24.379926681518555,-9.560583114624023,-26.089902877807617],\"yaxis\":\"y\",\"type\":\"scatter\"},{\"customdata\":[[\"Fiji Jim\",\"The Rolling Stones\"],[\"19th Nervous Breakdown - Mono Version\",\"The Rolling Stones\"],[\"Ruby Tuesday\",\"The Rolling Stones\"],[\"Happy\",\"The Rolling Stones\"],[\"Doo Doo Doo Doo Doo (Heartbreaker)\",\"The Rolling Stones\"],[\"She's So Cold - Remastered\",\"The Rolling Stones\"],[\"Living In A Ghost Town\",\"The Rolling Stones\"],[\"Emotional Rescue - Remastered 2009\",\"The Rolling Stones\"],[\"Hate To See You Go\",\"The Rolling Stones\"],[\"Wild Horses - 2009 Mix\",\"The Rolling Stones\"],[\"She's A Rainbow\",\"The Rolling Stones\"],[\"Heaven - Remastered\",\"The Rolling Stones\"],[\"Start Me Up - Remastered 2009\",\"The Rolling Stones\"],[\"Miss You - Remastered\",\"The Rolling Stones\"],[\"Paint It, Black\",\"The Rolling Stones\"],[\"Jumpin' Jack Flash - Mono Version\",\"The Rolling Stones\"],[\"Gimme Shelter\",\"The Rolling Stones\"]],\"hovertemplate\":\"artist_name=%{customdata[1]}<br>0=%{x}<br>1=%{y}<br>song_name=%{customdata[0]}<extra></extra>\",\"legendgroup\":\"The Rolling Stones\",\"marker\":{\"color\":\"#ab63fa\",\"symbol\":\"circle\"},\"mode\":\"markers\",\"name\":\"The Rolling Stones\",\"orientation\":\"v\",\"showlegend\":true,\"x\":[4.343348979949951,-0.3620181381702423,-31.73224639892578,-0.5663026571273804,-10.691831588745117,-11.963570594787598,34.01755142211914,-12.093165397644043,5.877255916595459,-33.199893951416016,-20.2581729888916,32.64333724975586,-8.753235816955566,39.09872817993164,7.727775573730469,-6.1204328536987305,29.631868362426758],\"xaxis\":\"x\",\"y\":[-6.475468635559082,8.497739791870117,-0.79548579454422,-30.909372329711914,-17.046613693237305,-6.872892379760742,10.740802764892578,2.930500030517578,-26.768579483032227,-4.151523113250732,10.387740135192871,20.415504455566406,5.537390232086182,7.6204447746276855,1.6151756048202515,-18.134014129638672,23.822484970092773],\"yaxis\":\"y\",\"type\":\"scatter\"},{\"customdata\":[[\"Mama's Gun\",\"Glass Animals\"],[\"Your Love (D\\u00e9j\\u00e0 Vu)\",\"Glass Animals\"],[\"Helium\",\"Glass Animals\"],[\"Youth\",\"Glass Animals\"],[\"Gooey\",\"Glass Animals\"],[\"Pork Soda\",\"Glass Animals\"],[\"I Don't Wanna Talk (I Just Wanna Dance)\",\"Glass Animals\"],[\"The Other Side Of Paradise\",\"Glass Animals\"],[\"Tokyo Drifting\",\"Glass Animals\"],[\"Heat Waves\",\"Glass Animals\"],[\"Tokyo Drifting (with Denzel Curry)\",\"Glass Animals\"]],\"hovertemplate\":\"artist_name=%{customdata[1]}<br>0=%{x}<br>1=%{y}<br>song_name=%{customdata[0]}<extra></extra>\",\"legendgroup\":\"Glass Animals\",\"marker\":{\"color\":\"#FFA15A\",\"symbol\":\"circle\"},\"mode\":\"markers\",\"name\":\"Glass Animals\",\"orientation\":\"v\",\"showlegend\":true,\"x\":[26.68921661376953,-14.129878997802734,-36.98331069946289,30.34175682067871,23.875194549560547,-18.592947006225586,-9.384700775146484,23.49285316467285,23.524221420288086,-17.923229217529297,23.837005615234375],\"xaxis\":\"x\",\"y\":[26.12129783630371,2.052879571914673,-2.016967296600342,10.893621444702148,25.568714141845703,4.39093542098999,1.6526368856430054,19.776775360107422,18.448732376098633,11.495314598083496,18.074594497680664],\"yaxis\":\"y\",\"type\":\"scatter\"},{\"customdata\":[[\"Let It Rock\",\"Kevin Rudolf\"]],\"hovertemplate\":\"artist_name=%{customdata[1]}<br>0=%{x}<br>1=%{y}<br>song_name=%{customdata[0]}<extra></extra>\",\"legendgroup\":\"Kevin Rudolf\",\"marker\":{\"color\":\"#19d3f3\",\"symbol\":\"circle\"},\"mode\":\"markers\",\"name\":\"Kevin Rudolf\",\"orientation\":\"v\",\"showlegend\":true,\"x\":[-4.555344581604004],\"xaxis\":\"x\",\"y\":[3.365244150161743],\"yaxis\":\"y\",\"type\":\"scatter\"},{\"customdata\":[[\"Barbra Streisand (Original Mix)\",\"Duck Sauce\"]],\"hovertemplate\":\"artist_name=%{customdata[1]}<br>0=%{x}<br>1=%{y}<br>song_name=%{customdata[0]}<extra></extra>\",\"legendgroup\":\"Duck Sauce\",\"marker\":{\"color\":\"#FF6692\",\"symbol\":\"circle\"},\"mode\":\"markers\",\"name\":\"Duck Sauce\",\"orientation\":\"v\",\"showlegend\":true,\"x\":[-11.3162841796875],\"xaxis\":\"x\",\"y\":[-21.05170249938965],\"yaxis\":\"y\",\"type\":\"scatter\"},{\"customdata\":[[\"Pretty Girls Make Graves - 2011 Remaster\",\"The Smiths\"],[\"Bigmouth Strikes Again - 2011 Remaster\",\"The Smiths\"],[\"Heaven Knows I'm Miserable Now - 2011 Remaster\",\"The Smiths\"]],\"hovertemplate\":\"artist_name=%{customdata[1]}<br>0=%{x}<br>1=%{y}<br>song_name=%{customdata[0]}<extra></extra>\",\"legendgroup\":\"The Smiths\",\"marker\":{\"color\":\"#B6E880\",\"symbol\":\"circle\"},\"mode\":\"markers\",\"name\":\"The Smiths\",\"orientation\":\"v\",\"showlegend\":true,\"x\":[30.175804138183594,26.702455520629883,-8.9378023147583],\"xaxis\":\"x\",\"y\":[13.268411636352539,3.2010910511016846,3.5869030952453613],\"yaxis\":\"y\",\"type\":\"scatter\"},{\"customdata\":[[\"Backseat Freestyle\",\"Kendrick Lamar\"],[\"King Kunta\",\"Kendrick Lamar\"],[\"All The Stars (with SZA)\",\"Kendrick Lamar\"]],\"hovertemplate\":\"artist_name=%{customdata[1]}<br>0=%{x}<br>1=%{y}<br>song_name=%{customdata[0]}<extra></extra>\",\"legendgroup\":\"Kendrick Lamar\",\"marker\":{\"color\":\"#FF97FF\",\"symbol\":\"circle\"},\"mode\":\"markers\",\"name\":\"Kendrick Lamar\",\"orientation\":\"v\",\"showlegend\":true,\"x\":[1.6850379705429077,32.35992431640625,-10.969843864440918],\"xaxis\":\"x\",\"y\":[17.804662704467773,13.317448616027832,3.2841837406158447],\"yaxis\":\"y\",\"type\":\"scatter\"},{\"customdata\":[[\"Novacane\",\"Frank Ocean\"],[\"In My Room\",\"Frank Ocean\"],[\"Lost\",\"Frank Ocean\"],[\"Biking\",\"Frank Ocean\"],[\"Nights\",\"Frank Ocean\"],[\"Pink + White\",\"Frank Ocean\"],[\"Swim Good\",\"Frank Ocean\"]],\"hovertemplate\":\"artist_name=%{customdata[1]}<br>0=%{x}<br>1=%{y}<br>song_name=%{customdata[0]}<extra></extra>\",\"legendgroup\":\"Frank Ocean\",\"marker\":{\"color\":\"#FECB52\",\"symbol\":\"circle\"},\"mode\":\"markers\",\"name\":\"Frank Ocean\",\"orientation\":\"v\",\"showlegend\":true,\"x\":[-20.51546287536621,2.201235771179199,-0.15461227297782898,-11.186074256896973,28.664342880249023,-24.46125602722168,-10.837738990783691],\"xaxis\":\"x\",\"y\":[-3.21097469329834,-29.80002212524414,21.9158935546875,18.21346664428711,22.305776596069336,11.710026741027832,-5.512116432189941],\"yaxis\":\"y\",\"type\":\"scatter\"},{\"customdata\":[[\"Yeah - bonus\",\"Mac Miller\"],[\"Self Care\",\"Mac Miller\"],[\"Kool Aid and Frozen Pizza\",\"Mac Miller\"],[\"Nikes on My Feet\",\"Mac Miller\"],[\"Woods\",\"Mac Miller\"]],\"hovertemplate\":\"artist_name=%{customdata[1]}<br>0=%{x}<br>1=%{y}<br>song_name=%{customdata[0]}<extra></extra>\",\"legendgroup\":\"Mac Miller\",\"marker\":{\"color\":\"#636efa\",\"symbol\":\"circle\"},\"mode\":\"markers\",\"name\":\"Mac Miller\",\"orientation\":\"v\",\"showlegend\":true,\"x\":[0.42209264636039734,-11.1492919921875,2.233220338821411,4.799289226531982,-20.209644317626953],\"xaxis\":\"x\",\"y\":[-2.6854655742645264,18.219112396240234,23.416391372680664,24.663402557373047,-2.653803586959839],\"yaxis\":\"y\",\"type\":\"scatter\"},{\"customdata\":[[\"Johnny B. Goode\",\"Chuck Berry\"]],\"hovertemplate\":\"artist_name=%{customdata[1]}<br>0=%{x}<br>1=%{y}<br>song_name=%{customdata[0]}<extra></extra>\",\"legendgroup\":\"Chuck Berry\",\"marker\":{\"color\":\"#EF553B\",\"symbol\":\"circle\"},\"mode\":\"markers\",\"name\":\"Chuck Berry\",\"orientation\":\"v\",\"showlegend\":true,\"x\":[-22.8701229095459],\"xaxis\":\"x\",\"y\":[11.822203636169434],\"yaxis\":\"y\",\"type\":\"scatter\"},{\"customdata\":[[\"(Song For My) Sugar Spun Sister\",\"The Stone Roses\"],[\"Bye Bye Bad Man\",\"The Stone Roses\"],[\"Made of Stone - Remastered\",\"The Stone Roses\"],[\"All For One\",\"The Stone Roses\"],[\"I Wanna Be Adored - Remastered\",\"The Stone Roses\"],[\"Waterfall - Remastered\",\"The Stone Roses\"],[\"Waterfall\",\"The Stone Roses\"],[\"Love Spreads\",\"The Stone Roses\"],[\"Sally Cinnamon - Single Mix\",\"The Stone Roses\"],[\"This Is the One - Remastered\",\"The Stone Roses\"],[\"Elephant Stone - Remastered\",\"The Stone Roses\"],[\"Fools Gold\",\"The Stone Roses\"]],\"hovertemplate\":\"artist_name=%{customdata[1]}<br>0=%{x}<br>1=%{y}<br>song_name=%{customdata[0]}<extra></extra>\",\"legendgroup\":\"The Stone Roses\",\"marker\":{\"color\":\"#00cc96\",\"symbol\":\"circle\"},\"mode\":\"markers\",\"name\":\"The Stone Roses\",\"orientation\":\"v\",\"showlegend\":true,\"x\":[-23.83124542236328,-19.36803436279297,4.767192840576172,-3.9275174140930176,29.28309440612793,0.37934184074401855,-23.693565368652344,5.076645374298096,-25.525766372680664,3.7034621238708496,3.303626537322998,-3.0538716316223145],\"xaxis\":\"x\",\"y\":[1.641915202140808,0.6760751008987427,-1.5476784706115723,-13.360840797424316,7.003650188446045,1.6561919450759888,1.0186007022857666,8.418371200561523,-4.449533462524414,0.3868299126625061,-3.014854907989502,-25.365808486938477],\"yaxis\":\"y\",\"type\":\"scatter\"},{\"customdata\":[[\"Guillotine\",\"Mansionair\"]],\"hovertemplate\":\"artist_name=%{customdata[1]}<br>0=%{x}<br>1=%{y}<br>song_name=%{customdata[0]}<extra></extra>\",\"legendgroup\":\"Mansionair\",\"marker\":{\"color\":\"#ab63fa\",\"symbol\":\"circle\"},\"mode\":\"markers\",\"name\":\"Mansionair\",\"orientation\":\"v\",\"showlegend\":true,\"x\":[-13.249641418457031],\"xaxis\":\"x\",\"y\":[5.0797014236450195],\"yaxis\":\"y\",\"type\":\"scatter\"},{\"customdata\":[[\"Make of It\",\"half\\u2022alive\"]],\"hovertemplate\":\"artist_name=%{customdata[1]}<br>0=%{x}<br>1=%{y}<br>song_name=%{customdata[0]}<extra></extra>\",\"legendgroup\":\"half\\u2022alive\",\"marker\":{\"color\":\"#FFA15A\",\"symbol\":\"circle\"},\"mode\":\"markers\",\"name\":\"half\\u2022alive\",\"orientation\":\"v\",\"showlegend\":true,\"x\":[-1.2057299613952637],\"xaxis\":\"x\",\"y\":[21.648605346679688],\"yaxis\":\"y\",\"type\":\"scatter\"},{\"customdata\":[[\"Stuck In The Middle With You\",\"Stealers Wheel\"]],\"hovertemplate\":\"artist_name=%{customdata[1]}<br>0=%{x}<br>1=%{y}<br>song_name=%{customdata[0]}<extra></extra>\",\"legendgroup\":\"Stealers Wheel\",\"marker\":{\"color\":\"#19d3f3\",\"symbol\":\"circle\"},\"mode\":\"markers\",\"name\":\"Stealers Wheel\",\"orientation\":\"v\",\"showlegend\":true,\"x\":[-15.039881706237793],\"xaxis\":\"x\",\"y\":[4.331576347351074],\"yaxis\":\"y\",\"type\":\"scatter\"},{\"customdata\":[[\"Since I've Been Loving You - Remaster\",\"Led Zeppelin\"],[\"Tangerine - Remaster\",\"Led Zeppelin\"]],\"hovertemplate\":\"artist_name=%{customdata[1]}<br>0=%{x}<br>1=%{y}<br>song_name=%{customdata[0]}<extra></extra>\",\"legendgroup\":\"Led Zeppelin\",\"marker\":{\"color\":\"#FF6692\",\"symbol\":\"circle\"},\"mode\":\"markers\",\"name\":\"Led Zeppelin\",\"orientation\":\"v\",\"showlegend\":true,\"x\":[28.431787490844727,-27.36294174194336],\"xaxis\":\"x\",\"y\":[17.97948455810547,-2.7956414222717285],\"yaxis\":\"y\",\"type\":\"scatter\"},{\"customdata\":[[\"Kylian Mbapp\\u00e9\",\"FYRE\"]],\"hovertemplate\":\"artist_name=%{customdata[1]}<br>0=%{x}<br>1=%{y}<br>song_name=%{customdata[0]}<extra></extra>\",\"legendgroup\":\"FYRE\",\"marker\":{\"color\":\"#B6E880\",\"symbol\":\"circle\"},\"mode\":\"markers\",\"name\":\"FYRE\",\"orientation\":\"v\",\"showlegend\":true,\"x\":[0.33614397048950195],\"xaxis\":\"x\",\"y\":[21.743946075439453],\"yaxis\":\"y\",\"type\":\"scatter\"},{\"customdata\":[[\"Heaven's Only Wishful\",\"MorMor\"]],\"hovertemplate\":\"artist_name=%{customdata[1]}<br>0=%{x}<br>1=%{y}<br>song_name=%{customdata[0]}<extra></extra>\",\"legendgroup\":\"MorMor\",\"marker\":{\"color\":\"#FF97FF\",\"symbol\":\"circle\"},\"mode\":\"markers\",\"name\":\"MorMor\",\"orientation\":\"v\",\"showlegend\":true,\"x\":[22.351001739501953],\"xaxis\":\"x\",\"y\":[-12.240815162658691],\"yaxis\":\"y\",\"type\":\"scatter\"},{\"customdata\":[[\"Blizzard\",\"Kavinsky\"]],\"hovertemplate\":\"artist_name=%{customdata[1]}<br>0=%{x}<br>1=%{y}<br>song_name=%{customdata[0]}<extra></extra>\",\"legendgroup\":\"Kavinsky\",\"marker\":{\"color\":\"#FECB52\",\"symbol\":\"circle\"},\"mode\":\"markers\",\"name\":\"Kavinsky\",\"orientation\":\"v\",\"showlegend\":true,\"x\":[4.021535396575928],\"xaxis\":\"x\",\"y\":[-20.658687591552734],\"yaxis\":\"y\",\"type\":\"scatter\"},{\"customdata\":[[\"1539 N. Calvert\",\"JPEGMAFIA\"],[\"drake era\",\"JPEGMAFIA\"],[\"ALL CAPS NO SPACES\",\"JPEGMAFIA\"],[\"Baby I'm Bleeding\",\"JPEGMAFIA\"],[\"Drake Era\",\"JPEGMAFIA\"]],\"hovertemplate\":\"artist_name=%{customdata[1]}<br>0=%{x}<br>1=%{y}<br>song_name=%{customdata[0]}<extra></extra>\",\"legendgroup\":\"JPEGMAFIA\",\"marker\":{\"color\":\"#636efa\",\"symbol\":\"circle\"},\"mode\":\"markers\",\"name\":\"JPEGMAFIA\",\"orientation\":\"v\",\"showlegend\":true,\"x\":[38.61709976196289,1.8846696615219116,2.9538233280181885,5.0507001876831055,1.6612215042114258],\"xaxis\":\"x\",\"y\":[-0.025004107505083084,20.710477828979492,21.59530258178711,3.179072380065918,20.827404022216797],\"yaxis\":\"y\",\"type\":\"scatter\"},{\"customdata\":[[\"Slide Away - Remastered\",\"Oasis\"],[\"Champagne Supernova (Live at Knebworth, 11 August '96)\",\"Oasis\"],[\"Supersonic - Remastered\",\"Oasis\"],[\"Half the World Away - Remastered\",\"Oasis\"],[\"Champagne Supernova - Live at Wembley Stadium, 2000\",\"Oasis\"],[\"Rock 'n' Roll Star - Remastered\",\"Oasis\"],[\"Fuckin' In the Bushes\",\"Oasis\"],[\"Columbia - Remastered\",\"Oasis\"],[\"Live Forever\",\"Oasis\"],[\"The Swamp Song\",\"Oasis\"],[\"Rock \\u2018n\\u2019 Roll Star - Remastered\",\"Oasis\"],[\"The Masterplan - Remastered\",\"Oasis\"],[\"Talk Tonight - Remastered\",\"Oasis\"],[\"Acquiesce - Remastered\",\"Oasis\"],[\"Some Might Say - Remastered\",\"Oasis\"],[\"Morning Glory - Remastered\",\"Oasis\"],[\"Bring It on Down - Remastered\",\"Oasis\"],[\"Champagne Supernova - Remastered\",\"Oasis\"]],\"hovertemplate\":\"artist_name=%{customdata[1]}<br>0=%{x}<br>1=%{y}<br>song_name=%{customdata[0]}<extra></extra>\",\"legendgroup\":\"Oasis\",\"marker\":{\"color\":\"#EF553B\",\"symbol\":\"circle\"},\"mode\":\"markers\",\"name\":\"Oasis\",\"orientation\":\"v\",\"showlegend\":true,\"x\":[26.341062545776367,12.135912895202637,-4.36461877822876,-23.903867721557617,12.2117338180542,5.989046096801758,16.241455078125,5.822017669677734,25.633480072021484,9.29160213470459,5.841273784637451,-20.06574821472168,31.60049819946289,4.529603481292725,26.644662857055664,1.683798909187317,7.172516345977783,0.4302307069301605],\"xaxis\":\"x\",\"y\":[-1.6482048034667969,1.510335922241211,7.025010585784912,-15.917301177978516,2.053739309310913,-0.42552104592323303,3.5009446144104004,-19.106765747070312,0.2931724786758423,-18.616079330444336,-0.6342551112174988,-17.859655380249023,23.42795181274414,-2.185450315475464,-2.524106025695801,-14.673036575317383,-18.3253173828125,-15.655797004699707],\"yaxis\":\"y\",\"type\":\"scatter\"},{\"customdata\":[[\"Shut Up\",\"Stormzy\"]],\"hovertemplate\":\"artist_name=%{customdata[1]}<br>0=%{x}<br>1=%{y}<br>song_name=%{customdata[0]}<extra></extra>\",\"legendgroup\":\"Stormzy\",\"marker\":{\"color\":\"#00cc96\",\"symbol\":\"circle\"},\"mode\":\"markers\",\"name\":\"Stormzy\",\"orientation\":\"v\",\"showlegend\":true,\"x\":[4.5151166915893555],\"xaxis\":\"x\",\"y\":[17.648033142089844],\"yaxis\":\"y\",\"type\":\"scatter\"},{\"customdata\":[[\"Waterloo Sunset - Mono Version\",\"The Kinks\"],[\"All Day and All of the Night\",\"The Kinks\"],[\"A Well Respected Man\",\"The Kinks\"]],\"hovertemplate\":\"artist_name=%{customdata[1]}<br>0=%{x}<br>1=%{y}<br>song_name=%{customdata[0]}<extra></extra>\",\"legendgroup\":\"The Kinks\",\"marker\":{\"color\":\"#ab63fa\",\"symbol\":\"circle\"},\"mode\":\"markers\",\"name\":\"The Kinks\",\"orientation\":\"v\",\"showlegend\":true,\"x\":[33.29414749145508,-13.351831436157227,34.53611755371094],\"xaxis\":\"x\",\"y\":[18.949350357055664,7.97868537902832,-2.591089963912964],\"yaxis\":\"y\",\"type\":\"scatter\"},{\"customdata\":[[\"Bohemian Like You\",\"The Dandy Warhols\"]],\"hovertemplate\":\"artist_name=%{customdata[1]}<br>0=%{x}<br>1=%{y}<br>song_name=%{customdata[0]}<extra></extra>\",\"legendgroup\":\"The Dandy Warhols\",\"marker\":{\"color\":\"#FFA15A\",\"symbol\":\"circle\"},\"mode\":\"markers\",\"name\":\"The Dandy Warhols\",\"orientation\":\"v\",\"showlegend\":true,\"x\":[0.9246453642845154],\"xaxis\":\"x\",\"y\":[-24.77635383605957],\"yaxis\":\"y\",\"type\":\"scatter\"},{\"customdata\":[[\"Teardrops\",\"Bring Me The Horizon\"]],\"hovertemplate\":\"artist_name=%{customdata[1]}<br>0=%{x}<br>1=%{y}<br>song_name=%{customdata[0]}<extra></extra>\",\"legendgroup\":\"Bring Me The Horizon\",\"marker\":{\"color\":\"#19d3f3\",\"symbol\":\"circle\"},\"mode\":\"markers\",\"name\":\"Bring Me The Horizon\",\"orientation\":\"v\",\"showlegend\":true,\"x\":[0.08623694628477097],\"xaxis\":\"x\",\"y\":[4.043443202972412],\"yaxis\":\"y\",\"type\":\"scatter\"},{\"customdata\":[[\"The Model - 2009 Remaster\",\"Kraftwerk\"],[\"Tour de France - 2009 Remaster\",\"Kraftwerk\"]],\"hovertemplate\":\"artist_name=%{customdata[1]}<br>0=%{x}<br>1=%{y}<br>song_name=%{customdata[0]}<extra></extra>\",\"legendgroup\":\"Kraftwerk\",\"marker\":{\"color\":\"#FF6692\",\"symbol\":\"circle\"},\"mode\":\"markers\",\"name\":\"Kraftwerk\",\"orientation\":\"v\",\"showlegend\":true,\"x\":[21.271520614624023,23.565202713012695],\"xaxis\":\"x\",\"y\":[-14.31943416595459,-15.626263618469238],\"yaxis\":\"y\",\"type\":\"scatter\"},{\"customdata\":[[\"Harness Your Hopes - B-side\",\"Pavement\"],[\"Harness Your Hopes - (B-side)\",\"Pavement\"]],\"hovertemplate\":\"artist_name=%{customdata[1]}<br>0=%{x}<br>1=%{y}<br>song_name=%{customdata[0]}<extra></extra>\",\"legendgroup\":\"Pavement\",\"marker\":{\"color\":\"#B6E880\",\"symbol\":\"circle\"},\"mode\":\"markers\",\"name\":\"Pavement\",\"orientation\":\"v\",\"showlegend\":true,\"x\":[-20.707908630371094,-20.696565628051758],\"xaxis\":\"x\",\"y\":[-6.0175557136535645,-6.005733013153076],\"yaxis\":\"y\",\"type\":\"scatter\"},{\"customdata\":[[\"Edge of Seventeen\",\"Stevie Nicks\"]],\"hovertemplate\":\"artist_name=%{customdata[1]}<br>0=%{x}<br>1=%{y}<br>song_name=%{customdata[0]}<extra></extra>\",\"legendgroup\":\"Stevie Nicks\",\"marker\":{\"color\":\"#FF97FF\",\"symbol\":\"circle\"},\"mode\":\"markers\",\"name\":\"Stevie Nicks\",\"orientation\":\"v\",\"showlegend\":true,\"x\":[-13.844870567321777],\"xaxis\":\"x\",\"y\":[-9.165899276733398],\"yaxis\":\"y\",\"type\":\"scatter\"},{\"customdata\":[[\"Rhiannon\",\"Fleetwood Mac\"],[\"The Chain - Live 1977\",\"Fleetwood Mac\"],[\"Dreams - 2004 Remaster\",\"Fleetwood Mac\"],[\"The Chain - 2004 Remaster\",\"Fleetwood Mac\"]],\"hovertemplate\":\"artist_name=%{customdata[1]}<br>0=%{x}<br>1=%{y}<br>song_name=%{customdata[0]}<extra></extra>\",\"legendgroup\":\"Fleetwood Mac\",\"marker\":{\"color\":\"#FECB52\",\"symbol\":\"circle\"},\"mode\":\"markers\",\"name\":\"Fleetwood Mac\",\"orientation\":\"v\",\"showlegend\":true,\"x\":[23.47553825378418,13.793561935424805,-16.966419219970703,-4.589517593383789],\"xaxis\":\"x\",\"y\":[15.44780158996582,1.4376946687698364,-3.080899238586426,-1.4354416131973267],\"yaxis\":\"y\",\"type\":\"scatter\"},{\"customdata\":[[\"Stargazing\",\"The Neighbourhood\"]],\"hovertemplate\":\"artist_name=%{customdata[1]}<br>0=%{x}<br>1=%{y}<br>song_name=%{customdata[0]}<extra></extra>\",\"legendgroup\":\"The Neighbourhood\",\"marker\":{\"color\":\"#636efa\",\"symbol\":\"circle\"},\"mode\":\"markers\",\"name\":\"The Neighbourhood\",\"orientation\":\"v\",\"showlegend\":true,\"x\":[-20.63509178161621],\"xaxis\":\"x\",\"y\":[-12.897710800170898],\"yaxis\":\"y\",\"type\":\"scatter\"},{\"customdata\":[[\"Dreams Tonite\",\"Alvvays\"],[\"Adult Diversion\",\"Alvvays\"]],\"hovertemplate\":\"artist_name=%{customdata[1]}<br>0=%{x}<br>1=%{y}<br>song_name=%{customdata[0]}<extra></extra>\",\"legendgroup\":\"Alvvays\",\"marker\":{\"color\":\"#EF553B\",\"symbol\":\"circle\"},\"mode\":\"markers\",\"name\":\"Alvvays\",\"orientation\":\"v\",\"showlegend\":true,\"x\":[-13.71136474609375,3.696453809738159],\"xaxis\":\"x\",\"y\":[-15.302292823791504,-11.66074275970459],\"yaxis\":\"y\",\"type\":\"scatter\"},{\"customdata\":[[\"L\\u2019Ultima Volta\",\"Ennio Morricone\"]],\"hovertemplate\":\"artist_name=%{customdata[1]}<br>0=%{x}<br>1=%{y}<br>song_name=%{customdata[0]}<extra></extra>\",\"legendgroup\":\"Ennio Morricone\",\"marker\":{\"color\":\"#00cc96\",\"symbol\":\"circle\"},\"mode\":\"markers\",\"name\":\"Ennio Morricone\",\"orientation\":\"v\",\"showlegend\":true,\"x\":[-5.849053382873535],\"xaxis\":\"x\",\"y\":[-23.14521598815918],\"yaxis\":\"y\",\"type\":\"scatter\"},{\"customdata\":[[\"Jail\",\"Kanye West\"],[\"POWER\",\"Kanye West\"],[\"Black Skinhead\",\"Kanye West\"],[\"Mercy\",\"Kanye West\"],[\"Stronger\",\"Kanye West\"]],\"hovertemplate\":\"artist_name=%{customdata[1]}<br>0=%{x}<br>1=%{y}<br>song_name=%{customdata[0]}<extra></extra>\",\"legendgroup\":\"Kanye West\",\"marker\":{\"color\":\"#ab63fa\",\"symbol\":\"circle\"},\"mode\":\"markers\",\"name\":\"Kanye West\",\"orientation\":\"v\",\"showlegend\":true,\"x\":[-23.445159912109375,13.520519256591797,1.1425809860229492,5.700575351715088,22.361143112182617],\"xaxis\":\"x\",\"y\":[5.944958209991455,5.354428291320801,18.883529663085938,21.091236114501953,9.725544929504395],\"yaxis\":\"y\",\"type\":\"scatter\"},{\"customdata\":[[\"California Dreamin'\",\"The Mamas & The Papas\"]],\"hovertemplate\":\"artist_name=%{customdata[1]}<br>0=%{x}<br>1=%{y}<br>song_name=%{customdata[0]}<extra></extra>\",\"legendgroup\":\"The Mamas & The Papas\",\"marker\":{\"color\":\"#FFA15A\",\"symbol\":\"circle\"},\"mode\":\"markers\",\"name\":\"The Mamas & The Papas\",\"orientation\":\"v\",\"showlegend\":true,\"x\":[29.068477630615234],\"xaxis\":\"x\",\"y\":[24.231861114501953],\"yaxis\":\"y\",\"type\":\"scatter\"},{\"customdata\":[[\"Negro Spiritual\",\"Danny Brown\"],[\"Ain't it Funny\",\"Danny Brown\"]],\"hovertemplate\":\"artist_name=%{customdata[1]}<br>0=%{x}<br>1=%{y}<br>song_name=%{customdata[0]}<extra></extra>\",\"legendgroup\":\"Danny Brown\",\"marker\":{\"color\":\"#19d3f3\",\"symbol\":\"circle\"},\"mode\":\"markers\",\"name\":\"Danny Brown\",\"orientation\":\"v\",\"showlegend\":true,\"x\":[1.6623733043670654,25.007946014404297],\"xaxis\":\"x\",\"y\":[18.97706413269043,-1.8924362659454346],\"yaxis\":\"y\",\"type\":\"scatter\"},{\"customdata\":[[\"GTFU (Feat. JPEGMAFIA & Cakes da Killa)\",\"Injury Reserve\"],[\"Jailbreak the Tesla (Feat. Amin\\u00e9)\",\"Injury Reserve\"]],\"hovertemplate\":\"artist_name=%{customdata[1]}<br>0=%{x}<br>1=%{y}<br>song_name=%{customdata[0]}<extra></extra>\",\"legendgroup\":\"Injury Reserve\",\"marker\":{\"color\":\"#FF6692\",\"symbol\":\"circle\"},\"mode\":\"markers\",\"name\":\"Injury Reserve\",\"orientation\":\"v\",\"showlegend\":true,\"x\":[4.8230881690979,5.241007328033447],\"xaxis\":\"x\",\"y\":[21.67382049560547,22.39637565612793],\"yaxis\":\"y\",\"type\":\"scatter\"},{\"customdata\":[[\"Save Me - Acoustic\",\"Shinedown\"]],\"hovertemplate\":\"artist_name=%{customdata[1]}<br>0=%{x}<br>1=%{y}<br>song_name=%{customdata[0]}<extra></extra>\",\"legendgroup\":\"Shinedown\",\"marker\":{\"color\":\"#B6E880\",\"symbol\":\"circle\"},\"mode\":\"markers\",\"name\":\"Shinedown\",\"orientation\":\"v\",\"showlegend\":true,\"x\":[24.49076271057129],\"xaxis\":\"x\",\"y\":[22.364238739013672],\"yaxis\":\"y\",\"type\":\"scatter\"},{\"customdata\":[[\"Deceptacon\",\"Le Tigre\"]],\"hovertemplate\":\"artist_name=%{customdata[1]}<br>0=%{x}<br>1=%{y}<br>song_name=%{customdata[0]}<extra></extra>\",\"legendgroup\":\"Le Tigre\",\"marker\":{\"color\":\"#FF97FF\",\"symbol\":\"circle\"},\"mode\":\"markers\",\"name\":\"Le Tigre\",\"orientation\":\"v\",\"showlegend\":true,\"x\":[33.5008544921875],\"xaxis\":\"x\",\"y\":[2.08274245262146],\"yaxis\":\"y\",\"type\":\"scatter\"},{\"customdata\":[[\"Drunk Drivers/Killer Whales\",\"Car Seat Headrest\"],[\"Fill in the Blank\",\"Car Seat Headrest\"],[\"Vincent\",\"Car Seat Headrest\"],[\"(Joe Gets Kicked Out of School for Using) Drugs With Friends (But Says This Isn't a Problem)\",\"Car Seat Headrest\"],[\"Fill in the Blank\",\"Car Seat Headrest\"],[\"Drunk Drivers/Killer Whales\",\"Car Seat Headrest\"]],\"hovertemplate\":\"artist_name=%{customdata[1]}<br>0=%{x}<br>1=%{y}<br>song_name=%{customdata[0]}<extra></extra>\",\"legendgroup\":\"Car Seat Headrest\",\"marker\":{\"color\":\"#FECB52\",\"symbol\":\"circle\"},\"mode\":\"markers\",\"name\":\"Car Seat Headrest\",\"orientation\":\"v\",\"showlegend\":true,\"x\":[-22.32666015625,0.4707871377468109,-20.264467239379883,-23.48255157470703,0.49843692779541016,-22.364343643188477],\"xaxis\":\"x\",\"y\":[-7.740931034088135,-7.345494270324707,-18.71013832092285,-7.970546245574951,-7.431901454925537,-7.77493143081665],\"yaxis\":\"y\",\"type\":\"scatter\"},{\"customdata\":[[\"Doorman\",\"slowthai\"]],\"hovertemplate\":\"artist_name=%{customdata[1]}<br>0=%{x}<br>1=%{y}<br>song_name=%{customdata[0]}<extra></extra>\",\"legendgroup\":\"slowthai\",\"marker\":{\"color\":\"#636efa\",\"symbol\":\"circle\"},\"mode\":\"markers\",\"name\":\"slowthai\",\"orientation\":\"v\",\"showlegend\":true,\"x\":[6.378284454345703],\"xaxis\":\"x\",\"y\":[23.052915573120117],\"yaxis\":\"y\",\"type\":\"scatter\"},{\"customdata\":[[\"Those Who Can't, Cheat\",\"Clarence Clarity\"]],\"hovertemplate\":\"artist_name=%{customdata[1]}<br>0=%{x}<br>1=%{y}<br>song_name=%{customdata[0]}<extra></extra>\",\"legendgroup\":\"Clarence Clarity\",\"marker\":{\"color\":\"#EF553B\",\"symbol\":\"circle\"},\"mode\":\"markers\",\"name\":\"Clarence Clarity\",\"orientation\":\"v\",\"showlegend\":true,\"x\":[25.146373748779297],\"xaxis\":\"x\",\"y\":[7.398747444152832],\"yaxis\":\"y\",\"type\":\"scatter\"},{\"customdata\":[[\"Wriggle\",\"clipping.\"],[\"Story 2\",\"clipping.\"],[\"Say the Name\",\"clipping.\"],[\"Nothing is Safe\",\"clipping.\"]],\"hovertemplate\":\"artist_name=%{customdata[1]}<br>0=%{x}<br>1=%{y}<br>song_name=%{customdata[0]}<extra></extra>\",\"legendgroup\":\"clipping.\",\"marker\":{\"color\":\"#00cc96\",\"symbol\":\"circle\"},\"mode\":\"markers\",\"name\":\"clipping.\",\"orientation\":\"v\",\"showlegend\":true,\"x\":[1.9742398262023926,6.926544666290283,-26.67647933959961,20.675893783569336],\"xaxis\":\"x\",\"y\":[16.93843650817871,20.367116928100586,-9.839179992675781,16.678150177001953],\"yaxis\":\"y\",\"type\":\"scatter\"},{\"customdata\":[[\"The Thrill\",\"Wiz Khalifa\"]],\"hovertemplate\":\"artist_name=%{customdata[1]}<br>0=%{x}<br>1=%{y}<br>song_name=%{customdata[0]}<extra></extra>\",\"legendgroup\":\"Wiz Khalifa\",\"marker\":{\"color\":\"#ab63fa\",\"symbol\":\"circle\"},\"mode\":\"markers\",\"name\":\"Wiz Khalifa\",\"orientation\":\"v\",\"showlegend\":true,\"x\":[37.67894744873047],\"xaxis\":\"x\",\"y\":[7.720264434814453],\"yaxis\":\"y\",\"type\":\"scatter\"},{\"customdata\":[[\"Banquet\",\"Bloc Party\"],[\"Banquet\",\"Bloc Party\"],[\"Helicopter\",\"Bloc Party\"]],\"hovertemplate\":\"artist_name=%{customdata[1]}<br>0=%{x}<br>1=%{y}<br>song_name=%{customdata[0]}<extra></extra>\",\"legendgroup\":\"Bloc Party\",\"marker\":{\"color\":\"#FFA15A\",\"symbol\":\"circle\"},\"mode\":\"markers\",\"name\":\"Bloc Party\",\"orientation\":\"v\",\"showlegend\":true,\"x\":[34.5591926574707,34.594200134277344,32.56142807006836],\"xaxis\":\"x\",\"y\":[3.459843397140503,3.5292375087738037,-3.8621883392333984],\"yaxis\":\"y\",\"type\":\"scatter\"},{\"customdata\":[[\"Dog Days Are Over\",\"Florence + The Machine\"],[\"What The Water Gave Me\",\"Florence + The Machine\"],[\"Queen Of Peace\",\"Florence + The Machine\"]],\"hovertemplate\":\"artist_name=%{customdata[1]}<br>0=%{x}<br>1=%{y}<br>song_name=%{customdata[0]}<extra></extra>\",\"legendgroup\":\"Florence + The Machine\",\"marker\":{\"color\":\"#19d3f3\",\"symbol\":\"circle\"},\"mode\":\"markers\",\"name\":\"Florence + The Machine\",\"orientation\":\"v\",\"showlegend\":true,\"x\":[0.7131302952766418,31.294898986816406,28.991430282592773],\"xaxis\":\"x\",\"y\":[-3.3402140140533447,19.196128845214844,0.34947434067726135],\"yaxis\":\"y\",\"type\":\"scatter\"},{\"customdata\":[[\"Kozmic Blues\",\"Janis Joplin\"]],\"hovertemplate\":\"artist_name=%{customdata[1]}<br>0=%{x}<br>1=%{y}<br>song_name=%{customdata[0]}<extra></extra>\",\"legendgroup\":\"Janis Joplin\",\"marker\":{\"color\":\"#FF6692\",\"symbol\":\"circle\"},\"mode\":\"markers\",\"name\":\"Janis Joplin\",\"orientation\":\"v\",\"showlegend\":true,\"x\":[-25.14336395263672],\"xaxis\":\"x\",\"y\":[12.266060829162598],\"yaxis\":\"y\",\"type\":\"scatter\"},{\"customdata\":[[\"Ladies and gentlemen we are floating in space\",\"Spiritualized\"]],\"hovertemplate\":\"artist_name=%{customdata[1]}<br>0=%{x}<br>1=%{y}<br>song_name=%{customdata[0]}<extra></extra>\",\"legendgroup\":\"Spiritualized\",\"marker\":{\"color\":\"#B6E880\",\"symbol\":\"circle\"},\"mode\":\"markers\",\"name\":\"Spiritualized\",\"orientation\":\"v\",\"showlegend\":true,\"x\":[-35.83208465576172],\"xaxis\":\"x\",\"y\":[-1.3927258253097534],\"yaxis\":\"y\",\"type\":\"scatter\"},{\"customdata\":[[\"Catgroove\",\"Parov Stelar\"]],\"hovertemplate\":\"artist_name=%{customdata[1]}<br>0=%{x}<br>1=%{y}<br>song_name=%{customdata[0]}<extra></extra>\",\"legendgroup\":\"Parov Stelar\",\"marker\":{\"color\":\"#FF97FF\",\"symbol\":\"circle\"},\"mode\":\"markers\",\"name\":\"Parov Stelar\",\"orientation\":\"v\",\"showlegend\":true,\"x\":[-4.212155342102051],\"xaxis\":\"x\",\"y\":[-28.105335235595703],\"yaxis\":\"y\",\"type\":\"scatter\"},{\"customdata\":[[\"A Whiter Shade of Pale - Original Single Version\",\"Procol Harum\"]],\"hovertemplate\":\"artist_name=%{customdata[1]}<br>0=%{x}<br>1=%{y}<br>song_name=%{customdata[0]}<extra></extra>\",\"legendgroup\":\"Procol Harum\",\"marker\":{\"color\":\"#FECB52\",\"symbol\":\"circle\"},\"mode\":\"markers\",\"name\":\"Procol Harum\",\"orientation\":\"v\",\"showlegend\":true,\"x\":[-23.639968872070312],\"xaxis\":\"x\",\"y\":[-17.510650634765625],\"yaxis\":\"y\",\"type\":\"scatter\"},{\"customdata\":[[\"Slide (feat. Frank Ocean & Migos)\",\"Calvin Harris\"]],\"hovertemplate\":\"artist_name=%{customdata[1]}<br>0=%{x}<br>1=%{y}<br>song_name=%{customdata[0]}<extra></extra>\",\"legendgroup\":\"Calvin Harris\",\"marker\":{\"color\":\"#636efa\",\"symbol\":\"circle\"},\"mode\":\"markers\",\"name\":\"Calvin Harris\",\"orientation\":\"v\",\"showlegend\":true,\"x\":[37.058189392089844],\"xaxis\":\"x\",\"y\":[16.52240562438965],\"yaxis\":\"y\",\"type\":\"scatter\"},{\"customdata\":[[\"Alright\",\"Supergrass\"]],\"hovertemplate\":\"artist_name=%{customdata[1]}<br>0=%{x}<br>1=%{y}<br>song_name=%{customdata[0]}<extra></extra>\",\"legendgroup\":\"Supergrass\",\"marker\":{\"color\":\"#EF553B\",\"symbol\":\"circle\"},\"mode\":\"markers\",\"name\":\"Supergrass\",\"orientation\":\"v\",\"showlegend\":true,\"x\":[28.840713500976562],\"xaxis\":\"x\",\"y\":[3.258237838745117],\"yaxis\":\"y\",\"type\":\"scatter\"},{\"customdata\":[[\"You Stole the Sun from My Heart\",\"Manic Street Preachers\"]],\"hovertemplate\":\"artist_name=%{customdata[1]}<br>0=%{x}<br>1=%{y}<br>song_name=%{customdata[0]}<extra></extra>\",\"legendgroup\":\"Manic Street Preachers\",\"marker\":{\"color\":\"#00cc96\",\"symbol\":\"circle\"},\"mode\":\"markers\",\"name\":\"Manic Street Preachers\",\"orientation\":\"v\",\"showlegend\":true,\"x\":[-2.740079402923584],\"xaxis\":\"x\",\"y\":[1.6067153215408325],\"yaxis\":\"y\",\"type\":\"scatter\"},{\"customdata\":[[\"Killamangiro\",\"Babyshambles\"]],\"hovertemplate\":\"artist_name=%{customdata[1]}<br>0=%{x}<br>1=%{y}<br>song_name=%{customdata[0]}<extra></extra>\",\"legendgroup\":\"Babyshambles\",\"marker\":{\"color\":\"#ab63fa\",\"symbol\":\"circle\"},\"mode\":\"markers\",\"name\":\"Babyshambles\",\"orientation\":\"v\",\"showlegend\":true,\"x\":[-4.92093563079834],\"xaxis\":\"x\",\"y\":[4.198923110961914],\"yaxis\":\"y\",\"type\":\"scatter\"},{\"customdata\":[[\"Funky Friday\",\"Dave\"],[\"Location (feat. Burna Boy)\",\"Dave\"]],\"hovertemplate\":\"artist_name=%{customdata[1]}<br>0=%{x}<br>1=%{y}<br>song_name=%{customdata[0]}<extra></extra>\",\"legendgroup\":\"Dave\",\"marker\":{\"color\":\"#FFA15A\",\"symbol\":\"circle\"},\"mode\":\"markers\",\"name\":\"Dave\",\"orientation\":\"v\",\"showlegend\":true,\"x\":[-1.651843786239624,4.250450134277344],\"xaxis\":\"x\",\"y\":[20.55645179748535,24.064773559570312],\"yaxis\":\"y\",\"type\":\"scatter\"},{\"customdata\":[[\"NUN WITH A MOTHERF*&*ING GUN\",\"Trent Reznor and Atticus Ross\"],[\"In Motion\",\"Trent Reznor and Atticus Ross\"],[\"Pieces Form the Whole\",\"Trent Reznor and Atticus Ross\"]],\"hovertemplate\":\"artist_name=%{customdata[1]}<br>0=%{x}<br>1=%{y}<br>song_name=%{customdata[0]}<extra></extra>\",\"legendgroup\":\"Trent Reznor and Atticus Ross\",\"marker\":{\"color\":\"#19d3f3\",\"symbol\":\"circle\"},\"mode\":\"markers\",\"name\":\"Trent Reznor and Atticus Ross\",\"orientation\":\"v\",\"showlegend\":true,\"x\":[-4.430260181427002,-36.71792221069336,-34.104461669921875],\"xaxis\":\"x\",\"y\":[-29.0786190032959,-12.050028800964355,-11.680525779724121],\"yaxis\":\"y\",\"type\":\"scatter\"},{\"customdata\":[[\"House of the Rising Sun\",\"Ramin Djawadi\"]],\"hovertemplate\":\"artist_name=%{customdata[1]}<br>0=%{x}<br>1=%{y}<br>song_name=%{customdata[0]}<extra></extra>\",\"legendgroup\":\"Ramin Djawadi\",\"marker\":{\"color\":\"#FF6692\",\"symbol\":\"circle\"},\"mode\":\"markers\",\"name\":\"Ramin Djawadi\",\"orientation\":\"v\",\"showlegend\":true,\"x\":[20.045217514038086],\"xaxis\":\"x\",\"y\":[26.693254470825195],\"yaxis\":\"y\",\"type\":\"scatter\"},{\"customdata\":[[\"More Of The Same\",\"Caroline Rose\"]],\"hovertemplate\":\"artist_name=%{customdata[1]}<br>0=%{x}<br>1=%{y}<br>song_name=%{customdata[0]}<extra></extra>\",\"legendgroup\":\"Caroline Rose\",\"marker\":{\"color\":\"#B6E880\",\"symbol\":\"circle\"},\"mode\":\"markers\",\"name\":\"Caroline Rose\",\"orientation\":\"v\",\"showlegend\":true,\"x\":[-10.612850189208984],\"xaxis\":\"x\",\"y\":[3.673785448074341],\"yaxis\":\"y\",\"type\":\"scatter\"},{\"customdata\":[[\"Some\",\"Steve Lacy\"]],\"hovertemplate\":\"artist_name=%{customdata[1]}<br>0=%{x}<br>1=%{y}<br>song_name=%{customdata[0]}<extra></extra>\",\"legendgroup\":\"Steve Lacy\",\"marker\":{\"color\":\"#FF97FF\",\"symbol\":\"circle\"},\"mode\":\"markers\",\"name\":\"Steve Lacy\",\"orientation\":\"v\",\"showlegend\":true,\"x\":[-13.663514137268066],\"xaxis\":\"x\",\"y\":[2.2169346809387207],\"yaxis\":\"y\",\"type\":\"scatter\"},{\"customdata\":[[\"Nightclubbing\",\"Iggy Pop\"],[\"The Passenger\",\"Iggy Pop\"],[\"The Passenger\",\"Iggy Pop\"],[\"Lust For Life\",\"Iggy Pop\"]],\"hovertemplate\":\"artist_name=%{customdata[1]}<br>0=%{x}<br>1=%{y}<br>song_name=%{customdata[0]}<extra></extra>\",\"legendgroup\":\"Iggy Pop\",\"marker\":{\"color\":\"#FECB52\",\"symbol\":\"circle\"},\"mode\":\"markers\",\"name\":\"Iggy Pop\",\"orientation\":\"v\",\"showlegend\":true,\"x\":[-17.972610473632812,9.700644493103027,7.829164028167725,-4.626277446746826],\"xaxis\":\"x\",\"y\":[-15.280598640441895,4.8888726234436035,5.018474578857422,7.633665084838867],\"yaxis\":\"y\",\"type\":\"scatter\"},{\"customdata\":[[\"Sale of the Century\",\"Sleeper\"],[\"Atomic\",\"Sleeper\"]],\"hovertemplate\":\"artist_name=%{customdata[1]}<br>0=%{x}<br>1=%{y}<br>song_name=%{customdata[0]}<extra></extra>\",\"legendgroup\":\"Sleeper\",\"marker\":{\"color\":\"#636efa\",\"symbol\":\"circle\"},\"mode\":\"markers\",\"name\":\"Sleeper\",\"orientation\":\"v\",\"showlegend\":true,\"x\":[-5.612369537353516,31.883380889892578],\"xaxis\":\"x\",\"y\":[-0.9227560758590698,6.569896221160889],\"yaxis\":\"y\",\"type\":\"scatter\"},{\"customdata\":[[\"Subterranean Homesick Alien\",\"Radiohead\"],[\"Karma Police\",\"Radiohead\"],[\"Paranoid Android\",\"Radiohead\"],[\"Weird Fishes/ Arpeggi\",\"Radiohead\"],[\"15 Step\",\"Radiohead\"],[\"Optimistic\",\"Radiohead\"],[\"Reckoner\",\"Radiohead\"],[\"Airbag - Remastered\",\"Radiohead\"],[\"Subterranean Homesick Alien\",\"Radiohead\"],[\"Videotape\",\"Radiohead\"],[\"Daydreaming\",\"Radiohead\"],[\"Karma Police\",\"Radiohead\"],[\"Everything In Its Right Place\",\"Radiohead\"]],\"hovertemplate\":\"artist_name=%{customdata[1]}<br>0=%{x}<br>1=%{y}<br>song_name=%{customdata[0]}<extra></extra>\",\"legendgroup\":\"Radiohead\",\"marker\":{\"color\":\"#EF553B\",\"symbol\":\"circle\"},\"mode\":\"markers\",\"name\":\"Radiohead\",\"orientation\":\"v\",\"showlegend\":true,\"x\":[-22.02983856201172,-27.482242584228516,-1.1278502941131592,20.82533073425293,-9.561712265014648,15.803421020507812,30.00165557861328,2.985244035720825,-22.062782287597656,-36.80927276611328,-40.01079177856445,-27.48348045349121,25.768909454345703],\"xaxis\":\"x\",\"y\":[-15.556243896484375,-4.075418949127197,-11.227914810180664,24.241188049316406,-9.417744636535645,-19.084129333496094,22.22921371459961,-27.317947387695312,-15.40615463256836,-10.762869834899902,-8.771361351013184,-4.085952281951904,25.701568603515625],\"yaxis\":\"y\",\"type\":\"scatter\"},{\"customdata\":[[\"Jocelyn Flores\",\"XXXTENTACION\"]],\"hovertemplate\":\"artist_name=%{customdata[1]}<br>0=%{x}<br>1=%{y}<br>song_name=%{customdata[0]}<extra></extra>\",\"legendgroup\":\"XXXTENTACION\",\"marker\":{\"color\":\"#00cc96\",\"symbol\":\"circle\"},\"mode\":\"markers\",\"name\":\"XXXTENTACION\",\"orientation\":\"v\",\"showlegend\":true,\"x\":[1.7608418464660645],\"xaxis\":\"x\",\"y\":[25.307722091674805],\"yaxis\":\"y\",\"type\":\"scatter\"},{\"customdata\":[[\"Why Can't I Be You?\",\"The Cure\"],[\"Play For Today\",\"The Cure\"]],\"hovertemplate\":\"artist_name=%{customdata[1]}<br>0=%{x}<br>1=%{y}<br>song_name=%{customdata[0]}<extra></extra>\",\"legendgroup\":\"The Cure\",\"marker\":{\"color\":\"#ab63fa\",\"symbol\":\"circle\"},\"mode\":\"markers\",\"name\":\"The Cure\",\"orientation\":\"v\",\"showlegend\":true,\"x\":[38.27497100830078,24.806365966796875],\"xaxis\":\"x\",\"y\":[14.674450874328613,13.164660453796387],\"yaxis\":\"y\",\"type\":\"scatter\"},{\"customdata\":[[\"Can I Kick It?\",\"A Tribe Called Quest\"]],\"hovertemplate\":\"artist_name=%{customdata[1]}<br>0=%{x}<br>1=%{y}<br>song_name=%{customdata[0]}<extra></extra>\",\"legendgroup\":\"A Tribe Called Quest\",\"marker\":{\"color\":\"#FFA15A\",\"symbol\":\"circle\"},\"mode\":\"markers\",\"name\":\"A Tribe Called Quest\",\"orientation\":\"v\",\"showlegend\":true,\"x\":[-0.7922526597976685],\"xaxis\":\"x\",\"y\":[19.84814453125],\"yaxis\":\"y\",\"type\":\"scatter\"},{\"customdata\":[[\"A.M. 180\",\"Grandaddy\"]],\"hovertemplate\":\"artist_name=%{customdata[1]}<br>0=%{x}<br>1=%{y}<br>song_name=%{customdata[0]}<extra></extra>\",\"legendgroup\":\"Grandaddy\",\"marker\":{\"color\":\"#19d3f3\",\"symbol\":\"circle\"},\"mode\":\"markers\",\"name\":\"Grandaddy\",\"orientation\":\"v\",\"showlegend\":true,\"x\":[-33.14977264404297],\"xaxis\":\"x\",\"y\":[-16.36758041381836],\"yaxis\":\"y\",\"type\":\"scatter\"},{\"customdata\":[[\"Grew Up At Midnight\",\"The Maccabees\"],[\"Toothpaste Kisses - Bonus Track\",\"The Maccabees\"],[\"Pelican\",\"The Maccabees\"]],\"hovertemplate\":\"artist_name=%{customdata[1]}<br>0=%{x}<br>1=%{y}<br>song_name=%{customdata[0]}<extra></extra>\",\"legendgroup\":\"The Maccabees\",\"marker\":{\"color\":\"#FF6692\",\"symbol\":\"circle\"},\"mode\":\"markers\",\"name\":\"The Maccabees\",\"orientation\":\"v\",\"showlegend\":true,\"x\":[-23.021459579467773,-28.44233512878418,9.078177452087402],\"xaxis\":\"x\",\"y\":[-15.05463981628418,5.686306476593018,0.6250529289245605],\"yaxis\":\"y\",\"type\":\"scatter\"},{\"customdata\":[[\"laser\",\"Kensuke Ushio\"]],\"hovertemplate\":\"artist_name=%{customdata[1]}<br>0=%{x}<br>1=%{y}<br>song_name=%{customdata[0]}<extra></extra>\",\"legendgroup\":\"Kensuke Ushio\",\"marker\":{\"color\":\"#B6E880\",\"symbol\":\"circle\"},\"mode\":\"markers\",\"name\":\"Kensuke Ushio\",\"orientation\":\"v\",\"showlegend\":true,\"x\":[25.1617374420166],\"xaxis\":\"x\",\"y\":[-14.694280624389648],\"yaxis\":\"y\",\"type\":\"scatter\"},{\"customdata\":[[\"Red Right Hand - 2011 Remaster\",\"Nick Cave & The Bad Seeds\"]],\"hovertemplate\":\"artist_name=%{customdata[1]}<br>0=%{x}<br>1=%{y}<br>song_name=%{customdata[0]}<extra></extra>\",\"legendgroup\":\"Nick Cave & The Bad Seeds\",\"marker\":{\"color\":\"#FF97FF\",\"symbol\":\"circle\"},\"mode\":\"markers\",\"name\":\"Nick Cave & The Bad Seeds\",\"orientation\":\"v\",\"showlegend\":true,\"x\":[20.678606033325195],\"xaxis\":\"x\",\"y\":[-12.014814376831055],\"yaxis\":\"y\",\"type\":\"scatter\"},{\"customdata\":[[\"Jesus, Etc.\",\"Wilco\"]],\"hovertemplate\":\"artist_name=%{customdata[1]}<br>0=%{x}<br>1=%{y}<br>song_name=%{customdata[0]}<extra></extra>\",\"legendgroup\":\"Wilco\",\"marker\":{\"color\":\"#FECB52\",\"symbol\":\"circle\"},\"mode\":\"markers\",\"name\":\"Wilco\",\"orientation\":\"v\",\"showlegend\":true,\"x\":[-31.036245346069336],\"xaxis\":\"x\",\"y\":[5.663473129272461],\"yaxis\":\"y\",\"type\":\"scatter\"},{\"customdata\":[[\"Redbone\",\"Childish Gambino\"]],\"hovertemplate\":\"artist_name=%{customdata[1]}<br>0=%{x}<br>1=%{y}<br>song_name=%{customdata[0]}<extra></extra>\",\"legendgroup\":\"Childish Gambino\",\"marker\":{\"color\":\"#636efa\",\"symbol\":\"circle\"},\"mode\":\"markers\",\"name\":\"Childish Gambino\",\"orientation\":\"v\",\"showlegend\":true,\"x\":[-18.099828720092773],\"xaxis\":\"x\",\"y\":[-9.555317878723145],\"yaxis\":\"y\",\"type\":\"scatter\"},{\"customdata\":[[\"Tiny Foldable Cities\",\"Orbital\"]],\"hovertemplate\":\"artist_name=%{customdata[1]}<br>0=%{x}<br>1=%{y}<br>song_name=%{customdata[0]}<extra></extra>\",\"legendgroup\":\"Orbital\",\"marker\":{\"color\":\"#EF553B\",\"symbol\":\"circle\"},\"mode\":\"markers\",\"name\":\"Orbital\",\"orientation\":\"v\",\"showlegend\":true,\"x\":[18.665576934814453],\"xaxis\":\"x\",\"y\":[-14.890401840209961],\"yaxis\":\"y\",\"type\":\"scatter\"},{\"customdata\":[[\"We Are Not Alone\",\"Karla Devito\"]],\"hovertemplate\":\"artist_name=%{customdata[1]}<br>0=%{x}<br>1=%{y}<br>song_name=%{customdata[0]}<extra></extra>\",\"legendgroup\":\"Karla Devito\",\"marker\":{\"color\":\"#00cc96\",\"symbol\":\"circle\"},\"mode\":\"markers\",\"name\":\"Karla Devito\",\"orientation\":\"v\",\"showlegend\":true,\"x\":[-19.868770599365234],\"xaxis\":\"x\",\"y\":[4.127517223358154],\"yaxis\":\"y\",\"type\":\"scatter\"},{\"customdata\":[[\"Motion Sickness\",\"Phoebe Bridgers\"],[\"Punisher\",\"Phoebe Bridgers\"],[\"I Know The End\",\"Phoebe Bridgers\"],[\"Kyoto\",\"Phoebe Bridgers\"]],\"hovertemplate\":\"artist_name=%{customdata[1]}<br>0=%{x}<br>1=%{y}<br>song_name=%{customdata[0]}<extra></extra>\",\"legendgroup\":\"Phoebe Bridgers\",\"marker\":{\"color\":\"#ab63fa\",\"symbol\":\"circle\"},\"mode\":\"markers\",\"name\":\"Phoebe Bridgers\",\"orientation\":\"v\",\"showlegend\":true,\"x\":[-31.259437561035156,-34.868263244628906,-26.21531867980957,-4.451186656951904],\"xaxis\":\"x\",\"y\":[-1.25196373462677,-0.5252695083618164,-11.728657722473145,0.491208553314209],\"yaxis\":\"y\",\"type\":\"scatter\"},{\"customdata\":[[\"So Says I\",\"The Shins\"]],\"hovertemplate\":\"artist_name=%{customdata[1]}<br>0=%{x}<br>1=%{y}<br>song_name=%{customdata[0]}<extra></extra>\",\"legendgroup\":\"The Shins\",\"marker\":{\"color\":\"#FFA15A\",\"symbol\":\"circle\"},\"mode\":\"markers\",\"name\":\"The Shins\",\"orientation\":\"v\",\"showlegend\":true,\"x\":[-3.1678307056427],\"xaxis\":\"x\",\"y\":[5.64196252822876],\"yaxis\":\"y\",\"type\":\"scatter\"},{\"customdata\":[[\"Dry the Rain\",\"The Beta Band\"]],\"hovertemplate\":\"artist_name=%{customdata[1]}<br>0=%{x}<br>1=%{y}<br>song_name=%{customdata[0]}<extra></extra>\",\"legendgroup\":\"The Beta Band\",\"marker\":{\"color\":\"#19d3f3\",\"symbol\":\"circle\"},\"mode\":\"markers\",\"name\":\"The Beta Band\",\"orientation\":\"v\",\"showlegend\":true,\"x\":[-12.747278213500977],\"xaxis\":\"x\",\"y\":[-2.0761895179748535],\"yaxis\":\"y\",\"type\":\"scatter\"},{\"customdata\":[[\"This Mess We're In\",\"PJ Harvey\"]],\"hovertemplate\":\"artist_name=%{customdata[1]}<br>0=%{x}<br>1=%{y}<br>song_name=%{customdata[0]}<extra></extra>\",\"legendgroup\":\"PJ Harvey\",\"marker\":{\"color\":\"#FF6692\",\"symbol\":\"circle\"},\"mode\":\"markers\",\"name\":\"PJ Harvey\",\"orientation\":\"v\",\"showlegend\":true,\"x\":[-18.89263343811035],\"xaxis\":\"x\",\"y\":[-13.373477935791016],\"yaxis\":\"y\",\"type\":\"scatter\"},{\"customdata\":[[\"Freaking Out the Neighborhood\",\"Mac DeMarco\"]],\"hovertemplate\":\"artist_name=%{customdata[1]}<br>0=%{x}<br>1=%{y}<br>song_name=%{customdata[0]}<extra></extra>\",\"legendgroup\":\"Mac DeMarco\",\"marker\":{\"color\":\"#B6E880\",\"symbol\":\"circle\"},\"mode\":\"markers\",\"name\":\"Mac DeMarco\",\"orientation\":\"v\",\"showlegend\":true,\"x\":[22.881818771362305],\"xaxis\":\"x\",\"y\":[3.8178374767303467],\"yaxis\":\"y\",\"type\":\"scatter\"},{\"customdata\":[[\"All Along the Watchtower\",\"Jimi Hendrix\"]],\"hovertemplate\":\"artist_name=%{customdata[1]}<br>0=%{x}<br>1=%{y}<br>song_name=%{customdata[0]}<extra></extra>\",\"legendgroup\":\"Jimi Hendrix\",\"marker\":{\"color\":\"#FF97FF\",\"symbol\":\"circle\"},\"mode\":\"markers\",\"name\":\"Jimi Hendrix\",\"orientation\":\"v\",\"showlegend\":true,\"x\":[-4.764820098876953],\"xaxis\":\"x\",\"y\":[5.132564544677734],\"yaxis\":\"y\",\"type\":\"scatter\"},{\"customdata\":[[\"The Breaks\",\"Kurtis Blow\"]],\"hovertemplate\":\"artist_name=%{customdata[1]}<br>0=%{x}<br>1=%{y}<br>song_name=%{customdata[0]}<extra></extra>\",\"legendgroup\":\"Kurtis Blow\",\"marker\":{\"color\":\"#FECB52\",\"symbol\":\"circle\"},\"mode\":\"markers\",\"name\":\"Kurtis Blow\",\"orientation\":\"v\",\"showlegend\":true,\"x\":[23.166187286376953],\"xaxis\":\"x\",\"y\":[14.793808937072754],\"yaxis\":\"y\",\"type\":\"scatter\"},{\"customdata\":[[\"Over And Over\",\"Hot Chip\"]],\"hovertemplate\":\"artist_name=%{customdata[1]}<br>0=%{x}<br>1=%{y}<br>song_name=%{customdata[0]}<extra></extra>\",\"legendgroup\":\"Hot Chip\",\"marker\":{\"color\":\"#636efa\",\"symbol\":\"circle\"},\"mode\":\"markers\",\"name\":\"Hot Chip\",\"orientation\":\"v\",\"showlegend\":true,\"x\":[34.190704345703125],\"xaxis\":\"x\",\"y\":[9.687698364257812],\"yaxis\":\"y\",\"type\":\"scatter\"},{\"customdata\":[[\"Genius of Love\",\"Tom Tom Club\"]],\"hovertemplate\":\"artist_name=%{customdata[1]}<br>0=%{x}<br>1=%{y}<br>song_name=%{customdata[0]}<extra></extra>\",\"legendgroup\":\"Tom Tom Club\",\"marker\":{\"color\":\"#EF553B\",\"symbol\":\"circle\"},\"mode\":\"markers\",\"name\":\"Tom Tom Club\",\"orientation\":\"v\",\"showlegend\":true,\"x\":[-18.038373947143555],\"xaxis\":\"x\",\"y\":[-2.177842617034912],\"yaxis\":\"y\",\"type\":\"scatter\"},{\"customdata\":[[\"Time is Running Out\",\"Muse\"],[\"Supremacy\",\"Muse\"],[\"Uprising\",\"Muse\"],[\"Starlight\",\"Muse\"],[\"Reapers\",\"Muse\"],[\"Madness\",\"Muse\"]],\"hovertemplate\":\"artist_name=%{customdata[1]}<br>0=%{x}<br>1=%{y}<br>song_name=%{customdata[0]}<extra></extra>\",\"legendgroup\":\"Muse\",\"marker\":{\"color\":\"#00cc96\",\"symbol\":\"circle\"},\"mode\":\"markers\",\"name\":\"Muse\",\"orientation\":\"v\",\"showlegend\":true,\"x\":[28.415828704833984,28.611064910888672,-10.07414436340332,-9.694396018981934,-2.8681464195251465,-19.279722213745117],\"xaxis\":\"x\",\"y\":[9.016802787780762,-4.330608367919922,-13.304064750671387,-14.50684642791748,4.8096137046813965,-19.478416442871094],\"yaxis\":\"y\",\"type\":\"scatter\"},{\"customdata\":[[\"Sea of Dreams\",\"Oberhofer\"]],\"hovertemplate\":\"artist_name=%{customdata[1]}<br>0=%{x}<br>1=%{y}<br>song_name=%{customdata[0]}<extra></extra>\",\"legendgroup\":\"Oberhofer\",\"marker\":{\"color\":\"#ab63fa\",\"symbol\":\"circle\"},\"mode\":\"markers\",\"name\":\"Oberhofer\",\"orientation\":\"v\",\"showlegend\":true,\"x\":[-33.22409439086914],\"xaxis\":\"x\",\"y\":[-8.828361511230469],\"yaxis\":\"y\",\"type\":\"scatter\"},{\"customdata\":[[\"Bellbottoms\",\"The Jon Spencer Blues Explosion\"]],\"hovertemplate\":\"artist_name=%{customdata[1]}<br>0=%{x}<br>1=%{y}<br>song_name=%{customdata[0]}<extra></extra>\",\"legendgroup\":\"The Jon Spencer Blues Explosion\",\"marker\":{\"color\":\"#FFA15A\",\"symbol\":\"circle\"},\"mode\":\"markers\",\"name\":\"The Jon Spencer Blues Explosion\",\"orientation\":\"v\",\"showlegend\":true,\"x\":[6.639223098754883],\"xaxis\":\"x\",\"y\":[-8.131591796875],\"yaxis\":\"y\",\"type\":\"scatter\"},{\"customdata\":[[\"Dawn Chorus\",\"Thom Yorke\"],[\"The Eraser\",\"Thom Yorke\"]],\"hovertemplate\":\"artist_name=%{customdata[1]}<br>0=%{x}<br>1=%{y}<br>song_name=%{customdata[0]}<extra></extra>\",\"legendgroup\":\"Thom Yorke\",\"marker\":{\"color\":\"#19d3f3\",\"symbol\":\"circle\"},\"mode\":\"markers\",\"name\":\"Thom Yorke\",\"orientation\":\"v\",\"showlegend\":true,\"x\":[-38.92155456542969,21.467571258544922],\"xaxis\":\"x\",\"y\":[-8.120949745178223,25.647724151611328],\"yaxis\":\"y\",\"type\":\"scatter\"},{\"customdata\":[[\"Girls & Boys\",\"Viagra Boys\"]],\"hovertemplate\":\"artist_name=%{customdata[1]}<br>0=%{x}<br>1=%{y}<br>song_name=%{customdata[0]}<extra></extra>\",\"legendgroup\":\"Viagra Boys\",\"marker\":{\"color\":\"#FF6692\",\"symbol\":\"circle\"},\"mode\":\"markers\",\"name\":\"Viagra Boys\",\"orientation\":\"v\",\"showlegend\":true,\"x\":[-1.9369189739227295],\"xaxis\":\"x\",\"y\":[0.7807739973068237],\"yaxis\":\"y\",\"type\":\"scatter\"},{\"customdata\":[[\"Social Cues\",\"Cage The Elephant\"],[\"Broken Boy (feat. Iggy Pop)\",\"Cage The Elephant\"],[\"Black Madonna\",\"Cage The Elephant\"],[\"Cold Cold Cold\",\"Cage The Elephant\"],[\"Trouble\",\"Cage The Elephant\"],[\"Cigarette Daydreams\",\"Cage The Elephant\"],[\"Come a Little Closer\",\"Cage The Elephant\"]],\"hovertemplate\":\"artist_name=%{customdata[1]}<br>0=%{x}<br>1=%{y}<br>song_name=%{customdata[0]}<extra></extra>\",\"legendgroup\":\"Cage The Elephant\",\"marker\":{\"color\":\"#B6E880\",\"symbol\":\"circle\"},\"mode\":\"markers\",\"name\":\"Cage The Elephant\",\"orientation\":\"v\",\"showlegend\":true,\"x\":[-8.862370491027832,32.245758056640625,34.96153259277344,-8.131447792053223,-25.723033905029297,-13.786798477172852,29.79768943786621],\"xaxis\":\"x\",\"y\":[7.255059242248535,-0.911988377571106,10.112010955810547,-0.26710960268974304,-8.150688171386719,-13.926101684570312,-2.4285757541656494],\"yaxis\":\"y\",\"type\":\"scatter\"},{\"customdata\":[[\"Centuries\",\"Fall Out Boy\"]],\"hovertemplate\":\"artist_name=%{customdata[1]}<br>0=%{x}<br>1=%{y}<br>song_name=%{customdata[0]}<extra></extra>\",\"legendgroup\":\"Fall Out Boy\",\"marker\":{\"color\":\"#FF97FF\",\"symbol\":\"circle\"},\"mode\":\"markers\",\"name\":\"Fall Out Boy\",\"orientation\":\"v\",\"showlegend\":true,\"x\":[31.756473541259766],\"xaxis\":\"x\",\"y\":[-1.000056505203247],\"yaxis\":\"y\",\"type\":\"scatter\"},{\"customdata\":[[\"Atmosphere\",\"Joy Division\"],[\"New Dawn Fades - 2019 Digital Master\",\"Joy Division\"],[\"Transmission\",\"Joy Division\"],[\"Shadowplay - 2007 Remaster\",\"Joy Division\"],[\"Day of the Lords - 2007 Remaster\",\"Joy Division\"],[\"Ceremony - Live at Birmingham University; 2007 Remaster\",\"Joy Division\"],[\"New Dawn Fades - 2007 Remaster\",\"Joy Division\"],[\"They Walked In Line - Live\",\"Joy Division\"],[\"Transmission\",\"Joy Division\"],[\"Disorder\",\"Joy Division\"],[\"Love Will Tear Us Apart - 2010 Remaster\",\"Joy Division\"]],\"hovertemplate\":\"artist_name=%{customdata[1]}<br>0=%{x}<br>1=%{y}<br>song_name=%{customdata[0]}<extra></extra>\",\"legendgroup\":\"Joy Division\",\"marker\":{\"color\":\"#FECB52\",\"symbol\":\"circle\"},\"mode\":\"markers\",\"name\":\"Joy Division\",\"orientation\":\"v\",\"showlegend\":true,\"x\":[-23.808902740478516,-32.30246353149414,0.0625682920217514,5.775251388549805,-33.55988693237305,-5.288180828094482,-32.406070709228516,-28.608657836914062,1.908845067024231,10.445330619812012,-0.555529773235321],\"xaxis\":\"x\",\"y\":[-3.282954216003418,-16.21985626220703,-6.177131652832031,-23.946971893310547,-17.751977920532227,-21.207448959350586,-16.504745483398438,-15.954244613647461,-25.61600112915039,-22.38910675048828,-28.546573638916016],\"yaxis\":\"y\",\"type\":\"scatter\"},{\"customdata\":[[\"Ceremony - 1st Mix; Ceremony Sessions; 2019 Remaster\",\"New Order\"],[\"Ceremony\",\"New Order\"],[\"Age of Consent - 2015 Remaster\",\"New Order\"],[\"Temptation\",\"New Order\"],[\"Ceremony - Version 1; 2016 Remaster\",\"New Order\"],[\"Temptation\",\"New Order\"],[\"Blue Monday - 2016 Remaster\",\"New Order\"],[\"Blue Monday - 2011 Total Version\",\"New Order\"]],\"hovertemplate\":\"artist_name=%{customdata[1]}<br>0=%{x}<br>1=%{y}<br>song_name=%{customdata[0]}<extra></extra>\",\"legendgroup\":\"New Order\",\"marker\":{\"color\":\"#636efa\",\"symbol\":\"circle\"},\"mode\":\"markers\",\"name\":\"New Order\",\"orientation\":\"v\",\"showlegend\":true,\"x\":[-18.28172492980957,-29.585399627685547,-4.984530448913574,-15.129840850830078,-21.688215255737305,-1.0846909284591675,-3.3969767093658447,-3.324924945831299],\"xaxis\":\"x\",\"y\":[-13.430590629577637,-15.624326705932617,-9.220189094543457,-5.7441887855529785,-14.744887351989746,-29.951557159423828,-29.220762252807617,-29.151399612426758],\"yaxis\":\"y\",\"type\":\"scatter\"},{\"customdata\":[[\"Good Vibrations - Remastered 2001\",\"The Beach Boys\"]],\"hovertemplate\":\"artist_name=%{customdata[1]}<br>0=%{x}<br>1=%{y}<br>song_name=%{customdata[0]}<extra></extra>\",\"legendgroup\":\"The Beach Boys\",\"marker\":{\"color\":\"#EF553B\",\"symbol\":\"circle\"},\"mode\":\"markers\",\"name\":\"The Beach Boys\",\"orientation\":\"v\",\"showlegend\":true,\"x\":[26.39595603942871],\"xaxis\":\"x\",\"y\":[19.236570358276367],\"yaxis\":\"y\",\"type\":\"scatter\"},{\"customdata\":[[\"Town Called Malice\",\"The Jam\"]],\"hovertemplate\":\"artist_name=%{customdata[1]}<br>0=%{x}<br>1=%{y}<br>song_name=%{customdata[0]}<extra></extra>\",\"legendgroup\":\"The Jam\",\"marker\":{\"color\":\"#00cc96\",\"symbol\":\"circle\"},\"mode\":\"markers\",\"name\":\"The Jam\",\"orientation\":\"v\",\"showlegend\":true,\"x\":[-12.097514152526855],\"xaxis\":\"x\",\"y\":[6.767805576324463],\"yaxis\":\"y\",\"type\":\"scatter\"},{\"customdata\":[[\"Should I Stay or Should I Go - Remastered\",\"The Clash\"],[\"London Calling - Remastered\",\"The Clash\"]],\"hovertemplate\":\"artist_name=%{customdata[1]}<br>0=%{x}<br>1=%{y}<br>song_name=%{customdata[0]}<extra></extra>\",\"legendgroup\":\"The Clash\",\"marker\":{\"color\":\"#ab63fa\",\"symbol\":\"circle\"},\"mode\":\"markers\",\"name\":\"The Clash\",\"orientation\":\"v\",\"showlegend\":true,\"x\":[2.478004217147827,-12.851298332214355],\"xaxis\":\"x\",\"y\":[9.54624080657959,-7.597021102905273],\"yaxis\":\"y\",\"type\":\"scatter\"},{\"customdata\":[[\"Genius (feat. Sia, Diplo, and Labrinth)\",\"Sia\"]],\"hovertemplate\":\"artist_name=%{customdata[1]}<br>0=%{x}<br>1=%{y}<br>song_name=%{customdata[0]}<extra></extra>\",\"legendgroup\":\"Sia\",\"marker\":{\"color\":\"#FFA15A\",\"symbol\":\"circle\"},\"mode\":\"markers\",\"name\":\"Sia\",\"orientation\":\"v\",\"showlegend\":true,\"x\":[35.70922088623047],\"xaxis\":\"x\",\"y\":[-2.936375141143799],\"yaxis\":\"y\",\"type\":\"scatter\"},{\"customdata\":[[\"Magic\",\"Olympic Ayres\"]],\"hovertemplate\":\"artist_name=%{customdata[1]}<br>0=%{x}<br>1=%{y}<br>song_name=%{customdata[0]}<extra></extra>\",\"legendgroup\":\"Olympic Ayres\",\"marker\":{\"color\":\"#19d3f3\",\"symbol\":\"circle\"},\"mode\":\"markers\",\"name\":\"Olympic Ayres\",\"orientation\":\"v\",\"showlegend\":true,\"x\":[4.826194763183594],\"xaxis\":\"x\",\"y\":[6.614232063293457],\"yaxis\":\"y\",\"type\":\"scatter\"},{\"customdata\":[[\"Anarchy In The UK\",\"Sex Pistols\"],[\"Pretty Vacant - Remastered\",\"Sex Pistols\"],[\"Anarchy in the U.K.\",\"Sex Pistols\"]],\"hovertemplate\":\"artist_name=%{customdata[1]}<br>0=%{x}<br>1=%{y}<br>song_name=%{customdata[0]}<extra></extra>\",\"legendgroup\":\"Sex Pistols\",\"marker\":{\"color\":\"#FF6692\",\"symbol\":\"circle\"},\"mode\":\"markers\",\"name\":\"Sex Pistols\",\"orientation\":\"v\",\"showlegend\":true,\"x\":[-2.9083826541900635,-3.743911027908325,3.8420934677124023],\"xaxis\":\"x\",\"y\":[-15.122201919555664,-12.467272758483887,-3.3611056804656982],\"yaxis\":\"y\",\"type\":\"scatter\"},{\"customdata\":[[\"Flick of The Finger\",\"Beady Eye\"]],\"hovertemplate\":\"artist_name=%{customdata[1]}<br>0=%{x}<br>1=%{y}<br>song_name=%{customdata[0]}<extra></extra>\",\"legendgroup\":\"Beady Eye\",\"marker\":{\"color\":\"#B6E880\",\"symbol\":\"circle\"},\"mode\":\"markers\",\"name\":\"Beady Eye\",\"orientation\":\"v\",\"showlegend\":true,\"x\":[24.70075035095215],\"xaxis\":\"x\",\"y\":[-0.057921186089515686],\"yaxis\":\"y\",\"type\":\"scatter\"},{\"customdata\":[[\"Mad World\",\"Tears For Fears\"],[\"Pale Shelter - 2nd Single Version\",\"Tears For Fears\"],[\"Everybody Wants To Rule The World\",\"Tears For Fears\"]],\"hovertemplate\":\"artist_name=%{customdata[1]}<br>0=%{x}<br>1=%{y}<br>song_name=%{customdata[0]}<extra></extra>\",\"legendgroup\":\"Tears For Fears\",\"marker\":{\"color\":\"#FF97FF\",\"symbol\":\"circle\"},\"mode\":\"markers\",\"name\":\"Tears For Fears\",\"orientation\":\"v\",\"showlegend\":true,\"x\":[-9.159982681274414,6.432071208953857,-19.41362953186035],\"xaxis\":\"x\",\"y\":[5.1595354080200195,6.242206573486328,6.873597145080566],\"yaxis\":\"y\",\"type\":\"scatter\"},{\"customdata\":[[\"Roxanne\",\"The Police\"],[\"Every Breath You Take - Remastered 2003\",\"The Police\"]],\"hovertemplate\":\"artist_name=%{customdata[1]}<br>0=%{x}<br>1=%{y}<br>song_name=%{customdata[0]}<extra></extra>\",\"legendgroup\":\"The Police\",\"marker\":{\"color\":\"#FECB52\",\"symbol\":\"circle\"},\"mode\":\"markers\",\"name\":\"The Police\",\"orientation\":\"v\",\"showlegend\":true,\"x\":[0.30447322130203247,-18.508007049560547],\"xaxis\":\"x\",\"y\":[18.65018081665039,-4.9109673500061035],\"yaxis\":\"y\",\"type\":\"scatter\"},{\"customdata\":[[\"Not In Love - Radio Version\",\"Crystal Castles\"],[\"Crimewave\",\"Crystal Castles\"],[\"Not In Love\",\"Crystal Castles\"]],\"hovertemplate\":\"artist_name=%{customdata[1]}<br>0=%{x}<br>1=%{y}<br>song_name=%{customdata[0]}<extra></extra>\",\"legendgroup\":\"Crystal Castles\",\"marker\":{\"color\":\"#636efa\",\"symbol\":\"circle\"},\"mode\":\"markers\",\"name\":\"Crystal Castles\",\"orientation\":\"v\",\"showlegend\":true,\"x\":[24.424640655517578,35.62144088745117,24.421754837036133],\"xaxis\":\"x\",\"y\":[-2.2441136837005615,11.037135124206543,-2.2036094665527344],\"yaxis\":\"y\",\"type\":\"scatter\"},{\"customdata\":[[\"Lights - Single Version\",\"Ellie Goulding\"]],\"hovertemplate\":\"artist_name=%{customdata[1]}<br>0=%{x}<br>1=%{y}<br>song_name=%{customdata[0]}<extra></extra>\",\"legendgroup\":\"Ellie Goulding\",\"marker\":{\"color\":\"#EF553B\",\"symbol\":\"circle\"},\"mode\":\"markers\",\"name\":\"Ellie Goulding\",\"orientation\":\"v\",\"showlegend\":true,\"x\":[33.873897552490234],\"xaxis\":\"x\",\"y\":[8.402637481689453],\"yaxis\":\"y\",\"type\":\"scatter\"},{\"customdata\":[[\"1517\",\"The Whitest Boy Alive\"],[\"Burning\",\"The Whitest Boy Alive\"]],\"hovertemplate\":\"artist_name=%{customdata[1]}<br>0=%{x}<br>1=%{y}<br>song_name=%{customdata[0]}<extra></extra>\",\"legendgroup\":\"The Whitest Boy Alive\",\"marker\":{\"color\":\"#00cc96\",\"symbol\":\"circle\"},\"mode\":\"markers\",\"name\":\"The Whitest Boy Alive\",\"orientation\":\"v\",\"showlegend\":true,\"x\":[39.01537322998047,13.875075340270996],\"xaxis\":\"x\",\"y\":[9.256686210632324,-16.257654190063477],\"yaxis\":\"y\",\"type\":\"scatter\"},{\"customdata\":[[\"Musique\",\"Daft Punk\"],[\"Robot Rock\",\"Daft Punk\"],[\"Give Life Back to Music\",\"Daft Punk\"],[\"Doin' it Right (feat. Panda Bear)\",\"Daft Punk\"],[\"Harder, Better, Faster, Stronger - Alive Extended 2007\",\"Daft Punk\"],[\"Harder, Better, Faster, Stronger - Alive Radio Edit 2007\",\"Daft Punk\"],[\"Giorgio by Moroder\",\"Daft Punk\"],[\"Instant Crush (feat. Julian Casablancas)\",\"Daft Punk\"]],\"hovertemplate\":\"artist_name=%{customdata[1]}<br>0=%{x}<br>1=%{y}<br>song_name=%{customdata[0]}<extra></extra>\",\"legendgroup\":\"Daft Punk\",\"marker\":{\"color\":\"#ab63fa\",\"symbol\":\"circle\"},\"mode\":\"markers\",\"name\":\"Daft Punk\",\"orientation\":\"v\",\"showlegend\":true,\"x\":[-1.6249114274978638,0.9367794394493103,19.3731689453125,-18.35401725769043,16.153732299804688,15.853435516357422,18.3538818359375,19.328636169433594],\"xaxis\":\"x\",\"y\":[-24.46646499633789,-23.505048751831055,-13.008684158325195,-20.02760124206543,4.637200832366943,4.630668640136719,-12.597379684448242,-13.130903244018555],\"yaxis\":\"y\",\"type\":\"scatter\"},{\"customdata\":[[\"Northwest\",\"Scott & Brendo\"]],\"hovertemplate\":\"artist_name=%{customdata[1]}<br>0=%{x}<br>1=%{y}<br>song_name=%{customdata[0]}<extra></extra>\",\"legendgroup\":\"Scott & Brendo\",\"marker\":{\"color\":\"#FFA15A\",\"symbol\":\"circle\"},\"mode\":\"markers\",\"name\":\"Scott & Brendo\",\"orientation\":\"v\",\"showlegend\":true,\"x\":[-15.285271644592285],\"xaxis\":\"x\",\"y\":[-6.3598175048828125],\"yaxis\":\"y\",\"type\":\"scatter\"},{\"customdata\":[[\"D.A.N.C.E\",\"Justice\"],[\"Genesis\",\"Justice\"],[\"D.A.N.C.E.\",\"Justice\"],[\"Civilization\",\"Justice\"]],\"hovertemplate\":\"artist_name=%{customdata[1]}<br>0=%{x}<br>1=%{y}<br>song_name=%{customdata[0]}<extra></extra>\",\"legendgroup\":\"Justice\",\"marker\":{\"color\":\"#19d3f3\",\"symbol\":\"circle\"},\"mode\":\"markers\",\"name\":\"Justice\",\"orientation\":\"v\",\"showlegend\":true,\"x\":[8.654540061950684,3.2356441020965576,8.562314987182617,27.317289352416992],\"xaxis\":\"x\",\"y\":[17.239158630371094,20.439220428466797,17.2988224029541,9.607527732849121],\"yaxis\":\"y\",\"type\":\"scatter\"},{\"customdata\":[[\"Young Folks\",\"Peter Bjorn and John\"]],\"hovertemplate\":\"artist_name=%{customdata[1]}<br>0=%{x}<br>1=%{y}<br>song_name=%{customdata[0]}<extra></extra>\",\"legendgroup\":\"Peter Bjorn and John\",\"marker\":{\"color\":\"#FF6692\",\"symbol\":\"circle\"},\"mode\":\"markers\",\"name\":\"Peter Bjorn and John\",\"orientation\":\"v\",\"showlegend\":true,\"x\":[-12.718901634216309],\"xaxis\":\"x\",\"y\":[-8.468478202819824],\"yaxis\":\"y\",\"type\":\"scatter\"},{\"customdata\":[[\"Stressed Out\",\"Twenty One Pilots\"]],\"hovertemplate\":\"artist_name=%{customdata[1]}<br>0=%{x}<br>1=%{y}<br>song_name=%{customdata[0]}<extra></extra>\",\"legendgroup\":\"Twenty One Pilots\",\"marker\":{\"color\":\"#B6E880\",\"symbol\":\"circle\"},\"mode\":\"markers\",\"name\":\"Twenty One Pilots\",\"orientation\":\"v\",\"showlegend\":true,\"x\":[38.2666015625],\"xaxis\":\"x\",\"y\":[-0.12378658354282379],\"yaxis\":\"y\",\"type\":\"scatter\"},{\"customdata\":[[\"Dreaming of You\",\"The Coral\"]],\"hovertemplate\":\"artist_name=%{customdata[1]}<br>0=%{x}<br>1=%{y}<br>song_name=%{customdata[0]}<extra></extra>\",\"legendgroup\":\"The Coral\",\"marker\":{\"color\":\"#FF97FF\",\"symbol\":\"circle\"},\"mode\":\"markers\",\"name\":\"The Coral\",\"orientation\":\"v\",\"showlegend\":true,\"x\":[35.858856201171875],\"xaxis\":\"x\",\"y\":[1.7879681587219238],\"yaxis\":\"y\",\"type\":\"scatter\"},{\"customdata\":[[\"American Pie\",\"Don McLean\"]],\"hovertemplate\":\"artist_name=%{customdata[1]}<br>0=%{x}<br>1=%{y}<br>song_name=%{customdata[0]}<extra></extra>\",\"legendgroup\":\"Don McLean\",\"marker\":{\"color\":\"#FECB52\",\"symbol\":\"circle\"},\"mode\":\"markers\",\"name\":\"Don McLean\",\"orientation\":\"v\",\"showlegend\":true,\"x\":[27.225385665893555],\"xaxis\":\"x\",\"y\":[24.118425369262695],\"yaxis\":\"y\",\"type\":\"scatter\"},{\"customdata\":[[\"Fado\",\"Milky Chance\"]],\"hovertemplate\":\"artist_name=%{customdata[1]}<br>0=%{x}<br>1=%{y}<br>song_name=%{customdata[0]}<extra></extra>\",\"legendgroup\":\"Milky Chance\",\"marker\":{\"color\":\"#636efa\",\"symbol\":\"circle\"},\"mode\":\"markers\",\"name\":\"Milky Chance\",\"orientation\":\"v\",\"showlegend\":true,\"x\":[-19.50771713256836],\"xaxis\":\"x\",\"y\":[-4.031290531158447],\"yaxis\":\"y\",\"type\":\"scatter\"},{\"customdata\":[[\"World Doesn't Care\",\"The Bullseyes\"]],\"hovertemplate\":\"artist_name=%{customdata[1]}<br>0=%{x}<br>1=%{y}<br>song_name=%{customdata[0]}<extra></extra>\",\"legendgroup\":\"The Bullseyes\",\"marker\":{\"color\":\"#EF553B\",\"symbol\":\"circle\"},\"mode\":\"markers\",\"name\":\"The Bullseyes\",\"orientation\":\"v\",\"showlegend\":true,\"x\":[33.31633377075195],\"xaxis\":\"x\",\"y\":[12.43571662902832],\"yaxis\":\"y\",\"type\":\"scatter\"},{\"customdata\":[[\"The Runner\",\"Foals\"],[\"My Number\",\"Foals\"],[\"Mountain at My Gates\",\"Foals\"]],\"hovertemplate\":\"artist_name=%{customdata[1]}<br>0=%{x}<br>1=%{y}<br>song_name=%{customdata[0]}<extra></extra>\",\"legendgroup\":\"Foals\",\"marker\":{\"color\":\"#00cc96\",\"symbol\":\"circle\"},\"mode\":\"markers\",\"name\":\"Foals\",\"orientation\":\"v\",\"showlegend\":true,\"x\":[29.512115478515625,21.789283752441406,28.7042236328125],\"xaxis\":\"x\",\"y\":[5.385738849639893,5.638338565826416,5.768194675445557],\"yaxis\":\"y\",\"type\":\"scatter\"},{\"customdata\":[[\"Stay Forever (feat. STRFKR)\",\"Whethan\"]],\"hovertemplate\":\"artist_name=%{customdata[1]}<br>0=%{x}<br>1=%{y}<br>song_name=%{customdata[0]}<extra></extra>\",\"legendgroup\":\"Whethan\",\"marker\":{\"color\":\"#ab63fa\",\"symbol\":\"circle\"},\"mode\":\"markers\",\"name\":\"Whethan\",\"orientation\":\"v\",\"showlegend\":true,\"x\":[4.941001892089844],\"xaxis\":\"x\",\"y\":[-21.712696075439453],\"yaxis\":\"y\",\"type\":\"scatter\"},{\"customdata\":[[\"Open Your Eyes\",\"STRFKR\"],[\"Rawnald Gregory Erickson the Second\",\"STRFKR\"],[\"Never Ever\",\"STRFKR\"],[\"Tape Machine\",\"STRFKR\"]],\"hovertemplate\":\"artist_name=%{customdata[1]}<br>0=%{x}<br>1=%{y}<br>song_name=%{customdata[0]}<extra></extra>\",\"legendgroup\":\"STRFKR\",\"marker\":{\"color\":\"#FFA15A\",\"symbol\":\"circle\"},\"mode\":\"markers\",\"name\":\"STRFKR\",\"orientation\":\"v\",\"showlegend\":true,\"x\":[22.06747817993164,-4.436607837677002,31.75786018371582,19.39596939086914],\"xaxis\":\"x\",\"y\":[-16.111103057861328,-24.76875114440918,11.192992210388184,-16.057462692260742],\"yaxis\":\"y\",\"type\":\"scatter\"},{\"customdata\":[[\"The Bay\",\"Metronomy\"]],\"hovertemplate\":\"artist_name=%{customdata[1]}<br>0=%{x}<br>1=%{y}<br>song_name=%{customdata[0]}<extra></extra>\",\"legendgroup\":\"Metronomy\",\"marker\":{\"color\":\"#19d3f3\",\"symbol\":\"circle\"},\"mode\":\"markers\",\"name\":\"Metronomy\",\"orientation\":\"v\",\"showlegend\":true,\"x\":[38.62481689453125],\"xaxis\":\"x\",\"y\":[10.256708145141602],\"yaxis\":\"y\",\"type\":\"scatter\"},{\"customdata\":[[\"Two Weeks\",\"Grizzly Bear\"]],\"hovertemplate\":\"artist_name=%{customdata[1]}<br>0=%{x}<br>1=%{y}<br>song_name=%{customdata[0]}<extra></extra>\",\"legendgroup\":\"Grizzly Bear\",\"marker\":{\"color\":\"#FF6692\",\"symbol\":\"circle\"},\"mode\":\"markers\",\"name\":\"Grizzly Bear\",\"orientation\":\"v\",\"showlegend\":true,\"x\":[-7.789068222045898],\"xaxis\":\"x\",\"y\":[-3.314093589782715],\"yaxis\":\"y\",\"type\":\"scatter\"},{\"customdata\":[[\"\\u0421\\u0443\\u0434\\u043d\\u043e (\\u0411\\u043e\\u0440\\u0438\\u0441 \\u0420\\u0438\\u0436\\u0438\\u0439)\",\"Molchat Doma\"],[\"\\u0422\\u0430\\u043d\\u0446\\u0435\\u0432\\u0430\\u0442\\u044c\",\"Molchat Doma\"]],\"hovertemplate\":\"artist_name=%{customdata[1]}<br>0=%{x}<br>1=%{y}<br>song_name=%{customdata[0]}<extra></extra>\",\"legendgroup\":\"Molchat Doma\",\"marker\":{\"color\":\"#B6E880\",\"symbol\":\"circle\"},\"mode\":\"markers\",\"name\":\"Molchat Doma\",\"orientation\":\"v\",\"showlegend\":true,\"x\":[5.514604091644287,-0.23288866877555847],\"xaxis\":\"x\",\"y\":[-28.048812866210938,-22.117578506469727],\"yaxis\":\"y\",\"type\":\"scatter\"},{\"customdata\":[[\"I Want You\",\"Bob Dylan\"],[\"One of Us Must Know (Sooner or Later)\",\"Bob Dylan\"],[\"It's All over Now, Baby Blue\",\"Bob Dylan\"],[\"Tangled up in Blue\",\"Bob Dylan\"],[\"A Hard Rain's A-Gonna Fall\",\"Bob Dylan\"],[\"Like a Rolling Stone\",\"Bob Dylan\"],[\"Knockin' On Heaven's Door\",\"Bob Dylan\"],[\"Shelter from the Storm\",\"Bob Dylan\"],[\"Mr. Tambourine Man\",\"Bob Dylan\"],[\"Blowin' in the Wind\",\"Bob Dylan\"],[\"Don't Think Twice, It's All Right\",\"Bob Dylan\"]],\"hovertemplate\":\"artist_name=%{customdata[1]}<br>0=%{x}<br>1=%{y}<br>song_name=%{customdata[0]}<extra></extra>\",\"legendgroup\":\"Bob Dylan\",\"marker\":{\"color\":\"#FF97FF\",\"symbol\":\"circle\"},\"mode\":\"markers\",\"name\":\"Bob Dylan\",\"orientation\":\"v\",\"showlegend\":true,\"x\":[-21.22690773010254,-25.91730499267578,-34.168556213378906,-26.124723434448242,-36.20818328857422,-30.74323272705078,-24.87847900390625,-32.656639099121094,-34.058204650878906,-34.779541015625,-35.32925033569336],\"xaxis\":\"x\",\"y\":[7.117353439331055,9.070382118225098,1.501621127128601,2.154796600341797,1.967511534690857,-0.6187680959701538,-2.8586843013763428,2.262977123260498,5.140783309936523,3.9360952377319336,2.307737112045288],\"yaxis\":\"y\",\"type\":\"scatter\"},{\"customdata\":[[\"No Role Modelz\",\"J. Cole\"]],\"hovertemplate\":\"artist_name=%{customdata[1]}<br>0=%{x}<br>1=%{y}<br>song_name=%{customdata[0]}<extra></extra>\",\"legendgroup\":\"J. Cole\",\"marker\":{\"color\":\"#FECB52\",\"symbol\":\"circle\"},\"mode\":\"markers\",\"name\":\"J. Cole\",\"orientation\":\"v\",\"showlegend\":true,\"x\":[4.845856189727783],\"xaxis\":\"x\",\"y\":[23.537883758544922],\"yaxis\":\"y\",\"type\":\"scatter\"},{\"customdata\":[[\"No Church In The Wild\",\"JAY-Z\"]],\"hovertemplate\":\"artist_name=%{customdata[1]}<br>0=%{x}<br>1=%{y}<br>song_name=%{customdata[0]}<extra></extra>\",\"legendgroup\":\"JAY-Z\",\"marker\":{\"color\":\"#636efa\",\"symbol\":\"circle\"},\"mode\":\"markers\",\"name\":\"JAY-Z\",\"orientation\":\"v\",\"showlegend\":true,\"x\":[27.325515747070312],\"xaxis\":\"x\",\"y\":[11.999176025390625],\"yaxis\":\"y\",\"type\":\"scatter\"},{\"customdata\":[[\"Alison\",\"Slowdive\"]],\"hovertemplate\":\"artist_name=%{customdata[1]}<br>0=%{x}<br>1=%{y}<br>song_name=%{customdata[0]}<extra></extra>\",\"legendgroup\":\"Slowdive\",\"marker\":{\"color\":\"#EF553B\",\"symbol\":\"circle\"},\"mode\":\"markers\",\"name\":\"Slowdive\",\"orientation\":\"v\",\"showlegend\":true,\"x\":[-32.823814392089844],\"xaxis\":\"x\",\"y\":[-15.65174674987793],\"yaxis\":\"y\",\"type\":\"scatter\"},{\"customdata\":[[\"Cocoon\",\"Catfish and the Bottlemen\"],[\"Fallout\",\"Catfish and the Bottlemen\"],[\"Kathleen\",\"Catfish and the Bottlemen\"],[\"Pacifier\",\"Catfish and the Bottlemen\"],[\"Longshot\",\"Catfish and the Bottlemen\"]],\"hovertemplate\":\"artist_name=%{customdata[1]}<br>0=%{x}<br>1=%{y}<br>song_name=%{customdata[0]}<extra></extra>\",\"legendgroup\":\"Catfish and the Bottlemen\",\"marker\":{\"color\":\"#00cc96\",\"symbol\":\"circle\"},\"mode\":\"markers\",\"name\":\"Catfish and the Bottlemen\",\"orientation\":\"v\",\"showlegend\":true,\"x\":[29.426315307617188,3.925339460372925,22.298004150390625,0.4034183621406555,-3.882131338119507],\"xaxis\":\"x\",\"y\":[-0.4629422426223755,-1.1127345561981201,1.9375039339065552,-4.14724588394165,4.567168712615967],\"yaxis\":\"y\",\"type\":\"scatter\"},{\"customdata\":[[\"Snow (Hey Oh)\",\"Red Hot Chili Peppers\"],[\"Dani California\",\"Red Hot Chili Peppers\"]],\"hovertemplate\":\"artist_name=%{customdata[1]}<br>0=%{x}<br>1=%{y}<br>song_name=%{customdata[0]}<extra></extra>\",\"legendgroup\":\"Red Hot Chili Peppers\",\"marker\":{\"color\":\"#ab63fa\",\"symbol\":\"circle\"},\"mode\":\"markers\",\"name\":\"Red Hot Chili Peppers\",\"orientation\":\"v\",\"showlegend\":true,\"x\":[-4.923086166381836,5.388275146484375],\"xaxis\":\"x\",\"y\":[6.792541027069092,5.663969993591309],\"yaxis\":\"y\",\"type\":\"scatter\"},{\"customdata\":[[\"Domino\",\"Jessie J\"]],\"hovertemplate\":\"artist_name=%{customdata[1]}<br>0=%{x}<br>1=%{y}<br>song_name=%{customdata[0]}<extra></extra>\",\"legendgroup\":\"Jessie J\",\"marker\":{\"color\":\"#FFA15A\",\"symbol\":\"circle\"},\"mode\":\"markers\",\"name\":\"Jessie J\",\"orientation\":\"v\",\"showlegend\":true,\"x\":[-11.965411186218262],\"xaxis\":\"x\",\"y\":[2.040485382080078],\"yaxis\":\"y\",\"type\":\"scatter\"},{\"customdata\":[[\"California Gurls\",\"Katy Perry\"]],\"hovertemplate\":\"artist_name=%{customdata[1]}<br>0=%{x}<br>1=%{y}<br>song_name=%{customdata[0]}<extra></extra>\",\"legendgroup\":\"Katy Perry\",\"marker\":{\"color\":\"#19d3f3\",\"symbol\":\"circle\"},\"mode\":\"markers\",\"name\":\"Katy Perry\",\"orientation\":\"v\",\"showlegend\":true,\"x\":[-13.471722602844238],\"xaxis\":\"x\",\"y\":[-12.035527229309082],\"yaxis\":\"y\",\"type\":\"scatter\"},{\"customdata\":[[\"Bad Romance\",\"Lady Gaga\"]],\"hovertemplate\":\"artist_name=%{customdata[1]}<br>0=%{x}<br>1=%{y}<br>song_name=%{customdata[0]}<extra></extra>\",\"legendgroup\":\"Lady Gaga\",\"marker\":{\"color\":\"#FF6692\",\"symbol\":\"circle\"},\"mode\":\"markers\",\"name\":\"Lady Gaga\",\"orientation\":\"v\",\"showlegend\":true,\"x\":[-11.56578254699707],\"xaxis\":\"x\",\"y\":[-9.943846702575684],\"yaxis\":\"y\",\"type\":\"scatter\"},{\"customdata\":[[\"Call Me Maybe\",\"Carly Rae Jepsen\"]],\"hovertemplate\":\"artist_name=%{customdata[1]}<br>0=%{x}<br>1=%{y}<br>song_name=%{customdata[0]}<extra></extra>\",\"legendgroup\":\"Carly Rae Jepsen\",\"marker\":{\"color\":\"#B6E880\",\"symbol\":\"circle\"},\"mode\":\"markers\",\"name\":\"Carly Rae Jepsen\",\"orientation\":\"v\",\"showlegend\":true,\"x\":[-12.653016090393066],\"xaxis\":\"x\",\"y\":[2.130871534347534],\"yaxis\":\"y\",\"type\":\"scatter\"},{\"customdata\":[[\"Hey, Soul Sister\",\"Train\"]],\"hovertemplate\":\"artist_name=%{customdata[1]}<br>0=%{x}<br>1=%{y}<br>song_name=%{customdata[0]}<extra></extra>\",\"legendgroup\":\"Train\",\"marker\":{\"color\":\"#FF97FF\",\"symbol\":\"circle\"},\"mode\":\"markers\",\"name\":\"Train\",\"orientation\":\"v\",\"showlegend\":true,\"x\":[37.39689254760742],\"xaxis\":\"x\",\"y\":[13.803945541381836],\"yaxis\":\"y\",\"type\":\"scatter\"},{\"customdata\":[[\"Good Time\",\"Owl City\"]],\"hovertemplate\":\"artist_name=%{customdata[1]}<br>0=%{x}<br>1=%{y}<br>song_name=%{customdata[0]}<extra></extra>\",\"legendgroup\":\"Owl City\",\"marker\":{\"color\":\"#FECB52\",\"symbol\":\"circle\"},\"mode\":\"markers\",\"name\":\"Owl City\",\"orientation\":\"v\",\"showlegend\":true,\"x\":[2.677018642425537],\"xaxis\":\"x\",\"y\":[8.403934478759766],\"yaxis\":\"y\",\"type\":\"scatter\"},{\"customdata\":[[\"Everyday Robots\",\"Damon Albarn\"]],\"hovertemplate\":\"artist_name=%{customdata[1]}<br>0=%{x}<br>1=%{y}<br>song_name=%{customdata[0]}<extra></extra>\",\"legendgroup\":\"Damon Albarn\",\"marker\":{\"color\":\"#636efa\",\"symbol\":\"circle\"},\"mode\":\"markers\",\"name\":\"Damon Albarn\",\"orientation\":\"v\",\"showlegend\":true,\"x\":[-33.50376510620117],\"xaxis\":\"x\",\"y\":[0.03252175450325012],\"yaxis\":\"y\",\"type\":\"scatter\"},{\"customdata\":[[\"Stunnin' (feat. Harm Franklin)\",\"Curtis Waters\"]],\"hovertemplate\":\"artist_name=%{customdata[1]}<br>0=%{x}<br>1=%{y}<br>song_name=%{customdata[0]}<extra></extra>\",\"legendgroup\":\"Curtis Waters\",\"marker\":{\"color\":\"#EF553B\",\"symbol\":\"circle\"},\"mode\":\"markers\",\"name\":\"Curtis Waters\",\"orientation\":\"v\",\"showlegend\":true,\"x\":[38.58782958984375],\"xaxis\":\"x\",\"y\":[8.13753604888916],\"yaxis\":\"y\",\"type\":\"scatter\"},{\"customdata\":[[\"Doin' Time\",\"Lana Del Rey\"],[\"The greatest\",\"Lana Del Rey\"],[\"California\",\"Lana Del Rey\"],[\"Fuck it I love you\",\"Lana Del Rey\"]],\"hovertemplate\":\"artist_name=%{customdata[1]}<br>0=%{x}<br>1=%{y}<br>song_name=%{customdata[0]}<extra></extra>\",\"legendgroup\":\"Lana Del Rey\",\"marker\":{\"color\":\"#00cc96\",\"symbol\":\"circle\"},\"mode\":\"markers\",\"name\":\"Lana Del Rey\",\"orientation\":\"v\",\"showlegend\":true,\"x\":[24.777381896972656,26.854658126831055,25.249225616455078,24.770931243896484],\"xaxis\":\"x\",\"y\":[19.94449234008789,27.25714874267578,24.72025489807129,24.882328033447266],\"yaxis\":\"y\",\"type\":\"scatter\"},{\"customdata\":[[\"Still Waiting\",\"Sum 41\"]],\"hovertemplate\":\"artist_name=%{customdata[1]}<br>0=%{x}<br>1=%{y}<br>song_name=%{customdata[0]}<extra></extra>\",\"legendgroup\":\"Sum 41\",\"marker\":{\"color\":\"#ab63fa\",\"symbol\":\"circle\"},\"mode\":\"markers\",\"name\":\"Sum 41\",\"orientation\":\"v\",\"showlegend\":true,\"x\":[5.956539630889893],\"xaxis\":\"x\",\"y\":[-6.831250190734863],\"yaxis\":\"y\",\"type\":\"scatter\"},{\"customdata\":[[\"An Honest Mistake - CD Album Version\",\"The Bravery\"]],\"hovertemplate\":\"artist_name=%{customdata[1]}<br>0=%{x}<br>1=%{y}<br>song_name=%{customdata[0]}<extra></extra>\",\"legendgroup\":\"The Bravery\",\"marker\":{\"color\":\"#FFA15A\",\"symbol\":\"circle\"},\"mode\":\"markers\",\"name\":\"The Bravery\",\"orientation\":\"v\",\"showlegend\":true,\"x\":[22.260541915893555],\"xaxis\":\"x\",\"y\":[-16.77173614501953],\"yaxis\":\"y\",\"type\":\"scatter\"},{\"customdata\":[[\"Jerk It Out\",\"Caesars\"]],\"hovertemplate\":\"artist_name=%{customdata[1]}<br>0=%{x}<br>1=%{y}<br>song_name=%{customdata[0]}<extra></extra>\",\"legendgroup\":\"Caesars\",\"marker\":{\"color\":\"#19d3f3\",\"symbol\":\"circle\"},\"mode\":\"markers\",\"name\":\"Caesars\",\"orientation\":\"v\",\"showlegend\":true,\"x\":[23.70359992980957],\"xaxis\":\"x\",\"y\":[4.040801048278809],\"yaxis\":\"y\",\"type\":\"scatter\"},{\"customdata\":[[\"Crystalised\",\"The xx\"]],\"hovertemplate\":\"artist_name=%{customdata[1]}<br>0=%{x}<br>1=%{y}<br>song_name=%{customdata[0]}<extra></extra>\",\"legendgroup\":\"The xx\",\"marker\":{\"color\":\"#FF6692\",\"symbol\":\"circle\"},\"mode\":\"markers\",\"name\":\"The xx\",\"orientation\":\"v\",\"showlegend\":true,\"x\":[22.194589614868164],\"xaxis\":\"x\",\"y\":[24.054370880126953],\"yaxis\":\"y\",\"type\":\"scatter\"},{\"customdata\":[[\"Movin' on Up\",\"Primal Scream\"],[\"Loaded - Edit\",\"Primal Scream\"]],\"hovertemplate\":\"artist_name=%{customdata[1]}<br>0=%{x}<br>1=%{y}<br>song_name=%{customdata[0]}<extra></extra>\",\"legendgroup\":\"Primal Scream\",\"marker\":{\"color\":\"#B6E880\",\"symbol\":\"circle\"},\"mode\":\"markers\",\"name\":\"Primal Scream\",\"orientation\":\"v\",\"showlegend\":true,\"x\":[35.97670364379883,-2.8340914249420166],\"xaxis\":\"x\",\"y\":[20.76859474182129,-23.05421257019043],\"yaxis\":\"y\",\"type\":\"scatter\"},{\"customdata\":[[\"Mile End\",\"Pulp\"],[\"Love Is Blind (Live)\",\"Pulp\"],[\"Countdown (Live)\",\"Pulp\"],[\"Death II (Live)\",\"Pulp\"],[\"Babies\",\"Pulp\"],[\"Disco 2000\",\"Pulp\"],[\"Mis-Shapes\",\"Pulp\"],[\"Common People\",\"Pulp\"],[\"Common People\",\"Pulp\"]],\"hovertemplate\":\"artist_name=%{customdata[1]}<br>0=%{x}<br>1=%{y}<br>song_name=%{customdata[0]}<extra></extra>\",\"legendgroup\":\"Pulp\",\"marker\":{\"color\":\"#FF97FF\",\"symbol\":\"circle\"},\"mode\":\"markers\",\"name\":\"Pulp\",\"orientation\":\"v\",\"showlegend\":true,\"x\":[-22.846561431884766,9.502524375915527,10.806270599365234,14.824917793273926,-4.158816814422607,29.68730926513672,7.36683988571167,-5.274840354919434,-4.974519729614258],\"xaxis\":\"x\",\"y\":[-5.214292526245117,4.06375789642334,5.176614284515381,5.486317157745361,-10.95035171508789,8.467833518981934,0.9295781254768372,-12.006468772888184,-12.101628303527832],\"yaxis\":\"y\",\"type\":\"scatter\"},{\"customdata\":[[\"My Type\",\"Saint Motel\"],[\"Move\",\"Saint Motel\"]],\"hovertemplate\":\"artist_name=%{customdata[1]}<br>0=%{x}<br>1=%{y}<br>song_name=%{customdata[0]}<extra></extra>\",\"legendgroup\":\"Saint Motel\",\"marker\":{\"color\":\"#FECB52\",\"symbol\":\"circle\"},\"mode\":\"markers\",\"name\":\"Saint Motel\",\"orientation\":\"v\",\"showlegend\":true,\"x\":[-6.211833477020264,23.856685638427734],\"xaxis\":\"x\",\"y\":[5.800808906555176,6.96508264541626],\"yaxis\":\"y\",\"type\":\"scatter\"},{\"customdata\":[[\"In the Aeroplane Over the Sea\",\"Neutral Milk Hotel\"]],\"hovertemplate\":\"artist_name=%{customdata[1]}<br>0=%{x}<br>1=%{y}<br>song_name=%{customdata[0]}<extra></extra>\",\"legendgroup\":\"Neutral Milk Hotel\",\"marker\":{\"color\":\"#636efa\",\"symbol\":\"circle\"},\"mode\":\"markers\",\"name\":\"Neutral Milk Hotel\",\"orientation\":\"v\",\"showlegend\":true,\"x\":[-28.01508140563965],\"xaxis\":\"x\",\"y\":[-7.380887508392334],\"yaxis\":\"y\",\"type\":\"scatter\"},{\"customdata\":[[\"Suspirium (Arr. Rimmer)\",\"Jess Gillam\"]],\"hovertemplate\":\"artist_name=%{customdata[1]}<br>0=%{x}<br>1=%{y}<br>song_name=%{customdata[0]}<extra></extra>\",\"legendgroup\":\"Jess Gillam\",\"marker\":{\"color\":\"#EF553B\",\"symbol\":\"circle\"},\"mode\":\"markers\",\"name\":\"Jess Gillam\",\"orientation\":\"v\",\"showlegend\":true,\"x\":[-39.779029846191406],\"xaxis\":\"x\",\"y\":[-6.632382869720459],\"yaxis\":\"y\",\"type\":\"scatter\"},{\"customdata\":[[\"Julus\",\"Shye Ben Tzur\"]],\"hovertemplate\":\"artist_name=%{customdata[1]}<br>0=%{x}<br>1=%{y}<br>song_name=%{customdata[0]}<extra></extra>\",\"legendgroup\":\"Shye Ben Tzur\",\"marker\":{\"color\":\"#00cc96\",\"symbol\":\"circle\"},\"mode\":\"markers\",\"name\":\"Shye Ben Tzur\",\"orientation\":\"v\",\"showlegend\":true,\"x\":[1.6325137615203857],\"xaxis\":\"x\",\"y\":[-28.86326026916504],\"yaxis\":\"y\",\"type\":\"scatter\"},{\"customdata\":[[\"Think About Things\",\"Da\\u00f0i Freyr\"]],\"hovertemplate\":\"artist_name=%{customdata[1]}<br>0=%{x}<br>1=%{y}<br>song_name=%{customdata[0]}<extra></extra>\",\"legendgroup\":\"Da\\u00f0i Freyr\",\"marker\":{\"color\":\"#ab63fa\",\"symbol\":\"circle\"},\"mode\":\"markers\",\"name\":\"Da\\u00f0i Freyr\",\"orientation\":\"v\",\"showlegend\":true,\"x\":[20.932647705078125],\"xaxis\":\"x\",\"y\":[16.649246215820312],\"yaxis\":\"y\",\"type\":\"scatter\"},{\"customdata\":[[\"Dancin - Krono Remix\",\"Aaron Smith\"]],\"hovertemplate\":\"artist_name=%{customdata[1]}<br>0=%{x}<br>1=%{y}<br>song_name=%{customdata[0]}<extra></extra>\",\"legendgroup\":\"Aaron Smith\",\"marker\":{\"color\":\"#FFA15A\",\"symbol\":\"circle\"},\"mode\":\"markers\",\"name\":\"Aaron Smith\",\"orientation\":\"v\",\"showlegend\":true,\"x\":[25.939708709716797],\"xaxis\":\"x\",\"y\":[11.249858856201172],\"yaxis\":\"y\",\"type\":\"scatter\"},{\"customdata\":[[\"Best Day Of My Life\",\"American Authors\"],[\"Hit It\",\"American Authors\"]],\"hovertemplate\":\"artist_name=%{customdata[1]}<br>0=%{x}<br>1=%{y}<br>song_name=%{customdata[0]}<extra></extra>\",\"legendgroup\":\"American Authors\",\"marker\":{\"color\":\"#19d3f3\",\"symbol\":\"circle\"},\"mode\":\"markers\",\"name\":\"American Authors\",\"orientation\":\"v\",\"showlegend\":true,\"x\":[-11.373645782470703,1.7683109045028687],\"xaxis\":\"x\",\"y\":[-12.099949836730957,7.765339374542236],\"yaxis\":\"y\",\"type\":\"scatter\"},{\"customdata\":[[\"Sedona\",\"Houndmouth\"]],\"hovertemplate\":\"artist_name=%{customdata[1]}<br>0=%{x}<br>1=%{y}<br>song_name=%{customdata[0]}<extra></extra>\",\"legendgroup\":\"Houndmouth\",\"marker\":{\"color\":\"#FF6692\",\"symbol\":\"circle\"},\"mode\":\"markers\",\"name\":\"Houndmouth\",\"orientation\":\"v\",\"showlegend\":true,\"x\":[-20.28831672668457],\"xaxis\":\"x\",\"y\":[-15.576374053955078],\"yaxis\":\"y\",\"type\":\"scatter\"},{\"customdata\":[[\"Mrs. Robinson - Remastered\",\"The Lemonheads\"]],\"hovertemplate\":\"artist_name=%{customdata[1]}<br>0=%{x}<br>1=%{y}<br>song_name=%{customdata[0]}<extra></extra>\",\"legendgroup\":\"The Lemonheads\",\"marker\":{\"color\":\"#B6E880\",\"symbol\":\"circle\"},\"mode\":\"markers\",\"name\":\"The Lemonheads\",\"orientation\":\"v\",\"showlegend\":true,\"x\":[24.00178337097168],\"xaxis\":\"x\",\"y\":[7.8338470458984375],\"yaxis\":\"y\",\"type\":\"scatter\"},{\"customdata\":[[\"1996\",\"The Wombats\"],[\"Turn\",\"The Wombats\"]],\"hovertemplate\":\"artist_name=%{customdata[1]}<br>0=%{x}<br>1=%{y}<br>song_name=%{customdata[0]}<extra></extra>\",\"legendgroup\":\"The Wombats\",\"marker\":{\"color\":\"#FF97FF\",\"symbol\":\"circle\"},\"mode\":\"markers\",\"name\":\"The Wombats\",\"orientation\":\"v\",\"showlegend\":true,\"x\":[18.375638961791992,-11.679445266723633],\"xaxis\":\"x\",\"y\":[4.3172407150268555,-14.528605461120605],\"yaxis\":\"y\",\"type\":\"scatter\"},{\"customdata\":[[\"Complainer\",\"Cold War Kids\"],[\"First\",\"Cold War Kids\"]],\"hovertemplate\":\"artist_name=%{customdata[1]}<br>0=%{x}<br>1=%{y}<br>song_name=%{customdata[0]}<extra></extra>\",\"legendgroup\":\"Cold War Kids\",\"marker\":{\"color\":\"#FECB52\",\"symbol\":\"circle\"},\"mode\":\"markers\",\"name\":\"Cold War Kids\",\"orientation\":\"v\",\"showlegend\":true,\"x\":[-21.48916244506836,6.430842876434326],\"xaxis\":\"x\",\"y\":[-4.348570823669434,8.502415657043457],\"yaxis\":\"y\",\"type\":\"scatter\"},{\"customdata\":[[\"Say It Ain't So\",\"Weezer\"]],\"hovertemplate\":\"artist_name=%{customdata[1]}<br>0=%{x}<br>1=%{y}<br>song_name=%{customdata[0]}<extra></extra>\",\"legendgroup\":\"Weezer\",\"marker\":{\"color\":\"#636efa\",\"symbol\":\"circle\"},\"mode\":\"markers\",\"name\":\"Weezer\",\"orientation\":\"v\",\"showlegend\":true,\"x\":[-19.34625244140625],\"xaxis\":\"x\",\"y\":[-11.554727554321289],\"yaxis\":\"y\",\"type\":\"scatter\"},{\"customdata\":[[\"Rockstar\",\"YONAKA\"]],\"hovertemplate\":\"artist_name=%{customdata[1]}<br>0=%{x}<br>1=%{y}<br>song_name=%{customdata[0]}<extra></extra>\",\"legendgroup\":\"YONAKA\",\"marker\":{\"color\":\"#EF553B\",\"symbol\":\"circle\"},\"mode\":\"markers\",\"name\":\"YONAKA\",\"orientation\":\"v\",\"showlegend\":true,\"x\":[28.88950538635254],\"xaxis\":\"x\",\"y\":[-0.016972528770565987],\"yaxis\":\"y\",\"type\":\"scatter\"},{\"customdata\":[[\"Hypersonic Missiles\",\"Sam Fender\"]],\"hovertemplate\":\"artist_name=%{customdata[1]}<br>0=%{x}<br>1=%{y}<br>song_name=%{customdata[0]}<extra></extra>\",\"legendgroup\":\"Sam Fender\",\"marker\":{\"color\":\"#00cc96\",\"symbol\":\"circle\"},\"mode\":\"markers\",\"name\":\"Sam Fender\",\"orientation\":\"v\",\"showlegend\":true,\"x\":[-9.102137565612793],\"xaxis\":\"x\",\"y\":[-13.851682662963867],\"yaxis\":\"y\",\"type\":\"scatter\"},{\"customdata\":[[\"Wars\",\"Of Monsters and Men\"],[\"Little Talks\",\"Of Monsters and Men\"]],\"hovertemplate\":\"artist_name=%{customdata[1]}<br>0=%{x}<br>1=%{y}<br>song_name=%{customdata[0]}<extra></extra>\",\"legendgroup\":\"Of Monsters and Men\",\"marker\":{\"color\":\"#ab63fa\",\"symbol\":\"circle\"},\"mode\":\"markers\",\"name\":\"Of Monsters and Men\",\"orientation\":\"v\",\"showlegend\":true,\"x\":[26.0316104888916,-12.596616744995117],\"xaxis\":\"x\",\"y\":[5.7109198570251465,-15.30797004699707],\"yaxis\":\"y\",\"type\":\"scatter\"},{\"customdata\":[[\"I Dare You\",\"The Regrettes\"]],\"hovertemplate\":\"artist_name=%{customdata[1]}<br>0=%{x}<br>1=%{y}<br>song_name=%{customdata[0]}<extra></extra>\",\"legendgroup\":\"The Regrettes\",\"marker\":{\"color\":\"#FFA15A\",\"symbol\":\"circle\"},\"mode\":\"markers\",\"name\":\"The Regrettes\",\"orientation\":\"v\",\"showlegend\":true,\"x\":[-6.446816444396973],\"xaxis\":\"x\",\"y\":[-7.659103870391846],\"yaxis\":\"y\",\"type\":\"scatter\"},{\"customdata\":[[\"Lazy Eye\",\"Silversun Pickups\"]],\"hovertemplate\":\"artist_name=%{customdata[1]}<br>0=%{x}<br>1=%{y}<br>song_name=%{customdata[0]}<extra></extra>\",\"legendgroup\":\"Silversun Pickups\",\"marker\":{\"color\":\"#19d3f3\",\"symbol\":\"circle\"},\"mode\":\"markers\",\"name\":\"Silversun Pickups\",\"orientation\":\"v\",\"showlegend\":true,\"x\":[4.616846561431885],\"xaxis\":\"x\",\"y\":[-21.775026321411133],\"yaxis\":\"y\",\"type\":\"scatter\"},{\"customdata\":[[\"Chelsea Dagger\",\"The Fratellis\"],[\"She's Not Gone Yet but She's Leaving\",\"The Fratellis\"]],\"hovertemplate\":\"artist_name=%{customdata[1]}<br>0=%{x}<br>1=%{y}<br>song_name=%{customdata[0]}<extra></extra>\",\"legendgroup\":\"The Fratellis\",\"marker\":{\"color\":\"#FF6692\",\"symbol\":\"circle\"},\"mode\":\"markers\",\"name\":\"The Fratellis\",\"orientation\":\"v\",\"showlegend\":true,\"x\":[2.446185350418091,23.262231826782227],\"xaxis\":\"x\",\"y\":[-5.52503776550293,6.576298236846924],\"yaxis\":\"y\",\"type\":\"scatter\"},{\"customdata\":[[\"Where Are You Now?\",\"Royal Blood\"]],\"hovertemplate\":\"artist_name=%{customdata[1]}<br>0=%{x}<br>1=%{y}<br>song_name=%{customdata[0]}<extra></extra>\",\"legendgroup\":\"Royal Blood\",\"marker\":{\"color\":\"#B6E880\",\"symbol\":\"circle\"},\"mode\":\"markers\",\"name\":\"Royal Blood\",\"orientation\":\"v\",\"showlegend\":true,\"x\":[21.641572952270508],\"xaxis\":\"x\",\"y\":[0.5427895784378052],\"yaxis\":\"y\",\"type\":\"scatter\"},{\"customdata\":[[\"Come Closer\",\"Miles Kane\"]],\"hovertemplate\":\"artist_name=%{customdata[1]}<br>0=%{x}<br>1=%{y}<br>song_name=%{customdata[0]}<extra></extra>\",\"legendgroup\":\"Miles Kane\",\"marker\":{\"color\":\"#FF97FF\",\"symbol\":\"circle\"},\"mode\":\"markers\",\"name\":\"Miles Kane\",\"orientation\":\"v\",\"showlegend\":true,\"x\":[32.97874450683594],\"xaxis\":\"x\",\"y\":[3.600799560546875],\"yaxis\":\"y\",\"type\":\"scatter\"},{\"customdata\":[[\"Marquee Moon (Edit)\",\"Television\"]],\"hovertemplate\":\"artist_name=%{customdata[1]}<br>0=%{x}<br>1=%{y}<br>song_name=%{customdata[0]}<extra></extra>\",\"legendgroup\":\"Television\",\"marker\":{\"color\":\"#FECB52\",\"symbol\":\"circle\"},\"mode\":\"markers\",\"name\":\"Television\",\"orientation\":\"v\",\"showlegend\":true,\"x\":[-12.605828285217285],\"xaxis\":\"x\",\"y\":[4.045548915863037],\"yaxis\":\"y\",\"type\":\"scatter\"},{\"customdata\":[[\"Sure Shot\",\"Beastie Boys\"]],\"hovertemplate\":\"artist_name=%{customdata[1]}<br>0=%{x}<br>1=%{y}<br>song_name=%{customdata[0]}<extra></extra>\",\"legendgroup\":\"Beastie Boys\",\"marker\":{\"color\":\"#636efa\",\"symbol\":\"circle\"},\"mode\":\"markers\",\"name\":\"Beastie Boys\",\"orientation\":\"v\",\"showlegend\":true,\"x\":[0.10103586316108704],\"xaxis\":\"x\",\"y\":[14.738269805908203],\"yaxis\":\"y\",\"type\":\"scatter\"},{\"customdata\":[[\"U-Mass\",\"Pixies\"],[\"Debaser\",\"Pixies\"],[\"Hey\",\"Pixies\"],[\"Where Is My Mind?\",\"Pixies\"]],\"hovertemplate\":\"artist_name=%{customdata[1]}<br>0=%{x}<br>1=%{y}<br>song_name=%{customdata[0]}<extra></extra>\",\"legendgroup\":\"Pixies\",\"marker\":{\"color\":\"#EF553B\",\"symbol\":\"circle\"},\"mode\":\"markers\",\"name\":\"Pixies\",\"orientation\":\"v\",\"showlegend\":true,\"x\":[17.129680633544922,-5.848634719848633,-25.229753494262695,-26.3856143951416],\"xaxis\":\"x\",\"y\":[5.119235515594482,-18.70811653137207,-0.8899044394493103,-1.6242220401763916],\"yaxis\":\"y\",\"type\":\"scatter\"},{\"customdata\":[[\"Wall of Glass\",\"Liam Gallagher\"]],\"hovertemplate\":\"artist_name=%{customdata[1]}<br>0=%{x}<br>1=%{y}<br>song_name=%{customdata[0]}<extra></extra>\",\"legendgroup\":\"Liam Gallagher\",\"marker\":{\"color\":\"#00cc96\",\"symbol\":\"circle\"},\"mode\":\"markers\",\"name\":\"Liam Gallagher\",\"orientation\":\"v\",\"showlegend\":true,\"x\":[0.1331423968076706],\"xaxis\":\"x\",\"y\":[-13.419258117675781],\"yaxis\":\"y\",\"type\":\"scatter\"},{\"customdata\":[[\"Run Right Back\",\"The Black Keys\"],[\"Weight of Love\",\"The Black Keys\"],[\"Mind Eraser\",\"The Black Keys\"],[\"Little Black Submarines\",\"The Black Keys\"],[\"Gold on the Ceiling\",\"The Black Keys\"]],\"hovertemplate\":\"artist_name=%{customdata[1]}<br>0=%{x}<br>1=%{y}<br>song_name=%{customdata[0]}<extra></extra>\",\"legendgroup\":\"The Black Keys\",\"marker\":{\"color\":\"#ab63fa\",\"symbol\":\"circle\"},\"mode\":\"markers\",\"name\":\"The Black Keys\",\"orientation\":\"v\",\"showlegend\":true,\"x\":[34.336551666259766,-32.160762786865234,28.618019104003906,-24.026086807250977,-9.44301986694336],\"xaxis\":\"x\",\"y\":[15.572510719299316,-13.839311599731445,10.784120559692383,-7.782491683959961,-11.962278366088867],\"yaxis\":\"y\",\"type\":\"scatter\"},{\"customdata\":[[\"S\\u00e9quences\",\"L'Imp\\u00e9ratrice\"]],\"hovertemplate\":\"artist_name=%{customdata[1]}<br>0=%{x}<br>1=%{y}<br>song_name=%{customdata[0]}<extra></extra>\",\"legendgroup\":\"L'Imp\\u00e9ratrice\",\"marker\":{\"color\":\"#FFA15A\",\"symbol\":\"circle\"},\"mode\":\"markers\",\"name\":\"L'Imp\\u00e9ratrice\",\"orientation\":\"v\",\"showlegend\":true,\"x\":[23.644189834594727],\"xaxis\":\"x\",\"y\":[21.90190315246582],\"yaxis\":\"y\",\"type\":\"scatter\"},{\"customdata\":[[\"Between the Buttons\",\"French 79\"]],\"hovertemplate\":\"artist_name=%{customdata[1]}<br>0=%{x}<br>1=%{y}<br>song_name=%{customdata[0]}<extra></extra>\",\"legendgroup\":\"French 79\",\"marker\":{\"color\":\"#19d3f3\",\"symbol\":\"circle\"},\"mode\":\"markers\",\"name\":\"French 79\",\"orientation\":\"v\",\"showlegend\":true,\"x\":[-34.915958404541016],\"xaxis\":\"x\",\"y\":[-15.24445629119873],\"yaxis\":\"y\",\"type\":\"scatter\"},{\"customdata\":[[\"Come Back to Me\",\"Hollysiz\"]],\"hovertemplate\":\"artist_name=%{customdata[1]}<br>0=%{x}<br>1=%{y}<br>song_name=%{customdata[0]}<extra></extra>\",\"legendgroup\":\"Hollysiz\",\"marker\":{\"color\":\"#FF6692\",\"symbol\":\"circle\"},\"mode\":\"markers\",\"name\":\"Hollysiz\",\"orientation\":\"v\",\"showlegend\":true,\"x\":[-14.478537559509277],\"xaxis\":\"x\",\"y\":[7.9519476890563965],\"yaxis\":\"y\",\"type\":\"scatter\"},{\"customdata\":[[\"Louxor j'adore\",\"Philippe Katerine\"]],\"hovertemplate\":\"artist_name=%{customdata[1]}<br>0=%{x}<br>1=%{y}<br>song_name=%{customdata[0]}<extra></extra>\",\"legendgroup\":\"Philippe Katerine\",\"marker\":{\"color\":\"#B6E880\",\"symbol\":\"circle\"},\"mode\":\"markers\",\"name\":\"Philippe Katerine\",\"orientation\":\"v\",\"showlegend\":true,\"x\":[35.189022064208984],\"xaxis\":\"x\",\"y\":[5.276030540466309],\"yaxis\":\"y\",\"type\":\"scatter\"},{\"customdata\":[[\"La baie\",\"Clara Luciani\"]],\"hovertemplate\":\"artist_name=%{customdata[1]}<br>0=%{x}<br>1=%{y}<br>song_name=%{customdata[0]}<extra></extra>\",\"legendgroup\":\"Clara Luciani\",\"marker\":{\"color\":\"#FF97FF\",\"symbol\":\"circle\"},\"mode\":\"markers\",\"name\":\"Clara Luciani\",\"orientation\":\"v\",\"showlegend\":true,\"x\":[33.443180084228516],\"xaxis\":\"x\",\"y\":[10.04909610748291],\"yaxis\":\"y\",\"type\":\"scatter\"},{\"customdata\":[[\"Candide Crush\",\"Therapie TAXI\"]],\"hovertemplate\":\"artist_name=%{customdata[1]}<br>0=%{x}<br>1=%{y}<br>song_name=%{customdata[0]}<extra></extra>\",\"legendgroup\":\"Therapie TAXI\",\"marker\":{\"color\":\"#FECB52\",\"symbol\":\"circle\"},\"mode\":\"markers\",\"name\":\"Therapie TAXI\",\"orientation\":\"v\",\"showlegend\":true,\"x\":[9.182106018066406],\"xaxis\":\"x\",\"y\":[3.4335265159606934],\"yaxis\":\"y\",\"type\":\"scatter\"},{\"customdata\":[[\"O\\u00f9 va le monde\",\"La Femme\"]],\"hovertemplate\":\"artist_name=%{customdata[1]}<br>0=%{x}<br>1=%{y}<br>song_name=%{customdata[0]}<extra></extra>\",\"legendgroup\":\"La Femme\",\"marker\":{\"color\":\"#636efa\",\"symbol\":\"circle\"},\"mode\":\"markers\",\"name\":\"La Femme\",\"orientation\":\"v\",\"showlegend\":true,\"x\":[19.87866973876953],\"xaxis\":\"x\",\"y\":[0.6923535466194153],\"yaxis\":\"y\",\"type\":\"scatter\"},{\"customdata\":[[\"How Much (You Want Her) 2017\",\"Isaac Delusion\"]],\"hovertemplate\":\"artist_name=%{customdata[1]}<br>0=%{x}<br>1=%{y}<br>song_name=%{customdata[0]}<extra></extra>\",\"legendgroup\":\"Isaac Delusion\",\"marker\":{\"color\":\"#EF553B\",\"symbol\":\"circle\"},\"mode\":\"markers\",\"name\":\"Isaac Delusion\",\"orientation\":\"v\",\"showlegend\":true,\"x\":[-12.759352684020996],\"xaxis\":\"x\",\"y\":[3.844606876373291],\"yaxis\":\"y\",\"type\":\"scatter\"},{\"customdata\":[[\"Pa'lante\",\"Lao Ra\"]],\"hovertemplate\":\"artist_name=%{customdata[1]}<br>0=%{x}<br>1=%{y}<br>song_name=%{customdata[0]}<extra></extra>\",\"legendgroup\":\"Lao Ra\",\"marker\":{\"color\":\"#00cc96\",\"symbol\":\"circle\"},\"mode\":\"markers\",\"name\":\"Lao Ra\",\"orientation\":\"v\",\"showlegend\":true,\"x\":[-12.246330261230469],\"xaxis\":\"x\",\"y\":[-14.04205322265625],\"yaxis\":\"y\",\"type\":\"scatter\"},{\"customdata\":[[\"Spark\",\"Fitz and The Tantrums\"]],\"hovertemplate\":\"artist_name=%{customdata[1]}<br>0=%{x}<br>1=%{y}<br>song_name=%{customdata[0]}<extra></extra>\",\"legendgroup\":\"Fitz and The Tantrums\",\"marker\":{\"color\":\"#ab63fa\",\"symbol\":\"circle\"},\"mode\":\"markers\",\"name\":\"Fitz and The Tantrums\",\"orientation\":\"v\",\"showlegend\":true,\"x\":[-10.384607315063477],\"xaxis\":\"x\",\"y\":[-7.627264499664307],\"yaxis\":\"y\",\"type\":\"scatter\"},{\"customdata\":[[\"Fast Cars\",\"Buzzcocks\"],[\"Nothing Left - 1996 Remastered Version\",\"Buzzcocks\"],[\"Sixteen Again - 1996 Remastered Version\",\"Buzzcocks\"],[\"Ever Fallen in Love (With Someone You Shouldn't've?) - 1996 Remastered Version\",\"Buzzcocks\"]],\"hovertemplate\":\"artist_name=%{customdata[1]}<br>0=%{x}<br>1=%{y}<br>song_name=%{customdata[0]}<extra></extra>\",\"legendgroup\":\"Buzzcocks\",\"marker\":{\"color\":\"#FFA15A\",\"symbol\":\"circle\"},\"mode\":\"markers\",\"name\":\"Buzzcocks\",\"orientation\":\"v\",\"showlegend\":true,\"x\":[26.03876304626465,-2.460639476776123,-1.8938778638839722,-2.929081916809082],\"xaxis\":\"x\",\"y\":[14.797747611999512,-6.187416076660156,-9.949882507324219,-7.902058124542236],\"yaxis\":\"y\",\"type\":\"scatter\"},{\"customdata\":[[\"Punching In A Dream\",\"The Naked And Famous\"]],\"hovertemplate\":\"artist_name=%{customdata[1]}<br>0=%{x}<br>1=%{y}<br>song_name=%{customdata[0]}<extra></extra>\",\"legendgroup\":\"The Naked And Famous\",\"marker\":{\"color\":\"#19d3f3\",\"symbol\":\"circle\"},\"mode\":\"markers\",\"name\":\"The Naked And Famous\",\"orientation\":\"v\",\"showlegend\":true,\"x\":[-1.0497902631759644],\"xaxis\":\"x\",\"y\":[-0.9885620474815369],\"yaxis\":\"y\",\"type\":\"scatter\"},{\"customdata\":[[\"Sweet Sipping Soda\",\"Reptar\"]],\"hovertemplate\":\"artist_name=%{customdata[1]}<br>0=%{x}<br>1=%{y}<br>song_name=%{customdata[0]}<extra></extra>\",\"legendgroup\":\"Reptar\",\"marker\":{\"color\":\"#FF6692\",\"symbol\":\"circle\"},\"mode\":\"markers\",\"name\":\"Reptar\",\"orientation\":\"v\",\"showlegend\":true,\"x\":[7.103470802307129],\"xaxis\":\"x\",\"y\":[1.025027871131897],\"yaxis\":\"y\",\"type\":\"scatter\"},{\"customdata\":[[\"Movin' up\",\"X-Wife\"]],\"hovertemplate\":\"artist_name=%{customdata[1]}<br>0=%{x}<br>1=%{y}<br>song_name=%{customdata[0]}<extra></extra>\",\"legendgroup\":\"X-Wife\",\"marker\":{\"color\":\"#B6E880\",\"symbol\":\"circle\"},\"mode\":\"markers\",\"name\":\"X-Wife\",\"orientation\":\"v\",\"showlegend\":true,\"x\":[33.86665344238281],\"xaxis\":\"x\",\"y\":[11.592849731445312],\"yaxis\":\"y\",\"type\":\"scatter\"},{\"customdata\":[[\"Heaven Only Knows\",\"Bob Moses\"]],\"hovertemplate\":\"artist_name=%{customdata[1]}<br>0=%{x}<br>1=%{y}<br>song_name=%{customdata[0]}<extra></extra>\",\"legendgroup\":\"Bob Moses\",\"marker\":{\"color\":\"#FF97FF\",\"symbol\":\"circle\"},\"mode\":\"markers\",\"name\":\"Bob Moses\",\"orientation\":\"v\",\"showlegend\":true,\"x\":[-23.431406021118164],\"xaxis\":\"x\",\"y\":[-11.519970893859863],\"yaxis\":\"y\",\"type\":\"scatter\"},{\"customdata\":[[\"\\u0412\\u0435\\u0440\\u0430 \\u0438 \\u041d\\u0430\\u0434\\u0435\\u0436\\u0434\\u0430 (WIN)\",\"ST\"]],\"hovertemplate\":\"artist_name=%{customdata[1]}<br>0=%{x}<br>1=%{y}<br>song_name=%{customdata[0]}<extra></extra>\",\"legendgroup\":\"ST\",\"marker\":{\"color\":\"#FECB52\",\"symbol\":\"circle\"},\"mode\":\"markers\",\"name\":\"ST\",\"orientation\":\"v\",\"showlegend\":true,\"x\":[-8.942721366882324],\"xaxis\":\"x\",\"y\":[-12.370556831359863],\"yaxis\":\"y\",\"type\":\"scatter\"},{\"customdata\":[[\"We Come Running\",\"Youngblood Hawke\"]],\"hovertemplate\":\"artist_name=%{customdata[1]}<br>0=%{x}<br>1=%{y}<br>song_name=%{customdata[0]}<extra></extra>\",\"legendgroup\":\"Youngblood Hawke\",\"marker\":{\"color\":\"#636efa\",\"symbol\":\"circle\"},\"mode\":\"markers\",\"name\":\"Youngblood Hawke\",\"orientation\":\"v\",\"showlegend\":true,\"x\":[-3.047818660736084],\"xaxis\":\"x\",\"y\":[0.6111592650413513],\"yaxis\":\"y\",\"type\":\"scatter\"},{\"customdata\":[[\"The More You Ignore Me, the Closer I Get - 2014 Remaster\",\"Morrissey\"],[\"Everyday Is Like Sunday - 2011 Remaster\",\"Morrissey\"]],\"hovertemplate\":\"artist_name=%{customdata[1]}<br>0=%{x}<br>1=%{y}<br>song_name=%{customdata[0]}<extra></extra>\",\"legendgroup\":\"Morrissey\",\"marker\":{\"color\":\"#EF553B\",\"symbol\":\"circle\"},\"mode\":\"markers\",\"name\":\"Morrissey\",\"orientation\":\"v\",\"showlegend\":true,\"x\":[-3.353628158569336,-9.458891868591309],\"xaxis\":\"x\",\"y\":[-6.22488260269165,-19.07075309753418],\"yaxis\":\"y\",\"type\":\"scatter\"},{\"customdata\":[[\"Blitzkrieg Bop - 2001 Remastered Version\",\"Ramones\"]],\"hovertemplate\":\"artist_name=%{customdata[1]}<br>0=%{x}<br>1=%{y}<br>song_name=%{customdata[0]}<extra></extra>\",\"legendgroup\":\"Ramones\",\"marker\":{\"color\":\"#00cc96\",\"symbol\":\"circle\"},\"mode\":\"markers\",\"name\":\"Ramones\",\"orientation\":\"v\",\"showlegend\":true,\"x\":[-4.012105464935303],\"xaxis\":\"x\",\"y\":[-4.990505695343018],\"yaxis\":\"y\",\"type\":\"scatter\"},{\"customdata\":[[\"Damaged Goods\",\"Gang Of Four\"]],\"hovertemplate\":\"artist_name=%{customdata[1]}<br>0=%{x}<br>1=%{y}<br>song_name=%{customdata[0]}<extra></extra>\",\"legendgroup\":\"Gang Of Four\",\"marker\":{\"color\":\"#ab63fa\",\"symbol\":\"circle\"},\"mode\":\"markers\",\"name\":\"Gang Of Four\",\"orientation\":\"v\",\"showlegend\":true,\"x\":[-10.35249137878418],\"xaxis\":\"x\",\"y\":[-5.358245849609375],\"yaxis\":\"y\",\"type\":\"scatter\"},{\"customdata\":[[\"Aqualung - Steven Wilson Stereo Remix\",\"Jethro Tull\"]],\"hovertemplate\":\"artist_name=%{customdata[1]}<br>0=%{x}<br>1=%{y}<br>song_name=%{customdata[0]}<extra></extra>\",\"legendgroup\":\"Jethro Tull\",\"marker\":{\"color\":\"#FFA15A\",\"symbol\":\"circle\"},\"mode\":\"markers\",\"name\":\"Jethro Tull\",\"orientation\":\"v\",\"showlegend\":true,\"x\":[28.045745849609375],\"xaxis\":\"x\",\"y\":[14.93353271484375],\"yaxis\":\"y\",\"type\":\"scatter\"},{\"customdata\":[[\"Naive\",\"The Kooks\"]],\"hovertemplate\":\"artist_name=%{customdata[1]}<br>0=%{x}<br>1=%{y}<br>song_name=%{customdata[0]}<extra></extra>\",\"legendgroup\":\"The Kooks\",\"marker\":{\"color\":\"#19d3f3\",\"symbol\":\"circle\"},\"mode\":\"markers\",\"name\":\"The Kooks\",\"orientation\":\"v\",\"showlegend\":true,\"x\":[25.01972198486328],\"xaxis\":\"x\",\"y\":[9.205788612365723],\"yaxis\":\"y\",\"type\":\"scatter\"},{\"customdata\":[[\"Teenage Kicks\",\"The Undertones\"]],\"hovertemplate\":\"artist_name=%{customdata[1]}<br>0=%{x}<br>1=%{y}<br>song_name=%{customdata[0]}<extra></extra>\",\"legendgroup\":\"The Undertones\",\"marker\":{\"color\":\"#FF6692\",\"symbol\":\"circle\"},\"mode\":\"markers\",\"name\":\"The Undertones\",\"orientation\":\"v\",\"showlegend\":true,\"x\":[-6.327314376831055],\"xaxis\":\"x\",\"y\":[-12.12444019317627],\"yaxis\":\"y\",\"type\":\"scatter\"},{\"customdata\":[[\"Pogo\",\"Digitalism\"],[\"Circles\",\"Digitalism\"]],\"hovertemplate\":\"artist_name=%{customdata[1]}<br>0=%{x}<br>1=%{y}<br>song_name=%{customdata[0]}<extra></extra>\",\"legendgroup\":\"Digitalism\",\"marker\":{\"color\":\"#B6E880\",\"symbol\":\"circle\"},\"mode\":\"markers\",\"name\":\"Digitalism\",\"orientation\":\"v\",\"showlegend\":true,\"x\":[7.646049499511719,3.8477420806884766],\"xaxis\":\"x\",\"y\":[3.383275032043457,19.809337615966797],\"yaxis\":\"y\",\"type\":\"scatter\"},{\"customdata\":[[\"Bergschrund (feat. Nils Frahm)\",\"DJ Shadow\"]],\"hovertemplate\":\"artist_name=%{customdata[1]}<br>0=%{x}<br>1=%{y}<br>song_name=%{customdata[0]}<extra></extra>\",\"legendgroup\":\"DJ Shadow\",\"marker\":{\"color\":\"#FF97FF\",\"symbol\":\"circle\"},\"mode\":\"markers\",\"name\":\"DJ Shadow\",\"orientation\":\"v\",\"showlegend\":true,\"x\":[5.624260425567627],\"xaxis\":\"x\",\"y\":[-25.624624252319336],\"yaxis\":\"y\",\"type\":\"scatter\"},{\"customdata\":[[\"Happy Days\",\"Closure in Moscow\"]],\"hovertemplate\":\"artist_name=%{customdata[1]}<br>0=%{x}<br>1=%{y}<br>song_name=%{customdata[0]}<extra></extra>\",\"legendgroup\":\"Closure in Moscow\",\"marker\":{\"color\":\"#FECB52\",\"symbol\":\"circle\"},\"mode\":\"markers\",\"name\":\"Closure in Moscow\",\"orientation\":\"v\",\"showlegend\":true,\"x\":[24.16934585571289],\"xaxis\":\"x\",\"y\":[1.2137806415557861],\"yaxis\":\"y\",\"type\":\"scatter\"},{\"customdata\":[[\"The Passenger\",\"Siouxsie and the Banshees\"]],\"hovertemplate\":\"artist_name=%{customdata[1]}<br>0=%{x}<br>1=%{y}<br>song_name=%{customdata[0]}<extra></extra>\",\"legendgroup\":\"Siouxsie and the Banshees\",\"marker\":{\"color\":\"#636efa\",\"symbol\":\"circle\"},\"mode\":\"markers\",\"name\":\"Siouxsie and the Banshees\",\"orientation\":\"v\",\"showlegend\":true,\"x\":[29.627626419067383],\"xaxis\":\"x\",\"y\":[-1.9657865762710571],\"yaxis\":\"y\",\"type\":\"scatter\"},{\"customdata\":[[\"Golden Skans\",\"Klaxons\"]],\"hovertemplate\":\"artist_name=%{customdata[1]}<br>0=%{x}<br>1=%{y}<br>song_name=%{customdata[0]}<extra></extra>\",\"legendgroup\":\"Klaxons\",\"marker\":{\"color\":\"#EF553B\",\"symbol\":\"circle\"},\"mode\":\"markers\",\"name\":\"Klaxons\",\"orientation\":\"v\",\"showlegend\":true,\"x\":[29.891006469726562],\"xaxis\":\"x\",\"y\":[3.589833974838257],\"yaxis\":\"y\",\"type\":\"scatter\"},{\"customdata\":[[\"Hate To Say I Told You So\",\"The Hives\"]],\"hovertemplate\":\"artist_name=%{customdata[1]}<br>0=%{x}<br>1=%{y}<br>song_name=%{customdata[0]}<extra></extra>\",\"legendgroup\":\"The Hives\",\"marker\":{\"color\":\"#00cc96\",\"symbol\":\"circle\"},\"mode\":\"markers\",\"name\":\"The Hives\",\"orientation\":\"v\",\"showlegend\":true,\"x\":[5.406124591827393],\"xaxis\":\"x\",\"y\":[0.7802747488021851],\"yaxis\":\"y\",\"type\":\"scatter\"},{\"customdata\":[[\"Last Stop: This Town\",\"Eels\"]],\"hovertemplate\":\"artist_name=%{customdata[1]}<br>0=%{x}<br>1=%{y}<br>song_name=%{customdata[0]}<extra></extra>\",\"legendgroup\":\"Eels\",\"marker\":{\"color\":\"#ab63fa\",\"symbol\":\"circle\"},\"mode\":\"markers\",\"name\":\"Eels\",\"orientation\":\"v\",\"showlegend\":true,\"x\":[-6.118900775909424],\"xaxis\":\"x\",\"y\":[-24.393470764160156],\"yaxis\":\"y\",\"type\":\"scatter\"},{\"customdata\":[[\"Shooting Stars\",\"Bag Raiders\"]],\"hovertemplate\":\"artist_name=%{customdata[1]}<br>0=%{x}<br>1=%{y}<br>song_name=%{customdata[0]}<extra></extra>\",\"legendgroup\":\"Bag Raiders\",\"marker\":{\"color\":\"#FFA15A\",\"symbol\":\"circle\"},\"mode\":\"markers\",\"name\":\"Bag Raiders\",\"orientation\":\"v\",\"showlegend\":true,\"x\":[-4.1057000160217285],\"xaxis\":\"x\",\"y\":[1.0878329277038574],\"yaxis\":\"y\",\"type\":\"scatter\"},{\"customdata\":[[\"My Decision - Edit\",\"Moss\"]],\"hovertemplate\":\"artist_name=%{customdata[1]}<br>0=%{x}<br>1=%{y}<br>song_name=%{customdata[0]}<extra></extra>\",\"legendgroup\":\"Moss\",\"marker\":{\"color\":\"#19d3f3\",\"symbol\":\"circle\"},\"mode\":\"markers\",\"name\":\"Moss\",\"orientation\":\"v\",\"showlegend\":true,\"x\":[-7.576981067657471],\"xaxis\":\"x\",\"y\":[-1.0305051803588867],\"yaxis\":\"y\",\"type\":\"scatter\"},{\"customdata\":[[\"Maps\",\"Yeah Yeah Yeahs\"]],\"hovertemplate\":\"artist_name=%{customdata[1]}<br>0=%{x}<br>1=%{y}<br>song_name=%{customdata[0]}<extra></extra>\",\"legendgroup\":\"Yeah Yeah Yeahs\",\"marker\":{\"color\":\"#FF6692\",\"symbol\":\"circle\"},\"mode\":\"markers\",\"name\":\"Yeah Yeah Yeahs\",\"orientation\":\"v\",\"showlegend\":true,\"x\":[3.174254894256592],\"xaxis\":\"x\",\"y\":[1.7230182886123657],\"yaxis\":\"y\",\"type\":\"scatter\"},{\"customdata\":[[\"You\",\"Kyson\"]],\"hovertemplate\":\"artist_name=%{customdata[1]}<br>0=%{x}<br>1=%{y}<br>song_name=%{customdata[0]}<extra></extra>\",\"legendgroup\":\"Kyson\",\"marker\":{\"color\":\"#B6E880\",\"symbol\":\"circle\"},\"mode\":\"markers\",\"name\":\"Kyson\",\"orientation\":\"v\",\"showlegend\":true,\"x\":[27.810523986816406],\"xaxis\":\"x\",\"y\":[28.10384178161621],\"yaxis\":\"y\",\"type\":\"scatter\"},{\"customdata\":[[\"Bright Eyes\",\"Anoushka Shankar\"]],\"hovertemplate\":\"artist_name=%{customdata[1]}<br>0=%{x}<br>1=%{y}<br>song_name=%{customdata[0]}<extra></extra>\",\"legendgroup\":\"Anoushka Shankar\",\"marker\":{\"color\":\"#FF97FF\",\"symbol\":\"circle\"},\"mode\":\"markers\",\"name\":\"Anoushka Shankar\",\"orientation\":\"v\",\"showlegend\":true,\"x\":[27.211708068847656],\"xaxis\":\"x\",\"y\":[27.059097290039062],\"yaxis\":\"y\",\"type\":\"scatter\"},{\"customdata\":[[\"Happy Pills\",\"Norah Jones\"]],\"hovertemplate\":\"artist_name=%{customdata[1]}<br>0=%{x}<br>1=%{y}<br>song_name=%{customdata[0]}<extra></extra>\",\"legendgroup\":\"Norah Jones\",\"marker\":{\"color\":\"#FECB52\",\"symbol\":\"circle\"},\"mode\":\"markers\",\"name\":\"Norah Jones\",\"orientation\":\"v\",\"showlegend\":true,\"x\":[-10.647951126098633],\"xaxis\":\"x\",\"y\":[-4.025228500366211],\"yaxis\":\"y\",\"type\":\"scatter\"},{\"customdata\":[[\"Ahimsa\",\"U2\"],[\"Pride (In The Name Of Love) - Remastered 2009\",\"U2\"],[\"Where The Streets Have No Name - Remastered\",\"U2\"],[\"Sunday Bloody Sunday - Remastered 2008\",\"U2\"],[\"Ordinary Love\",\"U2\"],[\"Sunday Bloody Sunday - Remastered 2008\",\"U2\"]],\"hovertemplate\":\"artist_name=%{customdata[1]}<br>0=%{x}<br>1=%{y}<br>song_name=%{customdata[0]}<extra></extra>\",\"legendgroup\":\"U2\",\"marker\":{\"color\":\"#636efa\",\"symbol\":\"circle\"},\"mode\":\"markers\",\"name\":\"U2\",\"orientation\":\"v\",\"showlegend\":true,\"x\":[-25.705482482910156,10.456318855285645,-19.788236618041992,-18.63558578491211,24.09236717224121,-18.635534286499023],\"xaxis\":\"x\",\"y\":[-9.563756942749023,6.27997350692749,-14.674765586853027,8.176448822021484,18.583192825317383,8.176434516906738],\"yaxis\":\"y\",\"type\":\"scatter\"},{\"customdata\":[[\"Where Angels Fear To Tread\",\"Disclosure\"]],\"hovertemplate\":\"artist_name=%{customdata[1]}<br>0=%{x}<br>1=%{y}<br>song_name=%{customdata[0]}<extra></extra>\",\"legendgroup\":\"Disclosure\",\"marker\":{\"color\":\"#EF553B\",\"symbol\":\"circle\"},\"mode\":\"markers\",\"name\":\"Disclosure\",\"orientation\":\"v\",\"showlegend\":true,\"x\":[22.134248733520508],\"xaxis\":\"x\",\"y\":[-14.925092697143555],\"yaxis\":\"y\",\"type\":\"scatter\"},{\"customdata\":[[\"Plantas Falsas\",\"Bruxas\"]],\"hovertemplate\":\"artist_name=%{customdata[1]}<br>0=%{x}<br>1=%{y}<br>song_name=%{customdata[0]}<extra></extra>\",\"legendgroup\":\"Bruxas\",\"marker\":{\"color\":\"#00cc96\",\"symbol\":\"circle\"},\"mode\":\"markers\",\"name\":\"Bruxas\",\"orientation\":\"v\",\"showlegend\":true,\"x\":[-16.810346603393555],\"xaxis\":\"x\",\"y\":[-2.0866892337799072],\"yaxis\":\"y\",\"type\":\"scatter\"},{\"customdata\":[[\"Holographic Landscape\",\"S U R V I V E\"]],\"hovertemplate\":\"artist_name=%{customdata[1]}<br>0=%{x}<br>1=%{y}<br>song_name=%{customdata[0]}<extra></extra>\",\"legendgroup\":\"S U R V I V E\",\"marker\":{\"color\":\"#ab63fa\",\"symbol\":\"circle\"},\"mode\":\"markers\",\"name\":\"S U R V I V E\",\"orientation\":\"v\",\"showlegend\":true,\"x\":[19.185298919677734],\"xaxis\":\"x\",\"y\":[-15.351409912109375],\"yaxis\":\"y\",\"type\":\"scatter\"},{\"customdata\":[[\"Snowcone\",\"deadmau5\"],[\"Professional Griefers\",\"deadmau5\"]],\"hovertemplate\":\"artist_name=%{customdata[1]}<br>0=%{x}<br>1=%{y}<br>song_name=%{customdata[0]}<extra></extra>\",\"legendgroup\":\"deadmau5\",\"marker\":{\"color\":\"#FFA15A\",\"symbol\":\"circle\"},\"mode\":\"markers\",\"name\":\"deadmau5\",\"orientation\":\"v\",\"showlegend\":true,\"x\":[16.828861236572266,-16.52782440185547],\"xaxis\":\"x\",\"y\":[-13.224995613098145,-7.052766799926758],\"yaxis\":\"y\",\"type\":\"scatter\"},{\"customdata\":[[\"Finale (feat. Nicholas Petricca)\",\"Madeon\"]],\"hovertemplate\":\"artist_name=%{customdata[1]}<br>0=%{x}<br>1=%{y}<br>song_name=%{customdata[0]}<extra></extra>\",\"legendgroup\":\"Madeon\",\"marker\":{\"color\":\"#19d3f3\",\"symbol\":\"circle\"},\"mode\":\"markers\",\"name\":\"Madeon\",\"orientation\":\"v\",\"showlegend\":true,\"x\":[26.870670318603516],\"xaxis\":\"x\",\"y\":[-0.17879582941532135],\"yaxis\":\"y\",\"type\":\"scatter\"},{\"customdata\":[[\"Munich\",\"Editors\"]],\"hovertemplate\":\"artist_name=%{customdata[1]}<br>0=%{x}<br>1=%{y}<br>song_name=%{customdata[0]}<extra></extra>\",\"legendgroup\":\"Editors\",\"marker\":{\"color\":\"#FF6692\",\"symbol\":\"circle\"},\"mode\":\"markers\",\"name\":\"Editors\",\"orientation\":\"v\",\"showlegend\":true,\"x\":[27.77315330505371],\"xaxis\":\"x\",\"y\":[-4.39489221572876],\"yaxis\":\"y\",\"type\":\"scatter\"},{\"customdata\":[[\"Dance Stamina\",\"Pluto\"],[\"Long White Cross\",\"Pluto\"]],\"hovertemplate\":\"artist_name=%{customdata[1]}<br>0=%{x}<br>1=%{y}<br>song_name=%{customdata[0]}<extra></extra>\",\"legendgroup\":\"Pluto\",\"marker\":{\"color\":\"#B6E880\",\"symbol\":\"circle\"},\"mode\":\"markers\",\"name\":\"Pluto\",\"orientation\":\"v\",\"showlegend\":true,\"x\":[-6.166131496429443,33.473838806152344],\"xaxis\":\"x\",\"y\":[-0.3210364878177643,16.564855575561523],\"yaxis\":\"y\",\"type\":\"scatter\"},{\"customdata\":[[\"Lemon Tree\",\"Fools Garden\"]],\"hovertemplate\":\"artist_name=%{customdata[1]}<br>0=%{x}<br>1=%{y}<br>song_name=%{customdata[0]}<extra></extra>\",\"legendgroup\":\"Fools Garden\",\"marker\":{\"color\":\"#FF97FF\",\"symbol\":\"circle\"},\"mode\":\"markers\",\"name\":\"Fools Garden\",\"orientation\":\"v\",\"showlegend\":true,\"x\":[-31.02798843383789],\"xaxis\":\"x\",\"y\":[-2.4235587120056152],\"yaxis\":\"y\",\"type\":\"scatter\"},{\"customdata\":[[\"Hold On, I'm Comin'\",\"Sam & Dave\"]],\"hovertemplate\":\"artist_name=%{customdata[1]}<br>0=%{x}<br>1=%{y}<br>song_name=%{customdata[0]}<extra></extra>\",\"legendgroup\":\"Sam & Dave\",\"marker\":{\"color\":\"#FECB52\",\"symbol\":\"circle\"},\"mode\":\"markers\",\"name\":\"Sam & Dave\",\"orientation\":\"v\",\"showlegend\":true,\"x\":[-20.08082389831543],\"xaxis\":\"x\",\"y\":[0.29507339000701904],\"yaxis\":\"y\",\"type\":\"scatter\"},{\"customdata\":[[\"Lush Life\",\"Zara Larsson\"]],\"hovertemplate\":\"artist_name=%{customdata[1]}<br>0=%{x}<br>1=%{y}<br>song_name=%{customdata[0]}<extra></extra>\",\"legendgroup\":\"Zara Larsson\",\"marker\":{\"color\":\"#636efa\",\"symbol\":\"circle\"},\"mode\":\"markers\",\"name\":\"Zara Larsson\",\"orientation\":\"v\",\"showlegend\":true,\"x\":[32.539859771728516],\"xaxis\":\"x\",\"y\":[10.196537971496582],\"yaxis\":\"y\",\"type\":\"scatter\"},{\"customdata\":[[\"Funeral Singers\",\"Sylvan Esso\"]],\"hovertemplate\":\"artist_name=%{customdata[1]}<br>0=%{x}<br>1=%{y}<br>song_name=%{customdata[0]}<extra></extra>\",\"legendgroup\":\"Sylvan Esso\",\"marker\":{\"color\":\"#EF553B\",\"symbol\":\"circle\"},\"mode\":\"markers\",\"name\":\"Sylvan Esso\",\"orientation\":\"v\",\"showlegend\":true,\"x\":[-29.594310760498047],\"xaxis\":\"x\",\"y\":[3.539102077484131],\"yaxis\":\"y\",\"type\":\"scatter\"},{\"customdata\":[[\"Walking On A Dream\",\"Empire of the Sun\"]],\"hovertemplate\":\"artist_name=%{customdata[1]}<br>0=%{x}<br>1=%{y}<br>song_name=%{customdata[0]}<extra></extra>\",\"legendgroup\":\"Empire of the Sun\",\"marker\":{\"color\":\"#00cc96\",\"symbol\":\"circle\"},\"mode\":\"markers\",\"name\":\"Empire of the Sun\",\"orientation\":\"v\",\"showlegend\":true,\"x\":[36.66472244262695],\"xaxis\":\"x\",\"y\":[10.347119331359863],\"yaxis\":\"y\",\"type\":\"scatter\"},{\"customdata\":[[\"You Shook Me All Night Long\",\"AC/DC\"]],\"hovertemplate\":\"artist_name=%{customdata[1]}<br>0=%{x}<br>1=%{y}<br>song_name=%{customdata[0]}<extra></extra>\",\"legendgroup\":\"AC/DC\",\"marker\":{\"color\":\"#ab63fa\",\"symbol\":\"circle\"},\"mode\":\"markers\",\"name\":\"AC/DC\",\"orientation\":\"v\",\"showlegend\":true,\"x\":[1.1211740970611572],\"xaxis\":\"x\",\"y\":[6.81907844543457],\"yaxis\":\"y\",\"type\":\"scatter\"},{\"customdata\":[[\"Feel It Still\",\"Portugal. The Man\"]],\"hovertemplate\":\"artist_name=%{customdata[1]}<br>0=%{x}<br>1=%{y}<br>song_name=%{customdata[0]}<extra></extra>\",\"legendgroup\":\"Portugal. The Man\",\"marker\":{\"color\":\"#FFA15A\",\"symbol\":\"circle\"},\"mode\":\"markers\",\"name\":\"Portugal. The Man\",\"orientation\":\"v\",\"showlegend\":true,\"x\":[36.72959899902344],\"xaxis\":\"x\",\"y\":[13.255677223205566],\"yaxis\":\"y\",\"type\":\"scatter\"},{\"customdata\":[[\"Shadowplay\",\"The Killers\"],[\"Mr. Brightside\",\"The Killers\"]],\"hovertemplate\":\"artist_name=%{customdata[1]}<br>0=%{x}<br>1=%{y}<br>song_name=%{customdata[0]}<extra></extra>\",\"legendgroup\":\"The Killers\",\"marker\":{\"color\":\"#19d3f3\",\"symbol\":\"circle\"},\"mode\":\"markers\",\"name\":\"The Killers\",\"orientation\":\"v\",\"showlegend\":true,\"x\":[-9.041647911071777,-2.1511025428771973],\"xaxis\":\"x\",\"y\":[-19.606849670410156,-13.338366508483887],\"yaxis\":\"y\",\"type\":\"scatter\"},{\"customdata\":[[\"Lazarus\",\"Porcupine Tree\"],[\"Arriving Somewhere But Not Here\",\"Porcupine Tree\"]],\"hovertemplate\":\"artist_name=%{customdata[1]}<br>0=%{x}<br>1=%{y}<br>song_name=%{customdata[0]}<extra></extra>\",\"legendgroup\":\"Porcupine Tree\",\"marker\":{\"color\":\"#FF6692\",\"symbol\":\"circle\"},\"mode\":\"markers\",\"name\":\"Porcupine Tree\",\"orientation\":\"v\",\"showlegend\":true,\"x\":[6.10299825668335,9.981663703918457],\"xaxis\":\"x\",\"y\":[-25.383800506591797,-18.446414947509766],\"yaxis\":\"y\",\"type\":\"scatter\"},{\"customdata\":[[\"Love Will Tear Us Apart\",\"Peter Hook and The Light\"]],\"hovertemplate\":\"artist_name=%{customdata[1]}<br>0=%{x}<br>1=%{y}<br>song_name=%{customdata[0]}<extra></extra>\",\"legendgroup\":\"Peter Hook and The Light\",\"marker\":{\"color\":\"#B6E880\",\"symbol\":\"circle\"},\"mode\":\"markers\",\"name\":\"Peter Hook and The Light\",\"orientation\":\"v\",\"showlegend\":true,\"x\":[12.332890510559082],\"xaxis\":\"x\",\"y\":[0.5734595656394958],\"yaxis\":\"y\",\"type\":\"scatter\"},{\"customdata\":[[\"Apply Some Pressure\",\"Maximo Park\"]],\"hovertemplate\":\"artist_name=%{customdata[1]}<br>0=%{x}<br>1=%{y}<br>song_name=%{customdata[0]}<extra></extra>\",\"legendgroup\":\"Maximo Park\",\"marker\":{\"color\":\"#FF97FF\",\"symbol\":\"circle\"},\"mode\":\"markers\",\"name\":\"Maximo Park\",\"orientation\":\"v\",\"showlegend\":true,\"x\":[3.2257297039031982],\"xaxis\":\"x\",\"y\":[-6.235599994659424],\"yaxis\":\"y\",\"type\":\"scatter\"},{\"customdata\":[[\"White Room\",\"Cream\"],[\"Sunshine Of Your Love\",\"Cream\"]],\"hovertemplate\":\"artist_name=%{customdata[1]}<br>0=%{x}<br>1=%{y}<br>song_name=%{customdata[0]}<extra></extra>\",\"legendgroup\":\"Cream\",\"marker\":{\"color\":\"#FECB52\",\"symbol\":\"circle\"},\"mode\":\"markers\",\"name\":\"Cream\",\"orientation\":\"v\",\"showlegend\":true,\"x\":[-20.551156997680664,-19.485897064208984],\"xaxis\":\"x\",\"y\":[-8.926332473754883,-5.513271808624268],\"yaxis\":\"y\",\"type\":\"scatter\"},{\"customdata\":[[\"White Leather\",\"Wolf Alice\"]],\"hovertemplate\":\"artist_name=%{customdata[1]}<br>0=%{x}<br>1=%{y}<br>song_name=%{customdata[0]}<extra></extra>\",\"legendgroup\":\"Wolf Alice\",\"marker\":{\"color\":\"#636efa\",\"symbol\":\"circle\"},\"mode\":\"markers\",\"name\":\"Wolf Alice\",\"orientation\":\"v\",\"showlegend\":true,\"x\":[-34.74692916870117],\"xaxis\":\"x\",\"y\":[1.6652233600616455],\"yaxis\":\"y\",\"type\":\"scatter\"},{\"customdata\":[[\"Always Like This\",\"Bombay Bicycle Club\"]],\"hovertemplate\":\"artist_name=%{customdata[1]}<br>0=%{x}<br>1=%{y}<br>song_name=%{customdata[0]}<extra></extra>\",\"legendgroup\":\"Bombay Bicycle Club\",\"marker\":{\"color\":\"#EF553B\",\"symbol\":\"circle\"},\"mode\":\"markers\",\"name\":\"Bombay Bicycle Club\",\"orientation\":\"v\",\"showlegend\":true,\"x\":[-19.2281436920166],\"xaxis\":\"x\",\"y\":[-6.038569927215576],\"yaxis\":\"y\",\"type\":\"scatter\"},{\"customdata\":[[\"Alive\",\"Pearl Jam\"]],\"hovertemplate\":\"artist_name=%{customdata[1]}<br>0=%{x}<br>1=%{y}<br>song_name=%{customdata[0]}<extra></extra>\",\"legendgroup\":\"Pearl Jam\",\"marker\":{\"color\":\"#00cc96\",\"symbol\":\"circle\"},\"mode\":\"markers\",\"name\":\"Pearl Jam\",\"orientation\":\"v\",\"showlegend\":true,\"x\":[24.99437713623047],\"xaxis\":\"x\",\"y\":[1.6758216619491577],\"yaxis\":\"y\",\"type\":\"scatter\"},{\"customdata\":[[\"Habibi\",\"Ghali\"]],\"hovertemplate\":\"artist_name=%{customdata[1]}<br>0=%{x}<br>1=%{y}<br>song_name=%{customdata[0]}<extra></extra>\",\"legendgroup\":\"Ghali\",\"marker\":{\"color\":\"#ab63fa\",\"symbol\":\"circle\"},\"mode\":\"markers\",\"name\":\"Ghali\",\"orientation\":\"v\",\"showlegend\":true,\"x\":[27.37144660949707],\"xaxis\":\"x\",\"y\":[11.487812042236328],\"yaxis\":\"y\",\"type\":\"scatter\"},{\"customdata\":[[\"Safe And Sound\",\"Capital Cities\"]],\"hovertemplate\":\"artist_name=%{customdata[1]}<br>0=%{x}<br>1=%{y}<br>song_name=%{customdata[0]}<extra></extra>\",\"legendgroup\":\"Capital Cities\",\"marker\":{\"color\":\"#FFA15A\",\"symbol\":\"circle\"},\"mode\":\"markers\",\"name\":\"Capital Cities\",\"orientation\":\"v\",\"showlegend\":true,\"x\":[-11.758306503295898],\"xaxis\":\"x\",\"y\":[-9.052461624145508],\"yaxis\":\"y\",\"type\":\"scatter\"},{\"customdata\":[[\"Celebrate\",\"MIKA\"]],\"hovertemplate\":\"artist_name=%{customdata[1]}<br>0=%{x}<br>1=%{y}<br>song_name=%{customdata[0]}<extra></extra>\",\"legendgroup\":\"MIKA\",\"marker\":{\"color\":\"#19d3f3\",\"symbol\":\"circle\"},\"mode\":\"markers\",\"name\":\"MIKA\",\"orientation\":\"v\",\"showlegend\":true,\"x\":[10.612970352172852],\"xaxis\":\"x\",\"y\":[6.743243217468262],\"yaxis\":\"y\",\"type\":\"scatter\"},{\"customdata\":[[\"Steady, As She Goes\",\"The Raconteurs\"]],\"hovertemplate\":\"artist_name=%{customdata[1]}<br>0=%{x}<br>1=%{y}<br>song_name=%{customdata[0]}<extra></extra>\",\"legendgroup\":\"The Raconteurs\",\"marker\":{\"color\":\"#FF6692\",\"symbol\":\"circle\"},\"mode\":\"markers\",\"name\":\"The Raconteurs\",\"orientation\":\"v\",\"showlegend\":true,\"x\":[-6.061877727508545],\"xaxis\":\"x\",\"y\":[2.854046583175659],\"yaxis\":\"y\",\"type\":\"scatter\"},{\"customdata\":[[\"Make It Wit Chu\",\"Queens of the Stone Age\"]],\"hovertemplate\":\"artist_name=%{customdata[1]}<br>0=%{x}<br>1=%{y}<br>song_name=%{customdata[0]}<extra></extra>\",\"legendgroup\":\"Queens of the Stone Age\",\"marker\":{\"color\":\"#B6E880\",\"symbol\":\"circle\"},\"mode\":\"markers\",\"name\":\"Queens of the Stone Age\",\"orientation\":\"v\",\"showlegend\":true,\"x\":[-16.52033042907715],\"xaxis\":\"x\",\"y\":[10.376595497131348],\"yaxis\":\"y\",\"type\":\"scatter\"},{\"customdata\":[[\"Golden Touch - Full Length\",\"Razorlight\"]],\"hovertemplate\":\"artist_name=%{customdata[1]}<br>0=%{x}<br>1=%{y}<br>song_name=%{customdata[0]}<extra></extra>\",\"legendgroup\":\"Razorlight\",\"marker\":{\"color\":\"#FF97FF\",\"symbol\":\"circle\"},\"mode\":\"markers\",\"name\":\"Razorlight\",\"orientation\":\"v\",\"showlegend\":true,\"x\":[34.4522705078125],\"xaxis\":\"x\",\"y\":[16.710681915283203],\"yaxis\":\"y\",\"type\":\"scatter\"},{\"customdata\":[[\"On Top Of The World\",\"Imagine Dragons\"]],\"hovertemplate\":\"artist_name=%{customdata[1]}<br>0=%{x}<br>1=%{y}<br>song_name=%{customdata[0]}<extra></extra>\",\"legendgroup\":\"Imagine Dragons\",\"marker\":{\"color\":\"#FECB52\",\"symbol\":\"circle\"},\"mode\":\"markers\",\"name\":\"Imagine Dragons\",\"orientation\":\"v\",\"showlegend\":true,\"x\":[-0.003997224848717451],\"xaxis\":\"x\",\"y\":[12.722528457641602],\"yaxis\":\"y\",\"type\":\"scatter\"},{\"customdata\":[[\"Goldrushed\",\"The Royal Concept\"]],\"hovertemplate\":\"artist_name=%{customdata[1]}<br>0=%{x}<br>1=%{y}<br>song_name=%{customdata[0]}<extra></extra>\",\"legendgroup\":\"The Royal Concept\",\"marker\":{\"color\":\"#636efa\",\"symbol\":\"circle\"},\"mode\":\"markers\",\"name\":\"The Royal Concept\",\"orientation\":\"v\",\"showlegend\":true,\"x\":[-3.5781166553497314],\"xaxis\":\"x\",\"y\":[3.3221006393432617],\"yaxis\":\"y\",\"type\":\"scatter\"},{\"customdata\":[[\"Dreaming\",\"Smallpools\"]],\"hovertemplate\":\"artist_name=%{customdata[1]}<br>0=%{x}<br>1=%{y}<br>song_name=%{customdata[0]}<extra></extra>\",\"legendgroup\":\"Smallpools\",\"marker\":{\"color\":\"#EF553B\",\"symbol\":\"circle\"},\"mode\":\"markers\",\"name\":\"Smallpools\",\"orientation\":\"v\",\"showlegend\":true,\"x\":[-8.48764705657959],\"xaxis\":\"x\",\"y\":[6.731966018676758],\"yaxis\":\"y\",\"type\":\"scatter\"},{\"customdata\":[[\"Fell in Love with a Girl\",\"The White Stripes\"],[\"The Hardest Button to Button\",\"The White Stripes\"],[\"Ball and Biscuit\",\"The White Stripes\"]],\"hovertemplate\":\"artist_name=%{customdata[1]}<br>0=%{x}<br>1=%{y}<br>song_name=%{customdata[0]}<extra></extra>\",\"legendgroup\":\"The White Stripes\",\"marker\":{\"color\":\"#00cc96\",\"symbol\":\"circle\"},\"mode\":\"markers\",\"name\":\"The White Stripes\",\"orientation\":\"v\",\"showlegend\":true,\"x\":[11.399785041809082,-13.481030464172363,-5.1031928062438965],\"xaxis\":\"x\",\"y\":[3.198366641998291,0.9990731477737427,12.677469253540039],\"yaxis\":\"y\",\"type\":\"scatter\"},{\"customdata\":[[\"House Of The Rising Sun\",\"The Animals\"]],\"hovertemplate\":\"artist_name=%{customdata[1]}<br>0=%{x}<br>1=%{y}<br>song_name=%{customdata[0]}<extra></extra>\",\"legendgroup\":\"The Animals\",\"marker\":{\"color\":\"#ab63fa\",\"symbol\":\"circle\"},\"mode\":\"markers\",\"name\":\"The Animals\",\"orientation\":\"v\",\"showlegend\":true,\"x\":[27.691675186157227],\"xaxis\":\"x\",\"y\":[18.706317901611328],\"yaxis\":\"y\",\"type\":\"scatter\"},{\"customdata\":[[\"Shiny Happy People\",\"R.E.M.\"],[\"Losing My Religion\",\"R.E.M.\"]],\"hovertemplate\":\"artist_name=%{customdata[1]}<br>0=%{x}<br>1=%{y}<br>song_name=%{customdata[0]}<extra></extra>\",\"legendgroup\":\"R.E.M.\",\"marker\":{\"color\":\"#FFA15A\",\"symbol\":\"circle\"},\"mode\":\"markers\",\"name\":\"R.E.M.\",\"orientation\":\"v\",\"showlegend\":true,\"x\":[-5.652818202972412,34.31483459472656],\"xaxis\":\"x\",\"y\":[7.890659332275391,7.557399749755859],\"yaxis\":\"y\",\"type\":\"scatter\"},{\"customdata\":[[\"Miss Alissa\",\"Eagles Of Death Metal\"]],\"hovertemplate\":\"artist_name=%{customdata[1]}<br>0=%{x}<br>1=%{y}<br>song_name=%{customdata[0]}<extra></extra>\",\"legendgroup\":\"Eagles Of Death Metal\",\"marker\":{\"color\":\"#19d3f3\",\"symbol\":\"circle\"},\"mode\":\"markers\",\"name\":\"Eagles Of Death Metal\",\"orientation\":\"v\",\"showlegend\":true,\"x\":[-7.573801040649414],\"xaxis\":\"x\",\"y\":[-5.0602593421936035],\"yaxis\":\"y\",\"type\":\"scatter\"},{\"customdata\":[[\"Marblehead Johnson\",\"The Bluetones\"]],\"hovertemplate\":\"artist_name=%{customdata[1]}<br>0=%{x}<br>1=%{y}<br>song_name=%{customdata[0]}<extra></extra>\",\"legendgroup\":\"The Bluetones\",\"marker\":{\"color\":\"#FF6692\",\"symbol\":\"circle\"},\"mode\":\"markers\",\"name\":\"The Bluetones\",\"orientation\":\"v\",\"showlegend\":true,\"x\":[-2.6423184871673584],\"xaxis\":\"x\",\"y\":[-14.287897109985352],\"yaxis\":\"y\",\"type\":\"scatter\"},{\"customdata\":[[\"One To Another\",\"The Charlatans\"]],\"hovertemplate\":\"artist_name=%{customdata[1]}<br>0=%{x}<br>1=%{y}<br>song_name=%{customdata[0]}<extra></extra>\",\"legendgroup\":\"The Charlatans\",\"marker\":{\"color\":\"#B6E880\",\"symbol\":\"circle\"},\"mode\":\"markers\",\"name\":\"The Charlatans\",\"orientation\":\"v\",\"showlegend\":true,\"x\":[1.438707947731018],\"xaxis\":\"x\",\"y\":[2.3562464714050293],\"yaxis\":\"y\",\"type\":\"scatter\"},{\"customdata\":[[\"(Don't Fear) The Reaper\",\"Blue \\u00d6yster Cult\"],[\"Then Came the Last Days of May\",\"Blue \\u00d6yster Cult\"]],\"hovertemplate\":\"artist_name=%{customdata[1]}<br>0=%{x}<br>1=%{y}<br>song_name=%{customdata[0]}<extra></extra>\",\"legendgroup\":\"Blue \\u00d6yster Cult\",\"marker\":{\"color\":\"#FF97FF\",\"symbol\":\"circle\"},\"mode\":\"markers\",\"name\":\"Blue \\u00d6yster Cult\",\"orientation\":\"v\",\"showlegend\":true,\"x\":[22.290239334106445,26.21559715270996],\"xaxis\":\"x\",\"y\":[-1.0801072120666504,18.572582244873047],\"yaxis\":\"y\",\"type\":\"scatter\"},{\"customdata\":[[\"Fortunate Son\",\"Creedence Clearwater Revival\"]],\"hovertemplate\":\"artist_name=%{customdata[1]}<br>0=%{x}<br>1=%{y}<br>song_name=%{customdata[0]}<extra></extra>\",\"legendgroup\":\"Creedence Clearwater Revival\",\"marker\":{\"color\":\"#FECB52\",\"symbol\":\"circle\"},\"mode\":\"markers\",\"name\":\"Creedence Clearwater Revival\",\"orientation\":\"v\",\"showlegend\":true,\"x\":[-14.422588348388672],\"xaxis\":\"x\",\"y\":[-7.341048240661621],\"yaxis\":\"y\",\"type\":\"scatter\"},{\"customdata\":[[\"Shine On\",\"The House of Love\"]],\"hovertemplate\":\"artist_name=%{customdata[1]}<br>0=%{x}<br>1=%{y}<br>song_name=%{customdata[0]}<extra></extra>\",\"legendgroup\":\"The House of Love\",\"marker\":{\"color\":\"#636efa\",\"symbol\":\"circle\"},\"mode\":\"markers\",\"name\":\"The House of Love\",\"orientation\":\"v\",\"showlegend\":true,\"x\":[21.41301918029785],\"xaxis\":\"x\",\"y\":[-0.6972501873970032],\"yaxis\":\"y\",\"type\":\"scatter\"},{\"customdata\":[[\"Dreams\",\"The Cranberries\"],[\"Tomorrow\",\"The Cranberries\"]],\"hovertemplate\":\"artist_name=%{customdata[1]}<br>0=%{x}<br>1=%{y}<br>song_name=%{customdata[0]}<extra></extra>\",\"legendgroup\":\"The Cranberries\",\"marker\":{\"color\":\"#EF553B\",\"symbol\":\"circle\"},\"mode\":\"markers\",\"name\":\"The Cranberries\",\"orientation\":\"v\",\"showlegend\":true,\"x\":[-21.51095962524414,-1.4389419555664062],\"xaxis\":\"x\",\"y\":[3.6567511558532715,4.3510541915893555],\"yaxis\":\"y\",\"type\":\"scatter\"},{\"customdata\":[[\"It's Oh so Quiet\",\"Bj\\u00f6rk\"]],\"hovertemplate\":\"artist_name=%{customdata[1]}<br>0=%{x}<br>1=%{y}<br>song_name=%{customdata[0]}<extra></extra>\",\"legendgroup\":\"Bj\\u00f6rk\",\"marker\":{\"color\":\"#00cc96\",\"symbol\":\"circle\"},\"mode\":\"markers\",\"name\":\"Bj\\u00f6rk\",\"orientation\":\"v\",\"showlegend\":true,\"x\":[-34.75101089477539],\"xaxis\":\"x\",\"y\":[0.32205042243003845],\"yaxis\":\"y\",\"type\":\"scatter\"},{\"customdata\":[[\"Young Bride\",\"Midlake\"]],\"hovertemplate\":\"artist_name=%{customdata[1]}<br>0=%{x}<br>1=%{y}<br>song_name=%{customdata[0]}<extra></extra>\",\"legendgroup\":\"Midlake\",\"marker\":{\"color\":\"#ab63fa\",\"symbol\":\"circle\"},\"mode\":\"markers\",\"name\":\"Midlake\",\"orientation\":\"v\",\"showlegend\":true,\"x\":[28.15236473083496],\"xaxis\":\"x\",\"y\":[23.947484970092773],\"yaxis\":\"y\",\"type\":\"scatter\"},{\"customdata\":[[\"Africa\",\"TOTO\"]],\"hovertemplate\":\"artist_name=%{customdata[1]}<br>0=%{x}<br>1=%{y}<br>song_name=%{customdata[0]}<extra></extra>\",\"legendgroup\":\"TOTO\",\"marker\":{\"color\":\"#FFA15A\",\"symbol\":\"circle\"},\"mode\":\"markers\",\"name\":\"TOTO\",\"orientation\":\"v\",\"showlegend\":true,\"x\":[-22.385723114013672],\"xaxis\":\"x\",\"y\":[0.5048938989639282],\"yaxis\":\"y\",\"type\":\"scatter\"},{\"customdata\":[[\"Short Change Hero\",\"The Heavy\"]],\"hovertemplate\":\"artist_name=%{customdata[1]}<br>0=%{x}<br>1=%{y}<br>song_name=%{customdata[0]}<extra></extra>\",\"legendgroup\":\"The Heavy\",\"marker\":{\"color\":\"#19d3f3\",\"symbol\":\"circle\"},\"mode\":\"markers\",\"name\":\"The Heavy\",\"orientation\":\"v\",\"showlegend\":true,\"x\":[36.255775451660156],\"xaxis\":\"x\",\"y\":[15.21233081817627],\"yaxis\":\"y\",\"type\":\"scatter\"},{\"customdata\":[[\"Enjoy the Silence\",\"Depeche Mode\"],[\"Personal Jesus\",\"Depeche Mode\"],[\"Enjoy the Silence - Single Mix\",\"Depeche Mode\"]],\"hovertemplate\":\"artist_name=%{customdata[1]}<br>0=%{x}<br>1=%{y}<br>song_name=%{customdata[0]}<extra></extra>\",\"legendgroup\":\"Depeche Mode\",\"marker\":{\"color\":\"#FF6692\",\"symbol\":\"circle\"},\"mode\":\"markers\",\"name\":\"Depeche Mode\",\"orientation\":\"v\",\"showlegend\":true,\"x\":[37.375267028808594,-9.96788501739502,37.57473373413086],\"xaxis\":\"x\",\"y\":[14.575446128845215,7.274260997772217,14.50020694732666],\"yaxis\":\"y\",\"type\":\"scatter\"},{\"customdata\":[[\"The Less I Know The Better\",\"Tame Impala\"]],\"hovertemplate\":\"artist_name=%{customdata[1]}<br>0=%{x}<br>1=%{y}<br>song_name=%{customdata[0]}<extra></extra>\",\"legendgroup\":\"Tame Impala\",\"marker\":{\"color\":\"#B6E880\",\"symbol\":\"circle\"},\"mode\":\"markers\",\"name\":\"Tame Impala\",\"orientation\":\"v\",\"showlegend\":true,\"x\":[-9.022050857543945],\"xaxis\":\"x\",\"y\":[3.358982563018799],\"yaxis\":\"y\",\"type\":\"scatter\"},{\"customdata\":[[\"Sex on Fire\",\"Kings of Leon\"]],\"hovertemplate\":\"artist_name=%{customdata[1]}<br>0=%{x}<br>1=%{y}<br>song_name=%{customdata[0]}<extra></extra>\",\"legendgroup\":\"Kings of Leon\",\"marker\":{\"color\":\"#FF97FF\",\"symbol\":\"circle\"},\"mode\":\"markers\",\"name\":\"Kings of Leon\",\"orientation\":\"v\",\"showlegend\":true,\"x\":[0.029149461537599564],\"xaxis\":\"x\",\"y\":[-3.9117517471313477],\"yaxis\":\"y\",\"type\":\"scatter\"},{\"customdata\":[[\"Kickstarts\",\"Example\"]],\"hovertemplate\":\"artist_name=%{customdata[1]}<br>0=%{x}<br>1=%{y}<br>song_name=%{customdata[0]}<extra></extra>\",\"legendgroup\":\"Example\",\"marker\":{\"color\":\"#FECB52\",\"symbol\":\"circle\"},\"mode\":\"markers\",\"name\":\"Example\",\"orientation\":\"v\",\"showlegend\":true,\"x\":[1.8702857494354248],\"xaxis\":\"x\",\"y\":[6.9975080490112305],\"yaxis\":\"y\",\"type\":\"scatter\"},{\"customdata\":[[\"Pompeii\",\"Bastille\"]],\"hovertemplate\":\"artist_name=%{customdata[1]}<br>0=%{x}<br>1=%{y}<br>song_name=%{customdata[0]}<extra></extra>\",\"legendgroup\":\"Bastille\",\"marker\":{\"color\":\"#636efa\",\"symbol\":\"circle\"},\"mode\":\"markers\",\"name\":\"Bastille\",\"orientation\":\"v\",\"showlegend\":true,\"x\":[-7.666675567626953],\"xaxis\":\"x\",\"y\":[1.9754773378372192],\"yaxis\":\"y\",\"type\":\"scatter\"},{\"customdata\":[[\"The Cave\",\"Mumford & Sons\"]],\"hovertemplate\":\"artist_name=%{customdata[1]}<br>0=%{x}<br>1=%{y}<br>song_name=%{customdata[0]}<extra></extra>\",\"legendgroup\":\"Mumford & Sons\",\"marker\":{\"color\":\"#EF553B\",\"symbol\":\"circle\"},\"mode\":\"markers\",\"name\":\"Mumford & Sons\",\"orientation\":\"v\",\"showlegend\":true,\"x\":[-19.783382415771484],\"xaxis\":\"x\",\"y\":[-11.352486610412598],\"yaxis\":\"y\",\"type\":\"scatter\"},{\"customdata\":[[\"A Girl In Port\",\"Okkervil River\"]],\"hovertemplate\":\"artist_name=%{customdata[1]}<br>0=%{x}<br>1=%{y}<br>song_name=%{customdata[0]}<extra></extra>\",\"legendgroup\":\"Okkervil River\",\"marker\":{\"color\":\"#00cc96\",\"symbol\":\"circle\"},\"mode\":\"markers\",\"name\":\"Okkervil River\",\"orientation\":\"v\",\"showlegend\":true,\"x\":[-32.679542541503906],\"xaxis\":\"x\",\"y\":[-3.828972578048706],\"yaxis\":\"y\",\"type\":\"scatter\"},{\"customdata\":[[\"Cocaine\",\"Eric Clapton\"]],\"hovertemplate\":\"artist_name=%{customdata[1]}<br>0=%{x}<br>1=%{y}<br>song_name=%{customdata[0]}<extra></extra>\",\"legendgroup\":\"Eric Clapton\",\"marker\":{\"color\":\"#ab63fa\",\"symbol\":\"circle\"},\"mode\":\"markers\",\"name\":\"Eric Clapton\",\"orientation\":\"v\",\"showlegend\":true,\"x\":[-20.112747192382812],\"xaxis\":\"x\",\"y\":[3.02716326713562],\"yaxis\":\"y\",\"type\":\"scatter\"},{\"customdata\":[[\"Champagne Supernova\",\"OneRepublic\"]],\"hovertemplate\":\"artist_name=%{customdata[1]}<br>0=%{x}<br>1=%{y}<br>song_name=%{customdata[0]}<extra></extra>\",\"legendgroup\":\"OneRepublic\",\"marker\":{\"color\":\"#FFA15A\",\"symbol\":\"circle\"},\"mode\":\"markers\",\"name\":\"OneRepublic\",\"orientation\":\"v\",\"showlegend\":true,\"x\":[-25.94419288635254],\"xaxis\":\"x\",\"y\":[-8.981743812561035],\"yaxis\":\"y\",\"type\":\"scatter\"},{\"customdata\":[[\"Golden Brown\",\"The Stranglers\"]],\"hovertemplate\":\"artist_name=%{customdata[1]}<br>0=%{x}<br>1=%{y}<br>song_name=%{customdata[0]}<extra></extra>\",\"legendgroup\":\"The Stranglers\",\"marker\":{\"color\":\"#19d3f3\",\"symbol\":\"circle\"},\"mode\":\"markers\",\"name\":\"The Stranglers\",\"orientation\":\"v\",\"showlegend\":true,\"x\":[-24.80181312561035],\"xaxis\":\"x\",\"y\":[0.2980133295059204],\"yaxis\":\"y\",\"type\":\"scatter\"},{\"customdata\":[[\"Shotgun Mouthwash\",\"High Contrast\"]],\"hovertemplate\":\"artist_name=%{customdata[1]}<br>0=%{x}<br>1=%{y}<br>song_name=%{customdata[0]}<extra></extra>\",\"legendgroup\":\"High Contrast\",\"marker\":{\"color\":\"#FF6692\",\"symbol\":\"circle\"},\"mode\":\"markers\",\"name\":\"High Contrast\",\"orientation\":\"v\",\"showlegend\":true,\"x\":[31.756790161132812],\"xaxis\":\"x\",\"y\":[0.26410767436027527],\"yaxis\":\"y\",\"type\":\"scatter\"},{\"customdata\":[[\"California Uber Alles\",\"Dead Kennedys\"]],\"hovertemplate\":\"artist_name=%{customdata[1]}<br>0=%{x}<br>1=%{y}<br>song_name=%{customdata[0]}<extra></extra>\",\"legendgroup\":\"Dead Kennedys\",\"marker\":{\"color\":\"#B6E880\",\"symbol\":\"circle\"},\"mode\":\"markers\",\"name\":\"Dead Kennedys\",\"orientation\":\"v\",\"showlegend\":true,\"x\":[-3.8502590656280518],\"xaxis\":\"x\",\"y\":[8.88025951385498],\"yaxis\":\"y\",\"type\":\"scatter\"},{\"customdata\":[[\"Take a Walk\",\"Passion Pit\"]],\"hovertemplate\":\"artist_name=%{customdata[1]}<br>0=%{x}<br>1=%{y}<br>song_name=%{customdata[0]}<extra></extra>\",\"legendgroup\":\"Passion Pit\",\"marker\":{\"color\":\"#FF97FF\",\"symbol\":\"circle\"},\"mode\":\"markers\",\"name\":\"Passion Pit\",\"orientation\":\"v\",\"showlegend\":true,\"x\":[-0.7690421342849731],\"xaxis\":\"x\",\"y\":[2.135014533996582],\"yaxis\":\"y\",\"type\":\"scatter\"},{\"customdata\":[[\"When The Night Feels My Song\",\"Bedouin Soundclash\"]],\"hovertemplate\":\"artist_name=%{customdata[1]}<br>0=%{x}<br>1=%{y}<br>song_name=%{customdata[0]}<extra></extra>\",\"legendgroup\":\"Bedouin Soundclash\",\"marker\":{\"color\":\"#FECB52\",\"symbol\":\"circle\"},\"mode\":\"markers\",\"name\":\"Bedouin Soundclash\",\"orientation\":\"v\",\"showlegend\":true,\"x\":[-15.65944766998291],\"xaxis\":\"x\",\"y\":[3.3065378665924072],\"yaxis\":\"y\",\"type\":\"scatter\"},{\"customdata\":[[\"Where Is My Mind\",\"Maxence Cyrin\"]],\"hovertemplate\":\"artist_name=%{customdata[1]}<br>0=%{x}<br>1=%{y}<br>song_name=%{customdata[0]}<extra></extra>\",\"legendgroup\":\"Maxence Cyrin\",\"marker\":{\"color\":\"#636efa\",\"symbol\":\"circle\"},\"mode\":\"markers\",\"name\":\"Maxence Cyrin\",\"orientation\":\"v\",\"showlegend\":true,\"x\":[-39.43424987792969],\"xaxis\":\"x\",\"y\":[-7.826029300689697],\"yaxis\":\"y\",\"type\":\"scatter\"},{\"customdata\":[[\"Maybe I\\u2019m Amazed - Remastered 2011\",\"Paul McCartney\"]],\"hovertemplate\":\"artist_name=%{customdata[1]}<br>0=%{x}<br>1=%{y}<br>song_name=%{customdata[0]}<extra></extra>\",\"legendgroup\":\"Paul McCartney\",\"marker\":{\"color\":\"#EF553B\",\"symbol\":\"circle\"},\"mode\":\"markers\",\"name\":\"Paul McCartney\",\"orientation\":\"v\",\"showlegend\":true,\"x\":[-28.213581085205078],\"xaxis\":\"x\",\"y\":[8.3265962600708],\"yaxis\":\"y\",\"type\":\"scatter\"},{\"customdata\":[[\"Postcards From Italy\",\"Beirut\"]],\"hovertemplate\":\"artist_name=%{customdata[1]}<br>0=%{x}<br>1=%{y}<br>song_name=%{customdata[0]}<extra></extra>\",\"legendgroup\":\"Beirut\",\"marker\":{\"color\":\"#00cc96\",\"symbol\":\"circle\"},\"mode\":\"markers\",\"name\":\"Beirut\",\"orientation\":\"v\",\"showlegend\":true,\"x\":[28.469635009765625],\"xaxis\":\"x\",\"y\":[25.12483024597168],\"yaxis\":\"y\",\"type\":\"scatter\"},{\"customdata\":[[\"To Be Alone With You\",\"Sufjan Stevens\"]],\"hovertemplate\":\"artist_name=%{customdata[1]}<br>0=%{x}<br>1=%{y}<br>song_name=%{customdata[0]}<extra></extra>\",\"legendgroup\":\"Sufjan Stevens\",\"marker\":{\"color\":\"#ab63fa\",\"symbol\":\"circle\"},\"mode\":\"markers\",\"name\":\"Sufjan Stevens\",\"orientation\":\"v\",\"showlegend\":true,\"x\":[-38.90547180175781],\"xaxis\":\"x\",\"y\":[-5.853019714355469],\"yaxis\":\"y\",\"type\":\"scatter\"},{\"customdata\":[[\"Not Nineteen Forever\",\"Courteeners\"]],\"hovertemplate\":\"artist_name=%{customdata[1]}<br>0=%{x}<br>1=%{y}<br>song_name=%{customdata[0]}<extra></extra>\",\"legendgroup\":\"Courteeners\",\"marker\":{\"color\":\"#FFA15A\",\"symbol\":\"circle\"},\"mode\":\"markers\",\"name\":\"Courteeners\",\"orientation\":\"v\",\"showlegend\":true,\"x\":[-2.394564390182495],\"xaxis\":\"x\",\"y\":[-13.250158309936523],\"yaxis\":\"y\",\"type\":\"scatter\"},{\"customdata\":[[\"Behind Blue Eyes\",\"The Who\"]],\"hovertemplate\":\"artist_name=%{customdata[1]}<br>0=%{x}<br>1=%{y}<br>song_name=%{customdata[0]}<extra></extra>\",\"legendgroup\":\"The Who\",\"marker\":{\"color\":\"#19d3f3\",\"symbol\":\"circle\"},\"mode\":\"markers\",\"name\":\"The Who\",\"orientation\":\"v\",\"showlegend\":true,\"x\":[29.90413475036621],\"xaxis\":\"x\",\"y\":[18.791057586669922],\"yaxis\":\"y\",\"type\":\"scatter\"},{\"customdata\":[[\"Waiting For The End Of The World\",\"Elvis Costello\"]],\"hovertemplate\":\"artist_name=%{customdata[1]}<br>0=%{x}<br>1=%{y}<br>song_name=%{customdata[0]}<extra></extra>\",\"legendgroup\":\"Elvis Costello\",\"marker\":{\"color\":\"#FF6692\",\"symbol\":\"circle\"},\"mode\":\"markers\",\"name\":\"Elvis Costello\",\"orientation\":\"v\",\"showlegend\":true,\"x\":[-15.755615234375],\"xaxis\":\"x\",\"y\":[-3.4219768047332764],\"yaxis\":\"y\",\"type\":\"scatter\"},{\"customdata\":[[\"The Joker\",\"Steve Miller Band\"]],\"hovertemplate\":\"artist_name=%{customdata[1]}<br>0=%{x}<br>1=%{y}<br>song_name=%{customdata[0]}<extra></extra>\",\"legendgroup\":\"Steve Miller Band\",\"marker\":{\"color\":\"#B6E880\",\"symbol\":\"circle\"},\"mode\":\"markers\",\"name\":\"Steve Miller Band\",\"orientation\":\"v\",\"showlegend\":true,\"x\":[-25.888874053955078],\"xaxis\":\"x\",\"y\":[4.894182205200195],\"yaxis\":\"y\",\"type\":\"scatter\"},{\"customdata\":[[\"Face The Face\",\"Pete Townshend\"]],\"hovertemplate\":\"artist_name=%{customdata[1]}<br>0=%{x}<br>1=%{y}<br>song_name=%{customdata[0]}<extra></extra>\",\"legendgroup\":\"Pete Townshend\",\"marker\":{\"color\":\"#FF97FF\",\"symbol\":\"circle\"},\"mode\":\"markers\",\"name\":\"Pete Townshend\",\"orientation\":\"v\",\"showlegend\":true,\"x\":[36.790287017822266],\"xaxis\":\"x\",\"y\":[20.423206329345703],\"yaxis\":\"y\",\"type\":\"scatter\"},{\"customdata\":[[\"More Than a Feeling\",\"Boston\"]],\"hovertemplate\":\"artist_name=%{customdata[1]}<br>0=%{x}<br>1=%{y}<br>song_name=%{customdata[0]}<extra></extra>\",\"legendgroup\":\"Boston\",\"marker\":{\"color\":\"#FECB52\",\"symbol\":\"circle\"},\"mode\":\"markers\",\"name\":\"Boston\",\"orientation\":\"v\",\"showlegend\":true,\"x\":[-27.492862701416016],\"xaxis\":\"x\",\"y\":[-6.014575481414795],\"yaxis\":\"y\",\"type\":\"scatter\"},{\"customdata\":[[\"St. Justice\",\"Albert Hammond Jr\"]],\"hovertemplate\":\"artist_name=%{customdata[1]}<br>0=%{x}<br>1=%{y}<br>song_name=%{customdata[0]}<extra></extra>\",\"legendgroup\":\"Albert Hammond Jr\",\"marker\":{\"color\":\"#636efa\",\"symbol\":\"circle\"},\"mode\":\"markers\",\"name\":\"Albert Hammond Jr\",\"orientation\":\"v\",\"showlegend\":true,\"x\":[-16.45792007446289],\"xaxis\":\"x\",\"y\":[10.578779220581055],\"yaxis\":\"y\",\"type\":\"scatter\"},{\"customdata\":[[\"Video Killed The Radio Star\",\"The Buggles\"]],\"hovertemplate\":\"artist_name=%{customdata[1]}<br>0=%{x}<br>1=%{y}<br>song_name=%{customdata[0]}<extra></extra>\",\"legendgroup\":\"The Buggles\",\"marker\":{\"color\":\"#EF553B\",\"symbol\":\"circle\"},\"mode\":\"markers\",\"name\":\"The Buggles\",\"orientation\":\"v\",\"showlegend\":true,\"x\":[-19.828100204467773],\"xaxis\":\"x\",\"y\":[-9.425835609436035],\"yaxis\":\"y\",\"type\":\"scatter\"},{\"customdata\":[[\"Love My Way\",\"The Psychedelic Furs\"]],\"hovertemplate\":\"artist_name=%{customdata[1]}<br>0=%{x}<br>1=%{y}<br>song_name=%{customdata[0]}<extra></extra>\",\"legendgroup\":\"The Psychedelic Furs\",\"marker\":{\"color\":\"#00cc96\",\"symbol\":\"circle\"},\"mode\":\"markers\",\"name\":\"The Psychedelic Furs\",\"orientation\":\"v\",\"showlegend\":true,\"x\":[-12.057788848876953],\"xaxis\":\"x\",\"y\":[-11.202513694763184],\"yaxis\":\"y\",\"type\":\"scatter\"},{\"customdata\":[[\"The Element Of Surprise\",\"The Last Shadow Puppets\"]],\"hovertemplate\":\"artist_name=%{customdata[1]}<br>0=%{x}<br>1=%{y}<br>song_name=%{customdata[0]}<extra></extra>\",\"legendgroup\":\"The Last Shadow Puppets\",\"marker\":{\"color\":\"#ab63fa\",\"symbol\":\"circle\"},\"mode\":\"markers\",\"name\":\"The Last Shadow Puppets\",\"orientation\":\"v\",\"showlegend\":true,\"x\":[0.24309159815311432],\"xaxis\":\"x\",\"y\":[7.0331292152404785],\"yaxis\":\"y\",\"type\":\"scatter\"},{\"customdata\":[[\"The Dying of the Light\",\"Noel Gallagher's High Flying Birds\"],[\"In the Heat of the Moment\",\"Noel Gallagher's High Flying Birds\"],[\"If I Had A Gun...\",\"Noel Gallagher's High Flying Birds\"]],\"hovertemplate\":\"artist_name=%{customdata[1]}<br>0=%{x}<br>1=%{y}<br>song_name=%{customdata[0]}<extra></extra>\",\"legendgroup\":\"Noel Gallagher's High Flying Birds\",\"marker\":{\"color\":\"#FFA15A\",\"symbol\":\"circle\"},\"mode\":\"markers\",\"name\":\"Noel Gallagher's High Flying Birds\",\"orientation\":\"v\",\"showlegend\":true,\"x\":[26.639028549194336,0.9948728084564209,28.7406063079834],\"xaxis\":\"x\",\"y\":[-0.004411077592521906,4.236181735992432,-3.920241117477417],\"yaxis\":\"y\",\"type\":\"scatter\"},{\"customdata\":[[\"Somebody to Love\",\"Jefferson Airplane\"]],\"hovertemplate\":\"artist_name=%{customdata[1]}<br>0=%{x}<br>1=%{y}<br>song_name=%{customdata[0]}<extra></extra>\",\"legendgroup\":\"Jefferson Airplane\",\"marker\":{\"color\":\"#19d3f3\",\"symbol\":\"circle\"},\"mode\":\"markers\",\"name\":\"Jefferson Airplane\",\"orientation\":\"v\",\"showlegend\":true,\"x\":[-25.04530906677246],\"xaxis\":\"x\",\"y\":[10.039790153503418],\"yaxis\":\"y\",\"type\":\"scatter\"},{\"customdata\":[[\"Break on Through (To the Other Side)\",\"The Doors\"],[\"Riders on the Storm\",\"The Doors\"]],\"hovertemplate\":\"artist_name=%{customdata[1]}<br>0=%{x}<br>1=%{y}<br>song_name=%{customdata[0]}<extra></extra>\",\"legendgroup\":\"The Doors\",\"marker\":{\"color\":\"#FF6692\",\"symbol\":\"circle\"},\"mode\":\"markers\",\"name\":\"The Doors\",\"orientation\":\"v\",\"showlegend\":true,\"x\":[-20.854034423828125,26.07257652282715],\"xaxis\":\"x\",\"y\":[8.062153816223145,13.864068984985352],\"yaxis\":\"y\",\"type\":\"scatter\"},{\"customdata\":[[\"While My Guitar Gently Weeps\",\"Regina Spektor\"]],\"hovertemplate\":\"artist_name=%{customdata[1]}<br>0=%{x}<br>1=%{y}<br>song_name=%{customdata[0]}<extra></extra>\",\"legendgroup\":\"Regina Spektor\",\"marker\":{\"color\":\"#B6E880\",\"symbol\":\"circle\"},\"mode\":\"markers\",\"name\":\"Regina Spektor\",\"orientation\":\"v\",\"showlegend\":true,\"x\":[21.37578582763672],\"xaxis\":\"x\",\"y\":[19.924118041992188],\"yaxis\":\"y\",\"type\":\"scatter\"}],                        {\"template\":{\"data\":{\"bar\":[{\"error_x\":{\"color\":\"#2a3f5f\"},\"error_y\":{\"color\":\"#2a3f5f\"},\"marker\":{\"line\":{\"color\":\"#E5ECF6\",\"width\":0.5},\"pattern\":{\"fillmode\":\"overlay\",\"size\":10,\"solidity\":0.2}},\"type\":\"bar\"}],\"barpolar\":[{\"marker\":{\"line\":{\"color\":\"#E5ECF6\",\"width\":0.5},\"pattern\":{\"fillmode\":\"overlay\",\"size\":10,\"solidity\":0.2}},\"type\":\"barpolar\"}],\"carpet\":[{\"aaxis\":{\"endlinecolor\":\"#2a3f5f\",\"gridcolor\":\"white\",\"linecolor\":\"white\",\"minorgridcolor\":\"white\",\"startlinecolor\":\"#2a3f5f\"},\"baxis\":{\"endlinecolor\":\"#2a3f5f\",\"gridcolor\":\"white\",\"linecolor\":\"white\",\"minorgridcolor\":\"white\",\"startlinecolor\":\"#2a3f5f\"},\"type\":\"carpet\"}],\"choropleth\":[{\"colorbar\":{\"outlinewidth\":0,\"ticks\":\"\"},\"type\":\"choropleth\"}],\"contour\":[{\"colorbar\":{\"outlinewidth\":0,\"ticks\":\"\"},\"colorscale\":[[0.0,\"#0d0887\"],[0.1111111111111111,\"#46039f\"],[0.2222222222222222,\"#7201a8\"],[0.3333333333333333,\"#9c179e\"],[0.4444444444444444,\"#bd3786\"],[0.5555555555555556,\"#d8576b\"],[0.6666666666666666,\"#ed7953\"],[0.7777777777777778,\"#fb9f3a\"],[0.8888888888888888,\"#fdca26\"],[1.0,\"#f0f921\"]],\"type\":\"contour\"}],\"contourcarpet\":[{\"colorbar\":{\"outlinewidth\":0,\"ticks\":\"\"},\"type\":\"contourcarpet\"}],\"heatmap\":[{\"colorbar\":{\"outlinewidth\":0,\"ticks\":\"\"},\"colorscale\":[[0.0,\"#0d0887\"],[0.1111111111111111,\"#46039f\"],[0.2222222222222222,\"#7201a8\"],[0.3333333333333333,\"#9c179e\"],[0.4444444444444444,\"#bd3786\"],[0.5555555555555556,\"#d8576b\"],[0.6666666666666666,\"#ed7953\"],[0.7777777777777778,\"#fb9f3a\"],[0.8888888888888888,\"#fdca26\"],[1.0,\"#f0f921\"]],\"type\":\"heatmap\"}],\"heatmapgl\":[{\"colorbar\":{\"outlinewidth\":0,\"ticks\":\"\"},\"colorscale\":[[0.0,\"#0d0887\"],[0.1111111111111111,\"#46039f\"],[0.2222222222222222,\"#7201a8\"],[0.3333333333333333,\"#9c179e\"],[0.4444444444444444,\"#bd3786\"],[0.5555555555555556,\"#d8576b\"],[0.6666666666666666,\"#ed7953\"],[0.7777777777777778,\"#fb9f3a\"],[0.8888888888888888,\"#fdca26\"],[1.0,\"#f0f921\"]],\"type\":\"heatmapgl\"}],\"histogram\":[{\"marker\":{\"pattern\":{\"fillmode\":\"overlay\",\"size\":10,\"solidity\":0.2}},\"type\":\"histogram\"}],\"histogram2d\":[{\"colorbar\":{\"outlinewidth\":0,\"ticks\":\"\"},\"colorscale\":[[0.0,\"#0d0887\"],[0.1111111111111111,\"#46039f\"],[0.2222222222222222,\"#7201a8\"],[0.3333333333333333,\"#9c179e\"],[0.4444444444444444,\"#bd3786\"],[0.5555555555555556,\"#d8576b\"],[0.6666666666666666,\"#ed7953\"],[0.7777777777777778,\"#fb9f3a\"],[0.8888888888888888,\"#fdca26\"],[1.0,\"#f0f921\"]],\"type\":\"histogram2d\"}],\"histogram2dcontour\":[{\"colorbar\":{\"outlinewidth\":0,\"ticks\":\"\"},\"colorscale\":[[0.0,\"#0d0887\"],[0.1111111111111111,\"#46039f\"],[0.2222222222222222,\"#7201a8\"],[0.3333333333333333,\"#9c179e\"],[0.4444444444444444,\"#bd3786\"],[0.5555555555555556,\"#d8576b\"],[0.6666666666666666,\"#ed7953\"],[0.7777777777777778,\"#fb9f3a\"],[0.8888888888888888,\"#fdca26\"],[1.0,\"#f0f921\"]],\"type\":\"histogram2dcontour\"}],\"mesh3d\":[{\"colorbar\":{\"outlinewidth\":0,\"ticks\":\"\"},\"type\":\"mesh3d\"}],\"parcoords\":[{\"line\":{\"colorbar\":{\"outlinewidth\":0,\"ticks\":\"\"}},\"type\":\"parcoords\"}],\"pie\":[{\"automargin\":true,\"type\":\"pie\"}],\"scatter\":[{\"marker\":{\"colorbar\":{\"outlinewidth\":0,\"ticks\":\"\"}},\"type\":\"scatter\"}],\"scatter3d\":[{\"line\":{\"colorbar\":{\"outlinewidth\":0,\"ticks\":\"\"}},\"marker\":{\"colorbar\":{\"outlinewidth\":0,\"ticks\":\"\"}},\"type\":\"scatter3d\"}],\"scattercarpet\":[{\"marker\":{\"colorbar\":{\"outlinewidth\":0,\"ticks\":\"\"}},\"type\":\"scattercarpet\"}],\"scattergeo\":[{\"marker\":{\"colorbar\":{\"outlinewidth\":0,\"ticks\":\"\"}},\"type\":\"scattergeo\"}],\"scattergl\":[{\"marker\":{\"colorbar\":{\"outlinewidth\":0,\"ticks\":\"\"}},\"type\":\"scattergl\"}],\"scattermapbox\":[{\"marker\":{\"colorbar\":{\"outlinewidth\":0,\"ticks\":\"\"}},\"type\":\"scattermapbox\"}],\"scatterpolar\":[{\"marker\":{\"colorbar\":{\"outlinewidth\":0,\"ticks\":\"\"}},\"type\":\"scatterpolar\"}],\"scatterpolargl\":[{\"marker\":{\"colorbar\":{\"outlinewidth\":0,\"ticks\":\"\"}},\"type\":\"scatterpolargl\"}],\"scatterternary\":[{\"marker\":{\"colorbar\":{\"outlinewidth\":0,\"ticks\":\"\"}},\"type\":\"scatterternary\"}],\"surface\":[{\"colorbar\":{\"outlinewidth\":0,\"ticks\":\"\"},\"colorscale\":[[0.0,\"#0d0887\"],[0.1111111111111111,\"#46039f\"],[0.2222222222222222,\"#7201a8\"],[0.3333333333333333,\"#9c179e\"],[0.4444444444444444,\"#bd3786\"],[0.5555555555555556,\"#d8576b\"],[0.6666666666666666,\"#ed7953\"],[0.7777777777777778,\"#fb9f3a\"],[0.8888888888888888,\"#fdca26\"],[1.0,\"#f0f921\"]],\"type\":\"surface\"}],\"table\":[{\"cells\":{\"fill\":{\"color\":\"#EBF0F8\"},\"line\":{\"color\":\"white\"}},\"header\":{\"fill\":{\"color\":\"#C8D4E3\"},\"line\":{\"color\":\"white\"}},\"type\":\"table\"}]},\"layout\":{\"annotationdefaults\":{\"arrowcolor\":\"#2a3f5f\",\"arrowhead\":0,\"arrowwidth\":1},\"autotypenumbers\":\"strict\",\"coloraxis\":{\"colorbar\":{\"outlinewidth\":0,\"ticks\":\"\"}},\"colorscale\":{\"diverging\":[[0,\"#8e0152\"],[0.1,\"#c51b7d\"],[0.2,\"#de77ae\"],[0.3,\"#f1b6da\"],[0.4,\"#fde0ef\"],[0.5,\"#f7f7f7\"],[0.6,\"#e6f5d0\"],[0.7,\"#b8e186\"],[0.8,\"#7fbc41\"],[0.9,\"#4d9221\"],[1,\"#276419\"]],\"sequential\":[[0.0,\"#0d0887\"],[0.1111111111111111,\"#46039f\"],[0.2222222222222222,\"#7201a8\"],[0.3333333333333333,\"#9c179e\"],[0.4444444444444444,\"#bd3786\"],[0.5555555555555556,\"#d8576b\"],[0.6666666666666666,\"#ed7953\"],[0.7777777777777778,\"#fb9f3a\"],[0.8888888888888888,\"#fdca26\"],[1.0,\"#f0f921\"]],\"sequentialminus\":[[0.0,\"#0d0887\"],[0.1111111111111111,\"#46039f\"],[0.2222222222222222,\"#7201a8\"],[0.3333333333333333,\"#9c179e\"],[0.4444444444444444,\"#bd3786\"],[0.5555555555555556,\"#d8576b\"],[0.6666666666666666,\"#ed7953\"],[0.7777777777777778,\"#fb9f3a\"],[0.8888888888888888,\"#fdca26\"],[1.0,\"#f0f921\"]]},\"colorway\":[\"#636efa\",\"#EF553B\",\"#00cc96\",\"#ab63fa\",\"#FFA15A\",\"#19d3f3\",\"#FF6692\",\"#B6E880\",\"#FF97FF\",\"#FECB52\"],\"font\":{\"color\":\"#2a3f5f\"},\"geo\":{\"bgcolor\":\"white\",\"lakecolor\":\"white\",\"landcolor\":\"#E5ECF6\",\"showlakes\":true,\"showland\":true,\"subunitcolor\":\"white\"},\"hoverlabel\":{\"align\":\"left\"},\"hovermode\":\"closest\",\"mapbox\":{\"style\":\"light\"},\"paper_bgcolor\":\"white\",\"plot_bgcolor\":\"#E5ECF6\",\"polar\":{\"angularaxis\":{\"gridcolor\":\"white\",\"linecolor\":\"white\",\"ticks\":\"\"},\"bgcolor\":\"#E5ECF6\",\"radialaxis\":{\"gridcolor\":\"white\",\"linecolor\":\"white\",\"ticks\":\"\"}},\"scene\":{\"xaxis\":{\"backgroundcolor\":\"#E5ECF6\",\"gridcolor\":\"white\",\"gridwidth\":2,\"linecolor\":\"white\",\"showbackground\":true,\"ticks\":\"\",\"zerolinecolor\":\"white\"},\"yaxis\":{\"backgroundcolor\":\"#E5ECF6\",\"gridcolor\":\"white\",\"gridwidth\":2,\"linecolor\":\"white\",\"showbackground\":true,\"ticks\":\"\",\"zerolinecolor\":\"white\"},\"zaxis\":{\"backgroundcolor\":\"#E5ECF6\",\"gridcolor\":\"white\",\"gridwidth\":2,\"linecolor\":\"white\",\"showbackground\":true,\"ticks\":\"\",\"zerolinecolor\":\"white\"}},\"shapedefaults\":{\"line\":{\"color\":\"#2a3f5f\"}},\"ternary\":{\"aaxis\":{\"gridcolor\":\"white\",\"linecolor\":\"white\",\"ticks\":\"\"},\"baxis\":{\"gridcolor\":\"white\",\"linecolor\":\"white\",\"ticks\":\"\"},\"bgcolor\":\"#E5ECF6\",\"caxis\":{\"gridcolor\":\"white\",\"linecolor\":\"white\",\"ticks\":\"\"}},\"title\":{\"x\":0.05},\"xaxis\":{\"automargin\":true,\"gridcolor\":\"white\",\"linecolor\":\"white\",\"ticks\":\"\",\"title\":{\"standoff\":15},\"zerolinecolor\":\"white\",\"zerolinewidth\":2},\"yaxis\":{\"automargin\":true,\"gridcolor\":\"white\",\"linecolor\":\"white\",\"ticks\":\"\",\"title\":{\"standoff\":15},\"zerolinecolor\":\"white\",\"zerolinewidth\":2}}},\"xaxis\":{\"anchor\":\"y\",\"domain\":[0.0,1.0],\"title\":{\"text\":\"0\"}},\"yaxis\":{\"anchor\":\"x\",\"domain\":[0.0,1.0],\"title\":{\"text\":\"1\"}},\"legend\":{\"title\":{\"text\":\"artist_name\"},\"tracegroupgap\":0},\"margin\":{\"t\":60}},                        {\"responsive\": true}                    ).then(function(){\n",
       "                            \n",
       "var gd = document.getElementById('107896a6-671a-45ee-9cd5-0dfc4996a2a1');\n",
       "var x = new MutationObserver(function (mutations, observer) {{\n",
       "        var display = window.getComputedStyle(gd).display;\n",
       "        if (!display || display === 'none') {{\n",
       "            console.log([gd, 'removed!']);\n",
       "            Plotly.purge(gd);\n",
       "            observer.disconnect();\n",
       "        }}\n",
       "}});\n",
       "\n",
       "// Listen for the removal of the full notebook cells\n",
       "var notebookContainer = gd.closest('#notebook-container');\n",
       "if (notebookContainer) {{\n",
       "    x.observe(notebookContainer, {childList: true});\n",
       "}}\n",
       "\n",
       "// Listen for the clearing of the current output cell\n",
       "var outputEl = gd.closest('.output');\n",
       "if (outputEl) {{\n",
       "    x.observe(outputEl, {childList: true});\n",
       "}}\n",
       "\n",
       "                        })                };                });            </script>        </div>"
      ]
     },
     "metadata": {},
     "output_type": "display_data"
    }
   ],
   "source": [
    "import plotly.express as px\n",
    "fig = px.scatter(df_spotify, x=0, y=1, hover_data=['song_name', 'artist_name'], color= 'artist_name')\n",
    "fig.show()"
   ]
  },
  {
   "cell_type": "code",
   "execution_count": null,
   "metadata": {},
   "outputs": [],
   "source": []
  }
 ],
 "metadata": {
  "interpreter": {
   "hash": "31f2aee4e71d21fbe5cf8b01ff0e069b9275f58929596ceb00d14d90e3e16cd6"
  },
  "kernelspec": {
   "display_name": "Python 3 (ipykernel)",
   "language": "python",
   "name": "python3"
  },
  "language_info": {
   "codemirror_mode": {
    "name": "ipython",
    "version": 3
   },
   "file_extension": ".py",
   "mimetype": "text/x-python",
   "name": "python",
   "nbconvert_exporter": "python",
   "pygments_lexer": "ipython3",
   "version": "3.8.10"
  }
 },
 "nbformat": 4,
 "nbformat_minor": 2
}
